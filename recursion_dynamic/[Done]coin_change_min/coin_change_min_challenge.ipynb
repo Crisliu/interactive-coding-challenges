{
 "cells": [
  {
   "cell_type": "markdown",
   "metadata": {},
   "source": [
    "This notebook was prepared by [Donne Martin](https://github.com/donnemartin). Source and license info is on [GitHub](https://github.com/donnemartin/interactive-coding-challenges)."
   ]
  },
  {
   "cell_type": "markdown",
   "metadata": {},
   "source": [
    "# Challenge Notebook"
   ]
  },
  {
   "cell_type": "markdown",
   "metadata": {},
   "source": [
    "## Problem: Determine the minimum number of ways to make n cents, given coins of denominations less than n cents.\n",
    "\n",
    "* [Constraints](#Constraints)\n",
    "* [Test Cases](#Test-Cases)\n",
    "* [Algorithm](#Algorithm)\n",
    "* [Code](#Code)\n",
    "* [Unit Test](#Unit-Test)\n",
    "* [Solution Notebook](#Solution-Notebook)"
   ]
  },
  {
   "cell_type": "markdown",
   "metadata": {},
   "source": [
    "## Constraints\n",
    "\n",
    "* Do the coins have to reach exactly n cents?\n",
    "    * Yes\n",
    "* Can we assume we have an infinite number of coins to make n cents?\n",
    "    * Yes\n",
    "* Do we need to report the combination(s) of coins that represent the minimum?\n",
    "    * No\n",
    "* Can we assume the coin denominations are given in sorted order?\n",
    "    * No\n",
    "* Can we assume this fits memory?\n",
    "    * Yes"
   ]
  },
  {
   "cell_type": "markdown",
   "metadata": {},
   "source": [
    "## Test Cases\n",
    "\n",
    "* coins: None or n: None -> Exception\n",
    "* coins: [] or n: 0 -> 0\n",
    "* coins: [1, 2, 3] or [3, 2, 1] -> 2"
   ]
  },
  {
   "cell_type": "markdown",
   "metadata": {},
   "source": [
    "## Algorithm\n",
    "\n",
    "Refer to the [Solution Notebook](http://nbviewer.ipython.org/github/donnemartin/interactive-coding-challenges/blob/master/recursion_dynamic/coin_change_min/coin_change_min_solution.ipynb).  If you are stuck and need a hint, the solution notebook's algorithm discussion might be a good place to start."
   ]
  },
  {
   "cell_type": "markdown",
   "metadata": {},
   "source": [
    "## Code"
   ]
  },
  {
   "cell_type": "code",
   "execution_count": 15,
   "metadata": {},
   "outputs": [],
   "source": [
    "import sys\n",
    "class CoinChanger(object):\n",
    "\n",
    "    def make_change(self, coins, total):\n",
    "        # TODO: Implement me\n",
    "        if coins is None or total is None:\n",
    "            raise TypeError\n",
    "        if not coins or total < 0:\n",
    "            return 0\n",
    "        cache ={}\n",
    "        return self._make_change(coins,total,cache)\n",
    "    \n",
    "    def _make_change(self,coins,total,cache):\n",
    "        if total == 0 :\n",
    "            return 0\n",
    "        if total in cache:\n",
    "            return cache[total]\n",
    "        result = sys.maxsize\n",
    "        for coin in coins:\n",
    "            if total<coin:\n",
    "                continue\n",
    "            min_ways = self._make_change(coins,total-coin,cache)\n",
    "            #print(min_ways)\n",
    "            if min_ways < result:\n",
    "                result = min_ways\n",
    "        cache[total] = result + 1\n",
    "        print(cache)\n",
    "        return cache[total]\n",
    "                    \n",
    "                \n",
    "                \n",
    "        "
   ]
  },
  {
   "cell_type": "markdown",
   "metadata": {},
   "source": [
    "## Unit Test"
   ]
  },
  {
   "cell_type": "markdown",
   "metadata": {},
   "source": [
    "**The following unit test is expected to fail until you solve the challenge.**"
   ]
  },
  {
   "cell_type": "code",
   "execution_count": 16,
   "metadata": {},
   "outputs": [
    {
     "name": "stdout",
     "output_type": "stream",
     "text": [
      "0\n",
      "{1: 1}\n",
      "1\n",
      "0\n",
      "{1: 1, 2: 1}\n",
      "1\n",
      "1\n",
      "0\n",
      "{1: 1, 2: 1, 3: 1}\n",
      "1\n",
      "1\n",
      "1\n",
      "{1: 1, 2: 1, 3: 1, 4: 2}\n",
      "2\n",
      "1\n",
      "1\n",
      "{1: 1, 2: 1, 3: 1, 4: 2, 5: 2}\n",
      "0\n",
      "0\n",
      "{1: 1}\n",
      "1\n",
      "{1: 1, 2: 1}\n",
      "1\n",
      "0\n",
      "1\n",
      "1\n",
      "{1: 1, 2: 1, 3: 1}\n",
      "1\n",
      "1\n",
      "1\n",
      "1\n",
      "{1: 1, 2: 1, 3: 1, 4: 2}\n",
      "2\n",
      "{1: 1, 2: 1, 3: 1, 4: 2, 5: 2}\n",
      "0\n",
      "0\n",
      "{1: 1}\n",
      "1\n",
      "{1: 1, 2: 1}\n",
      "1\n",
      "0\n",
      "1\n",
      "1\n",
      "{1: 1, 2: 1, 3: 1}\n",
      "1\n",
      "1\n",
      "1\n",
      "1\n",
      "{1: 1, 2: 1, 3: 1, 4: 2}\n",
      "2\n",
      "{1: 1, 2: 1, 3: 1, 4: 2, 5: 2}\n",
      "2\n",
      "1\n",
      "2\n",
      "2\n",
      "{1: 1, 2: 1, 3: 1, 4: 2, 5: 2, 6: 2}\n",
      "2\n",
      "2\n",
      "2\n",
      "2\n",
      "{1: 1, 2: 1, 3: 1, 4: 2, 5: 2, 6: 2, 7: 3}\n",
      "3\n",
      "{1: 1, 2: 1, 3: 1, 4: 2, 5: 2, 6: 2, 7: 3, 8: 3}\n",
      "Success: test_coin_change\n"
     ]
    }
   ],
   "source": [
    "# %load test_coin_change_min.py\n",
    "from nose.tools import assert_equal, assert_raises\n",
    "\n",
    "\n",
    "class TestCoinChange(object):\n",
    "\n",
    "    def test_coin_change(self):\n",
    "        coin_changer = CoinChanger()\n",
    "        assert_raises(TypeError, coin_changer.make_change, None, None)\n",
    "        assert_equal(coin_changer.make_change([], 0), 0)\n",
    "        assert_equal(coin_changer.make_change([1, 2, 3], 5), 2)\n",
    "        assert_equal(coin_changer.make_change([3, 2, 1], 5), 2)\n",
    "        assert_equal(coin_changer.make_change([3, 2, 1], 8), 3)\n",
    "        print('Success: test_coin_change')\n",
    "\n",
    "\n",
    "def main():\n",
    "    test = TestCoinChange()\n",
    "    test.test_coin_change()\n",
    "\n",
    "\n",
    "if __name__ == '__main__':\n",
    "    main()"
   ]
  },
  {
   "cell_type": "markdown",
   "metadata": {},
   "source": [
    "## Solution Notebook\n",
    "\n",
    "Review the [Solution Notebook](http://nbviewer.ipython.org/github/donnemartin/interactive-coding-challenges/blob/master/recursion_dynamic/coin_change_min/coin_change_min_solution.ipynb) for a discussion on algorithms and code solutions."
   ]
  }
 ],
 "metadata": {
  "anaconda-cloud": {},
  "kernelspec": {
   "display_name": "Python [default]",
   "language": "python",
   "name": "python3"
  },
  "language_info": {
   "codemirror_mode": {
    "name": "ipython",
    "version": 3
   },
   "file_extension": ".py",
   "mimetype": "text/x-python",
   "name": "python",
   "nbconvert_exporter": "python",
   "pygments_lexer": "ipython3",
   "version": "3.5.4"
  }
 },
 "nbformat": 4,
 "nbformat_minor": 1
}
