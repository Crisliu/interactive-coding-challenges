{
 "cells": [
  {
   "cell_type": "markdown",
   "metadata": {},
   "source": [
    "Move Zeros"
   ]
  },
  {
   "cell_type": "code",
   "execution_count": 1,
   "metadata": {},
   "outputs": [
    {
     "data": {
      "text/plain": [
       "[1, 3, 12, 0, 0]"
      ]
     },
     "execution_count": 1,
     "metadata": {},
     "output_type": "execute_result"
    }
   ],
   "source": [
    "def nonzeros(nums):\n",
    "    if nums is None or not nums:\n",
    "        return\n",
    "    j = 0\n",
    "    for i in range(len(nums)):\n",
    "        if nums[i] != 0:\n",
    "            nums[j] = nums[i]\n",
    "            j += 1\n",
    "    for i in range(j,len(nums)):\n",
    "        nums[i] = 0\n",
    "    return nums\n",
    "nonzeros([0,1,0,3,12])"
   ]
  },
  {
   "cell_type": "markdown",
   "metadata": {},
   "source": [
    "merge sorted array"
   ]
  },
  {
   "cell_type": "code",
   "execution_count": 8,
   "metadata": {},
   "outputs": [
    {
     "data": {
      "text/plain": [
       "[1, 2, 3, 4, 5]"
      ]
     },
     "execution_count": 8,
     "metadata": {},
     "output_type": "execute_result"
    }
   ],
   "source": [
    "def merge(nums1,nums2):\n",
    "    m,n = len(nums1),len(nums2)\n",
    "    index,i,j = m + n - 1, m - 1, n - 1\n",
    "    nums1.extend([0] * len(nums2))\n",
    "    while (i >= 0 ) & (j >= 0):\n",
    "        if nums1[i] > nums2[j]:\n",
    "            nums1[index] = nums1[i]\n",
    "            index -= 1\n",
    "            i -= 1\n",
    "        else:\n",
    "            nums1[index] = nums2[j]\n",
    "            index -= 1\n",
    "            j -= 1\n",
    "        #print(i,j)\n",
    "    while i >=0 :\n",
    "            nums1[index] = nums1[i]\n",
    "            index -= 1\n",
    "            i -= 1\n",
    "    while j >= 0 :\n",
    "            nums1[index] = nums2[j]\n",
    "            index -= 1\n",
    "            j -= 1\n",
    "    return nums1\n",
    "merge([1,3],[2,4,5])    \n",
    "            "
   ]
  },
  {
   "cell_type": "markdown",
   "metadata": {},
   "source": [
    "Best time to buy and sell stock (only once)\n",
    "how about multiple times? or with transacditon fee?"
   ]
  },
  {
   "cell_type": "code",
   "execution_count": 13,
   "metadata": {},
   "outputs": [
    {
     "data": {
      "text/plain": [
       "(5, 0)"
      ]
     },
     "execution_count": 13,
     "metadata": {},
     "output_type": "execute_result"
    }
   ],
   "source": [
    "def stock(nums):\n",
    "    if nums is None or not nums:\n",
    "        return -1\n",
    "    min_price = nums[0]\n",
    "    profit = 0 \n",
    "    for p in nums:\n",
    "        min_price = min(p,min_price)\n",
    "        profit = max(profit,p-min_price)\n",
    "    return profit\n",
    "stock([7,1,5,3,6,4]),stock([7,6,4,3,1])"
   ]
  },
  {
   "cell_type": "markdown",
   "metadata": {},
   "source": [
    "sort colors (medium)"
   ]
  },
  {
   "cell_type": "code",
   "execution_count": 16,
   "metadata": {},
   "outputs": [
    {
     "data": {
      "text/plain": [
       "[0, 0, 1, 1, 2, 2]"
      ]
     },
     "execution_count": 16,
     "metadata": {},
     "output_type": "execute_result"
    }
   ],
   "source": [
    "def sortcolors(nums):\n",
    "    if nums is None or not nums:\n",
    "        return -1\n",
    "    left = 0 ; right = len(nums) - 1\n",
    "    i = 0 \n",
    "    while i <= right:\n",
    "        if nums[i] == 0:\n",
    "            nums[left], nums[i] = nums[i], nums[left]\n",
    "            left += 1\n",
    "            i += 1\n",
    "        elif nums[i] == 1:\n",
    "            i += 1\n",
    "        else:\n",
    "            nums[right], nums[i] = nums[i], nums[right]\n",
    "            right -= 1\n",
    "    return nums\n",
    "sortcolors([1,0,2,2,0,1])\n",
    "    "
   ]
  },
  {
   "cell_type": "markdown",
   "metadata": {},
   "source": [
    "sort color II"
   ]
  },
  {
   "cell_type": "code",
   "execution_count": 25,
   "metadata": {},
   "outputs": [
    {
     "data": {
      "text/plain": [
       "[1, 2, 2, 3, 4]"
      ]
     },
     "execution_count": 25,
     "metadata": {},
     "output_type": "execute_result"
    }
   ],
   "source": [
    "from collections import Counter\n",
    "def sortcolors(nums):\n",
    "    counter = Counter(nums)\n",
    "    colors = [0]*len(nums)\n",
    "    index = 0 \n",
    "    k = max(nums)\n",
    "    keys = list(counter.keys())\n",
    "    for i in keys:\n",
    "        while counter[i]>0 :\n",
    "            colors[index] = i\n",
    "            index += 1\n",
    "            counter[i] -= 1\n",
    "            #print(index)\n",
    "    return colors\n",
    "sortcolors([3,2,2,1,4])"
   ]
  },
  {
   "cell_type": "markdown",
   "metadata": {},
   "source": [
    "(Continue)divide & conque ?"
   ]
  },
  {
   "cell_type": "code",
   "execution_count": 26,
   "metadata": {
    "collapsed": true
   },
   "outputs": [],
   "source": [
    "class Solution:\n",
    "    def sortcolor(self,colors,k):\n",
    "        self.sort(colors,1,k,0,len(colors)-1)\n",
    "    def sort(self,colors,color_from,color_to,index_from,index_to):\n",
    "        if color_from == color_to or index_from == index_to:\n",
    "            return\n",
    "        color = (color_from + color_to) //2\n",
    "        left,right = index_from, index_to\n",
    "        while left <= right:\n",
    "            while left <=right and colors[left] <= color:\n",
    "                left+=1\n",
    "            while left <=right and colors[right] > color:\n",
    "                right-=1\n",
    "            if left <= right:\n",
    "                colors[left], colors[right] = colors[right],colors[left]\n",
    "                left += 1\n",
    "                right -= 1\n",
    "        self.sort(colors, color_from, color, index_from, right)\n",
    "        self.sort(colors, color + 1, color_to, left, index_to)"
   ]
  },
  {
   "cell_type": "markdown",
   "metadata": {},
   "source": [
    "random pick index"
   ]
  },
  {
   "cell_type": "markdown",
   "metadata": {},
   "source": [
    "Reservoir Sampling\n",
    "For k+1, pick it with a probability of k/(k+1), and randomly replace a number in the reservoir.\n",
    "For k+i, pick it with a probability of k/(k+i), and randomly replace a number in the reservoir.\n",
    "Repeat until k+i reaches n"
   ]
  },
  {
   "cell_type": "code",
   "execution_count": 62,
   "metadata": {},
   "outputs": [
    {
     "data": {
      "text/plain": [
       "2"
      ]
     },
     "execution_count": 62,
     "metadata": {},
     "output_type": "execute_result"
    }
   ],
   "source": [
    "def random_pick(nums,target):\n",
    "    result = -1\n",
    "    count = 0\n",
    "    for i in range(len(nums)):\n",
    "        if nums[i] != target:\n",
    "            continue\n",
    "        count +=1\n",
    "        if random.choice(range(count))== 0:\n",
    "            result = i\n",
    "    return result\n",
    "random_pick([1,2,3,3,3],3)"
   ]
  },
  {
   "cell_type": "markdown",
   "metadata": {},
   "source": [
    "H-index"
   ]
  },
  {
   "cell_type": "code",
   "execution_count": 64,
   "metadata": {},
   "outputs": [
    {
     "data": {
      "text/plain": [
       "3"
      ]
     },
     "execution_count": 64,
     "metadata": {},
     "output_type": "execute_result"
    }
   ],
   "source": [
    "def hindex(citations):\n",
    "    citations.sort()\n",
    "    for i in range(len(citations)-1,-1,-1):\n",
    "        j = len(citations) - i - 1\n",
    "        if j >=citations[i]:\n",
    "            return j\n",
    "    return len(citations)\n",
    "hindex( [3, 0, 6, 1, 5],)      "
   ]
  },
  {
   "cell_type": "markdown",
   "metadata": {},
   "source": [
    "use binary search to find the minimum index such that citations[index] >= length(citations) - index\n",
    "\n",
    "(practice more)"
   ]
  },
  {
   "cell_type": "code",
   "execution_count": 66,
   "metadata": {},
   "outputs": [
    {
     "data": {
      "text/plain": [
       "3"
      ]
     },
     "execution_count": 66,
     "metadata": {},
     "output_type": "execute_result"
    }
   ],
   "source": [
    "def hindex2(citations):\n",
    "    citations.sort()\n",
    "    left,right = 0,len(citations) - 1\n",
    "    while left <= right:\n",
    "        mid = (left + right ) // 2\n",
    "        if citations[mid] >= len(citations) - mid:\n",
    "            right = mid - 1\n",
    "        else:\n",
    "            left = mid + 1\n",
    "            \n",
    "    return len(citations) - right - 1\n",
    "hindex2( [3, 0, 6, 1, 5],)   "
   ]
  },
  {
   "cell_type": "markdown",
   "metadata": {},
   "source": [
    "Contiguous Array (Medium)"
   ]
  },
  {
   "cell_type": "markdown",
   "metadata": {},
   "source": [
    "Given a binary array, find the maximum length of a contiguous subarray with equal number of 0 and 1."
   ]
  },
  {
   "cell_type": "code",
   "execution_count": 40,
   "metadata": {},
   "outputs": [],
   "source": [
    "class Solution:\n",
    "    \"\"\"\n",
    "    @param nums: a binary array\n",
    "    @return: the maximum length of a contiguous subarray\n",
    "    \"\"\"\n",
    "    def findMaxLength(self, nums):\n",
    "        # Write your code here\n",
    "        counter = {}\n",
    "        res = 0 \n",
    "        counter[0] = -1\n",
    "        for i in range(len(nums)):\n",
    "            current_sum += (1 if nums[i]==1 else -1)\n",
    "            if current_sum in counter:\n",
    "                length = i - counter[current_sum]\n",
    "                res = max(res,length)\n",
    "            else:\n",
    "                counter[current_sum] = i\n",
    "        return res"
   ]
  },
  {
   "cell_type": "code",
   "execution_count": null,
   "metadata": {
    "collapsed": true
   },
   "outputs": [],
   "source": [
    "Alien Dictionary"
   ]
  },
  {
   "cell_type": "markdown",
   "metadata": {},
   "source": [
    "86.Binary Search Tree Iterator (Hard)"
   ]
  },
  {
   "cell_type": "code",
   "execution_count": null,
   "metadata": {
    "collapsed": true
   },
   "outputs": [],
   "source": [
    "\"\"\"\n",
    "Definition of TreeNode:\n",
    "class TreeNode:\n",
    "    def __init__(self, val):\n",
    "        self.val = val\n",
    "        self.left, self.right = None, None\n",
    "\n",
    "Example of iterate a tree:\n",
    "iterator = BSTIterator(root)\n",
    "while iterator.hasNext():\n",
    "    node = iterator.next()\n",
    "    do something for node \n",
    "\"\"\"\n",
    "class BSTIterator:\n",
    "    def __init__(self, root):\n",
    "        self.stack = []\n",
    "        while root != None:\n",
    "            self.stack.append(root)\n",
    "            root = root.left\n",
    "\n",
    "    \"\"\"\n",
    "    @return: True if there has next node, or false\n",
    "    \"\"\"\n",
    "    def hasNext(self):\n",
    "        return len(self.stack) > 0\n",
    "\n",
    "    \"\"\"\n",
    "    @return: return next node\n",
    "    \"\"\"\n",
    "    def next(self):\n",
    "        node = self.stack[-1]\n",
    "        if node.right is not None:\n",
    "            n = node.right\n",
    "            while n != None:\n",
    "                self.stack.append(n)\n",
    "                n = n.left\n",
    "        else:\n",
    "            n = self.stack.pop()\n",
    "            while self.stack and self.stack[-1].right == n:\n",
    "                n = self.stack.pop()\n",
    "        \n",
    "        return node"
   ]
  },
  {
   "cell_type": "markdown",
   "metadata": {},
   "source": [
    "602.Russian Doll Envelopes(Hard)"
   ]
  },
  {
   "cell_type": "code",
   "execution_count": null,
   "metadata": {
    "collapsed": true
   },
   "outputs": [],
   "source": [
    "#relate to longest increasing subsequence problem"
   ]
  },
  {
   "cell_type": "code",
   "execution_count": 8,
   "metadata": {
    "collapsed": true
   },
   "outputs": [],
   "source": [
    "def maxEnvelopes(envelopes):\n",
    "    # Write your code here\n",
    "    height = [a[1] for a in sorted(envelopes, key = lambda x: (x[0], -x[1]))]\n",
    "    dp, length = [0] * len(height), 0\n",
    "    #return height\n",
    "    # This is basically LIS problem \n",
    "    import bisect\n",
    "    for h in height:\n",
    "        i = bisect.bisect_left(dp, h, 0, length)\n",
    "        dp[i] = h\n",
    "        print(dp)\n",
    "        if i == length:\n",
    "            length += 1\n",
    "    return length"
   ]
  },
  {
   "cell_type": "code",
   "execution_count": 10,
   "metadata": {},
   "outputs": [
    {
     "name": "stdout",
     "output_type": "stream",
     "text": [
      "[3, 0, 0, 0, 0]\n",
      "[3, 4, 0, 0, 0]\n",
      "[3, 4, 7, 0, 0]\n",
      "[3, 4, 7, 0, 0]\n",
      "[3, 4, 7, 8, 0]\n"
     ]
    },
    {
     "data": {
      "text/plain": [
       "4"
      ]
     },
     "execution_count": 10,
     "metadata": {},
     "output_type": "execute_result"
    }
   ],
   "source": [
    "envelopes = [[5,4],[6,4],[6,7],[2,3],[7,8]]\n",
    "maxEnvelopes(envelopes)"
   ]
  },
  {
   "cell_type": "markdown",
   "metadata": {},
   "source": [
    "Largest rectangle in Histogram (Hard)"
   ]
  },
  {
   "cell_type": "code",
   "execution_count": 20,
   "metadata": {
    "collapsed": true
   },
   "outputs": [],
   "source": [
    "class Solution:\n",
    "    \"\"\"\n",
    "    @param height: A list of integer\n",
    "    @return: The area of largest rectangle in the histogram\n",
    "    \"\"\"\n",
    "    def largestRectangleArea(self, heights):\n",
    "        indices_stack = []\n",
    "        area = 0\n",
    "        for index, height in enumerate(heights + [-1]): # at last, pop all the elements in the stack\n",
    "            while indices_stack and heights[indices_stack[-1]] >= height:\n",
    "                popped_index = indices_stack.pop()\n",
    "                left_index = indices_stack[-1] if indices_stack else -1\n",
    "                width = index - left_index - 1\n",
    "                print('left_index:',left_index, ' right_index:',index)\n",
    "                area = max(area, width * heights[popped_index])\n",
    "                print(indices_stack)\n",
    "                \n",
    "            indices_stack.append(index)\n",
    "            print(indices_stack)\n",
    "        return area"
   ]
  },
  {
   "cell_type": "code",
   "execution_count": 21,
   "metadata": {
    "collapsed": true
   },
   "outputs": [
    {
     "name": "stdout",
     "output_type": "stream",
     "text": [
      "[0]\n",
      "left_index: -1  right_index: 1\n",
      "[]\n",
      "[1]\n",
      "[1, 2]\n",
      "[1, 2, 3]\n",
      "left_index: 2  right_index: 4\n",
      "[1, 2]\n",
      "left_index: 1  right_index: 4\n",
      "[1]\n",
      "[1, 4]\n",
      "[1, 4, 5]\n",
      "left_index: 4  right_index: 6\n",
      "[1, 4]\n",
      "left_index: 1  right_index: 6\n",
      "[1]\n",
      "left_index: -1  right_index: 6\n",
      "[]\n",
      "[6]\n"
     ]
    },
    {
     "data": {
      "text/plain": [
       "10"
      ]
     },
     "execution_count": 21,
     "metadata": {},
     "output_type": "execute_result"
    }
   ],
   "source": [
    "s = Solution()\n",
    "s.largestRectangleArea([2,1,5,6,2,3])"
   ]
  },
  {
   "cell_type": "markdown",
   "metadata": {},
   "source": [
    "Maximal Rectangle "
   ]
  },
  {
   "cell_type": "markdown",
   "metadata": {},
   "source": [
    "for each row, use it as landscape and calculate the maximium histogram(use function above)"
   ]
  },
  {
   "cell_type": "code",
   "execution_count": 23,
   "metadata": {
    "collapsed": true
   },
   "outputs": [],
   "source": [
    "class Solution:\n",
    "    \"\"\"\n",
    "    @param matrix: a boolean 2D matrix\n",
    "    @return: an integer\n",
    "    \"\"\"\n",
    "    def maximalRectangle(self, matrix):\n",
    "        if not matrix:\n",
    "            return 0\n",
    "            \n",
    "        max_rectangle = 0\n",
    "        heights = [0] * len(matrix[0])\n",
    "        for row in matrix:\n",
    "            for index, num in enumerate(row):\n",
    "                heights[index] = heights[index] + 1 if num else 0\n",
    "            max_rectangle = max(\n",
    "                max_rectangle,\n",
    "                self.largestRectangleArea(heights),\n",
    "            )\n",
    "\n",
    "        return max_rectangle\n",
    "    "
   ]
  },
  {
   "cell_type": "markdown",
   "metadata": {},
   "source": [
    "Text justification"
   ]
  },
  {
   "cell_type": "markdown",
   "metadata": {},
   "source": [
    "reverse nodes in k-group (hard)"
   ]
  },
  {
   "cell_type": "code",
   "execution_count": 25,
   "metadata": {
    "collapsed": true
   },
   "outputs": [],
   "source": [
    "def reverse(start,end):\n",
    "    head = ListNode(0)\n",
    "    head.next = start\n",
    "    while head.next != end:\n",
    "        tmp = start.next\n",
    "        start.next = tmp.next\n",
    "        head.next = tmp\n",
    "        tmp.next = head.next\n",
    "        \n",
    "    return [end,start]\n",
    "def reverseKGroup(self, head, k):\n",
    "    if head==None: return None\n",
    "    nhead=ListNode(0); nhead.next=head; start=nhead\n",
    "    while start.next:\n",
    "        end=start\n",
    "        for i in range(k-1):\n",
    "            end=end.next\n",
    "            if end.next==None: return nhead.next\n",
    "        res=self.reverse(start.next, end.next)\n",
    "        start.next=res[0]\n",
    "        start=res[1]\n",
    "    return nhead.next"
   ]
  },
  {
   "cell_type": "markdown",
   "metadata": {},
   "source": [
    "paint house II(hard)?\n",
    "https://www.jiuzhang.com/solution/paint-house-ii/#tag-other-lang-python\n",
    "    "
   ]
  },
  {
   "cell_type": "markdown",
   "metadata": {},
   "source": [
    " The Barycentre Of The Trees? https://www.jiuzhang.com/solution/the-barycentre-of-the-trees/#tag-highlight-lang-python"
   ]
  },
  {
   "cell_type": "markdown",
   "metadata": {},
   "source": [
    "WildCard matching"
   ]
  },
  {
   "cell_type": "code",
   "execution_count": 36,
   "metadata": {},
   "outputs": [],
   "source": [
    "class Solution:\n",
    "    \"\"\"\n",
    "    @param s: A string \n",
    "    @param p: A string includes \"?\" and \"*\"\n",
    "    @return: is Match?\n",
    "    \"\"\"\n",
    "    def isMatch(self, source, pattern):\n",
    "        memo = {}\n",
    "        return self.is_match_helper(source, 0, pattern, 0, memo) # if source[i:] & pattern[j:] is matched\n",
    "    \n",
    "    def is_match_helper(self,source,i,pattern,j,memo):\n",
    "        if (i,j) in memo:\n",
    "            return memo[(i,j)]\n",
    "            # source is empty\n",
    "        if len(source) == i:\n",
    "            # every character should be \"*\"\n",
    "            for index in range(j, len(pattern)):\n",
    "                if pattern[index] != '*':\n",
    "                    return False\n",
    "            return True\n",
    "\n",
    "        if len(pattern) == j:\n",
    "            return False\n",
    "\n",
    "        if pattern[j] != '*':\n",
    "            matched = self.is_match_char(source[i], pattern[j]) and \\\n",
    "                      self.is_match_helper(source, i + 1, pattern, j + 1, memo)\n",
    "        else:\n",
    "            matched = self.is_match_helper(source, i + 1, pattern, j, memo) or \\\n",
    "                      self.is_match_helper(source, i, pattern, j + 1, memo)\n",
    "        memo[(i,j)] = matched\n",
    "        return matched\n",
    "    def is_match_char(self,s,t):\n",
    "        return (s == t) or t=='?'\n",
    "        \n"
   ]
  },
  {
   "cell_type": "code",
   "execution_count": 38,
   "metadata": {},
   "outputs": [
    {
     "data": {
      "text/plain": [
       "True"
      ]
     },
     "execution_count": 38,
     "metadata": {},
     "output_type": "execute_result"
    }
   ],
   "source": [
    "s = Solution()\n",
    "s.isMatch('abc','*')"
   ]
  },
  {
   "cell_type": "markdown",
   "metadata": {},
   "source": [
    "Max square"
   ]
  },
  {
   "cell_type": "code",
   "execution_count": null,
   "metadata": {
    "collapsed": true
   },
   "outputs": [],
   "source": [
    "def maxSquare(self, matrix):\n",
    "    if not matrix or not matrix[0]:\n",
    "        return 0\n",
    "\n",
    "    n, m = len(matrix), len(matrix[0])\n",
    "\n",
    "    # intialization\n",
    "    f = [[0] * m for _ in range(n)]\n",
    "    for i in range(m):\n",
    "        f[0][i] = matrix[0][i]\n",
    "\n",
    "    edge = max(matrix[0])\n",
    "    for i in range(1, n):\n",
    "        f[i][0] = matrix[i][0]\n",
    "        for j in range(1, m):\n",
    "            if matrix[i][j]:\n",
    "                f[i][j] = min(f[i - 1][j], f[i][j - 1], f[i-1][j - 1]) + 1\n",
    "            else:\n",
    "                f[i][j] = 0\n",
    "        edge = max(edge, max(f[i]))\n",
    "\n",
    "    return edge * edge"
   ]
  },
  {
   "cell_type": "markdown",
   "metadata": {},
   "source": [
    "to save space: change n to 2"
   ]
  },
  {
   "cell_type": "code",
   "execution_count": 42,
   "metadata": {},
   "outputs": [],
   "source": [
    "def maxSquare(self, matrix):\n",
    "    if not matrix or not matrix[0]:\n",
    "        return 0\n",
    "\n",
    "    n, m = len(matrix), len(matrix[0])\n",
    "\n",
    "    # intialization\n",
    "    f = [[0] * m, [0] * m]\n",
    "    for i in range(m):\n",
    "        f[0][i] = matrix[0][i]\n",
    "\n",
    "    edge = max(matrix[0])\n",
    "    for i in range(1, n):\n",
    "        f[i % 2][0] = matrix[i][0]\n",
    "        for j in range(1, m):\n",
    "            if matrix[i][j]:\n",
    "                f[i % 2][j] = min(f[(i - 1) % 2][j], f[i % 2][j - 1], f[(i - 1) % 2][j - 1]) + 1\n",
    "            else:\n",
    "                f[i % 2][j] = 0\n",
    "        edge = max(edge, max(f[i % 2]))\n",
    "\n",
    "    return edge * edge"
   ]
  },
  {
   "cell_type": "markdown",
   "metadata": {},
   "source": [
    "Alien dictionary"
   ]
  },
  {
   "cell_type": "code",
   "execution_count": 51,
   "metadata": {},
   "outputs": [],
   "source": [
    "from heapq import *\n",
    "class Solution:\n",
    "    \"\"\"\n",
    "    @param words: a list of words\n",
    "    @return: a string which is correct order\n",
    "    \"\"\"\n",
    "    def alienOrder(self, words):\n",
    "        # Construct Graph\n",
    "        in_degree = {ch: 0 for word in words for ch in word}\n",
    "        neighbors = {ch: [] for word in words for ch in word}\n",
    "        for pos in range(len(words) - 1):\n",
    "            for i in range(min(len(words[pos]), len(words[pos+1]))):\n",
    "                pre, next = words[pos][i], words[pos+1][i]\n",
    "                if pre != next:\n",
    "                    in_degree[next] += 1\n",
    "                    neighbors[pre].append(next)\n",
    "                    break\n",
    "        \n",
    "        # Topological Sort\n",
    "        heap = [ch for ch in in_degree if in_degree[ch] == 0]\n",
    "        heapify(heap)\n",
    "        order = []\n",
    "        while heap:\n",
    "            for _ in range(len(heap)):\n",
    "                ch = heappop(heap)\n",
    "                order.append(ch)\n",
    "                for child in neighbors[ch]:\n",
    "                    in_degree[child] -= 1\n",
    "                    if in_degree[child] == 0:\n",
    "                        heappush(heap, child)\n",
    "        \n",
    "        # order is invalid\n",
    "        if len(order) != len(in_degree):\n",
    "            return \"\"\n",
    "        return ''.join(order)"
   ]
  },
  {
   "cell_type": "code",
   "execution_count": 52,
   "metadata": {},
   "outputs": [
    {
     "data": {
      "text/plain": [
       "'wertf'"
      ]
     },
     "execution_count": 52,
     "metadata": {},
     "output_type": "execute_result"
    }
   ],
   "source": [
    "words =[\n",
    "  \"wrt\",\n",
    "  \"wrf\",\n",
    "  \"er\",\n",
    "  \"ett\",\n",
    "  \"rftt\"\n",
    "]\n",
    "s=Solution()\n",
    "s.alienOrder(words)"
   ]
  },
  {
   "cell_type": "markdown",
   "metadata": {},
   "source": [
    "Sliding window maximum(hard)"
   ]
  },
  {
   "cell_type": "code",
   "execution_count": 72,
   "metadata": {
    "collapsed": true
   },
   "outputs": [],
   "source": [
    "from collections import deque\n",
    "class Solution:\n",
    "    \"\"\"\n",
    "    @param nums: A list of integers.\n",
    "    @param k: An integer\n",
    "    @return: The maximum number inside the window at each moving.\n",
    "    \"\"\"\n",
    "    def maxSlidingWindow(self, nums, k):\n",
    "        # write your code here\n",
    "        if not nums or not k:\n",
    "            return []\n",
    "        \n",
    "        queue, ans = deque(), []\n",
    "        for i in range(k):\n",
    "            self.push(queue, nums, i)\n",
    "        ans.append(nums[queue[0]])\n",
    "        \n",
    "        for i in range(k, len(nums)):\n",
    "            if queue[0] == i - k:\n",
    "                queue.popleft()\n",
    "            self.push(queue, nums, i)\n",
    "            ans.append(nums[queue[0]])\n",
    "        return ans\n",
    "    \n",
    "    def push(self, queue, nums, index):\n",
    "        while queue and nums[queue[-1]] < nums[index]:\n",
    "            queue.pop()\n",
    "        queue.append(index)"
   ]
  },
  {
   "cell_type": "markdown",
   "metadata": {},
   "source": [
    "Skyline problem (Very hard)\n",
    "Can use divide-and-conquer algorithm O(nlogn)"
   ]
  },
  {
   "cell_type": "code",
   "execution_count": 75,
   "metadata": {
    "collapsed": true
   },
   "outputs": [],
   "source": [
    "class Solution: # we can also use heapq + removed, to avoid using hashheap\n",
    "    \"\"\"\n",
    "    @param buildings: A list of lists of integers\n",
    "    @return: Find the outline of those buildings\n",
    "    \"\"\"\n",
    "    def buildingOutline(self, buildings):\n",
    "        points = []\n",
    "        for index, (start, end, height) in enumerate(buildings):\n",
    "            points.append((start, height, index, True))\n",
    "            points.append((end, height, index, False))\n",
    "        points = sorted(points)\n",
    "        \n",
    "        maxheap = HashHeap(desc=True)\n",
    "        intervals = []\n",
    "        last_position = None\n",
    "        for position, height, index, is_start in points:\n",
    "            max_height = maxheap.top()[0] if maxheap.size else 0\n",
    "            self.merge_to(intervals, last_position, position, max_height)\n",
    "            if is_start:\n",
    "                maxheap.push((height, index))\n",
    "            else:\n",
    "                maxheap.remove((height, index))\n",
    "            last_position = position\n",
    "\n",
    "        return intervals\n",
    "        \n",
    "    def merge_to(self, intervals, start, end, height):\n",
    "        if start is None or height == 0 or start == end:\n",
    "            return\n",
    "        \n",
    "        if not intervals:\n",
    "            intervals.append([start, end, height])\n",
    "            return\n",
    "        \n",
    "        _, prev_end, prev_height = intervals[-1]\n",
    "        if prev_height == height and prev_end == start:\n",
    "            intervals[-1][1] = end\n",
    "            return\n",
    "        \n",
    "        intervals.append([start, end, height])"
   ]
  },
  {
   "cell_type": "markdown",
   "metadata": {},
   "source": [
    "使用九章算法强化班中讲到的 HashHeap。即一个 Hash + Heap。\n",
    "Hash 的 key 是 Heap 里的每个元素，值是这个元素在 Heap 中的下标。\n",
    "\n",
    "要做这个题首先需要先做一下 Data Stream Median。这个题是只在一个集合中增加数，不删除数，然后不断的求中点。\n",
    "Sliding Window Median，就是不断的增加数，删除数，然后求中点。比 Data Stream Median 难的地方就在于如何支持删除数。\n",
    "\n",
    "因为 Data Stream Median 的方法是用 两个 Heap，一个 max heap，一个min heap。所以删除的话，就需要让 heap 也支持删除操作。\n",
    "由于 Python 的 heapq 并不支持 logn 时间内的删除操作，因此只能自己实现一个 hash + heap 的方法。\n",
    "\n",
    "总体时间复杂度 O(nlogk)O(nlogk)，n是元素个数，k 是 window 的大小。"
   ]
  },
  {
   "cell_type": "code",
   "execution_count": 76,
   "metadata": {
    "collapsed": true
   },
   "outputs": [],
   "source": [
    "def getSkyline(self, buildings):\n",
    "    events = sorted([(L, -H, R) for L, R, H in buildings] + list({(R, 0, None) for _, R, _ in buildings}))\n",
    "    res, hp = [[0, 0]], [(0, float(\"inf\"))]\n",
    "    for x, negH, R in events:\n",
    "        while x >= hp[0][1]: \n",
    "            heapq.heappop(hp)\n",
    "        if negH: \n",
    "            heapq.heappush(hp, (negH, R))\n",
    "        if res[-1][1] + hp[0][0]: \n",
    "            res += [x, -hp[0][0]],\n",
    "    return res[1:]"
   ]
  },
  {
   "cell_type": "markdown",
   "metadata": {},
   "source": [
    "range sum query(segment tree)"
   ]
  },
  {
   "cell_type": "code",
   "execution_count": null,
   "metadata": {
    "collapsed": true
   },
   "outputs": [],
   "source": []
  }
 ],
 "metadata": {
  "anaconda-cloud": {},
  "kernelspec": {
   "display_name": "Python [default]",
   "language": "python",
   "name": "python3"
  },
  "language_info": {
   "codemirror_mode": {
    "name": "ipython",
    "version": 3
   },
   "file_extension": ".py",
   "mimetype": "text/x-python",
   "name": "python",
   "nbconvert_exporter": "python",
   "pygments_lexer": "ipython3",
   "version": "3.5.4"
  }
 },
 "nbformat": 4,
 "nbformat_minor": 1
}
