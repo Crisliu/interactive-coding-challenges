{
 "cells": [
  {
   "cell_type": "markdown",
   "metadata": {},
   "source": [
    "This notebook was prepared by [Donne Martin](https://github.com/donnemartin). Source and license info is on [GitHub](https://github.com/donnemartin/interactive-coding-challenges)."
   ]
  },
  {
   "cell_type": "markdown",
   "metadata": {},
   "source": [
    "# Challenge Notebook"
   ]
  },
  {
   "cell_type": "markdown",
   "metadata": {},
   "source": [
    "## Problem: Given a list of ints, find the products of every other int for each index.\n",
    "\n",
    "* [Constraints](#Constraints)\n",
    "* [Test Cases](#Test-Cases)\n",
    "* [Algorithm](#Algorithm)\n",
    "* [Code](#Code)\n",
    "* [Unit Test](#Unit-Test)\n",
    "* [Solution Notebook](#Solution-Notebook)"
   ]
  },
  {
   "cell_type": "markdown",
   "metadata": {},
   "source": [
    "## Constraints\n",
    "\n",
    "* Can we use division?\n",
    "    * No\n",
    "* Is the output a list of ints?\n",
    "    * Yes\n",
    "* Can we assume the inputs are valid?\n",
    "    * No\n",
    "* Can we assume this fits memory?\n",
    "    * Yes"
   ]
  },
  {
   "cell_type": "markdown",
   "metadata": {},
   "source": [
    "## Test Cases\n",
    "\n",
    "<pre>\n",
    "* None -> TypeError\n",
    "* [] -> []\n",
    "* [0] -> []\n",
    "* [0, 1] -> [1, 0]\n",
    "* [0, 1, 2] -> [2, 0, 0]\n",
    "* [1, 2, 3, 4] -> [24, 12, 8, 6]\n",
    "</pre>"
   ]
  },
  {
   "cell_type": "markdown",
   "metadata": {},
   "source": [
    "## Algorithm\n",
    "\n",
    "Refer to the [Solution Notebook]().  If you are stuck and need a hint, the solution notebook's algorithm discussion might be a good place to start."
   ]
  },
  {
   "cell_type": "markdown",
   "metadata": {},
   "source": [
    "## Code"
   ]
  },
  {
   "cell_type": "code",
   "execution_count": 30,
   "metadata": {},
   "outputs": [],
   "source": [
    "class Solution(object):\n",
    "\n",
    "    def mult_other_numbers(self, array):\n",
    "        # TODO: Implement me\n",
    "        if array is None:\n",
    "            raise TypeError\n",
    "        if len(array) <= 1:\n",
    "            return []\n",
    "        left,right = [0] * len(array) , [0] * len(array)\n",
    "        left[0] = array[0]\n",
    "        right[0] = array[-1]\n",
    "        for index in range(len(array)):\n",
    "            if index == 0 :\n",
    "                continue\n",
    "            left[index] = left[index-1] * array[index]\n",
    "            right[index] = right[index-1] * array[len(array)-1-index]\n",
    "        right = right[::-1]\n",
    "        \n",
    "        result = [0] * len(array)\n",
    "        \n",
    "        for i in range(len(array)):\n",
    "            if i == 0:\n",
    "                result[i] = right[i+1]\n",
    "            elif i == len(array) - 1:\n",
    "                result[i] = left[i-1]\n",
    "            else:\n",
    "                result[i] = left[i-1] * right[i+1]\n",
    "        return result"
   ]
  },
  {
   "cell_type": "code",
   "execution_count": 31,
   "metadata": {},
   "outputs": [
    {
     "data": {
      "text/plain": [
       "[24, 12, 8, 6]"
      ]
     },
     "execution_count": 31,
     "metadata": {},
     "output_type": "execute_result"
    }
   ],
   "source": [
    "s = Solution()\n",
    "sample = [1,2,3,4]\n",
    "s.mult_other_numbers(sample)"
   ]
  },
  {
   "cell_type": "markdown",
   "metadata": {},
   "source": [
    "## Unit Test"
   ]
  },
  {
   "cell_type": "markdown",
   "metadata": {},
   "source": [
    "**The following unit test is expected to fail until you solve the challenge.**"
   ]
  },
  {
   "cell_type": "code",
   "execution_count": 32,
   "metadata": {},
   "outputs": [
    {
     "name": "stdout",
     "output_type": "stream",
     "text": [
      "Success: test_mult_other_numbers\n"
     ]
    }
   ],
   "source": [
    "# %load test_mult_other_numbers.py\n",
    "from nose.tools import assert_equal, assert_raises\n",
    "\n",
    "\n",
    "class TestMultOtherNumbers(object):\n",
    "\n",
    "    def test_mult_other_numbers(self):\n",
    "        solution = Solution()\n",
    "        assert_raises(TypeError, solution.mult_other_numbers, None)\n",
    "        assert_equal(solution.mult_other_numbers([0]), [])\n",
    "        assert_equal(solution.mult_other_numbers([0, 1]), [1, 0])\n",
    "        assert_equal(solution.mult_other_numbers([0, 1, 2]), [2, 0, 0])\n",
    "        assert_equal(solution.mult_other_numbers([1, 2, 3, 4]), [24, 12, 8, 6])\n",
    "        print('Success: test_mult_other_numbers')\n",
    "\n",
    "\n",
    "def main():\n",
    "    test = TestMultOtherNumbers()\n",
    "    test.test_mult_other_numbers()\n",
    "\n",
    "\n",
    "if __name__ == '__main__':\n",
    "    main()"
   ]
  },
  {
   "cell_type": "markdown",
   "metadata": {},
   "source": [
    "## Solution Notebook\n",
    "\n",
    "Review the [Solution Notebook]() for a discussion on algorithms and code solutions."
   ]
  }
 ],
 "metadata": {
  "anaconda-cloud": {},
  "kernelspec": {
   "display_name": "Python [default]",
   "language": "python",
   "name": "python3"
  },
  "language_info": {
   "codemirror_mode": {
    "name": "ipython",
    "version": 3
   },
   "file_extension": ".py",
   "mimetype": "text/x-python",
   "name": "python",
   "nbconvert_exporter": "python",
   "pygments_lexer": "ipython3",
   "version": "3.5.4"
  }
 },
 "nbformat": 4,
 "nbformat_minor": 1
}
