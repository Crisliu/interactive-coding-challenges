{
 "cells": [
  {
   "cell_type": "markdown",
   "metadata": {},
   "source": [
    "https://legacy.gitbook.com/book/evelynn/facebook-interview/details \n",
    "\n",
    "https://soulmachine.gitbooks.io/algorithm-essentials/content/cpp/\n",
    "\n",
    "https://www.geeksforgeeks.org/tag/facebook/page/1\n",
    "\n",
    "https://www.lintcode.com/ladder/29/\n"
   ]
  },
  {
   "cell_type": "markdown",
   "metadata": {},
   "source": [
    "Move Zeros"
   ]
  },
  {
   "cell_type": "code",
   "execution_count": 1,
   "metadata": {},
   "outputs": [
    {
     "data": {
      "text/plain": [
       "[1, 3, 12, 0, 0]"
      ]
     },
     "execution_count": 1,
     "metadata": {},
     "output_type": "execute_result"
    }
   ],
   "source": [
    "def nonzeros(nums):\n",
    "    if nums is None or not nums:\n",
    "        return\n",
    "    j = 0\n",
    "    for i in range(len(nums)):\n",
    "        if nums[i] != 0:\n",
    "            nums[j] = nums[i]\n",
    "            j += 1\n",
    "    for i in range(j,len(nums)):\n",
    "        nums[i] = 0\n",
    "    return nums\n",
    "nonzeros([0,1,0,3,12])"
   ]
  },
  {
   "cell_type": "markdown",
   "metadata": {},
   "source": [
    "merge sorted array"
   ]
  },
  {
   "cell_type": "code",
   "execution_count": 8,
   "metadata": {},
   "outputs": [
    {
     "data": {
      "text/plain": [
       "[1, 2, 3, 4, 5]"
      ]
     },
     "execution_count": 8,
     "metadata": {},
     "output_type": "execute_result"
    }
   ],
   "source": [
    "def merge(nums1,nums2):\n",
    "    m,n = len(nums1),len(nums2)\n",
    "    index,i,j = m + n - 1, m - 1, n - 1\n",
    "    nums1.extend([0] * len(nums2))\n",
    "    while (i >= 0 ) & (j >= 0):\n",
    "        if nums1[i] > nums2[j]:\n",
    "            nums1[index] = nums1[i]\n",
    "            index -= 1\n",
    "            i -= 1\n",
    "        else:\n",
    "            nums1[index] = nums2[j]\n",
    "            index -= 1\n",
    "            j -= 1\n",
    "        #print(i,j)\n",
    "    while i >=0 :\n",
    "            nums1[index] = nums1[i]\n",
    "            index -= 1\n",
    "            i -= 1\n",
    "    while j >= 0 :\n",
    "            nums1[index] = nums2[j]\n",
    "            index -= 1\n",
    "            j -= 1\n",
    "    return nums1\n",
    "merge([1,3],[2,4,5])    \n",
    "            "
   ]
  },
  {
   "cell_type": "markdown",
   "metadata": {},
   "source": [
    "Best time to buy and sell stock (only once)\n",
    "how about multiple times? or with transacditon fee?"
   ]
  },
  {
   "cell_type": "code",
   "execution_count": 13,
   "metadata": {},
   "outputs": [
    {
     "data": {
      "text/plain": [
       "(5, 0)"
      ]
     },
     "execution_count": 13,
     "metadata": {},
     "output_type": "execute_result"
    }
   ],
   "source": [
    "def stock(nums):\n",
    "    if nums is None or not nums:\n",
    "        return -1\n",
    "    min_price = nums[0]\n",
    "    profit = 0 \n",
    "    for p in nums:\n",
    "        min_price = min(p,min_price)\n",
    "        profit = max(profit,p-min_price)\n",
    "    return profit\n",
    "stock([7,1,5,3,6,4]),stock([7,6,4,3,1])"
   ]
  },
  {
   "cell_type": "markdown",
   "metadata": {},
   "source": [
    "sort colors (medium)"
   ]
  },
  {
   "cell_type": "code",
   "execution_count": 16,
   "metadata": {},
   "outputs": [
    {
     "data": {
      "text/plain": [
       "[0, 0, 1, 1, 2, 2]"
      ]
     },
     "execution_count": 16,
     "metadata": {},
     "output_type": "execute_result"
    }
   ],
   "source": [
    "def sortcolors(nums):\n",
    "    if nums is None or not nums:\n",
    "        return -1\n",
    "    left = 0 ; right = len(nums) - 1\n",
    "    i = 0 \n",
    "    while i <= right:\n",
    "        if nums[i] == 0:\n",
    "            nums[left], nums[i] = nums[i], nums[left]\n",
    "            left += 1\n",
    "            i += 1\n",
    "        elif nums[i] == 1:\n",
    "            i += 1\n",
    "        else:\n",
    "            nums[right], nums[i] = nums[i], nums[right]\n",
    "            right -= 1\n",
    "    return nums\n",
    "sortcolors([1,0,2,2,0,1])\n",
    "    "
   ]
  },
  {
   "cell_type": "markdown",
   "metadata": {},
   "source": [
    "sort color II"
   ]
  },
  {
   "cell_type": "code",
   "execution_count": 25,
   "metadata": {},
   "outputs": [
    {
     "data": {
      "text/plain": [
       "[1, 2, 2, 3, 4]"
      ]
     },
     "execution_count": 25,
     "metadata": {},
     "output_type": "execute_result"
    }
   ],
   "source": [
    "from collections import Counter\n",
    "def sortcolors(nums):\n",
    "    counter = Counter(nums)\n",
    "    colors = [0]*len(nums)\n",
    "    index = 0 \n",
    "    k = max(nums)\n",
    "    keys = list(counter.keys())\n",
    "    for i in keys:\n",
    "        while counter[i]>0 :\n",
    "            colors[index] = i\n",
    "            index += 1\n",
    "            counter[i] -= 1\n",
    "            #print(index)\n",
    "    return colors\n",
    "sortcolors([3,2,2,1,4])"
   ]
  },
  {
   "cell_type": "markdown",
   "metadata": {},
   "source": [
    "(Continue)divide & conque ?"
   ]
  },
  {
   "cell_type": "code",
   "execution_count": 26,
   "metadata": {
    "collapsed": true
   },
   "outputs": [],
   "source": [
    "class Solution:\n",
    "    def sortcolor(self,colors,k):\n",
    "        self.sort(colors,1,k,0,len(colors)-1)\n",
    "    def sort(self,colors,color_from,color_to,index_from,index_to):\n",
    "        if color_from == color_to or index_from == index_to:\n",
    "            return\n",
    "        color = (color_from + color_to) //2\n",
    "        left,right = index_from, index_to\n",
    "        while left <= right:\n",
    "            while left <=right and colors[left] <= color:\n",
    "                left+=1\n",
    "            while left <=right and colors[right] > color:\n",
    "                right-=1\n",
    "            if left <= right:\n",
    "                colors[left], colors[right] = colors[right],colors[left]\n",
    "                left += 1\n",
    "                right -= 1\n",
    "        self.sort(colors, color_from, color, index_from, right)\n",
    "        self.sort(colors, color + 1, color_to, left, index_to)"
   ]
  },
  {
   "cell_type": "markdown",
   "metadata": {},
   "source": [
    "random pick index"
   ]
  },
  {
   "cell_type": "markdown",
   "metadata": {},
   "source": [
    "Reservoir Sampling\n",
    "For k+1, pick it with a probability of k/(k+1), and randomly replace a number in the reservoir.\n",
    "For k+i, pick it with a probability of k/(k+i), and randomly replace a number in the reservoir.\n",
    "Repeat until k+i reaches n"
   ]
  },
  {
   "cell_type": "code",
   "execution_count": 62,
   "metadata": {},
   "outputs": [
    {
     "data": {
      "text/plain": [
       "2"
      ]
     },
     "execution_count": 62,
     "metadata": {},
     "output_type": "execute_result"
    }
   ],
   "source": [
    "def random_pick(nums,target):\n",
    "    result = -1\n",
    "    count = 0\n",
    "    for i in range(len(nums)):\n",
    "        if nums[i] != target:\n",
    "            continue\n",
    "        count +=1\n",
    "        if random.choice(range(count))== 0:\n",
    "            result = i\n",
    "    return result\n",
    "random_pick([1,2,3,3,3],3)"
   ]
  },
  {
   "cell_type": "markdown",
   "metadata": {},
   "source": [
    "H-index"
   ]
  },
  {
   "cell_type": "code",
   "execution_count": 64,
   "metadata": {},
   "outputs": [
    {
     "data": {
      "text/plain": [
       "3"
      ]
     },
     "execution_count": 64,
     "metadata": {},
     "output_type": "execute_result"
    }
   ],
   "source": [
    "def hindex(citations):\n",
    "    citations.sort()\n",
    "    for i in range(len(citations)-1,-1,-1):\n",
    "        j = len(citations) - i - 1\n",
    "        if j >=citations[i]:\n",
    "            return j\n",
    "    return len(citations)\n",
    "hindex( [3, 0, 6, 1, 5],)      "
   ]
  },
  {
   "cell_type": "markdown",
   "metadata": {},
   "source": [
    "use binary search to find the minimum index such that citations[index] >= length(citations) - index\n",
    "\n",
    "(practice more)"
   ]
  },
  {
   "cell_type": "code",
   "execution_count": 66,
   "metadata": {},
   "outputs": [
    {
     "data": {
      "text/plain": [
       "3"
      ]
     },
     "execution_count": 66,
     "metadata": {},
     "output_type": "execute_result"
    }
   ],
   "source": [
    "def hindex2(citations):\n",
    "    citations.sort()\n",
    "    left,right = 0,len(citations) - 1\n",
    "    while left <= right:\n",
    "        mid = (left + right ) // 2\n",
    "        if citations[mid] >= len(citations) - mid:\n",
    "            right = mid - 1\n",
    "        else:\n",
    "            left = mid + 1\n",
    "            \n",
    "    return len(citations) - right - 1\n",
    "hindex2( [3, 0, 6, 1, 5],)   "
   ]
  },
  {
   "cell_type": "markdown",
   "metadata": {},
   "source": [
    "Remove Duplicates from Sorted Array(inplace) at most twice"
   ]
  },
  {
   "cell_type": "code",
   "execution_count": 119,
   "metadata": {},
   "outputs": [
    {
     "data": {
      "text/plain": [
       "[1, 1, 2, 3, 3]"
      ]
     },
     "execution_count": 119,
     "metadata": {},
     "output_type": "execute_result"
    }
   ],
   "source": [
    "def removeDuplicates(nums):\n",
    "    if not nums or nums is None:\n",
    "        return 0\n",
    "    l = 1\n",
    "    repeat = 0\n",
    "    for i in range(1,len(nums)):\n",
    "        if nums[i] == nums[i-1] and repeat < 1 :\n",
    "            nums[l] = nums[i]\n",
    "            l+=1\n",
    "            repeat +=1\n",
    "        \n",
    "        if nums[i]!=nums[i-1]:\n",
    "            nums[l] = nums[i]\n",
    "            l+=1\n",
    "            repeat = 0 \n",
    "    return nums[:l]\n",
    "removeDuplicates([1,1,2,3,3,3])"
   ]
  },
  {
   "cell_type": "markdown",
   "metadata": {},
   "source": [
    "Increasing Triplet Subsequence"
   ]
  },
  {
   "cell_type": "code",
   "execution_count": 73,
   "metadata": {},
   "outputs": [
    {
     "data": {
      "text/plain": [
       "True"
      ]
     },
     "execution_count": 73,
     "metadata": {},
     "output_type": "execute_result"
    }
   ],
   "source": [
    "import sys\n",
    "def increasingTriplet(nums):\n",
    "    if not nums or len(nums) < 3:\n",
    "        return False\n",
    "    min = sys.maxsize\n",
    "    secondmin = sys.maxsize\n",
    "    for i in range(len(nums)):\n",
    "        if nums[i] <= min:\n",
    "            min = nums[i]\n",
    "        elif nums[i] <= secondmin:\n",
    "            secondmin = nums[i]\n",
    "        else:\n",
    "            return True\n",
    "    return False\n",
    "increasingTriplet([1,3,2,4])"
   ]
  },
  {
   "cell_type": "markdown",
   "metadata": {},
   "source": [
    "Longest Increasing Subsequence"
   ]
  },
  {
   "cell_type": "code",
   "execution_count": 94,
   "metadata": {},
   "outputs": [
    {
     "data": {
      "text/plain": [
       "4"
      ]
     },
     "execution_count": 94,
     "metadata": {},
     "output_type": "execute_result"
    }
   ],
   "source": [
    "def increasingsubsequence(nums):\n",
    "    dp = [1] * len(nums)\n",
    "    for cur,val in enumerate(nums):\n",
    "        for prev in range(cur):\n",
    "            if nums[prev] < val:\n",
    "                dp[cur] = max(dp[prev] + 1, dp[cur])\n",
    "    return max(dp)\n",
    "increasingsubsequence([1,2,4,3,5])"
   ]
  },
  {
   "cell_type": "markdown",
   "metadata": {},
   "source": [
    "Number of Longest Increasing Subsequence"
   ]
  },
  {
   "cell_type": "code",
   "execution_count": 110,
   "metadata": {},
   "outputs": [
    {
     "data": {
      "text/plain": [
       "5"
      ]
     },
     "execution_count": 110,
     "metadata": {},
     "output_type": "execute_result"
    }
   ],
   "source": [
    "\n",
    "def increasingsubsequence(nums):\n",
    "\n",
    "    dp = [1] * len(nums)\n",
    "    ans = [1] * len(nums)\n",
    "    for cur,val in enumerate(nums):\n",
    "        for prev in range(cur):\n",
    "            if nums[prev] < val:\n",
    "                if dp[cur] < dp[prev] + 1:\n",
    "                    ans[cur] = ans[prev]\n",
    "                    dp[cur] = dp[prev] + 1\n",
    "                elif dp[cur] == dp[prev] + 1:\n",
    "                    ans[cur] += ans[prev]\n",
    "    res = [y for x,y in zip(dp,ans) if x == max(dp)]\n",
    "    return sum(res)\n",
    "increasingsubsequence( [1,3,5,4,7])\n",
    "increasingsubsequence( [2,2,2,2,2])"
   ]
  },
  {
   "cell_type": "markdown",
   "metadata": {},
   "source": [
    "Kth largest element in array: quicksort, heapsort"
   ]
  },
  {
   "cell_type": "code",
   "execution_count": 132,
   "metadata": {},
   "outputs": [
    {
     "data": {
      "text/plain": [
       "4"
      ]
     },
     "execution_count": 132,
     "metadata": {},
     "output_type": "execute_result"
    }
   ],
   "source": [
    "import heapq\n",
    "def findKthLargest(nums,k):\n",
    "    heap = [nums[0]]\n",
    "    heapq.heapify(heap)\n",
    "    for i in nums[1:]:\n",
    "        heapq.heappush(heap,i)\n",
    "        if len(heap) > k:\n",
    "            heapq.heappop(heap)\n",
    "    return heap[0]\n",
    "findKthLargest([3,2,4,5,1],2)"
   ]
  },
  {
   "cell_type": "markdown",
   "metadata": {},
   "source": [
    "find the celebrity"
   ]
  },
  {
   "cell_type": "markdown",
   "metadata": {},
   "source": [
    "the first pass is to pick out the candidate. If candidate knows i, then switch candidate. The second pass is to check whether the candidate is real."
   ]
  },
  {
   "cell_type": "code",
   "execution_count": 135,
   "metadata": {
    "collapsed": true
   },
   "outputs": [],
   "source": [
    "def find_celebrity(nums):\n",
    "    candidate = 0\n",
    "    for i in range(1,len(nums)):\n",
    "        if knows(candidate, i):\n",
    "            candidate = i \n",
    "    for i in range(0,len(nums)):\n",
    "        if i!= candidate and knows(candidate,i) or not knows(i,candidate):\n",
    "            return -1\n",
    "    return candidate\n",
    "        \n",
    "    "
   ]
  },
  {
   "cell_type": "markdown",
   "metadata": {},
   "source": [
    "Product of Array Except Self (constant space)"
   ]
  },
  {
   "cell_type": "code",
   "execution_count": 139,
   "metadata": {},
   "outputs": [
    {
     "data": {
      "text/plain": [
       "[60, 40, 30, 24]"
      ]
     },
     "execution_count": 139,
     "metadata": {},
     "output_type": "execute_result"
    }
   ],
   "source": [
    "def product_(array):\n",
    "    result = [1]\n",
    "    for i in range(1,len(array)):\n",
    "        result.append(result[i-1] * array[i-1])\n",
    "    right = 1\n",
    "    for i in range(len(array)-1,-1,-1):\n",
    "        result[i] = result[i] * right\n",
    "        right = array[i] * right\n",
    "    return result\n",
    "product_([2,3,4,5])"
   ]
  },
  {
   "cell_type": "markdown",
   "metadata": {},
   "source": [
    "Minimum Size Subarray Sum (medium)"
   ]
  },
  {
   "cell_type": "code",
   "execution_count": 6,
   "metadata": {
    "collapsed": true
   },
   "outputs": [
    {
     "name": "stdout",
     "output_type": "stream",
     "text": [
      "[2]\n",
      "[2, 3]\n",
      "[2, 3, 1]\n",
      "[2, 3, 1, 2]\n",
      "[3, 1, 2]\n",
      "[3, 1, 2, 4]\n",
      "[1, 2, 4]\n",
      "[2, 4]\n",
      "[2, 4, 3]\n",
      "[4, 3]\n",
      "[3]\n"
     ]
    },
    {
     "data": {
      "text/plain": [
       "2"
      ]
     },
     "execution_count": 6,
     "metadata": {},
     "output_type": "execute_result"
    }
   ],
   "source": [
    "import sys\n",
    "def min_subarray(array,s):\n",
    "    start,end = 0,0\n",
    "    sum_ = 0\n",
    "    min_ = sys.maxsize\n",
    "    \n",
    "    while end < len(array):\n",
    "        sum_ += array[end]\n",
    "        end += 1\n",
    "        print(array[start:end])\n",
    "        while sum_ >= s:\n",
    "            min_ = min(min_,end-start)\n",
    "            sum_ -= array[start]\n",
    "            start += 1\n",
    "            print(array[start:end])\n",
    "    return 0 if min_ == sys.maxsize else min_\n",
    "min_subarray( [2,3,1,2,4,3] ,7)"
   ]
  },
  {
   "cell_type": "markdown",
   "metadata": {},
   "source": [
    "Maximum Size Subarray Sum Equals k"
   ]
  },
  {
   "cell_type": "markdown",
   "metadata": {},
   "source": [
    "j-i is equal to the length of subarray of original array. we want to find the max(j - i) for any sum[j] we need to find if there is a previous sum[i] such that sum[j] - sum[i] = k Instead of scanning from 0 to j -1 to find such i, we use hashmap to do the job in constant time.\n",
    "However, there might be duplicate value of of sum[i] we should avoid overriding its index as we want the max j - i, so we want to keep i as left as possible.\n"
   ]
  },
  {
   "cell_type": "code",
   "execution_count": 24,
   "metadata": {},
   "outputs": [
    {
     "data": {
      "text/plain": [
       "2"
      ]
     },
     "execution_count": 24,
     "metadata": {},
     "output_type": "execute_result"
    }
   ],
   "source": [
    "def max_size_subarray(array,k):\n",
    "    sum_array = [0]*len(array)\n",
    "    sum_array[0] = array[0]\n",
    "    for i in range(1,len(array)):\n",
    "        sum_array[i] = sum_array[i-1] + array[i]\n",
    "    hashmap  = {}\n",
    "    hashmap[0] = -1 #!!!add this fake entry to make sum from 0 to j consistent\n",
    "    result = 0\n",
    "    for i in range(0,len(array)):\n",
    "        if sum_array[i] not in hashmap:\n",
    "            hashmap[sum_array[i]] = i\n",
    "        if sum_array[i]-k in hashmap:\n",
    "            #print(i,hashmap[sum_array[i]-k])\n",
    "            result = max(result, i - hashmap[sum_array[i]-k])\n",
    "    return result\n",
    "    #return hashmap\n",
    "max_size_subarray([1, -1, 5, -2, 3],3)   \n",
    "max_size_subarray([-2, -1, 2, 1], 1)  "
   ]
  },
  {
   "cell_type": "markdown",
   "metadata": {},
   "source": [
    "## sweep line"
   ]
  },
  {
   "cell_type": "markdown",
   "metadata": {},
   "source": [
    "meeting room"
   ]
  },
  {
   "cell_type": "code",
   "execution_count": 133,
   "metadata": {},
   "outputs": [
    {
     "data": {
      "text/plain": [
       "False"
      ]
     },
     "execution_count": 133,
     "metadata": {},
     "output_type": "execute_result"
    }
   ],
   "source": [
    "def meetingroom(intervals):\n",
    "    intervals.sort()\n",
    "    for i in range(len(intervals)-1):\n",
    "        #print(intervals[i][1],intervals[i][0])\n",
    "        if intervals[i][1] > intervals[i+1][0]:\n",
    "            return False\n",
    "    return True\n",
    "meetingroom([[0, 6],[5, 10],[15, 20]])"
   ]
  },
  {
   "cell_type": "code",
   "execution_count": 30,
   "metadata": {},
   "outputs": [
    {
     "data": {
      "text/plain": [
       "2"
      ]
     },
     "execution_count": 30,
     "metadata": {},
     "output_type": "execute_result"
    }
   ],
   "source": [
    "def meetingroom2(intervals):\n",
    "    points = []\n",
    "    for interval in intervals:\n",
    "        points.append((interval[0],1))\n",
    "        points.append((interval[1],-1))\n",
    "    meeting_rooms = 0\n",
    "    ongoing_meetings = 0\n",
    "    for _, delta in sorted(points):\n",
    "        ongoing_meetings += delta\n",
    "        meeting_rooms = max(meeting_rooms, ongoing_meetings)\n",
    "    return meeting_rooms\n",
    "meetingroom2([[0, 30],[5, 10],[15, 20]])"
   ]
  },
  {
   "cell_type": "markdown",
   "metadata": {},
   "source": [
    "Given an interval represented by start and end timestamps, please write a program which takes arbitrary number of intervals, and find the maximal number of overlapping intervals."
   ]
  },
  {
   "cell_type": "code",
   "execution_count": null,
   "metadata": {
    "collapsed": true
   },
   "outputs": [],
   "source": [
    "def maxoverlap(intervals):\n",
    "    start = sorted([interval[0] for interval in intervals])\n",
    "    end = sorted([interval[1] for interval in intervals])\n",
    "    i,j = 1,0\n",
    "    count = 0\n",
    "    max_count = 0\n",
    "    while i < len(start) and j < len(end):\n",
    "        if start[i] <= end[j]:\n",
    "            count+=1\n",
    "            max_count = max(max_count,count)\n",
    "            i = i + 1\n",
    "        else:\n",
    "            count-=1\n",
    "            j = j + 1\n",
    "    return max_count"
   ]
  },
  {
   "cell_type": "markdown",
   "metadata": {},
   "source": [
    "Flatten Nested List Iterator(skipped)"
   ]
  },
  {
   "cell_type": "code",
   "execution_count": 31,
   "metadata": {
    "collapsed": true
   },
   "outputs": [],
   "source": [
    "class NestIteator(object):\n",
    "    def __init__(self, nestedList):\n",
    "        self.next_elem = None\n",
    "        self.stack = []\n",
    "        for elem in reversed(nestedList):\n",
    "            self.stack.append(elem)\n",
    "    def next(self):\n",
    "        if self.next_elem is None:\n",
    "            sefl.hasNext()\n",
    "        temp = self.next_elem\n",
    "        self.next_elem = None\n",
    "        return temp\n",
    "    def hasNext(self):\n",
    "        if self.next_elem:\n",
    "            return True\n",
    "        while self.stack:\n",
    "            top = self.stack.pop()\n",
    "            if top.IsInteger():\n",
    "                self.next_elem = top.getInteger()\n",
    "                return True\n",
    "            for elem in reversed(top.getList()):\n",
    "                self.stack.append(elem)\n",
    "        return False"
   ]
  },
  {
   "cell_type": "markdown",
   "metadata": {},
   "source": [
    "Sparse Matrix Multiplication"
   ]
  },
  {
   "cell_type": "markdown",
   "metadata": {},
   "source": [
    "Linked List(row,column,value,address of next node)\n",
    "dictionary(save spaces but access of items are costly)\n",
    "list of list\n",
    "NNZ: A,IA,JA.  \n",
    "A : nonzero elements, \n",
    "IA:cumulative number of non-zero elements upto ( not including) the i-th row. \n",
    "JA:The JA vector stores the column index of each element in the A vector"
   ]
  },
  {
   "cell_type": "code",
   "execution_count": 34,
   "metadata": {
    "collapsed": true
   },
   "outputs": [],
   "source": [
    "#sudo\n",
    "def spa_matrix_multi(a,b):\n",
    "    if a[1].shape != b[0].shape:\n",
    "        return\n",
    "    result = []\n",
    "    apos,bpos = 0,0\n",
    "    while apos < len:\n",
    "        r = data[apos][0]\n",
    "        bpos = 0\n",
    "        while bpos < len:\n",
    "            c = b.data[bpos][1]\n",
    "            tempa = apos\n",
    "            tempb = bpos\n",
    "            sum = 0\n",
    "            while tempa<0 and data[tempa][0] == r and tempb<0 and b.data[tempb] ==0:\n",
    "                if data[tempa][1] <  b.data[tempb][1]:\n",
    "                    tempa +=1\n",
    "                elif data[tempa][1] >  b.data[tempb][1]:\n",
    "                    tempb +=1\n",
    "                else:\n",
    "                    sum+= data[tempa][2] * b.data[tempb2]\n",
    "                    tempa +=1\n",
    "                    tempb +=1\n",
    "            if sum!=0:\n",
    "                result.append(r,c,num)\n",
    "            while (bpos < b.len and b.data[bpos][0] == c): \n",
    "                    bpos+=1 \n",
    "        while (apos < len and data[apos][0] == r) :\n",
    "                apos+=1"
   ]
  },
  {
   "cell_type": "code",
   "execution_count": 107,
   "metadata": {
    "collapsed": true
   },
   "outputs": [],
   "source": [
    "def multiply(self, A, B):\n",
    "\n",
    "    def compress(A):\n",
    "        ca = {}\n",
    "        for i in xrange(len(A)):\n",
    "            for j in xrange(len(A[i])):\n",
    "                if A[i][j] != 0:\n",
    "                    ca.setdefault(i, {})[j] = A[i][j]\n",
    "        return ca\n",
    "\n",
    "\n",
    "    ca = compress(A)\n",
    "    cb = compress(B)\n",
    "    ro, kk, co = len(A), len(A[0]), len(B[0])\n",
    "    C = [[0] * co for _ in xrange(ro)]\n",
    "    for i in ca:\n",
    "        for k in ca[i]:\n",
    "            for j in cb.get(k, {}):\n",
    "                C[i][j] += ca[i][k] * cb[k][j]\n",
    "    return C"
   ]
  },
  {
   "cell_type": "code",
   "execution_count": 110,
   "metadata": {},
   "outputs": [
    {
     "data": {
      "text/plain": [
       "{0: {0: 2}, 1: {1: 2}}"
      ]
     },
     "execution_count": 110,
     "metadata": {},
     "output_type": "execute_result"
    }
   ],
   "source": [
    "def compress(A):\n",
    "    ca = {}\n",
    "    for i in range(len(A)):\n",
    "        for j in range(len(A[i])):\n",
    "            if A[i][j] != 0:\n",
    "                ca.setdefault(i, {})[j] = A[i][j]\n",
    "    return ca\n",
    "compress([[2,0],[0,2]])"
   ]
  },
  {
   "cell_type": "markdown",
   "metadata": {},
   "source": [
    "Insert intervals(medium)"
   ]
  },
  {
   "cell_type": "code",
   "execution_count": 35,
   "metadata": {
    "collapsed": true
   },
   "outputs": [],
   "source": [
    "def insert(intervals, newinterval):\n",
    "    results = []\n",
    "    pos = 0\n",
    "    for interval in sorted(intervals):\n",
    "        if interval[1] < newinterval[0]:\n",
    "            results.append(interval)\n",
    "            pos += 1\n",
    "        elif interval[0] > newinterval[1]:\n",
    "            results.append(interval)\n",
    "        else:\n",
    "            newinterval[0] = min(newinterval[0],interval[0])\n",
    "            newinterval[1] = max(newinterval[1],interval[1])\n",
    "    results.insert(pos,newinterval)"
   ]
  },
  {
   "cell_type": "markdown",
   "metadata": {},
   "source": [
    "Merge intervals(medium)"
   ]
  },
  {
   "cell_type": "code",
   "execution_count": 44,
   "metadata": {},
   "outputs": [
    {
     "data": {
      "text/plain": [
       "[[1, 6], [8, 10], [15, 18]]"
      ]
     },
     "execution_count": 44,
     "metadata": {},
     "output_type": "execute_result"
    }
   ],
   "source": [
    "def merge(intervals):\n",
    "    intervals = sorted(intervals, key=lambda x: x[0])\n",
    "    result = []\n",
    "    for interval in intervals:\n",
    "        if len(result)== 0 or result[-1][1]<interval[0]: \n",
    "            result.append(interval)\n",
    "        else:\n",
    "            result[-1][1] = max(result[-1][1],interval[1])\n",
    "    return result\n",
    "merge([[1,3],[2,6],[8,10],[15,18]] )"
   ]
  },
  {
   "cell_type": "code",
   "execution_count": null,
   "metadata": {
    "collapsed": true
   },
   "outputs": [],
   "source": [
    "read4?"
   ]
  },
  {
   "cell_type": "markdown",
   "metadata": {},
   "source": [
    "Excel Sheet Column Title"
   ]
  },
  {
   "cell_type": "code",
   "execution_count": 54,
   "metadata": {},
   "outputs": [
    {
     "data": {
      "text/plain": [
       "['A', 'B']"
      ]
     },
     "execution_count": 54,
     "metadata": {},
     "output_type": "execute_result"
    }
   ],
   "source": [
    "def excel(n):\n",
    "    result = []\n",
    "    while (n>0):\n",
    "        rem = n%26\n",
    "        char = chr(ord('A') + rem-1)\n",
    "        result.append(char)\n",
    "        n = n//26\n",
    "    return result[::-1]\n",
    "excel(28)"
   ]
  },
  {
   "cell_type": "code",
   "execution_count": 58,
   "metadata": {},
   "outputs": [
    {
     "data": {
      "text/plain": [
       "[1.0, 0.0, 0]"
      ]
     },
     "execution_count": 58,
     "metadata": {},
     "output_type": "execute_result"
    }
   ],
   "source": [
    "def add_binary(a,b):\n",
    "    i = len(a)-1\n",
    "    j = len(b)-1\n",
    "    result = []\n",
    "    carry = 0\n",
    "    while (i>=0 or j >=0):\n",
    "        sum = carry\n",
    "        if j >=0:\n",
    "            sum+=int(b[j])\n",
    "            j -= 1\n",
    "        if i >=0:\n",
    "            sum+=int(a[i])\n",
    "            i -= 1\n",
    "        \n",
    "        result.append(sum%2)\n",
    "        carry = sum/2\n",
    "    if carry!=0:\n",
    "        result.append(carry)\n",
    "    return result[::-1]\n",
    "add_binary('11','1')"
   ]
  },
  {
   "cell_type": "markdown",
   "metadata": {},
   "source": [
    "roman：\n",
    "The logic here is that, if a current character value is greater than that of the previous, we have to subtract it. We subtract twice, because previously iteration had blindly added it."
   ]
  },
  {
   "cell_type": "code",
   "execution_count": 59,
   "metadata": {
    "collapsed": true
   },
   "outputs": [],
   "source": [
    "def strstr(source,target):\n",
    "    if source is None or target is None:\n",
    "        return -1\n",
    "    if len(source) < len(target):\n",
    "        return 0\n",
    "    if len(target) == 0:\n",
    "        return 0\n",
    "    for i in range(len(source)-len(target) + 1):\n",
    "        j = 0\n",
    "        while j < len(target):\n",
    "            if source[i+j] == target[j]:\n",
    "                j = j+1\n",
    "            else:\n",
    "                j = 0\n",
    "                break\n",
    "        if j == len(target):\n",
    "            return i\n",
    "    return -1\n",
    "            "
   ]
  },
  {
   "cell_type": "markdown",
   "metadata": {},
   "source": [
    "edit distance"
   ]
  },
  {
   "cell_type": "code",
   "execution_count": 74,
   "metadata": {},
   "outputs": [
    {
     "data": {
      "text/plain": [
       "3"
      ]
     },
     "execution_count": 74,
     "metadata": {},
     "output_type": "execute_result"
    }
   ],
   "source": [
    "def distance(s,t):\n",
    "    m,n = len(s), len(t) \n",
    "    f = [[0]*(n+1) for _ in range(m + 1)]\n",
    "    for i in range(m+1):\n",
    "        f[i][0] = i\n",
    "    for j in range(n+1):\n",
    "        f[0][j] = j\n",
    "    for i in range(1,m+1):\n",
    "        for j in range(1,n+1):\n",
    "            if s[i-1] == t[j-1]:\n",
    "                f[i][j] = min(f[i-1][j-1],f[i-1][j] + 1,f[i][j - 1] + 1)\n",
    "            else:\n",
    "                f[i][j] = min(f[i - 1][j - 1], f[i - 1][j], f[i][j - 1]) + 1\n",
    "    return f[m][n]\n",
    "distance('mart','karma')"
   ]
  },
  {
   "cell_type": "code",
   "execution_count": null,
   "metadata": {
    "collapsed": true
   },
   "outputs": [],
   "source": [
    "edit distance(save space)"
   ]
  },
  {
   "cell_type": "code",
   "execution_count": 75,
   "metadata": {},
   "outputs": [
    {
     "name": "stdout",
     "output_type": "stream",
     "text": [
      "2\n"
     ]
    },
    {
     "data": {
      "text/plain": [
       "3"
      ]
     },
     "execution_count": 75,
     "metadata": {},
     "output_type": "execute_result"
    }
   ],
   "source": [
    "def distance2(s,t):\n",
    "    m,n = len(s), len(t) \n",
    "    f = [[0]*(n+1) for _ in range(2)]\n",
    "    print(len(f))\n",
    "    for j in range(n+1):\n",
    "        f[0][j] = j\n",
    "    for i in range(1,m+1):\n",
    "        f[i%2][0] = i \n",
    "        for j in range(1,n+1):\n",
    "            if s[i-1] == t[j-1]:\n",
    "                f[i%2][j] = min(f[(i-1)%2][j-1],f[(i-1)%2][j] + 1,f[i%2][j - 1] + 1)\n",
    "            else:\n",
    "                f[i%2][j] = min(f[(i-1)%2][j - 1], f[(i-1)%2][j], f[i%2][j - 1]) + 1\n",
    "    return f[m%2][n]\n",
    "distance2('mart','karma')"
   ]
  },
  {
   "cell_type": "markdown",
   "metadata": {},
   "source": [
    "integer to english words"
   ]
  },
  {
   "cell_type": "code",
   "execution_count": 82,
   "metadata": {},
   "outputs": [
    {
     "data": {
      "text/plain": [
       "'Nine hundred EightySeven million Six hundred FiftyFour thousand Three hundred TwentyOne'"
      ]
     },
     "execution_count": 82,
     "metadata": {},
     "output_type": "execute_result"
    }
   ],
   "source": [
    "def helper(num):\n",
    "    below10 = [\"\", \"One\", \"Two\", \"Three\", \"Four\", \"Five\", \"Six\", \"Seven\", \"Eight\", \"Nine\"]\n",
    "    below20 = [\"Ten\", \"Eleven\", \"Twelve\", \"Thirteen\", \"Fourteen\", \"Fifteen\", \"Sixteen\", \"Seventeen\", \"Eighteen\", \"Nineteen\"]\n",
    "    below100 = [\"\", \"Ten\", \"Twenty\", \"Thirty\", \"Forty\", \"Fifty\", \"Sixty\", \"Seventy\", \"Eighty\", \"Ninety\"]\n",
    "    result = []\n",
    "    if num < 10:\n",
    "        result = below10[num]\n",
    "    elif num < 20:\n",
    "        result = below20[num-10]\n",
    "    elif num < 100:\n",
    "        result = below100[num//10] + helper(num%10)\n",
    "    elif num < 1000:\n",
    "        result = helper(num//100) + ' hundred ' + helper(num%100)\n",
    "    elif num < 1000000:\n",
    "        result = helper(num//1000) + ' thousand ' + helper(num%1000)\n",
    "    elif num < 1000000000:\n",
    "        result = helper(num//1000000) + ' million ' + helper(num%1000000)\n",
    "    else:\n",
    "        result = helper(num//1000000000) + ' billion ' + helper(num%1000000000)\n",
    "    return result\n",
    "helper(987654321)   "
   ]
  },
  {
   "cell_type": "markdown",
   "metadata": {},
   "source": [
    "Minimum Window substring(medium)"
   ]
  },
  {
   "cell_type": "code",
   "execution_count": 21,
   "metadata": {},
   "outputs": [
    {
     "data": {
      "text/plain": [
       "{'A': 1, 'B': 0, 'C': -5, 'D': 0}"
      ]
     },
     "execution_count": 21,
     "metadata": {},
     "output_type": "execute_result"
    }
   ],
   "source": [
    "def min_window_substring(S,T):\n",
    "    t_counter = {}\n",
    "    if not S or S is None:\n",
    "        return \"\"\n",
    "    for t in T:\n",
    "        if t in t_counter:\n",
    "            t_counter[t] += 1\n",
    "        else:\n",
    "            t_counter[t] = 1\n",
    "    #print(t_counter)\n",
    "    left,minlen = 0,len(S)+1\n",
    "    count,minstart = 0,0\n",
    "    for right in range(len(S)):\n",
    "        if S[right] in t_counter:\n",
    "            t_counter[S[right]]-=1\n",
    "            if t_counter[S[right]] >=0: #?\n",
    "                count+=1\n",
    "            #print(count)\n",
    "            while count == len(T):\n",
    "                #print(right,left,minlen)\n",
    "                if right-left + 1 < minlen:\n",
    "                    #print('___')\n",
    "                    minlen = right-left+1\n",
    "                    minstart = left\n",
    "                if S[left] in t_counter:\n",
    "                    t_counter[S[left]]+=1 \n",
    "                    if t_counter[S[left]] > 0: #?\n",
    "                        count-=1\n",
    "                left +=1\n",
    "    if minlen > len(S):\n",
    "        return \"\"\n",
    "    #return S[minstart:minlen+minstart]\n",
    "    return t_counter\n",
    "min_window_substring(\"ADOBECODEBANC\",\"ABC\") \n",
    "min_window_substring(\"ABCCCCCCD\",\"ABCD\") \n",
    "#min_window_substring('',\"ABC\") "
   ]
  },
  {
   "cell_type": "markdown",
   "metadata": {},
   "source": [
    "simplify path(easy)"
   ]
  },
  {
   "cell_type": "code",
   "execution_count": 90,
   "metadata": {},
   "outputs": [
    {
     "data": {
      "text/plain": [
       "'/c'"
      ]
     },
     "execution_count": 90,
     "metadata": {},
     "output_type": "execute_result"
    }
   ],
   "source": [
    "def simplify(path):\n",
    "    stack = []\n",
    "    for i in path.split('/'):\n",
    "        if i == '..':\n",
    "            if stack:\n",
    "                stack.pop()\n",
    "        elif i =='.' or i == '':\n",
    "            continue\n",
    "        else:\n",
    "            stack.append(i)\n",
    "    result = '/'+'/'.join(stack)\n",
    "    return result\n",
    "simplify(\"/a/./b/../../c/\")"
   ]
  },
  {
   "cell_type": "markdown",
   "metadata": {},
   "source": [
    "Expression add operator (Hard)?"
   ]
  },
  {
   "cell_type": "code",
   "execution_count": 44,
   "metadata": {},
   "outputs": [
    {
     "data": {
      "text/plain": [
       "[]"
      ]
     },
     "execution_count": 44,
     "metadata": {},
     "output_type": "execute_result"
    }
   ],
   "source": [
    "class Solution():\n",
    "    def addoperator(self,num,target):\n",
    "        res=[]\n",
    "        self.helper(num,target,\"\",0,0,res)\n",
    "        return res\n",
    "    def helper(self,num,target,tmp,currRes,prevNum,res):\n",
    "        if currRes == target and len(num) == 0:\n",
    "            res.append(tmp)\n",
    "            print('dafds')\n",
    "            return \n",
    "        for i in range(1,len(num)):\n",
    "            currStr = num[0:i]\n",
    "            #print(currStr)\n",
    "            if len(currStr) > 1 and currStr[0] == '0':\n",
    "                return #?\n",
    "\n",
    "            currNum = int(currStr)\n",
    "            next = num[i:]\n",
    "            if len(tmp) != 0 :\n",
    "                #print(tmp+\"*\"+currNum,currStr,currNum,currNum,res)\n",
    "                #print(tmp+\"*\"+currNum,(currRes - prevNum) + prevNum * currNum,prevNum * currNum,res)\n",
    "                #(currRes - prevNum) + prevNum * currNum\n",
    "                #print((currRes - prevNum))\n",
    "                self.helper(next,target,tmp+\"*\"+currStr,(currRes - prevNum) + prevNum * currNum, prevNum * currNum,res)\n",
    "                self.helper(next,target,tmp+\"+\"+currStr,currRes + currNum, currNum,res)\n",
    "                self.helper(next, target, tmp+\"-\"+currStr, currRes - currNum, -currNum,res)\n",
    "            else:\n",
    "                self.helper(next, target, currStr, currNum, currNum,res)\n",
    "s = Solution()\n",
    "s.addoperator(\"123\", 6)\n",
    "s.addoperator(\"232\", 8)        \n",
    "    "
   ]
  },
  {
   "cell_type": "markdown",
   "metadata": {},
   "source": [
    "regular expression matching"
   ]
  },
  {
   "cell_type": "code",
   "execution_count": 4,
   "metadata": {
    "collapsed": true
   },
   "outputs": [],
   "source": [
    "class Solution:\n",
    "    \"\"\"\n",
    "    @param s: A string \n",
    "    @param p: A string includes \".\" and \"*\"\n",
    "    @return: A boolean\n",
    "    \"\"\"\n",
    "    def isMatch(self, s, p):\n",
    "        # write your code here\n",
    "        match = self.dfs(s,p,0,0,{})\n",
    "        return match \n",
    "        \n",
    "    def dfs(self, s,p, sindex, pindex,memo):\n",
    "        if (sindex,pindex) in memo:\n",
    "            return memo[sindex,pindex]\n",
    "        if (len(s) == 0  and len(p) != 0 )or (len(p) == 0 and len(s) != 0 )or p[0] == \"*\":\n",
    "            return False\n",
    "        \n",
    "        if len(s) == sindex:\n",
    "            sub = p[pindex:]\n",
    "            for i in sub:\n",
    "                if i == \"*\":\n",
    "                    continue\n",
    "                elif i != s[-1]:\n",
    "                    return False\n",
    "            return True    \n",
    "                \n",
    "        if len(p) == pindex:\n",
    "            return sindex == len(s)\n",
    "        \n",
    "        match = False\n",
    "        if p[pindex] == s[sindex]:\n",
    "            match = self.dfs(s,p,sindex+1,pindex+1,memo)\n",
    "        # 用来排除 c*a 和 ba 这种情况， wildcard 没有这种情况\n",
    "        elif pindex+2 < len(p) and p[pindex+1] == \"*\" and p[pindex+2] == s[sindex]:\n",
    "            match = self.dfs(s,p,sindex,pindex+2,memo)\n",
    "        elif p[pindex] == \".\":\n",
    "            p[pindex] == s[sindex]\n",
    "            match = self.dfs(s,p,sindex+1,pindex+1,memo)  \n",
    "        elif p[pindex] == \"*\":\n",
    "            match = self.dfs(s,p,sindex,pindex-1,memo) \n",
    "       \n",
    "        else:\n",
    "            match = False\n",
    "        \n",
    "        memo[sindex,pindex] = match \n",
    "        return match"
   ]
  },
  {
   "cell_type": "markdown",
   "metadata": {},
   "source": [
    "valid palindrome"
   ]
  },
  {
   "cell_type": "code",
   "execution_count": 54,
   "metadata": {},
   "outputs": [
    {
     "data": {
      "text/plain": [
       "False"
      ]
     },
     "execution_count": 54,
     "metadata": {},
     "output_type": "execute_result"
    }
   ],
   "source": [
    "def palindrome(s):\n",
    "    start,end = 0,len(s)-1\n",
    "    while start < end:\n",
    "        if start<end and  s[start].isdigit() and not s[start].isalpha():\n",
    "            start += 1\n",
    "        if start<end and  s[end].isdigit() and not s[end].isalpha():\n",
    "            end -= 1\n",
    "        if s[start].lower()!=s[end].lower():\n",
    "            return False\n",
    "        start+=1\n",
    "        end-=1\n",
    "    return True\n",
    "palindrome('a cca')           \n",
    "    "
   ]
  },
  {
   "cell_type": "markdown",
   "metadata": {},
   "source": [
    "valid parethesis with *:"
   ]
  },
  {
   "cell_type": "code",
   "execution_count": 77,
   "metadata": {},
   "outputs": [
    {
     "data": {
      "text/plain": [
       "True"
      ]
     },
     "execution_count": 77,
     "metadata": {},
     "output_type": "execute_result"
    }
   ],
   "source": [
    "def checkvalidparethesis(s):\n",
    "    l = 0 \n",
    "    cp = 0\n",
    "    for i in range(len(s)):\n",
    "        if s[i] == '(':\n",
    "            l += 1 # number of (\n",
    "            cp += 1 # number of * that is available\n",
    "        elif s[i] == ')':\n",
    "            if l > 0:\n",
    "                l-= 1\n",
    "            cp -= 1\n",
    "            if cp<0:\n",
    "                return False\n",
    "        else:\n",
    "            if l > 0:\n",
    "                l-= 1\n",
    "            cp += 1\n",
    "    return True if l==0 else False\n",
    "checkvalidparethesis('(*))')"
   ]
  },
  {
   "cell_type": "markdown",
   "metadata": {},
   "source": [
    "Find LCA of Binary Tree"
   ]
  },
  {
   "cell_type": "code",
   "execution_count": 92,
   "metadata": {
    "collapsed": true
   },
   "outputs": [],
   "source": [
    "def lca(root,n1,n2):\n",
    "    if root.key == n1 or root.key == n2:\n",
    "        return root\n",
    "    left_lca = lca(root.left,n1,n2)\n",
    "    right_lca = lca(root.right,n1,n2)\n",
    "    if left_lca and right_lca:\n",
    "        # If both of the above calls return Non-NULL, then one key \n",
    "        # is present in once subtree and other is present in other, \n",
    "        # So this node is the LCA \n",
    "        return root\n",
    "    return left_lca if left_lca is not None else right_lca"
   ]
  },
  {
   "cell_type": "markdown",
   "metadata": {},
   "source": [
    "We can extend this method to handle all cases by passing two boolean variables v1 and v2. v1 is set as true when n1 is present in tree and v2 is set as true if n2 is present in tree."
   ]
  },
  {
   "cell_type": "code",
   "execution_count": 93,
   "metadata": {
    "collapsed": true
   },
   "outputs": [],
   "source": [
    "def findLCA(root,n1,n2):\n",
    "    v = [False,False]\n",
    "    lca = findLCAUtil(root,n1,n2,v)\n",
    "        # Returns LCA only if both n1 and n2 are present in tree \n",
    "    if (v[0] and v[1] or v[0] and find(lca, n2) or v[1] and \n",
    "        find(lca, n1)): \n",
    "        return lca \n",
    "  \n",
    "    # Else return None \n",
    "    return None\n",
    "def find(root,k):\n",
    "    if root is Nonne:\n",
    "        return False\n",
    "    if root.key == k:\n",
    "        return True\n",
    "    return find(root.left,k) or find(root.right,k)\n",
    "def findLCAUtil(root,n1,n2,v):\n",
    "    if root.key == n1:\n",
    "        v[0] = True\n",
    "        return root\n",
    "    if root.key == n1:\n",
    "        v[1] = True\n",
    "        return root\n",
    "    left_lca = findLCAUtil(root.left,n1,n,v)\n",
    "    right_lca = findLCAUtil(root.right,n1,n2,v)\n",
    "    if left_lca and right_lca:\n",
    "        # If both of the above calls return Non-NULL, then one key \n",
    "        # is present in once subtree and other is present in other, \n",
    "        # So this node is the LCA \n",
    "        return root\n",
    "    return left_lca if left_lca is not None else right_lca"
   ]
  },
  {
   "cell_type": "markdown",
   "metadata": {},
   "source": [
    "Contiguous Array (Medium)"
   ]
  },
  {
   "cell_type": "markdown",
   "metadata": {},
   "source": [
    "Given a binary array, find the maximum length of a contiguous subarray with equal number of 0 and 1."
   ]
  },
  {
   "cell_type": "code",
   "execution_count": 40,
   "metadata": {
    "collapsed": true
   },
   "outputs": [],
   "source": [
    "class Solution:\n",
    "    \"\"\"\n",
    "    @param nums: a binary array\n",
    "    @return: the maximum length of a contiguous subarray\n",
    "    \"\"\"\n",
    "    def findMaxLength(self, nums):\n",
    "        # Write your code here\n",
    "        counter = {}\n",
    "        res = 0 \n",
    "        counter[0] = -1\n",
    "        for i in range(len(nums)):\n",
    "            current_sum += (1 if nums[i]==1 else -1)\n",
    "            if current_sum in counter:\n",
    "                length = i - counter[current_sum]\n",
    "                res = max(res,length)\n",
    "            else:\n",
    "                counter[current_sum] = i\n",
    "        return res"
   ]
  },
  {
   "cell_type": "markdown",
   "metadata": {},
   "source": [
    "86.Binary Search Tree Iterator (Hard)"
   ]
  },
  {
   "cell_type": "markdown",
   "metadata": {},
   "source": [
    "data structure"
   ]
  },
  {
   "cell_type": "code",
   "execution_count": 95,
   "metadata": {},
   "outputs": [
    {
     "data": {
      "text/plain": [
       "[[3, -1, 0, 1], [2, 2, 1, -1], [1, -1, 2, -1], [0, -1, 3, 4]]"
      ]
     },
     "execution_count": 95,
     "metadata": {},
     "output_type": "execute_result"
    }
   ],
   "source": [
    "\n",
    "def wallgates(matrix):\n",
    "    m,n = len(matrix),len(matrix[0])\n",
    "    queue = []\n",
    "    directions = [(0,1),(0,-1),(-1,0),(1,0)]\n",
    "    for i in range(m):\n",
    "        for j in range(n):\n",
    "            if matrix[i][j] == 0:\n",
    "                queue.append((i,j))\n",
    "    while queue:\n",
    "        p = queue.pop(0)\n",
    "        for d in directions:\n",
    "            x,y = d[0]+p[0],d[1]+p[1]\n",
    "            if x<0 or x>=m or y <0 or y>=n or matrix[x][y]==-1:\n",
    "                continue\n",
    "            elif matrix[x][y]> n^2:\n",
    "                matrix[x][y] = matrix[p[0]][p[1]] + 1\n",
    "                if (x,y) not in queue:\n",
    "                    queue.append((x,y))\n",
    "\n",
    "    return matrix\n",
    "    \n",
    "matrix = [[100,-1,0,100],[100,100,100,-1],[100,-1,100,-1],[0,-1,100,100]]\n",
    "wallgates(matrix)\n",
    "                \n",
    "                    \n",
    "                "
   ]
  },
  {
   "cell_type": "markdown",
   "metadata": {},
   "source": [
    "graph"
   ]
  },
  {
   "cell_type": "markdown",
   "metadata": {},
   "source": [
    "course schedule I"
   ]
  },
  {
   "cell_type": "markdown",
   "metadata": {},
   "source": [
    "if node v has not been visited, then mark it as 0.\n",
    "if node v is being visited, then mark it as -1. If we find a vertex marked as -1 in DFS, then their is a ring.\n",
    "if node v has been visited, then mark it as 1. If a vertex was marked as 1, then no ring contains v or its successors."
   ]
  },
  {
   "cell_type": "code",
   "execution_count": 98,
   "metadata": {},
   "outputs": [
    {
     "data": {
      "text/plain": [
       "True"
      ]
     },
     "execution_count": 98,
     "metadata": {},
     "output_type": "execute_result"
    }
   ],
   "source": [
    "class Solution(object):\n",
    "    def canFinish(self, numCourses, prerequisites):\n",
    "        \"\"\"\n",
    "        :type numCourses: int\n",
    "        :type prerequisites: List[List[int]]\n",
    "        :rtype: bool\n",
    "        \"\"\"\n",
    "        graph = [[] for _ in range(numCourses)]\n",
    "        visited = [0 for _ in range(numCourses)]\n",
    "        # create graph\n",
    "        for pair in prerequisites:\n",
    "            x, y = pair\n",
    "            graph[x].append(y)\n",
    "        # visit each node\n",
    "        for i in range(numCourses):\n",
    "            if not self.dfs(graph, visited, i):\n",
    "                return False\n",
    "        return True\n",
    "    \n",
    "    def dfs(self, graph, visited, i):\n",
    "        # if ith node is marked as being visited, then a cycle is found\n",
    "        if visited[i] == -1:\n",
    "            return False\n",
    "        # if it is done visted, then do not visit again\n",
    "        if visited[i] == 1:\n",
    "            return True\n",
    "        # mark as being visited\n",
    "        visited[i] = -1 \n",
    "        # visit all the neighbours\n",
    "        for j in graph[i]:\n",
    "            if not self.dfs(graph, visited, j):\n",
    "                return False\n",
    "        # after visit all the neighbours, mark it as done visited\n",
    "        visited[i] = 1\n",
    "        return True\n",
    "s = Solution()\n",
    "s.canFinish(2, [[1,0],[0,1]])\n",
    "s.canFinish(2, [[1,0]] )"
   ]
  },
  {
   "cell_type": "code",
   "execution_count": 100,
   "metadata": {},
   "outputs": [
    {
     "data": {
      "text/plain": [
       "[0, 1]"
      ]
     },
     "execution_count": 100,
     "metadata": {},
     "output_type": "execute_result"
    }
   ],
   "source": [
    "#class Schedule II\n",
    "class Solution(object):\n",
    "    def canFinish(self, numCourses, prerequisites):\n",
    "        \"\"\"\n",
    "        :type numCourses: int\n",
    "        :type prerequisites: List[List[int]]\n",
    "        :rtype: bool\n",
    "        \"\"\"\n",
    "        graph = [[] for _ in range(numCourses)]\n",
    "        outdegree = [0] * numCourses\n",
    "        # create graph\n",
    "        for pair in prerequisites:\n",
    "            x, y = pair\n",
    "            graph[x].append(y)\n",
    "            outdegree[y] +=1\n",
    "        # visit each node\n",
    "        \n",
    "        bfs = [course for course in range(numCourses) if outdegree[course] == 0]\n",
    "        \n",
    "        for course in bfs:\n",
    "            for x in graph[course]:\n",
    "                outdegree[x] -=1\n",
    "                if outdegree[x] == 0:\n",
    "                    bfs.append(x)\n",
    "        return bfs[::-1] if len(bfs) == numCourses else []\n",
    "     \n",
    "s = Solution()\n",
    "s.canFinish(2, [[1,0],[0,1]])\n",
    "s.canFinish(2, [[1,0]] )"
   ]
  },
  {
   "cell_type": "markdown",
   "metadata": {},
   "source": [
    "course schedule III ??"
   ]
  },
  {
   "cell_type": "code",
   "execution_count": 101,
   "metadata": {
    "collapsed": true
   },
   "outputs": [],
   "source": [
    "def scheduleCourse(self, courses):\n",
    "    # write your code here\n",
    "    if courses == None or len(courses) == 0:\n",
    "        return 0\n",
    "    courses.sort(key = lambda x : x[1])\n",
    "    queue = []\n",
    "    time = 0\n",
    "    for i in xrange(len(courses)):\n",
    "        if time + courses[i][0] <= courses[i][1]:\n",
    "            time += courses[i][0]\n",
    "            heapq.heappush(queue, -courses[i][0])\n",
    "        elif queue and courses[i][0] < (-queue[0]):\n",
    "            time += courses[i][0] - (-queue[0])\n",
    "            heapq.heapreplace(queue, -courses[i][0])\n",
    "    return len(queue)"
   ]
  },
  {
   "cell_type": "markdown",
   "metadata": {},
   "source": [
    "task scheduler(hard)"
   ]
  },
  {
   "cell_type": "code",
   "execution_count": 5,
   "metadata": {
    "collapsed": true
   },
   "outputs": [],
   "source": [
    "def leastInterval(self, tasks, n):\n",
    "        \"\"\"\n",
    "        :type tasks: List[str]\n",
    "        :type n: int\n",
    "        :rtype: int\n",
    "        \"\"\"\n",
    " \n",
    "        \n",
    "        task_map = {}\n",
    "        for task in tasks:\n",
    "            task_map[task] = task_map.get(task, 0) + 1\n",
    "        tasks = sorted(task_map.itervalues(), reverse=True)\n",
    "        sum_tasks = sum(tasks)\n",
    "        max_val = tasks[0] - 1\n",
    "        idle_slots = max_val * n\n",
    "        for i in xrange(1, len(tasks)):\n",
    "            idle_slots -= min(tasks[i], max_val)\n",
    "            if idle_slots <= 0:\n",
    "                break\n",
    " \n",
    "        return idle_slots + sum_tasks if idle_slots >= 0 else sum_tasks"
   ]
  },
  {
   "cell_type": "markdown",
   "metadata": {},
   "source": [
    "valid BST:"
   ]
  },
  {
   "cell_type": "code",
   "execution_count": null,
   "metadata": {
    "collapsed": true
   },
   "outputs": [],
   "source": [
    "class Solution:\n",
    "    \"\"\"\n",
    "    @param root: The root of binary tree.\n",
    "    @return: True if the binary tree is BST, or false\n",
    "    \"\"\"\n",
    "    def isValidBST(self, root):\n",
    "        self.lastVal = None\n",
    "        self.isBST = True\n",
    "        self.validate(root)\n",
    "        return self.isBST\n",
    "\n",
    "    def validate(self, root):\n",
    "        if root is None:\n",
    "            return\n",
    "        self.validate(root.left)\n",
    "        if self.lastVal is not None and self.lastVal >= root.val:\n",
    "            self.isBST = False\n",
    "            return\n",
    "        self.lastVal = root.val\n",
    "        self.validate(root.right)"
   ]
  },
  {
   "cell_type": "code",
   "execution_count": null,
   "metadata": {
    "collapsed": true
   },
   "outputs": [],
   "source": [
    "class Solution:\n",
    "    \"\"\"\n",
    "    @param root: The root of binary tree.\n",
    "    @return: True if the binary tree is BST, or false\n",
    "    \"\"\"\n",
    "    def isValidBST(self, root):\n",
    "        MAX = sys.maxsize\n",
    "        MIN = -sys.maxsize-1\n",
    "        return self.dfs(root,MIN,MAX)\n",
    "    \n",
    "    def dfs(self, root,MIN,MAX):\n",
    "        # write your code here\n",
    "        if root is None:\n",
    "            return True\n",
    "        if root.val >=MAX or root.val <= MIN:\n",
    "            return False \n",
    "        \n",
    "        return self.dfs(root.left,MIN,root.val) and self.dfs(root.right,root.val,MAX)"
   ]
  },
  {
   "cell_type": "markdown",
   "metadata": {},
   "source": [
    "graph valid tree\n",
    "\n",
    "a tree is an undirected graph in which any two vertices are connected by exactly one path. In other words, any connected graph without simple cycles is a tree"
   ]
  },
  {
   "cell_type": "markdown",
   "metadata": {},
   "source": [
    "Union Find (medium)"
   ]
  },
  {
   "cell_type": "code",
   "execution_count": null,
   "metadata": {
    "collapsed": true
   },
   "outputs": [],
   "source": [
    "class Solution:\n",
    "    def validTree(self,n,edges):\n",
    "        if n -1 != len(edges): # check if no loop\n",
    "            return False\n",
    "        self.father = {i:i for i in range(n)}\n",
    "        self.size = n\n",
    "        for a,b in edges:\n",
    "            self.union(a,b)\n",
    "        return self.size==1\n",
    "    def union(self, a, b):\n",
    "        root_a = self.find(a)\n",
    "        root_b = self.find(b)\n",
    "        if root_a != root_b:\n",
    "            self.size -=1 \n",
    "            self.father[root_a] = root_b\n",
    "    def find(self,node):\n",
    "        path = []\n",
    "        while node != self.father[node]:\n",
    "            path.append(node)\n",
    "            node = self.father[node]\n",
    "        for n in path:\n",
    "            self.father[n] = node\n",
    "        return node"
   ]
  },
  {
   "cell_type": "markdown",
   "metadata": {},
   "source": [
    "BFS (medium)"
   ]
  },
  {
   "cell_type": "code",
   "execution_count": 103,
   "metadata": {
    "collapsed": true
   },
   "outputs": [],
   "source": [
    "def validTree(self, n, edges):\n",
    "        # write your code here\n",
    "        if n == 0:\n",
    "            return False\n",
    "        if len(edges) != n-1:\n",
    "            return False\n",
    "        g = {}\n",
    "        for e in edges:\n",
    "            g[e[0]] = g.get(e[0], []) + [e[1]]\n",
    "            g[e[1]] = g.get(e[1], []) + [e[0]]\n",
    "        q = [0]\n",
    "        visited = set([0])\n",
    "        while q:\n",
    "            node = q.pop(0)\n",
    "            for i in g.get(node, []):\n",
    "                if i in visited:\n",
    "                    continue\n",
    "                q.append(i)\n",
    "                visited.add(i)\n",
    "        return len(visited) == n"
   ]
  },
  {
   "cell_type": "markdown",
   "metadata": {},
   "source": [
    "Clone graph"
   ]
  },
  {
   "cell_type": "code",
   "execution_count": 104,
   "metadata": {
    "collapsed": true
   },
   "outputs": [],
   "source": [
    "class Solution:\n",
    "    \n",
    "    def cloneGraph(self,node):\n",
    "        root = node\n",
    "        if node is None:\n",
    "            return node\n",
    "        nodes = self.getNodes(node)#bfs traverse\n",
    "        mapping = {}\n",
    "        for node in nodes:\n",
    "            mapping[node] = UndirectedGraphNode(node.label)\n",
    "        \n",
    "        for node in nodes:\n",
    "            new_node = mapping[node]\n",
    "            for neighbor in node.neighbors:\n",
    "                new_neighbor = mapping[neighbor]\n",
    "                new_node.neighbor.append(new_neighbor)\n",
    "        return mapping[root]\n",
    "    def getNodes(self,node):\n",
    "        q = deque([node])\n",
    "        result = set([node])\n",
    "        while q:\n",
    "            head = q.popleft()\n",
    "            for neighbor in head.neighbors:\n",
    "                if neighbor not in result:\n",
    "                    result.add(neighbor)\n",
    "                    q.append(neighbor)\n",
    "        return result"
   ]
  },
  {
   "cell_type": "markdown",
   "metadata": {},
   "source": [
    "prefix tree"
   ]
  },
  {
   "cell_type": "code",
   "execution_count": 105,
   "metadata": {
    "collapsed": true
   },
   "outputs": [],
   "source": [
    "class TrieNode():\n",
    "    def __init__(self):\n",
    "        self.children = {}\n",
    "        self.is_word = False\n",
    "class Trie:\n",
    "    def __init__(self):\n",
    "        self.root = TrieNode()\n",
    "    def insert(self,word):\n",
    "        node = self.root\n",
    "        for ch in word:\n",
    "            if ch not in root.children:\n",
    "                node.children[ch] = TrieNode()\n",
    "            node = node.children[ch]\n",
    "        node.is_word = True\n",
    "            \n",
    "    def find(self,word):\n",
    "        node = self.root\n",
    "        for ch in word:\n",
    "            if ch not in node.children:\n",
    "                return None\n",
    "            node = node.children[ch]\n",
    "        return node\n",
    "    def search(self,word):\n",
    "        node = self.find(word)\n",
    "        return node is not None and node.is_word\n",
    "            \n",
    "    def startwith(self,prefix):\n",
    "        return self.find(prefix) is not None\n",
    "        "
   ]
  },
  {
   "cell_type": "markdown",
   "metadata": {},
   "source": []
  },
  {
   "cell_type": "code",
   "execution_count": null,
   "metadata": {
    "collapsed": true
   },
   "outputs": [],
   "source": []
  },
  {
   "cell_type": "markdown",
   "metadata": {},
   "source": [
    "word ladder(easy)"
   ]
  },
  {
   "cell_type": "code",
   "execution_count": null,
   "metadata": {
    "collapsed": true
   },
   "outputs": [],
   "source": [
    "import collections\n",
    "\n",
    "class Solution:\n",
    "    # @param start, a string\n",
    "    # @param end, a string\n",
    "    # @param dict, a set of string\n",
    "    # @return an integer\n",
    "    def ladderLength(self, start, end, dict):\n",
    "        # write your code here\n",
    "        dict.add(end)\n",
    "        wordLen = len(start)\n",
    "        queue = collections.deque([(start, 1)])\n",
    "        while queue:\n",
    "            curr = queue.popleft()\n",
    "            currWord = curr[0]; currLen = curr[1]\n",
    "            if currWord == end: return currLen\n",
    "            for i in range(wordLen):\n",
    "                part1 = currWord[:i]; part2 = currWord[i+1:]\n",
    "                for j in 'abcdefghijklmnopqrstuvwxyz':\n",
    "                    if currWord[i] != j:\n",
    "                        nextWord = part1 + j + part2\n",
    "                        if nextWord in dict:\n",
    "                            queue.append((nextWord, currLen + 1))\n",
    "                            dict.remove(nextWord)\n",
    "        return 0"
   ]
  },
  {
   "cell_type": "markdown",
   "metadata": {},
   "source": [
    "Populating Next Right Pointers in Each Node(hard)"
   ]
  },
  {
   "cell_type": "code",
   "execution_count": 106,
   "metadata": {
    "collapsed": true
   },
   "outputs": [],
   "source": [
    "def connect(root):\n",
    "    if not root:\n",
    "        return\n",
    "    rec(root)\n",
    "    def rec(root):\n",
    "        if not root:\n",
    "            return\n",
    "        if root.left:\n",
    "            root.left.next = root.right\n",
    "        if root.right:\n",
    "            root.right.next = root.next.left\n",
    "        rec(root.left)\n",
    "        rec(root.right)"
   ]
  },
  {
   "cell_type": "code",
   "execution_count": null,
   "metadata": {
    "collapsed": true
   },
   "outputs": [],
   "source": [
    "def connect(root):\n",
    "    if not root:\n",
    "        return\n",
    "    leftend = root\n",
    "    while leftend and leftend.left:\n",
    "        cur = leftend\n",
    "        while cur:\n",
    "            cur.left.next = cur.right\n",
    "            cur.right.next = cur.next.left if cur.next is not None else None\n",
    "            cur = cur.next\n",
    "        leftend = leftend.left"
   ]
  },
  {
   "cell_type": "markdown",
   "metadata": {},
   "source": [
    "Populating Next Right Pointers in Each Node II (any binary tree) (hard)"
   ]
  },
  {
   "cell_type": "code",
   "execution_count": null,
   "metadata": {
    "collapsed": true
   },
   "outputs": [],
   "source": [
    "def connect(root):\n",
    "    if not root:\n",
    "        return\n",
    "    parent = root\n",
    "    root.next = None\n",
    "    while parent is not Nonne:\n",
    "        last,first = None,None\n",
    "        while parent is not None:\n",
    "            for node in [parent.left,parent.right]:\n",
    "                if node is None:\n",
    "                    continue\n",
    "                if last is not None:\n",
    "                    last.next = node\n",
    "                else:\n",
    "                    first = node\n",
    "                last = node\n",
    "            parent = parent.next\n",
    "        parent = first\n",
    "    return root"
   ]
  },
  {
   "cell_type": "code",
   "execution_count": null,
   "metadata": {
    "collapsed": true
   },
   "outputs": [],
   "source": [
    "def connect(root):\n",
    "    if not root:\n",
    "        return\n",
    "    leftend = root\n",
    "    while leftend:\n",
    "        cur = leftend\n",
    "        dummy = Node()\n",
    "        pre = dummy\n",
    "        while cur:\n",
    "            if cur.left:\n",
    "                pre.next = cur.left\n",
    "                pre = cur.left\n",
    "            if cur.right:\n",
    "                pre.next = cur.right\n",
    "                pre = cur.right\n",
    "            cur = cur.next\n",
    "        leftend = dummy.next"
   ]
  },
  {
   "cell_type": "code",
   "execution_count": null,
   "metadata": {
    "collapsed": true
   },
   "outputs": [],
   "source": [
    "class Solution:\n",
    "    def _connect(self, prev, curt):\n",
    "        if prev is not None:\n",
    "            prev.next = curt\n",
    "        \n",
    "    # @param root, a tree link node\n",
    "    # @return nothing\n",
    "    def connect(self, root):\n",
    "        if root is None:\n",
    "            return\n",
    "        \n",
    "        parent = root\n",
    "        root.next = None\n",
    "        while parent is not None:\n",
    "            last, first = None, None\n",
    "            while parent is not None:\n",
    "                for node in [parent.left, parent.right]:\n",
    "                    if node is None:\n",
    "                        continue\n",
    "                    self._connect(last, node)\n",
    "                    if last is None:\n",
    "                        first = node\n",
    "                    last = node\n",
    "                parent = parent.next\n",
    "            parent = first"
   ]
  },
  {
   "cell_type": "markdown",
   "metadata": {},
   "source": [
    "BST iterator (medium)"
   ]
  },
  {
   "cell_type": "code",
   "execution_count": null,
   "metadata": {
    "collapsed": true
   },
   "outputs": [],
   "source": [
    "\"\"\"\n",
    "Definition of TreeNode:\n",
    "class TreeNode:\n",
    "    def __init__(self, val):\n",
    "        self.val = val\n",
    "        self.left, self.right = None, None\n",
    "\n",
    "Example of iterate a tree:\n",
    "iterator = BSTIterator(root)\n",
    "while iterator.hasNext():\n",
    "    node = iterator.next()\n",
    "    do something for node \n",
    "\"\"\"\n",
    "class BSTIterator:\n",
    "    def __init__(self, root):\n",
    "        self.stack = []\n",
    "        while root != None:\n",
    "            self.stack.append(root)\n",
    "            root = root.left\n",
    "\n",
    "    \"\"\"\n",
    "    @return: True if there has next node, or false\n",
    "    \"\"\"\n",
    "    def hasNext(self):\n",
    "        return len(self.stack) > 0\n",
    "\n",
    "    \"\"\"\n",
    "    @return: return next node\n",
    "    \"\"\"\n",
    "    def next(self):\n",
    "        node = self.stack[-1]\n",
    "        if node.right is not None:\n",
    "            n = node.right\n",
    "            while n != None:\n",
    "                self.stack.append(n)\n",
    "                n = n.left\n",
    "        else:\n",
    "            n = self.stack.pop()\n",
    "            while self.stack and self.stack[-1].right == n: # till the node is left child\n",
    "                n = self.stack.pop()\n",
    "        \n",
    "        return node"
   ]
  },
  {
   "cell_type": "markdown",
   "metadata": {},
   "source": [
    "Linked list"
   ]
  },
  {
   "cell_type": "markdown",
   "metadata": {},
   "source": [
    "reversed linked list"
   ]
  },
  {
   "cell_type": "markdown",
   "metadata": {},
   "source": [
    "Iteratively"
   ]
  },
  {
   "cell_type": "code",
   "execution_count": 111,
   "metadata": {
    "collapsed": true
   },
   "outputs": [],
   "source": [
    "def reverselist(head):\n",
    "    if head is None or not head:\n",
    "        return None\n",
    "    dummy = Node()\n",
    "    dummy.next = head\n",
    "    while head.next:\n",
    "        temp = head.next\n",
    "        head.next = head.next.next\n",
    "        temp.next = dummy.next\n",
    "        dummy.next = temp\n",
    "        "
   ]
  },
  {
   "cell_type": "markdown",
   "metadata": {},
   "source": [
    "Recursively"
   ]
  },
  {
   "cell_type": "code",
   "execution_count": 112,
   "metadata": {
    "collapsed": true
   },
   "outputs": [],
   "source": [
    "def reverselist(node):\n",
    "    if not node or not node.next:\n",
    "        return node\n",
    "    next = node.next\n",
    "    head = reverselist(next)\n",
    "    next.next = node\n",
    "    node.next = None\n",
    "    return head"
   ]
  },
  {
   "cell_type": "markdown",
   "metadata": {},
   "source": [
    "palindromed linked list"
   ]
  },
  {
   "cell_type": "code",
   "execution_count": null,
   "metadata": {
    "collapsed": true
   },
   "outputs": [],
   "source": [
    "def ispalindrome(head):\n",
    "    if head is None:\n",
    "        return None\n",
    "    p1,p2,p3 = head,head,p1.next\n",
    "    #find mid pointer and reverse head half part\n",
    "    while p2.next is not None and p2.next.next is not None:\n",
    "        p2 = p2.next.next\n",
    "        pre = p1\n",
    "        p1 = p3\n",
    "        p3 = p3.next\n",
    "        p1.next = pre\n",
    "    # if odd:\n",
    "    if p2.next is None:\n",
    "        p1 = p1.next\n",
    "    # compare from mid:\n",
    "    while p3 is not None:\n",
    "        if p1.val != p3.val:\n",
    "            return False\n",
    "        p1 = p1.next\n",
    "        p3 = p3.next\n",
    "    return True"
   ]
  },
  {
   "cell_type": "markdown",
   "metadata": {},
   "source": [
    "reverse nodes in K-group"
   ]
  },
  {
   "cell_type": "code",
   "execution_count": null,
   "metadata": {
    "collapsed": true
   },
   "outputs": [],
   "source": [
    "class Solution:\n",
    "    # @param head, a ListNode\n",
    "    # @param k, an integer\n",
    "    # @return a ListNode\n",
    "    def reverse(self, start, end):\n",
    "        # Write your code here\n",
    "        newhead=ListNode(0); newhead.next=start\n",
    "        while newhead.next!=end:\n",
    "            tmp=start.next\n",
    "            start.next=tmp.next\n",
    "            tmp.next=newhead.next\n",
    "            newhead.next=tmp\n",
    "        return [end, start]\n",
    "    def reverseKGroup(self, head, k):\n",
    "        if head==None: return None\n",
    "        nhead=ListNode(0); nhead.next=head; start=nhead\n",
    "        while start.next:\n",
    "            end=start\n",
    "            for i in range(k-1):\n",
    "                end=end.next\n",
    "                if end.next==None: return nhead.next\n",
    "            res=self.reverse(start.next, end.next)\n",
    "            start.next=res[0]\n",
    "            start=res[1]\n",
    "        return nhead.next"
   ]
  },
  {
   "cell_type": "markdown",
   "metadata": {},
   "source": [
    "602.Russian Doll Envelopes(Hard)"
   ]
  },
  {
   "cell_type": "code",
   "execution_count": null,
   "metadata": {
    "collapsed": true
   },
   "outputs": [],
   "source": [
    "#relate to longest increasing subsequence problem"
   ]
  },
  {
   "cell_type": "code",
   "execution_count": 8,
   "metadata": {
    "collapsed": true
   },
   "outputs": [],
   "source": [
    "def maxEnvelopes(envelopes):\n",
    "    # Write your code here\n",
    "    height = [a[1] for a in sorted(envelopes, key = lambda x: (x[0], -x[1]))]\n",
    "    dp, length = [0] * len(height), 0\n",
    "    #return height\n",
    "    # This is basically LIS problem \n",
    "    import bisect\n",
    "    for h in height:\n",
    "        i = bisect.bisect_left(dp, h, 0, length)\n",
    "        dp[i] = h\n",
    "        print(dp)\n",
    "        if i == length:\n",
    "            length += 1\n",
    "    return length"
   ]
  },
  {
   "cell_type": "code",
   "execution_count": 10,
   "metadata": {},
   "outputs": [
    {
     "name": "stdout",
     "output_type": "stream",
     "text": [
      "[3, 0, 0, 0, 0]\n",
      "[3, 4, 0, 0, 0]\n",
      "[3, 4, 7, 0, 0]\n",
      "[3, 4, 7, 0, 0]\n",
      "[3, 4, 7, 8, 0]\n"
     ]
    },
    {
     "data": {
      "text/plain": [
       "4"
      ]
     },
     "execution_count": 10,
     "metadata": {},
     "output_type": "execute_result"
    }
   ],
   "source": [
    "envelopes = [[5,4],[6,4],[6,7],[2,3],[7,8]]\n",
    "maxEnvelopes(envelopes)"
   ]
  },
  {
   "cell_type": "markdown",
   "metadata": {},
   "source": [
    "Largest rectangle in Histogram (Hard)"
   ]
  },
  {
   "cell_type": "markdown",
   "metadata": {},
   "source": [
    "首先要明确单调栈能解决什么样的问题：单调栈能够在O(N)时间内找到每一个元素的左边第一个比它小的数的位置和右边第一个比它小的数的位置。所以最大矩形问题适合用单调栈来解决；"
   ]
  },
  {
   "cell_type": "code",
   "execution_count": 20,
   "metadata": {
    "collapsed": true
   },
   "outputs": [],
   "source": [
    "class Solution:\n",
    "    \"\"\"\n",
    "    @param height: A list of integer\n",
    "    @return: The area of largest rectangle in the histogram\n",
    "    \"\"\"\n",
    "    def largestRectangleArea(self, heights):\n",
    "        indices_stack = []\n",
    "        area = 0\n",
    "        for index, height in enumerate(heights + [-1]): # at last, pop all the elements in the stack\n",
    "            while indices_stack and heights[indices_stack[-1]] >= height:\n",
    "                popped_index = indices_stack.pop()\n",
    "                left_index = indices_stack[-1] if indices_stack else -1\n",
    "                width = index - left_index - 1\n",
    "                print('left_index:',left_index, ' right_index:',index)\n",
    "                area = max(area, width * heights[popped_index])\n",
    "                print(indices_stack)\n",
    "                \n",
    "            indices_stack.append(index)\n",
    "            print(indices_stack)\n",
    "        return area"
   ]
  },
  {
   "cell_type": "code",
   "execution_count": 21,
   "metadata": {
    "collapsed": true
   },
   "outputs": [
    {
     "name": "stdout",
     "output_type": "stream",
     "text": [
      "[0]\n",
      "left_index: -1  right_index: 1\n",
      "[]\n",
      "[1]\n",
      "[1, 2]\n",
      "[1, 2, 3]\n",
      "left_index: 2  right_index: 4\n",
      "[1, 2]\n",
      "left_index: 1  right_index: 4\n",
      "[1]\n",
      "[1, 4]\n",
      "[1, 4, 5]\n",
      "left_index: 4  right_index: 6\n",
      "[1, 4]\n",
      "left_index: 1  right_index: 6\n",
      "[1]\n",
      "left_index: -1  right_index: 6\n",
      "[]\n",
      "[6]\n"
     ]
    },
    {
     "data": {
      "text/plain": [
       "10"
      ]
     },
     "execution_count": 21,
     "metadata": {},
     "output_type": "execute_result"
    }
   ],
   "source": [
    "s = Solution()\n",
    "s.largestRectangleArea([2,1,5,6,2,3])"
   ]
  },
  {
   "cell_type": "markdown",
   "metadata": {},
   "source": [
    "Maximal Rectangle "
   ]
  },
  {
   "cell_type": "markdown",
   "metadata": {},
   "source": [
    "for each row, use it as landscape and calculate the maximium histogram(use function above)"
   ]
  },
  {
   "cell_type": "code",
   "execution_count": 23,
   "metadata": {
    "collapsed": true
   },
   "outputs": [],
   "source": [
    "class Solution:\n",
    "    \"\"\"\n",
    "    @param matrix: a boolean 2D matrix\n",
    "    @return: an integer\n",
    "    \"\"\"\n",
    "    def maximalRectangle(self, matrix):\n",
    "        if not matrix:\n",
    "            return 0\n",
    "            \n",
    "        max_rectangle = 0\n",
    "        heights = [0] * len(matrix[0])\n",
    "        for row in matrix:\n",
    "            for index, num in enumerate(row):\n",
    "                heights[index] = heights[index] + 1 if num else 0\n",
    "            max_rectangle = max(\n",
    "                max_rectangle,\n",
    "                self.largestRectangleArea(heights),\n",
    "            )\n",
    "\n",
    "        return max_rectangle\n",
    "    "
   ]
  },
  {
   "cell_type": "markdown",
   "metadata": {},
   "source": [
    "Text justification"
   ]
  },
  {
   "cell_type": "markdown",
   "metadata": {},
   "source": [
    "reverse nodes in k-group (hard)"
   ]
  },
  {
   "cell_type": "code",
   "execution_count": 25,
   "metadata": {
    "collapsed": true
   },
   "outputs": [],
   "source": [
    "def reverse(start,end):\n",
    "    head = ListNode(0)\n",
    "    head.next = start\n",
    "    while head.next != end:\n",
    "        tmp = start.next\n",
    "        start.next = tmp.next\n",
    "        head.next = tmp\n",
    "        tmp.next = head.next\n",
    "        \n",
    "    return [end,start]\n",
    "def reverseKGroup(self, head, k):\n",
    "    if head==None: return None\n",
    "    nhead=ListNode(0); nhead.next=head; start=nhead\n",
    "    while start.next:\n",
    "        end=start\n",
    "        for i in range(k-1):\n",
    "            end=end.next\n",
    "            if end.next==None: return nhead.next\n",
    "        res=self.reverse(start.next, end.next)\n",
    "        start.next=res[0]\n",
    "        start=res[1]\n",
    "    return nhead.next"
   ]
  },
  {
   "cell_type": "markdown",
   "metadata": {},
   "source": [
    "paint house II(hard)?\n",
    "https://www.jiuzhang.com/solution/paint-house-ii/#tag-other-lang-python\n",
    "    "
   ]
  },
  {
   "cell_type": "markdown",
   "metadata": {},
   "source": [
    "做法类似第一题，设置二维dp[][]\n",
    "\n",
    "dp[i][j] = dp[i-1][x] + costs[i][j], 而这里的x 就是除了j 之外最小的dp[i-1][x]\n",
    "\n",
    "那么在每轮进行内循环之前，先找到上一轮的最小值和次小值，可知只有一个颜色会和最小值的index相同，那么就给这个数用次小值，其他用最小值就行\n",
    "\n",
    "我建了一个class来找最小和次小，区分在于他们的index\n"
   ]
  },
  {
   "cell_type": "code",
   "execution_count": 2,
   "metadata": {
    "collapsed": true
   },
   "outputs": [],
   "source": [
    "class Solution:\n",
    "    \"\"\"\n",
    "    @param: costs: n x k cost matrix\n",
    "    @return: an integer, the minimum cost to paint all houses\n",
    "    \"\"\"\n",
    "    def minCostII(self, costs):\n",
    "        # write your code here\n",
    "        \n",
    "        # Trivial Cases\n",
    "        if costs is None or len(costs) == 0:\n",
    "            return 0\n",
    "        \n",
    "        # 初始化\n",
    "        k = len(costs[0])\n",
    "        n = len(costs)\n",
    "        \n",
    "        dp = [[0] * k for _ in range(n)]\n",
    "        \n",
    "        for i in range(k):\n",
    "            dp[0][i] = costs[0][i]\n",
    "        \n",
    "        for i in range(1,n):\n",
    "            firstmin = [0,100000000]\n",
    "            secondmin = [0,10000000]\n",
    "            \n",
    "            for l in range(k):\n",
    "                if dp[i-1][l] < firstmin[1]:\n",
    "                    firstmin[1] = dp[i-1][l]\n",
    "                    firstmin[0] = l\n",
    "                    \n",
    "            for l in range(k):\n",
    "                if l == firstmin[0]:\n",
    "                    continue\n",
    "                \n",
    "                if dp[i-1][l] < secondmin[1]:\n",
    "                    secondmin[1] = dp[i-1][l]\n",
    "                    secondmin[0] = l\n",
    "            for j in range(k):\n",
    "                if j !=firstmin[0]:\n",
    "                    dp[i][j] = firstmin[1] + costs[i][j]\n",
    "                else:\n",
    "                    dp[i][j] = secondmin[1] + costs[i][j]\n",
    "                \n",
    "        res = min(dp[n-1])\n",
    "        \n",
    "        return res"
   ]
  },
  {
   "cell_type": "markdown",
   "metadata": {},
   "source": [
    "general solution below:"
   ]
  },
  {
   "cell_type": "code",
   "execution_count": 3,
   "metadata": {
    "collapsed": true
   },
   "outputs": [],
   "source": [
    "class Solution(object):\n",
    "    def minCostII(self, costs):\n",
    "        \"\"\"\n",
    "        :type costs: List[List[int]]\n",
    "        :rtype: int\n",
    "        \"\"\"\n",
    "        if not costs or not costs[0]:\n",
    "            return 0\n",
    "        \n",
    "        n, k = len(costs), len(costs[0])\n",
    "        dp = [[0 for j in xrange(k)] for i in xrange(n)]\n",
    "        for j in xrange(k):\n",
    "            dp[0][j] = costs[0][j]\n",
    "        \n",
    "        for i in xrange(1, n):\n",
    "            leftmin = [2147483647] * k  # 从0 ~ i前一个房子涂色后最小的cost\n",
    "            rightmin = [2147483647] * k  # 从i ~ n - 1前一个房子涂色后最小的cost\n",
    "            \n",
    "            for j in xrange(k):\n",
    "                if j == 0:\n",
    "                    leftmin[j] = dp[i - 1][j]\n",
    "                else:\n",
    "                    leftmin[j] = min(leftmin[j - 1], dp[i - 1][j])\n",
    "                    \n",
    "            for j in xrange(k - 1, -1, -1):\n",
    "                if j == k - 1:\n",
    "                    rightmin[j] = dp[i - 1][j]\n",
    "                else:\n",
    "                    rightmin[j] = min(rightmin[j + 1], dp[i - 1][j])\n",
    "                \n",
    "            for j in xrange(k):\n",
    "                # 第i个房子要涂第j个颜色，它的最小cost = 当前房子i涂了j颜色的cost + min(前一个房子没有涂这个颜色的其他 k - 1个cost)\n",
    "                if j == 0:\n",
    "                    dp[i][j] = costs[i][j] + rightmin[j + 1]\n",
    "                elif j == k - 1:\n",
    "                    dp[i][j] = costs[i][j] + leftmin[j - 1]\n",
    "                else:\n",
    "                    dp[i][j] = costs[i][j] + min(leftmin[j - 1], rightmin[j + 1])\n",
    "            \n",
    "        res = 2147483647\n",
    "        for j in xrange(k):\n",
    "            res = min(res, dp[n - 1][j])\n",
    "        return res"
   ]
  },
  {
   "cell_type": "markdown",
   "metadata": {},
   "source": [
    " The Barycentre Of The Trees? https://www.jiuzhang.com/solution/the-barycentre-of-the-trees/#tag-highlight-lang-python"
   ]
  },
  {
   "cell_type": "markdown",
   "metadata": {},
   "source": [
    "WildCard matching"
   ]
  },
  {
   "cell_type": "code",
   "execution_count": 36,
   "metadata": {
    "collapsed": true
   },
   "outputs": [],
   "source": [
    "class Solution:\n",
    "    \"\"\"\n",
    "    @param s: A string \n",
    "    @param p: A string includes \"?\" and \"*\"\n",
    "    @return: is Match?\n",
    "    \"\"\"\n",
    "    def isMatch(self, source, pattern):\n",
    "        memo = {}\n",
    "        return self.is_match_helper(source, 0, pattern, 0, memo) # if source[i:] & pattern[j:] is matched\n",
    "    \n",
    "    def is_match_helper(self,source,i,pattern,j,memo):\n",
    "        if (i,j) in memo:\n",
    "            return memo[(i,j)]\n",
    "            # source is empty\n",
    "        if len(source) == i:\n",
    "            # every character should be \"*\"\n",
    "            for index in range(j, len(pattern)):\n",
    "                if pattern[index] != '*':\n",
    "                    return False\n",
    "            return True\n",
    "\n",
    "        if len(pattern) == j:\n",
    "            return False\n",
    "\n",
    "        if pattern[j] != '*':\n",
    "            matched = self.is_match_char(source[i], pattern[j]) and \\\n",
    "                      self.is_match_helper(source, i + 1, pattern, j + 1, memo)\n",
    "        else:\n",
    "            matched = self.is_match_helper(source, i + 1, pattern, j, memo) or \\\n",
    "                      self.is_match_helper(source, i, pattern, j + 1, memo)\n",
    "                #We can ignore ‘*’ character and move to next character in the Pattern.\n",
    "#‘*’ character matches with one or more characters in Text. Here we will move to next character in the string.\n",
    "\n",
    "        memo[(i,j)] = matched\n",
    "        return matched\n",
    "    def is_match_char(self,s,t):\n",
    "        return (s == t) or t=='?'\n",
    "        \n"
   ]
  },
  {
   "cell_type": "code",
   "execution_count": 38,
   "metadata": {},
   "outputs": [
    {
     "data": {
      "text/plain": [
       "True"
      ]
     },
     "execution_count": 38,
     "metadata": {},
     "output_type": "execute_result"
    }
   ],
   "source": [
    "s = Solution()\n",
    "s.isMatch('abc','*')"
   ]
  },
  {
   "cell_type": "markdown",
   "metadata": {},
   "source": [
    "# Dynamic programming"
   ]
  },
  {
   "cell_type": "markdown",
   "metadata": {},
   "source": [
    "decode ways"
   ]
  },
  {
   "cell_type": "code",
   "execution_count": null,
   "metadata": {
    "collapsed": true
   },
   "outputs": [],
   "source": [
    "def numdecoding(s):\n",
    "    if s is None or not s:\n",
    "        return 0\n",
    "    n = len(s)\n",
    "    dp = [0] * (n + 1)\n",
    "    dp[0] = 0 \n",
    "    dp[1] = 1 if s[0] != '0' else 0\n",
    "    for i in range(2,n+1):\n",
    "        first = int(s[i-1:i])\n",
    "        second = int(s[i-2:i])\n",
    "        if first >=1 and first <=9:\n",
    "            dp[i] += dp[i-1]\n",
    "        if second >=10 and second <=26:\n",
    "            dp[i] += dp[i-2]\n",
    "    return dp[n]"
   ]
  },
  {
   "cell_type": "markdown",
   "metadata": {},
   "source": [
    "Combination Sum IV"
   ]
  },
  {
   "cell_type": "code",
   "execution_count": 125,
   "metadata": {},
   "outputs": [
    {
     "data": {
      "text/plain": [
       "6"
      ]
     },
     "execution_count": 125,
     "metadata": {},
     "output_type": "execute_result"
    }
   ],
   "source": [
    "def combination_sum(nums,target):\n",
    "    dp = [0] * (target + 1)\n",
    "    dp[0] = 1\n",
    "    #dp[1] = 1\n",
    "    for i in range(1,target+1):\n",
    "        for num in nums:\n",
    "            if num <=i:\n",
    "                dp[i] += dp[i-num]\n",
    "    return dp[target]\n",
    "combination_sum([1,2,4],4)\n",
    "    "
   ]
  },
  {
   "cell_type": "markdown",
   "metadata": {},
   "source": [
    "Max square"
   ]
  },
  {
   "cell_type": "code",
   "execution_count": null,
   "metadata": {
    "collapsed": true
   },
   "outputs": [],
   "source": [
    "def maxSquare(self, matrix):\n",
    "    if not matrix or not matrix[0]:\n",
    "        return 0\n",
    "\n",
    "    n, m = len(matrix), len(matrix[0])\n",
    "\n",
    "    # intialization\n",
    "    f = [[0] * m for _ in range(n)]\n",
    "    for i in range(m):\n",
    "        f[0][i] = matrix[0][i]\n",
    "\n",
    "    edge = max(matrix[0])\n",
    "    for i in range(1, n):\n",
    "        f[i][0] = matrix[i][0]\n",
    "        for j in range(1, m):\n",
    "            if matrix[i][j]:\n",
    "                f[i][j] = min(f[i - 1][j], f[i][j - 1], f[i-1][j - 1]) + 1\n",
    "            else:\n",
    "                f[i][j] = 0\n",
    "        edge = max(edge, max(f[i]))\n",
    "\n",
    "    return edge * edge"
   ]
  },
  {
   "cell_type": "markdown",
   "metadata": {},
   "source": [
    "to save space: change n to 2"
   ]
  },
  {
   "cell_type": "code",
   "execution_count": 42,
   "metadata": {
    "collapsed": true
   },
   "outputs": [],
   "source": [
    "def maxSquare(self, matrix):\n",
    "    if not matrix or not matrix[0]:\n",
    "        return 0\n",
    "\n",
    "    n, m = len(matrix), len(matrix[0])\n",
    "\n",
    "    # intialization\n",
    "    f = [[0] * m, [0] * m]\n",
    "    for i in range(m):\n",
    "        f[0][i] = matrix[0][i]\n",
    "\n",
    "    edge = max(matrix[0])\n",
    "    for i in range(1, n):\n",
    "        f[i % 2][0] = matrix[i][0]\n",
    "        for j in range(1, m):\n",
    "            if matrix[i][j]:\n",
    "                f[i % 2][j] = min(f[(i - 1) % 2][j], f[i % 2][j - 1], f[(i - 1) % 2][j - 1]) + 1\n",
    "            else:\n",
    "                f[i % 2][j] = 0\n",
    "        edge = max(edge, max(f[i % 2]))\n",
    "\n",
    "    return edge * edge"
   ]
  },
  {
   "cell_type": "markdown",
   "metadata": {},
   "source": [
    "word break"
   ]
  },
  {
   "cell_type": "code",
   "execution_count": null,
   "metadata": {
    "collapsed": true
   },
   "outputs": [],
   "source": [
    "def wordBreak(self, s, dict_):\n",
    "    if len(dict) == 0:\n",
    "        return len(s) == 0\n",
    "\n",
    "    n = len(s)\n",
    "    f = [False] * (n + 1)\n",
    "    f[0] = True\n",
    "    maxLength = max([len(w) for w in dict])\n",
    "    for i in xrange(1, n + 1):\n",
    "        for j in range(1, min(i, maxLength) + 1):\n",
    "            if not f[i - j]:\n",
    "                continue\n",
    "            if s[i - j:i] in dict_:\n",
    "                f[i] = True\n",
    "                break\n",
    "        \n",
    "        return f[n]"
   ]
  },
  {
   "cell_type": "code",
   "execution_count": 110,
   "metadata": {},
   "outputs": [
    {
     "data": {
      "text/plain": [
       "{0: {0: 2}, 1: {1: 2}}"
      ]
     },
     "execution_count": 110,
     "metadata": {},
     "output_type": "execute_result"
    }
   ],
   "source": [
    "def compress(A):\n",
    "    ca = {}\n",
    "    for i in range(len(A)):\n",
    "        for j in range(len(A[i])):\n",
    "            if A[i][j] != 0:\n",
    "                ca.setdefault(i, {})[j] = A[i][j]\n",
    "    return ca\n",
    "compress([[2,0],[0,2]])"
   ]
  },
  {
   "cell_type": "markdown",
   "metadata": {},
   "source": [
    "Alien dictionary (medium)"
   ]
  },
  {
   "cell_type": "code",
   "execution_count": 51,
   "metadata": {
    "collapsed": true
   },
   "outputs": [],
   "source": [
    "from heapq import *\n",
    "class Solution:\n",
    "    \"\"\"\n",
    "    @param words: a list of words\n",
    "    @return: a string which is correct order\n",
    "    \"\"\"\n",
    "    def alienOrder(self, words):\n",
    "        # Construct Graph\n",
    "        in_degree = {ch: 0 for word in words for ch in word}\n",
    "        neighbors = {ch: [] for word in words for ch in word}\n",
    "        for pos in range(len(words) - 1):\n",
    "            for i in range(min(len(words[pos]), len(words[pos+1]))):\n",
    "                pre, next = words[pos][i], words[pos+1][i]\n",
    "                if pre != next:\n",
    "                    in_degree[next] += 1\n",
    "                    neighbors[pre].append(next)\n",
    "                    break\n",
    "        \n",
    "        # Topological Sort\n",
    "        heap = [ch for ch in in_degree if in_degree[ch] == 0]\n",
    "        heapify(heap)\n",
    "        order = []\n",
    "        while heap:\n",
    "            for _ in range(len(heap)):\n",
    "                ch = heappop(heap)\n",
    "                order.append(ch)\n",
    "                for child in neighbors[ch]:\n",
    "                    in_degree[child] -= 1\n",
    "                    if in_degree[child] == 0:\n",
    "                        heappush(heap, child)\n",
    "        \n",
    "        # order is invalid\n",
    "        if len(order) != len(in_degree):\n",
    "            return \"\"\n",
    "        return ''.join(order)"
   ]
  },
  {
   "cell_type": "code",
   "execution_count": 52,
   "metadata": {},
   "outputs": [
    {
     "data": {
      "text/plain": [
       "'wertf'"
      ]
     },
     "execution_count": 52,
     "metadata": {},
     "output_type": "execute_result"
    }
   ],
   "source": [
    "words =[\n",
    "  \"wrt\",\n",
    "  \"wrf\",\n",
    "  \"er\",\n",
    "  \"ett\",\n",
    "  \"rftt\"\n",
    "]\n",
    "s=Solution()\n",
    "s.alienOrder(words)"
   ]
  },
  {
   "cell_type": "markdown",
   "metadata": {},
   "source": [
    "Sliding window maximum(hard)"
   ]
  },
  {
   "cell_type": "code",
   "execution_count": 72,
   "metadata": {
    "collapsed": true
   },
   "outputs": [],
   "source": [
    "from collections import deque\n",
    "class Solution:\n",
    "    \"\"\"\n",
    "    @param nums: A list of integers.\n",
    "    @param k: An integer\n",
    "    @return: The maximum number inside the window at each moving.\n",
    "    \"\"\"\n",
    "    def maxSlidingWindow(self, nums, k):\n",
    "        # write your code here\n",
    "        if not nums or not k:\n",
    "            return []\n",
    "        \n",
    "        queue, ans = deque(), []\n",
    "        for i in range(k):\n",
    "            self.push(queue, nums, i)\n",
    "        ans.append(nums[queue[0]])\n",
    "        \n",
    "        for i in range(k, len(nums)):\n",
    "            if queue[0] == i - k:\n",
    "                queue.popleft()\n",
    "            self.push(queue, nums, i)\n",
    "            ans.append(nums[queue[0]])\n",
    "        return ans\n",
    "    \n",
    "    def push(self, queue, nums, index):\n",
    "        while queue and nums[queue[-1]] < nums[index]:\n",
    "            queue.pop()\n",
    "        queue.append(index)"
   ]
  },
  {
   "cell_type": "markdown",
   "metadata": {},
   "source": [
    "Skyline problem (Very hard)\n",
    "Can use divide-and-conquer algorithm O(nlogn)"
   ]
  },
  {
   "cell_type": "code",
   "execution_count": 75,
   "metadata": {
    "collapsed": true
   },
   "outputs": [],
   "source": [
    "class Solution: # we can also use heapq + removed, to avoid using hashheap\n",
    "    \"\"\"\n",
    "    @param buildings: A list of lists of integers\n",
    "    @return: Find the outline of those buildings\n",
    "    \"\"\"\n",
    "    def buildingOutline(self, buildings):\n",
    "        points = []\n",
    "        for index, (start, end, height) in enumerate(buildings):\n",
    "            points.append((start, height, index, True))\n",
    "            points.append((end, height, index, False))\n",
    "        points = sorted(points)\n",
    "        \n",
    "        maxheap = HashHeap(desc=True)\n",
    "        intervals = []\n",
    "        last_position = None\n",
    "        for position, height, index, is_start in points:\n",
    "            max_height = maxheap.top()[0] if maxheap.size else 0\n",
    "            self.merge_to(intervals, last_position, position, max_height)\n",
    "            if is_start:\n",
    "                maxheap.push((height, index))\n",
    "            else:\n",
    "                maxheap.remove((height, index))\n",
    "            last_position = position\n",
    "\n",
    "        return intervals\n",
    "        \n",
    "    def merge_to(self, intervals, start, end, height):\n",
    "        if start is None or height == 0 or start == end:\n",
    "            return\n",
    "        \n",
    "        if not intervals:\n",
    "            intervals.append([start, end, height])\n",
    "            return\n",
    "        \n",
    "        _, prev_end, prev_height = intervals[-1]\n",
    "        if prev_height == height and prev_end == start:\n",
    "            intervals[-1][1] = end\n",
    "            return\n",
    "        \n",
    "        intervals.append([start, end, height])"
   ]
  },
  {
   "cell_type": "markdown",
   "metadata": {},
   "source": [
    "使用九章算法强化班中讲到的 HashHeap。即一个 Hash + Heap。\n",
    "Hash 的 key 是 Heap 里的每个元素，值是这个元素在 Heap 中的下标。\n",
    "\n",
    "要做这个题首先需要先做一下 Data Stream Median。这个题是只在一个集合中增加数，不删除数，然后不断的求中点。\n",
    "Sliding Window Median，就是不断的增加数，删除数，然后求中点。比 Data Stream Median 难的地方就在于如何支持删除数。\n",
    "\n",
    "因为 Data Stream Median 的方法是用 两个 Heap，一个 max heap，一个min heap。所以删除的话，就需要让 heap 也支持删除操作。\n",
    "由于 Python 的 heapq 并不支持 logn 时间内的删除操作，因此只能自己实现一个 hash + heap 的方法。\n",
    "\n",
    "总体时间复杂度 O(nlogk)O(nlogk)，n是元素个数，k 是 window 的大小。"
   ]
  },
  {
   "cell_type": "code",
   "execution_count": 76,
   "metadata": {
    "collapsed": true
   },
   "outputs": [],
   "source": [
    "def getSkyline(self, buildings):\n",
    "    events = sorted([(L, -H, R) for L, R, H in buildings] + list({(R, 0, None) for _, R, _ in buildings}))\n",
    "    res, hp = [[0, 0]], [(0, float(\"inf\"))]\n",
    "    for x, negH, R in events:\n",
    "        while x >= hp[0][1]: \n",
    "            heapq.heappop(hp)\n",
    "        if negH: \n",
    "            heapq.heappush(hp, (negH, R))\n",
    "        if res[-1][1] + hp[0][0]: \n",
    "            res += [x, -hp[0][0]],\n",
    "    return res[1:]"
   ]
  },
  {
   "cell_type": "markdown",
   "metadata": {},
   "source": [
    "range sum query(segment tree)"
   ]
  },
  {
   "cell_type": "markdown",
   "metadata": {},
   "source": [
    "letter combination"
   ]
  },
  {
   "cell_type": "code",
   "execution_count": 1,
   "metadata": {
    "collapsed": true
   },
   "outputs": [],
   "source": [
    "KEYBOARD = {\n",
    "    '2': ['a','b','c'],\n",
    "    '3': ['d','e','f'],\n",
    "    '4': ['g','h','i'],\n",
    "    '5': ['j','k','l'],\n",
    "    '6': ['m','n','o'],\n",
    "    '7': ['p','q','r','s'],\n",
    "    '8': ['t','u','v'],\n",
    "    '9': ['w','x','y','z'],\n",
    "}\n",
    "class Solution():\n",
    "    def letterCombinations(self, digits):\n",
    "        if not digits:\n",
    "            return []\n",
    "            \n",
    "        results = []\n",
    "        self.dfs(digits, 0, '', results)\n",
    "        \n",
    "        return results \n",
    "    def dfs(self,digits,index,string,results):\n",
    "        if index == len(digits):\n",
    "            result.append(string)\n",
    "        for letter in KEYBOARD[digits[index]]:\n",
    "            dfs(digits,index+1,string + letter,result)"
   ]
  },
  {
   "cell_type": "markdown",
   "metadata": {},
   "source": [
    "Split m arrays"
   ]
  },
  {
   "cell_type": "code",
   "execution_count": null,
   "metadata": {
    "collapsed": true
   },
   "outputs": [],
   "source": [
    "\n",
    "class Solution:\n",
    "    \"\"\"\n",
    "    @param nums: a list of integers\n",
    "    @param m: an integer\n",
    "    @return: return a integer\n",
    "    \"\"\"\n",
    "    def splitArray(self, nums, m):\n",
    "        # write your code here\n",
    "        if not nums:\n",
    "            return 0\n",
    "        \n",
    "        n = len(nums)\n",
    "        start = max(nums)\n",
    "        end = sum(nums)\n",
    "        \n",
    "        while start + 1 < end:\n",
    "            largest_sum = (start + end) // 2 \n",
    "            if self.largest_sum_satisfy_m( nums, m, largest_sum ):\n",
    "                end = largest_sum\n",
    "            else:\n",
    "                start = largest_sum\n",
    "        \n",
    "        if self.largest_sum_satisfy_m( nums, m, start):\n",
    "            return start\n",
    "        return end\n",
    "        \n",
    "    def largest_sum_satisfy_m(self, nums, m, largest_sum):\n",
    "        num_of_sub = 0\n",
    "        curr_sum = 0\n",
    "        \n",
    "        for num in nums:\n",
    "            if curr_sum + num <= largest_sum:\n",
    "                curr_sum += num\n",
    "            else:\n",
    "                num_of_sub += 1 \n",
    "                curr_sum = num \n",
    "        num_of_sub += 1 \n",
    "        return num_of_sub <= m"
   ]
  },
  {
   "cell_type": "markdown",
   "metadata": {},
   "source": [
    "maximum sum of 3 non overlapping subarrays(hard)"
   ]
  },
  {
   "cell_type": "code",
   "execution_count": null,
   "metadata": {
    "collapsed": true
   },
   "outputs": [],
   "source": [
    "import math\n",
    "class Solution:\n",
    "    \"\"\"\n",
    "    @param nums: an array\n",
    "    @param k: an integer\n",
    "    @return: three non-overlapping subarrays with maximum sum\n",
    "    \"\"\"\n",
    "\n",
    "    def maxSumOfThreeSubarrays(self, nums, k):\n",
    "        # Write your code here\n",
    "        if not nums:\n",
    "            return []\n",
    "\n",
    "        n = len(nums)\n",
    "        prefix_sum = self.get_prefix_sum(nums)\n",
    "\n",
    "        largest_sum_end_in_from_left = [None] * n\n",
    "        largest_sum_start_in_from_right = [None] * n\n",
    "\n",
    "        max_sum = (None, None, None)\n",
    "        for end in range(k - 1, n):\n",
    "            start = end - k + 1\n",
    "            curr_sum = self.get_sum_from(start, end, prefix_sum)\n",
    "            if max_sum[0] is None or curr_sum > max_sum[0]:\n",
    "                max_sum = (curr_sum, start, end)\n",
    "            largest_sum_end_in_from_left[end] = max_sum\n",
    "\n",
    "        max_sum = (None, None, None)\n",
    "        for start in reversed(range(0, n - k + 1)):\n",
    "            end = start + k - 1\n",
    "            curr_sum = self.get_sum_from(start, end, prefix_sum)\n",
    "            if max_sum[0] is None or curr_sum > max_sum[0]:\n",
    "                max_sum = (curr_sum, start, end)\n",
    "            largest_sum_start_in_from_right[start] = max_sum\n",
    "\n",
    "        max_sum = -math.inf\n",
    "        result = []\n",
    "        for start in range(k, n - 2 * k + 1):\n",
    "            end = start + k - 1\n",
    "            mid_sum = self.get_sum_from(start, end, prefix_sum)\n",
    "            bef_sum = largest_sum_end_in_from_left[start - 1]\n",
    "            aft_sum = largest_sum_start_in_from_right[end + 1]\n",
    "            if mid_sum + bef_sum[0] + aft_sum[0] > max_sum:\n",
    "                result = [bef_sum[1], start, aft_sum[1]]\n",
    "                max_sum = mid_sum + bef_sum[0] + aft_sum[0]\n",
    "        return result\n",
    "\n",
    "    def get_sum_from(self, start, end, prefix_sum):\n",
    "        return prefix_sum[end + 1] - prefix_sum[start]\n",
    "\n",
    "    def get_prefix_sum(self, nums):\n",
    "        n = len(nums)\n",
    "        # ps[i] = sum of the first i numbers in nums\n",
    "        ps = [0] * (n + 1)\n",
    "\n",
    "        for i in range(1, n + 1):\n",
    "            ps[i] = ps[i - 1] + nums[i - 1]\n",
    "\n",
    "        return ps"
   ]
  },
  {
   "cell_type": "markdown",
   "metadata": {},
   "source": [
    "Expression Add Operators"
   ]
  },
  {
   "cell_type": "code",
   "execution_count": null,
   "metadata": {
    "collapsed": true
   },
   "outputs": [],
   "source": [
    "class Solution:\n",
    "    def addOperators(self, num, target):\n",
    "        result = []\n",
    "        self.dfs(num,target,0,\"\",0,0,result)\n",
    "        return result\n",
    "    \n",
    "    def dfs(self,num,target,start, str,sum, lastF,result) :\n",
    "        if len(num)== start:\n",
    "            if target == sum :\n",
    "                result.append(str)\n",
    "            return\n",
    "        x = 0\n",
    "        ret = \"\"\n",
    "        \n",
    "        for i in range(start,len(num)):\n",
    "            \n",
    "            x = x * 10 + int(num[i])\n",
    "            ret += num[i]\n",
    "            if start == 0 :\n",
    "                self.dfs(num, target, i+1, str+ret, x, x,result)\n",
    "            else:\n",
    "                self.dfs(num, target, i+1, str+\"*\"+ret, sum-lastF+x*lastF, x*lastF ,result)\n",
    "                self.dfs(num, target, i+1, str+\"+\"+ret, sum+x, x,result)\n",
    "                self.dfs(num, target, i+1, str+\"-\"+ret, sum-x, -x,result)\n",
    "            \n",
    "            if (x == 0):\n",
    "                break\n"
   ]
  },
  {
   "cell_type": "code",
   "execution_count": null,
   "metadata": {
    "collapsed": true
   },
   "outputs": [],
   "source": [
    "buf4"
   ]
  },
  {
   "cell_type": "code",
   "execution_count": null,
   "metadata": {
    "collapsed": true
   },
   "outputs": [],
   "source": [
    "class Solution(object):\n",
    "    def read(self, buf, n):\n",
    "        \"\"\"\n",
    "        :type buf: Destination buffer (List[str])\n",
    "        :type n: Maximum number of characters to read (int)\n",
    "        :rtype: The number of characters read (int)\n",
    "        \"\"\"\n",
    "        write = 0\n",
    "\n",
    "        tempBuf = [None] * 4\n",
    "        endReached = False\n",
    "        while write<n and not endReached:\n",
    "            thisSize = read4(tempBuf)\n",
    "            if thisSize<4:\n",
    "                endReached = True\n",
    "\n",
    "            for i in range(thisSize):\n",
    "                buf[write] = tempBuf[i]\n",
    "                write += 1\n",
    "                if write==n:\n",
    "                    break\n",
    "\n",
    "        return write"
   ]
  }
 ],
 "metadata": {
  "anaconda-cloud": {},
  "kernelspec": {
   "display_name": "Python [default]",
   "language": "python",
   "name": "python3"
  },
  "language_info": {
   "codemirror_mode": {
    "name": "ipython",
    "version": 3
   },
   "file_extension": ".py",
   "mimetype": "text/x-python",
   "name": "python",
   "nbconvert_exporter": "python",
   "pygments_lexer": "ipython3",
   "version": "3.5.4"
  }
 },
 "nbformat": 4,
 "nbformat_minor": 2
}
