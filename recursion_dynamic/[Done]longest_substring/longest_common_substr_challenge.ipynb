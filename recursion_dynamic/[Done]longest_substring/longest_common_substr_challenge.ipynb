{
 "cells": [
  {
   "cell_type": "markdown",
   "metadata": {},
   "source": [
    "This notebook was prepared by [Donne Martin](https://github.com/donnemartin). Source and license info is on [GitHub](https://github.com/donnemartin/interactive-coding-challenges)."
   ]
  },
  {
   "cell_type": "markdown",
   "metadata": {},
   "source": [
    "# Challenge Notebook"
   ]
  },
  {
   "cell_type": "markdown",
   "metadata": {},
   "source": [
    "## Problem: Given two strings, find the longest common substring.\n",
    "\n",
    "* [Constraints](#Constraints)\n",
    "* [Test Cases](#Test-Cases)\n",
    "* [Algorithm](#Algorithm)\n",
    "* [Code](#Code)\n",
    "* [Unit Test](#Unit-Test)\n",
    "* [Solution Notebook](#Solution-Notebook)"
   ]
  },
  {
   "cell_type": "markdown",
   "metadata": {},
   "source": [
    "## Constraints\n",
    "\n",
    "* Can we assume the inputs are valid?\n",
    "    * No\n",
    "* Can we assume the strings are ASCII?\n",
    "    * Yes\n",
    "* Is this case sensitive?\n",
    "    * Yes\n",
    "* Is a substring a contiguous block of chars?\n",
    "    * Yes\n",
    "* Do we expect a string as a result?\n",
    "    * Yes\n",
    "* Can we assume this fits memory?\n",
    "    * Yes"
   ]
  },
  {
   "cell_type": "markdown",
   "metadata": {},
   "source": [
    "## Test Cases\n",
    "\n",
    "* str0 or str1 is None -> Exception\n",
    "* str0 or str1 equals 0 -> ''\n",
    "* General case\n",
    "\n",
    "str0 = 'ABCDEFGHIJ'\n",
    "str1 = 'FOOBCDBCDE'\n",
    "\n",
    "result: 'BCDE'"
   ]
  },
  {
   "cell_type": "markdown",
   "metadata": {},
   "source": [
    "## Algorithm\n",
    "\n",
    "Refer to the [Solution Notebook]().  If you are stuck and need a hint, the solution notebook's algorithm discussion might be a good place to start."
   ]
  },
  {
   "cell_type": "markdown",
   "metadata": {},
   "source": [
    "## Code"
   ]
  },
  {
   "cell_type": "code",
   "execution_count": 31,
   "metadata": {},
   "outputs": [],
   "source": [
    "class StringCompare(object):\n",
    "\n",
    "    def longest_common_substr(self, str0, str1):\n",
    "        # TODO: Implement me\n",
    "        num_rows = len(str0) + 1\n",
    "        num_cols = len(str1) + 1\n",
    "        T = [[None] * num_cols for _ in range(num_rows)]\n",
    "        sofar = 0\n",
    "        end = (0,0)\n",
    "        for i in range(num_rows):\n",
    "            for j in range(num_cols):\n",
    "                if i == 0 or j == 0:\n",
    "                    T[i][j] = 0\n",
    "                elif str0[i-1] != str1[j-1]:\n",
    "                    T[i][j] = 0\n",
    "                else:\n",
    "                    T[i][j] = T[i-1][j-1] + 1\n",
    "                    if T[i][j]>sofar:\n",
    "                        sofar =  T[i][j]\n",
    "                        end = (i,j)\n",
    "        results = ''\n",
    "        i,j = end\n",
    "        # Walk backwards to determine the substring\n",
    "        while T[i][j]:\n",
    "            if T[i][j] == T[i][j-1]:\n",
    "                j -= 1\n",
    "            elif T[i][j] == T[i-1][j]:\n",
    "                i -= 1\n",
    "            elif T[i][j] == T[i-1][j-1] + 1:\n",
    "                results += str1[j-1]\n",
    "                i -= 1\n",
    "                j -= 1\n",
    "            else:\n",
    "                raise Exception('Error constructing table')\n",
    "        # Walking backwards results in a string in reverse order\n",
    "        return results[::-1] \n",
    "        #return T\n"
   ]
  },
  {
   "cell_type": "markdown",
   "metadata": {},
   "source": [
    "## Unit Test"
   ]
  },
  {
   "cell_type": "markdown",
   "metadata": {},
   "source": [
    "**The following unit test is expected to fail until you solve the challenge.**"
   ]
  },
  {
   "cell_type": "code",
   "execution_count": 32,
   "metadata": {},
   "outputs": [
    {
     "data": {
      "text/plain": [
       "'BCDE'"
      ]
     },
     "execution_count": 32,
     "metadata": {},
     "output_type": "execute_result"
    }
   ],
   "source": [
    "str_comp = StringCompare()\n",
    "str0 = 'ABCDEFGHIJ'\n",
    "str1 = 'FOOBCDBCDE'\n",
    "str_comp.longest_common_substr(str0, str1)"
   ]
  },
  {
   "cell_type": "code",
   "execution_count": 33,
   "metadata": {},
   "outputs": [
    {
     "name": "stdout",
     "output_type": "stream",
     "text": [
      "Success: test_longest_common_substr\n"
     ]
    }
   ],
   "source": [
    "# %load test_longest_common_substr.py\n",
    "from nose.tools import assert_equal, assert_raises\n",
    "\n",
    "\n",
    "class TestLongestCommonSubstr(object):\n",
    "\n",
    "    def test_longest_common_substr(self):\n",
    "        str_comp = StringCompare()\n",
    "        assert_raises(TypeError, str_comp.longest_common_substr, None, None)\n",
    "        assert_equal(str_comp.longest_common_substr('', ''), '')\n",
    "        str0 = 'ABCDEFGHIJ'\n",
    "        str1 = 'FOOBCDBCDE'\n",
    "        expected = 'BCDE'\n",
    "        assert_equal(str_comp.longest_common_substr(str0, str1), expected)\n",
    "        print('Success: test_longest_common_substr')\n",
    "\n",
    "\n",
    "def main():\n",
    "    test = TestLongestCommonSubstr()\n",
    "    test.test_longest_common_substr()\n",
    "\n",
    "\n",
    "if __name__ == '__main__':\n",
    "    main()"
   ]
  },
  {
   "cell_type": "markdown",
   "metadata": {},
   "source": [
    "## Solution Notebook\n",
    "\n",
    "Review the [Solution Notebook]() for a discussion on algorithms and code solutions."
   ]
  }
 ],
 "metadata": {
  "anaconda-cloud": {},
  "kernelspec": {
   "display_name": "Python [default]",
   "language": "python",
   "name": "python3"
  },
  "language_info": {
   "codemirror_mode": {
    "name": "ipython",
    "version": 3
   },
   "file_extension": ".py",
   "mimetype": "text/x-python",
   "name": "python",
   "nbconvert_exporter": "python",
   "pygments_lexer": "ipython3",
   "version": "3.5.4"
  }
 },
 "nbformat": 4,
 "nbformat_minor": 1
}
