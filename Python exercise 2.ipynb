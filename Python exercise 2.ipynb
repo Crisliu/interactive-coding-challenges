{
 "cells": [
  {
   "cell_type": "code",
   "execution_count": 1,
   "metadata": {
    "collapsed": true
   },
   "outputs": [],
   "source": [
    "import unittest\n",
    "class NamesTestCase(unittest.TestCase):\n",
    "    def test_first_last(self):\n",
    "        full_name = ...\n",
    "        self.assertEqaul()\n",
    "if __name__ == '__main__':\n",
    "    unittest.main()"
   ]
  },
  {
   "cell_type": "code",
   "execution_count": 3,
   "metadata": {},
   "outputs": [
    {
     "data": {
      "text/plain": [
       "100"
      ]
     },
     "execution_count": 3,
     "metadata": {},
     "output_type": "execute_result"
    }
   ],
   "source": [
    "class BankAccount:\n",
    "    def __init__(self):\n",
    "        self.balance = 0\n",
    "    def deposit(self,amount):\n",
    "        self.balance += amount\n",
    "        return self.balance\n",
    "    def withdraw(self,amount):\n",
    "        self.balance -= amount\n",
    "        return self.balance\n",
    "a = BankAccount()\n",
    "a.deposit(100)"
   ]
  },
  {
   "cell_type": "code",
   "execution_count": 5,
   "metadata": {
    "collapsed": true
   },
   "outputs": [],
   "source": [
    "class MinimumBalanceAccount(BankAccount):\n",
    "    def __init__(self,minimum_balance):\n",
    "        BankAccount.__init__(self)\n",
    "        self.minimum_balance = minimum_balance\n",
    "    def withdraw(self,amount):\n",
    "        if self.balance - amount < self.minimum_balance:\n",
    "            print('Sorry, minimum balance must be maintained.')\n",
    "        else:\n",
    "            BankAccount.withdraw(self, amount) "
   ]
  },
  {
   "cell_type": "code",
   "execution_count": 14,
   "metadata": {
    "collapsed": true
   },
   "outputs": [],
   "source": [
    "a = MinimumBalanceAccount(25)\n",
    "a.deposit(35)\n",
    "a.withdraw(10)"
   ]
  },
  {
   "cell_type": "code",
   "execution_count": 15,
   "metadata": {},
   "outputs": [
    {
     "name": "stdout",
     "output_type": "stream",
     "text": [
      "Sorry, minimum balance must be maintained.\n"
     ]
    }
   ],
   "source": [
    "a.withdraw(5)"
   ]
  },
  {
   "cell_type": "markdown",
   "metadata": {},
   "source": [
    "The try statement can have an optional else clause, which is executed only if no exception is raised in the try-block.\n",
    "There can be an optional finally clause with a try statement, which is executed irrespective of whether or not exception has occured."
   ]
  },
  {
   "cell_type": "code",
   "execution_count": 1,
   "metadata": {},
   "outputs": [
    {
     "name": "stdout",
     "output_type": "stream",
     "text": [
      "a\n",
      "c\n",
      "d\n"
     ]
    }
   ],
   "source": [
    "def f():\n",
    "    try:\n",
    "        print (\"a\")\n",
    "        #return \n",
    "    except:\n",
    "        print (\"b\")\n",
    "    else:\n",
    "        print (\"c\")\n",
    "    finally:\n",
    "        print (\"d\")\n",
    "f()"
   ]
  },
  {
   "cell_type": "code",
   "execution_count": 23,
   "metadata": {},
   "outputs": [],
   "source": [
    "sys.maxsize"
   ]
  },
  {
   "cell_type": "markdown",
   "metadata": {},
   "source": [
    "- How big is the size of the input?\n",
    "- How big is the range of values?\n",
    "- What kind of values are there? Are there negative numbers? Floating points? Will there be empty inputs?\n",
    "- Are there duplicates within the input?\n",
    "- What are some extreme cases of the input?\n",
    "- How is the input stored? If you are given a dictionary of words, is it a list of strings or a trie?"
   ]
  },
  {
   "cell_type": "markdown",
   "metadata": {},
   "source": [
    "https://wiki.python.org/moin/TimeComplexity"
   ]
  },
  {
   "cell_type": "code",
   "execution_count": 61,
   "metadata": {},
   "outputs": [
    {
     "data": {
      "text/plain": [
       "{'A', 'B', 'C', 'D', 'E', 'F'}"
      ]
     },
     "execution_count": 61,
     "metadata": {},
     "output_type": "execute_result"
    }
   ],
   "source": [
    "def dfs(graph, start):\n",
    "    visited, stack = set(), [start]\n",
    "    while stack:\n",
    "        vertex = stack.pop()\n",
    "        if vertex not in visited:\n",
    "            visited.add(vertex)\n",
    "            stack.extend(graph[vertex] - visited)\n",
    "    return visited\n",
    "\n",
    "\n",
    "dfs(graph, 'A') # {'E', 'D', 'F', 'A', 'C', 'B'}"
   ]
  },
  {
   "cell_type": "code",
   "execution_count": 63,
   "metadata": {},
   "outputs": [
    {
     "data": {
      "text/plain": [
       "{'A', 'B', 'C', 'D', 'E', 'F'}"
      ]
     },
     "execution_count": 63,
     "metadata": {},
     "output_type": "execute_result"
    }
   ],
   "source": [
    "def dfs(graph, start, visited=None):\n",
    "    if visited is None:\n",
    "        visited = set()\n",
    "    visited.add(start)\n",
    "    for next in graph[start] - visited:\n",
    "        dfs(graph, next, visited)\n",
    "    return visited\n",
    "\n",
    "dfs(graph, 'D') # {'E', 'D', 'F', 'A', 'C', 'B'}"
   ]
  },
  {
   "cell_type": "code",
   "execution_count": 64,
   "metadata": {},
   "outputs": [
    {
     "data": {
      "text/plain": [
       "[['A', 'B', 'E', 'F'], ['A', 'C', 'F']]"
      ]
     },
     "execution_count": 64,
     "metadata": {},
     "output_type": "execute_result"
    }
   ],
   "source": [
    "def dfs_paths(graph, start, goal):\n",
    "    stack = [(start, [start])]\n",
    "    while stack:\n",
    "        (vertex, path) = stack.pop()\n",
    "        for next in graph[vertex] - set(path):\n",
    "            if next == goal:\n",
    "                yield path + [next]\n",
    "            else:\n",
    "                stack.append((next, path + [next]))\n",
    "\n",
    "list(dfs_paths(graph, 'A', 'F')) # [['A', 'C', 'F'], ['A', 'B', 'E',"
   ]
  },
  {
   "cell_type": "markdown",
   "metadata": {},
   "source": [
    "add current node\n",
    "\n",
    "use a for loop to traverse all neighbor nodes\n",
    "\n",
    "add this node to result\n",
    "\n",
    "call recursive function on this node\n",
    "\n",
    "remove this node"
   ]
  },
  {
   "cell_type": "markdown",
   "metadata": {},
   "source": [
    "#BFS:\n",
    "This behavior guarantees that the first path located is one of the shortest-paths present, based on number of edges being the cost factor."
   ]
  },
  {
   "cell_type": "code",
   "execution_count": 65,
   "metadata": {},
   "outputs": [
    {
     "data": {
      "text/plain": [
       "{'A', 'B', 'C', 'D', 'E', 'F'}"
      ]
     },
     "execution_count": 65,
     "metadata": {},
     "output_type": "execute_result"
    }
   ],
   "source": [
    "def bfs(graph, start):\n",
    "    visited, queue = set(), [start]\n",
    "    while queue:\n",
    "        vertex = queue.pop(0)\n",
    "        if vertex not in visited:\n",
    "            visited.add(vertex)\n",
    "            queue.extend(graph[vertex] - visited)\n",
    "    return visited\n",
    "\n",
    "bfs(graph, 'A') # {'B', 'C', 'A', 'F', 'D', 'E'}"
   ]
  },
  {
   "cell_type": "code",
   "execution_count": 66,
   "metadata": {},
   "outputs": [
    {
     "data": {
      "text/plain": [
       "[['A', 'C', 'F'], ['A', 'B', 'E', 'F']]"
      ]
     },
     "execution_count": 66,
     "metadata": {},
     "output_type": "execute_result"
    }
   ],
   "source": [
    "def bfs_paths(graph, start, goal):\n",
    "    queue = [(start, [start])]\n",
    "    while queue:\n",
    "        (vertex, path) = queue.pop(0)\n",
    "        for next in graph[vertex] - set(path):\n",
    "            if next == goal:\n",
    "                yield path + [next]\n",
    "            else:\n",
    "                queue.append((next, path + [next]))\n",
    "\n",
    "list(bfs_paths(graph, 'A', 'F'))"
   ]
  },
  {
   "cell_type": "code",
   "execution_count": 67,
   "metadata": {},
   "outputs": [
    {
     "data": {
      "text/plain": [
       "['A', 'C', 'F']"
      ]
     },
     "execution_count": 67,
     "metadata": {},
     "output_type": "execute_result"
    }
   ],
   "source": [
    "def shortest_path(graph, start, goal):\n",
    "    try:\n",
    "        return next(bfs_paths(graph, start, goal))\n",
    "    except StopIteration:\n",
    "        return None\n",
    "\n",
    "shortest_path(graph, 'A', 'F') # ['A', 'C', 'F']"
   ]
  },
  {
   "cell_type": "code",
   "execution_count": 68,
   "metadata": {
    "collapsed": true
   },
   "outputs": [],
   "source": [
    "#Fibanacci\n",
    "def fib(n):\n",
    "   fibValues = [0,1]\n",
    "   for i in range(2,n+1):\n",
    "      fibValues.append(fibValues[i-1] + fibValues[i-2])\n",
    "   return fibValues[n]"
   ]
  },
  {
   "cell_type": "code",
   "execution_count": 69,
   "metadata": {
    "collapsed": true
   },
   "outputs": [],
   "source": [
    "fibTable = {1:1, 2:1}\n",
    "def fib(n):\n",
    "   if n <= 2:\n",
    "      return 1\n",
    "   if n in fibTable:\n",
    "      return fibTable[n]\n",
    "   else:\n",
    "      fibTable[n] = fib(n-1) + fib(n-2)\n",
    "      return fibTable[n]"
   ]
  },
  {
   "cell_type": "code",
   "execution_count": null,
   "metadata": {
    "collapsed": true
   },
   "outputs": [],
   "source": []
  },
  {
   "cell_type": "code",
   "execution_count": null,
   "metadata": {
    "collapsed": true
   },
   "outputs": [],
   "source": [
    "def coinChange(centsNeeded, coinValues):\n",
    "   minCoins = [[0 for j in range(centsNeeded + 1)]\n",
    "               for i in range(len(coinValues))]\n",
    "   minCoins[0] = range(centsNeeded + 1)\n",
    "\n",
    "   for i in range(1,len(coinValues)):\n",
    "      for j in range(0, centsNeeded + 1):\n",
    "         if j < coinValues[i]:\n",
    "            minCoins[i][j] = minCoins[i-1][j]\n",
    "         else:\n",
    "            minCoins[i][j] = min(minCoins[i-1][j],\n",
    "             1 + minCoins[i][j-coinValues[i]])\n",
    "\n",
    "   return minCoins[-1][-1]"
   ]
  },
  {
   "cell_type": "markdown",
   "metadata": {},
   "source": [
    "Longest common substring"
   ]
  },
  {
   "cell_type": "code",
   "execution_count": 5,
   "metadata": {},
   "outputs": [
    {
     "data": {
      "text/plain": [
       "'bc'"
      ]
     },
     "execution_count": 5,
     "metadata": {},
     "output_type": "execute_result"
    }
   ],
   "source": [
    "def longest_common_substring(s1, s2):\n",
    "   m = [[0] * (1 + len(s2)) for i in range(1 + len(s1))]\n",
    "   longest, x_longest = 0, 0\n",
    "   for x in range(1, 1 + len(s1)):\n",
    "       for y in range(1, 1 + len(s2)):\n",
    "           if s1[x - 1] == s2[y - 1]:\n",
    "               m[x][y] = m[x - 1][y - 1] + 1\n",
    "               if m[x][y] > longest:\n",
    "                   longest = m[x][y]\n",
    "                   x_longest = x\n",
    "           else:\n",
    "               m[x][y] = 0\n",
    "   return s1[x_longest - longest: x_longest]\n",
    "longest_common_substring('abc','bcd')"
   ]
  },
  {
   "cell_type": "code",
   "execution_count": 9,
   "metadata": {},
   "outputs": [
    {
     "data": {
      "text/plain": [
       "'bc'"
      ]
     },
     "execution_count": 9,
     "metadata": {},
     "output_type": "execute_result"
    }
   ],
   "source": [
    "def longest_common_substring(s1,s2):\n",
    "    m = [[0]* (len(s2) +1) for i in range(1+len(s1))]\n",
    "    \n",
    "    longest,x_longest = 0,0\n",
    "    for x in range(1,1+len(s1)):\n",
    "        for y in range(1,1+len(s2)):\n",
    "            if s1[x-1] == s2[y-1]:\n",
    "                m[x][y] = m[x-1][y-1]+1\n",
    "                if m[x][y] > longest:\n",
    "                    longest = m[x][y]\n",
    "                    x_longest = x\n",
    "            else:\n",
    "                m[x][y] = 0\n",
    "    return s1[x_longest - longest:x_longest]\n",
    "longest_common_substring('abc','bcd')"
   ]
  },
  {
   "cell_type": "code",
   "execution_count": 34,
   "metadata": {
    "collapsed": true
   },
   "outputs": [],
   "source": [
    "s = 35\n",
    "k = 5\n",
    "#s &= ~(1 << k)\n"
   ]
  },
  {
   "cell_type": "code",
   "execution_count": null,
   "metadata": {
    "collapsed": true
   },
   "outputs": [],
   "source": [
    "def traverse(matrix):\n",
    "    rows,cols = len(matrix),len(matrix[0])\n",
    "    visited = set()\n",
    "    directsion = [(0,1),(0,-1),(1,0),(-1,0)]\n",
    "    \n",
    "    for i in range(rows):\n",
    "        for j in range(cols):\n",
    "            dfs(i,j)\n",
    "            \n",
    "    def dfs(i,j):\n",
    "        if (i,j) in visited:\n",
    "            return\n",
    "        visited.add((i,j))\n",
    "        for direction in directions:\n",
    "            next_i,next_j = i + ..\n",
    "            dfs(next_i,next_j)"
   ]
  },
  {
   "cell_type": "code",
   "execution_count": null,
   "metadata": {
    "collapsed": true
   },
   "outputs": [],
   "source": [
    "def traverse(matrix):\n",
    "  rows, cols = len(matrix), len(matrix[0])\n",
    "  visited = set()\n",
    "  directions = ((0, 1), (0, -1), (1, 0), (-1, 0))\n",
    "\n",
    "  def dfs(i, j):\n",
    "        if (i, j) in visited:\n",
    "          return\n",
    "        visited.add((i, j))\n",
    "        # Traverse neighbors\n",
    "        for direction in directions:\n",
    "          next_i, next_j = i + direction[0], j + direction[1]\n",
    "          if 0 <= next_i < rows and 0 <= next_j < cols: # Check boundary\n",
    "            # Add any other checking here ^\n",
    "            dfs(next_i, next_j)\n",
    "  for i in range(rows):\n",
    "    for j in range(cols):\n",
    "      dfs(i, j)"
   ]
  },
  {
   "cell_type": "code",
   "execution_count": null,
   "metadata": {
    "collapsed": true
   },
   "outputs": [],
   "source": [
    "def is_overlap(a, b):\n",
    "  return a[0] < b[1] and b[0] < a[1]\n",
    "def merge_overlapping_intervals(a, b):\n",
    "  return [min(a[0], b[0]), max(a[1], b[1])]"
   ]
  },
  {
   "cell_type": "code",
   "execution_count": null,
   "metadata": {
    "collapsed": true
   },
   "outputs": [],
   "source": [
    "rows, cols = len(matrix), len(matrix[0])\n",
    "copy = [[0 for _ in range(cols)] for _ in range(rows)"
   ]
  },
  {
   "cell_type": "code",
   "execution_count": null,
   "metadata": {
    "collapsed": true
   },
   "outputs": [],
   "source": [
    "transposed_matrix = zip(*matrix)"
   ]
  },
  {
   "cell_type": "markdown",
   "metadata": {},
   "source": [
    "For substrings, you can terminate early once there is no match.\n",
    "For subsequences, use dynamic programming as there are overlapping subproblems. Check out this question."
   ]
  },
  {
   "cell_type": "code",
   "execution_count": null,
   "metadata": {
    "collapsed": true
   },
   "outputs": [],
   "source": [
    "arr, target = [1,2,3,4,5], 4\n",
    "start, end = 0, len(n)-1\n",
    "while start <= end:\n",
    "  mid = (start+end)/2\n",
    "  if arr[mid] == target:\n",
    "    return mid # The value is found\n",
    "  else:\n",
    "    if arr[mid] < target:\n",
    "      start = mid+1\n",
    "    else:\n",
    "      end = mid-1\n",
    "return -1 # The value is not found"
   ]
  },
  {
   "cell_type": "code",
   "execution_count": null,
   "metadata": {
    "collapsed": true
   },
   "outputs": [],
   "source": []
  },
  {
   "cell_type": "code",
   "execution_count": 53,
   "metadata": {
    "collapsed": true
   },
   "outputs": [],
   "source": [
    "class TreeNode(object):\n",
    "  def __init__(self,x):\n",
    "    self.val = x\n",
    "    self.left = None\n",
    "    self.right = None\n",
    "\n",
    "class ListNode(object):\n",
    "  def __init__(self,x):\n",
    "    self.val = x\n",
    "    self.next = None"
   ]
  },
  {
   "cell_type": "code",
   "execution_count": 15,
   "metadata": {
    "collapsed": true
   },
   "outputs": [],
   "source": [
    "from collections import Counter\n",
    "\n",
    "Counter('gallahad') \n",
    "c = Counter(['eggs', 'ham'])\n",
    "c['bacon'] \n",
    "c['sausage'] = 0  "
   ]
  },
  {
   "cell_type": "code",
   "execution_count": 35,
   "metadata": {},
   "outputs": [
    {
     "data": {
      "text/plain": [
       "False"
      ]
     },
     "execution_count": 35,
     "metadata": {},
     "output_type": "execute_result"
    }
   ],
   "source": [
    "Counter('gallahad')==Counter({'a': 3, 'd': 1, 'g': 1, 'h': 1, 'l': 2,'t':0})"
   ]
  },
  {
   "cell_type": "code",
   "execution_count": 11,
   "metadata": {},
   "outputs": [
    {
     "data": {
      "text/plain": [
       "dict_items([('blue', [2, 4]), ('yellow', [1, 3]), ('red', [1])])"
      ]
     },
     "execution_count": 11,
     "metadata": {},
     "output_type": "execute_result"
    }
   ],
   "source": [
    "from collections import defaultdict\n",
    "s = [('yellow', 1), ('blue', 2), ('yellow', 3), ('blue', 4), ('red', 1)]\n",
    "d = defaultdict(list)\n",
    "for k, v in s:\n",
    "     d[k].append(v)\n",
    "d.items()"
   ]
  },
  {
   "cell_type": "code",
   "execution_count": 26,
   "metadata": {
    "collapsed": true
   },
   "outputs": [],
   "source": [
    "from collections import OrderedDict\n",
    "# regular unsorted dictionary\n",
    "d = {'banana': 3, 'apple': 4, 'pear': 1, 'orange': 2}\n",
    "\n",
    "# dictionary sorted by key\n",
    "e = OrderedDict(sorted(d.items(), key=lambda t: t[0]))"
   ]
  },
  {
   "cell_type": "code",
   "execution_count": 72,
   "metadata": {},
   "outputs": [
    {
     "data": {
      "text/plain": [
       "28"
      ]
     },
     "execution_count": 72,
     "metadata": {},
     "output_type": "execute_result"
    }
   ],
   "source": [
    "30&29"
   ]
  },
  {
   "cell_type": "code",
   "execution_count": null,
   "metadata": {
    "collapsed": true
   },
   "outputs": [],
   "source": [
    "#BFS\n",
    "# Program to print BFS traversal from a given source\n",
    "# vertex. BFS(int s) traverses vertices reachable\n",
    "# from s.\n",
    "from collections import defaultdict\n",
    " \n",
    "# This class represents a directed graph using adjacency\n",
    "# list representation\n",
    "class Graph:\n",
    " \n",
    "    # Constructor\n",
    "    def __init__(self):\n",
    " \n",
    "        # default dictionary to store graph\n",
    "        self.graph = defaultdict(list)\n",
    " \n",
    "    # function to add an edge to graph\n",
    "    def addEdge(self,u,v):\n",
    "        self.graph[u].append(v)\n",
    "        # Function to print a BFS of graph\n",
    "    def BFS(self, s):\n",
    " \n",
    "        # Mark all the vertices as not visited\n",
    "        visited = [False]*(len(self.graph))\n",
    " \n",
    "        # Create a queue for BFS\n",
    "        queue = []\n",
    " \n",
    "        # Mark the source node as visited and enqueue it\n",
    "        queue.append(s)\n",
    "        visited[s] = True\n",
    " \n",
    "        while queue:\n",
    " \n",
    "            # Dequeue a vertex from queue and print it\n",
    "            s = queue.pop(0)\n",
    "            print s,\n",
    " \n",
    "            # Get all adjacent vertices of the dequeued\n",
    "            # vertex s. If a adjacent has not been visited,\n",
    "            # then mark it visited and enqueue it\n",
    "            for i in self.graph[s]:\n",
    "                if visited[i] == False:\n",
    "                    queue.append(i)\n",
    "                    visited[i] = True\n",
    " "
   ]
  },
  {
   "cell_type": "code",
   "execution_count": null,
   "metadata": {
    "collapsed": true
   },
   "outputs": [],
   "source": [
    "#DFS\n",
    "# Python program to print DFS traversal from a\n",
    "# given given graph\n",
    "from collections import defaultdict\n",
    " \n",
    "# This class represents a directed graph using\n",
    "# adjacency list representation\n",
    "class Graph:\n",
    " \n",
    "    # Constructor\n",
    "    def __init__(self):\n",
    " \n",
    "        # default dictionary to store graph\n",
    "        self.graph = defaultdict(list)\n",
    " \n",
    "    # function to add an edge to graph\n",
    "    def addEdge(self,u,v):\n",
    "        self.graph[u].append(v)\n",
    " \n",
    "    # A function used by DFS\n",
    "    def DFSUtil(self,v,visited):\n",
    " \n",
    "        # Mark the current node as visited and print it\n",
    "        visited[v]= True\n",
    "        print v,\n",
    " \n",
    "        # Recur for all the vertices adjacent to this vertex\n",
    "        for i in self.graph[v]:\n",
    "            if visited[i] == False:\n",
    "                self.DFSUtil(i, visited)\n",
    " \n",
    " \n",
    "    # The function to do DFS traversal. It uses\n",
    "    # recursive DFSUtil()\n",
    "    def DFS(self,v):\n",
    " \n",
    "        # Mark all the vertices as not visited\n",
    "        visited = [False]*(len(self.graph))\n",
    " \n",
    "        # Call the recursive helper function to print\n",
    "        # DFS traversal\n",
    "        \n",
    "        # Call the recursive helper function to print\n",
    "        # DFS traversal starting from all vertices one\n",
    "        # by one\n",
    "        \n",
    "        V = len(self.graph)\n",
    "        for i in range(V):\n",
    "            if visited[i] == False:\n",
    "                self.DFSUtil(i, visited)"
   ]
  }
 ],
 "metadata": {
  "anaconda-cloud": {},
  "kernelspec": {
   "display_name": "Python [default]",
   "language": "python",
   "name": "python3"
  },
  "language_info": {
   "codemirror_mode": {
    "name": "ipython",
    "version": 3
   },
   "file_extension": ".py",
   "mimetype": "text/x-python",
   "name": "python",
   "nbconvert_exporter": "python",
   "pygments_lexer": "ipython3",
   "version": "3.5.4"
  }
 },
 "nbformat": 4,
 "nbformat_minor": 1
}
