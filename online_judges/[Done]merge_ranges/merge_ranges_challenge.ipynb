{
 "cells": [
  {
   "cell_type": "markdown",
   "metadata": {},
   "source": [
    "This notebook was prepared by [Donne Martin](https://github.com/donnemartin). Source and license info is on [GitHub](https://github.com/donnemartin/interactive-coding-challenges)."
   ]
  },
  {
   "cell_type": "markdown",
   "metadata": {},
   "source": [
    "# Challenge Notebook"
   ]
  },
  {
   "cell_type": "markdown",
   "metadata": {},
   "source": [
    "## Problem: Given a list of tuples representing ranges, condense the ranges.  \n",
    "\n",
    "Example: [(2, 3), (3, 5), (7, 9), (8, 10)] -> [(2, 5), (7, 10)]\n",
    "\n",
    "* [Constraints](#Constraints)\n",
    "* [Test Cases](#Test-Cases)\n",
    "* [Algorithm](#Algorithm)\n",
    "* [Code](#Code)\n",
    "* [Unit Test](#Unit-Test)\n",
    "* [Solution Notebook](#Solution-Notebook)"
   ]
  },
  {
   "cell_type": "markdown",
   "metadata": {},
   "source": [
    "## Constraints\n",
    "\n",
    "* Are the tuples in sorted order?\n",
    "    * No\n",
    "* Are the tuples ints?\n",
    "    * Yes\n",
    "* Will all tuples have the first element less than the second?\n",
    "    * Yes\n",
    "* Is there an upper bound on the input range?\n",
    "    * No\n",
    "* Is the output a list of tuples?\n",
    "    * Yes\n",
    "* Is the output a new array?\n",
    "    * Yes\n",
    "* Can we assume the inputs are valid?\n",
    "    * No, check for None\n",
    "* Can we assume this fits memory?\n",
    "    * Yes"
   ]
  },
  {
   "cell_type": "markdown",
   "metadata": {},
   "source": [
    "## Test Cases\n",
    "\n",
    "<pre>\n",
    "* None input -> TypeError\n",
    "* [] - []\n",
    "* [(2, 3), (7, 9)] -> [(2, 3), (7, 9)]\n",
    "* [(2, 3), (3, 5), (7, 9), (8, 10)] -> [(2, 5), (7, 10)]\n",
    "* [(2, 3), (3, 5), (7, 9), (8, 10), (1, 11)] -> [(1, 11)]\n",
    "* [(2, 3), (3, 8), (7, 9), (8, 10)] -> [(2, 10)]\n",
    "</pre>"
   ]
  },
  {
   "cell_type": "markdown",
   "metadata": {},
   "source": [
    "## Algorithm\n",
    "\n",
    "Refer to the [Solution Notebook]().  If you are stuck and need a hint, the solution notebook's algorithm discussion might be a good place to start."
   ]
  },
  {
   "cell_type": "markdown",
   "metadata": {},
   "source": [
    "## Code"
   ]
  },
  {
   "cell_type": "code",
   "execution_count": 20,
   "metadata": {},
   "outputs": [],
   "source": [
    "class Solution(object):\n",
    "\n",
    "    def merge_ranges(self, array):\n",
    "        if array is None:\n",
    "            raise TypeError('array cannot be None')\n",
    "        \n",
    "        if not array:\n",
    "            return array\n",
    "    \n",
    "        # TODO: Implement me\n",
    "        sorted_array = sorted(array)\n",
    "        merged_array = [sorted_array[0]]\n",
    "        for index,item in enumerate(sorted_array):\n",
    "            if index == 0 :\n",
    "                continue\n",
    "            if self._overlap(merged_array[-1],item):\n",
    "                #print('merged!')\n",
    "                merged_array[-1] = self._merge(merged_array[-1],item)\n",
    "            else:\n",
    "                merged_array.append(item)\n",
    "        return merged_array\n",
    "                \n",
    "                \n",
    "    def _overlap(self,a,b):\n",
    "        return a[1] >= b[0] and b[1] >= a[0]\n",
    "    def _merge(self,a,b):\n",
    "        return (min(a[0],b[0]),max(a[1],b[1]))\n",
    "\n",
    "            \n",
    "            "
   ]
  },
  {
   "cell_type": "markdown",
   "metadata": {},
   "source": [
    "## Unit Test"
   ]
  },
  {
   "cell_type": "markdown",
   "metadata": {},
   "source": [
    "**The following unit test is expected to fail until you solve the challenge.**"
   ]
  },
  {
   "cell_type": "code",
   "execution_count": 21,
   "metadata": {},
   "outputs": [
    {
     "name": "stdout",
     "output_type": "stream",
     "text": [
      "Success: test_merge_ranges\n"
     ]
    }
   ],
   "source": [
    "# %load test_merge_ranges.py\n",
    "from nose.tools import assert_equal, assert_raises\n",
    "\n",
    "\n",
    "class TestMergeRanges(object):\n",
    "\n",
    "    def test_merge_ranges(self):\n",
    "        solution = Solution()\n",
    "        assert_raises(TypeError, solution.merge_ranges, None)\n",
    "        assert_equal(solution.merge_ranges([]), [])\n",
    "        array = [(2, 3), (7, 9)]\n",
    "        expected = [(2, 3), (7, 9)]\n",
    "        #print(solution.merge_ranges(array))\n",
    "        assert_equal(solution.merge_ranges(array), expected)\n",
    "        array = [(2, 3), (3, 5), (7, 9), (8, 10)]\n",
    "        expected = [(2, 5), (7, 10)]\n",
    "        assert_equal(solution.merge_ranges(array), expected)\n",
    "        array = [(2, 3), (3, 5), (7, 9), (8, 10), (1, 11)]\n",
    "        expected = [(1, 11)]\n",
    "        assert_equal(solution.merge_ranges(array), expected)\n",
    "        print('Success: test_merge_ranges')\n",
    "\n",
    "\n",
    "def main():\n",
    "    test = TestMergeRanges()\n",
    "    test.test_merge_ranges()\n",
    "\n",
    "\n",
    "if __name__ == '__main__':\n",
    "    main()"
   ]
  },
  {
   "cell_type": "markdown",
   "metadata": {},
   "source": [
    "## Solution Notebook\n",
    "\n",
    "Review the [Solution Notebook]() for a discussion on algorithms and code solutions."
   ]
  },
  {
   "cell_type": "code",
   "execution_count": null,
   "metadata": {
    "collapsed": true
   },
   "outputs": [],
   "source": []
  }
 ],
 "metadata": {
  "anaconda-cloud": {},
  "kernelspec": {
   "display_name": "Python [default]",
   "language": "python",
   "name": "python3"
  },
  "language_info": {
   "codemirror_mode": {
    "name": "ipython",
    "version": 3
   },
   "file_extension": ".py",
   "mimetype": "text/x-python",
   "name": "python",
   "nbconvert_exporter": "python",
   "pygments_lexer": "ipython3",
   "version": "3.5.4"
  }
 },
 "nbformat": 4,
 "nbformat_minor": 1
}
