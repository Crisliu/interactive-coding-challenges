{
 "cells": [
  {
   "cell_type": "markdown",
   "metadata": {},
   "source": [
    "This notebook was prepared by [Rishi Rajasekaran](https://github.com/rishihot55). Source and license info is available on [Github](https://github.com/donnemartin/interactive-coding-challenges)."
   ]
  },
  {
   "cell_type": "markdown",
   "metadata": {},
   "source": [
    "# Challenge Notebook"
   ]
  },
  {
   "cell_type": "markdown",
   "metadata": {},
   "source": [
    "## Problem: Find all valid combinations of n-pairs of parentheses.\n",
    "\n",
    "* [Constraints](#Constraints)\n",
    "* [Test Cases](#Test-Cases)\n",
    "* [Algorithm](#Algorithm)\n",
    "* [Code](#Code)\n",
    "* [Unit Test](#Unit-Test)\n",
    "* [Solution Notebook](#Solution-Notebook)"
   ]
  },
  {
   "cell_type": "markdown",
   "metadata": {},
   "source": [
    "## Constraints\n",
    "\n",
    "* Is the input an integer representing the number of pairs?\n",
    "    * Yes\n",
    "* Can we assume the inputs are valid?\n",
    "    * No\n",
    "* Is the output a list of valid combinations?\n",
    "    * Yes\n",
    "* Should the output have duplicates?\n",
    "    * No\n",
    "* Can we assume this fits memory?\n",
    "    * Yes"
   ]
  },
  {
   "cell_type": "markdown",
   "metadata": {},
   "source": [
    "## Test Cases\n",
    "\n",
    "<pre>\n",
    "* None -> Exception\n",
    "* Negative -> Exception\n",
    "* 0 -> []\n",
    "* 1 -> ['()']\n",
    "* 2 -> ['(())', '()()']\n",
    "* 3 -> ['((()))', '(()())', '(())()', '()(())', '()()()']\n",
    "</pre>"
   ]
  },
  {
   "cell_type": "markdown",
   "metadata": {},
   "source": [
    "## Algorithm\n",
    "\n",
    "Refer to the [Solution Notebook](http://nbviewer.ipython.org/github/donnemartin/interactive-coding-challenges/blob/master/recursion_dynamic/n_pairs_parentheses/n_pairs_parentheses_solution.ipynb).  If you are stuck and need a hint, the solution notebook's algorithm discussion might be a good place to start."
   ]
  },
  {
   "cell_type": "markdown",
   "metadata": {},
   "source": [
    "## Code"
   ]
  },
  {
   "cell_type": "code",
   "execution_count": 3,
   "metadata": {
    "collapsed": true
   },
   "outputs": [],
   "source": [
    "class Parentheses(object):\n",
    "\n",
    "    def find_pair(self, num_pairs):\n",
    "        if num_pairs is None:\n",
    "            raise TypeError('num_pairs cannot be None')\n",
    "        if num_pairs < 0:\n",
    "            raise ValueError('num_pairs cannot be < 0')\n",
    "        if not num_pairs:\n",
    "            return []\n",
    "        results = []\n",
    "        curr_results = []\n",
    "        self._find_pair(num_pairs, num_pairs, curr_results, results)\n",
    "        return results\n",
    "    \n",
    "    def _find_pair(self,l, r, curr_results, results):\n",
    "        if l == 0 and r == 0:\n",
    "            results.append(''.join(curr_results))\n",
    "        else:\n",
    "            if l > 0:\n",
    "                self._find_pair(l-1,r, curr_results+['('], results)\n",
    "            if l < r:\n",
    "                self._find_pair(l,r-1, curr_results+[')'], results)"
   ]
  },
  {
   "cell_type": "markdown",
   "metadata": {},
   "source": [
    "## Unit Test"
   ]
  },
  {
   "cell_type": "code",
   "execution_count": 4,
   "metadata": {},
   "outputs": [
    {
     "name": "stdout",
     "output_type": "stream",
     "text": [
      "Success: test_pair_parentheses\n"
     ]
    }
   ],
   "source": [
    "# %load test_n_pairs_parentheses.py\n",
    "from nose.tools import assert_equal, assert_raises\n",
    "\n",
    "\n",
    "class TestPairParentheses(object):\n",
    "\n",
    "    def test_pair_parentheses(self):\n",
    "        parentheses = Parentheses()\n",
    "        assert_raises(TypeError, parentheses.find_pair, None)\n",
    "        assert_raises(ValueError, parentheses.find_pair, -1)\n",
    "        assert_equal(parentheses.find_pair(0), [])\n",
    "        assert_equal(parentheses.find_pair(1), ['()'])\n",
    "        assert_equal(parentheses.find_pair(2), ['(())',\n",
    "                                                '()()'])\n",
    "        assert_equal(parentheses.find_pair(3), ['((()))',\n",
    "                                                '(()())',\n",
    "                                                '(())()',\n",
    "                                                '()(())',\n",
    "                                                '()()()'])\n",
    "        print('Success: test_pair_parentheses')\n",
    "\n",
    "\n",
    "def main():\n",
    "    test = TestPairParentheses()\n",
    "    test.test_pair_parentheses()\n",
    "\n",
    "\n",
    "if __name__ == '__main__':\n",
    "    main()"
   ]
  },
  {
   "cell_type": "markdown",
   "metadata": {},
   "source": [
    "## Solution Notebook\n",
    "\n",
    "Review the [Solution Notebook](http://nbviewer.ipython.org/github/donnemartin/interactive-coding-challenges/blob/master/recursion_dynamic/n_pairs_parentheses/n_pairs_parentheses_solution.ipynb) for a discussion on algorithms and code solutions."
   ]
  }
 ],
 "metadata": {
  "anaconda-cloud": {},
  "kernelspec": {
   "display_name": "Python [default]",
   "language": "python",
   "name": "python3"
  },
  "language_info": {
   "codemirror_mode": {
    "name": "ipython",
    "version": 3
   },
   "file_extension": ".py",
   "mimetype": "text/x-python",
   "name": "python",
   "nbconvert_exporter": "python",
   "pygments_lexer": "ipython3",
   "version": "3.5.4"
  }
 },
 "nbformat": 4,
 "nbformat_minor": 1
}
