{
 "cells": [
  {
   "cell_type": "markdown",
   "metadata": {},
   "source": [
    "This notebook was prepared by [Donne Martin](https://github.com/donnemartin). Source and license info is on [GitHub](https://github.com/donnemartin/interactive-coding-challenges)."
   ]
  },
  {
   "cell_type": "markdown",
   "metadata": {},
   "source": [
    "# Challenge Notebook"
   ]
  },
  {
   "cell_type": "markdown",
   "metadata": {},
   "source": [
    "## Problem: Given a knapsack with a total weight capacity and a list of items with weight w(i) and value v(i), determine which items to select to maximize total value.\n",
    "\n",
    "* [Constraints](#Constraints)\n",
    "* [Test Cases](#Test-Cases)\n",
    "* [Algorithm](#Algorithm)\n",
    "* [Code](#Code)\n",
    "* [Unit Test](#Unit-Test)\n",
    "* [Solution Notebook](#Solution-Notebook)"
   ]
  },
  {
   "cell_type": "markdown",
   "metadata": {},
   "source": [
    "## Constraints\n",
    "\n",
    "* Can we replace the items once they are placed in the knapsack?\n",
    "    * No, this is the 0/1 knapsack problem\n",
    "* Can we split an item?\n",
    "    * No\n",
    "* Can we get an input item with weight of 0 or value of 0?\n",
    "    * No\n",
    "* Can we assume the inputs are valid?\n",
    "    * No\n",
    "* Are the inputs in sorted order by val/weight?\n",
    "    * Yes, if not we'd need to sort them first\n",
    "* Can we assume this fits memory?\n",
    "    * Yes"
   ]
  },
  {
   "cell_type": "markdown",
   "metadata": {},
   "source": [
    "## Test Cases\n",
    "\n",
    "* items or total weight is None -> Exception\n",
    "* items or total weight is 0 -> 0\n",
    "* General case\n",
    "\n",
    "<pre>\n",
    "total_weight = 8\n",
    "items\n",
    "  v | w\n",
    "  0 | 0\n",
    "a 2 | 2\n",
    "b 4 | 2\n",
    "c 6 | 4\n",
    "d 9 | 5\n",
    "\n",
    "max value = 13\n",
    "items\n",
    "  v | w\n",
    "b 4 | 2\n",
    "d 9 | 5 \n",
    "</pre>"
   ]
  },
  {
   "cell_type": "markdown",
   "metadata": {},
   "source": [
    "## Algorithm\n",
    "\n",
    "Refer to the [Solution Notebook](http://nbviewer.jupyter.org/github/donnemartin/interactive-coding-challenges/blob/master/recursion_dynamic/knapsack_01/knapsack_solution.ipynb).  If you are stuck and need a hint, the solution notebook's algorithm discussion might be a good place to start."
   ]
  },
  {
   "cell_type": "markdown",
   "metadata": {},
   "source": [
    "## Code"
   ]
  },
  {
   "cell_type": "code",
   "execution_count": 3,
   "metadata": {
    "collapsed": true
   },
   "outputs": [],
   "source": [
    "class Item(object):\n",
    "    def __init__(self, label, value, weight):\n",
    "        self.label = label\n",
    "        self.value = value\n",
    "        self.weight = weight\n",
    "\n",
    "    def __repr__(self):\n",
    "        return self.label + ' v:' + str(self.value) + ' w:' + str(self.weight)"
   ]
  },
  {
   "cell_type": "code",
   "execution_count": 14,
   "metadata": {
    "collapsed": true
   },
   "outputs": [],
   "source": [
    "class Knapsack(object):\n",
    "\n",
    "    def fill_knapsack(self, input_items, total_weight):\n",
    "        # TODO: Implement me\n",
    "        if input_items is None or total_weight is None:\n",
    "            raise TypeError('input_items or total_weight cannot be None')\n",
    "        if not input_items or total_weight == 0:\n",
    "            return 0\n",
    "        items = [Item('0',0,0)] + input_items\n",
    "        num_rows = len(items)\n",
    "        num_cols = total_weight\n",
    "        T = [[0] * num_cols for _ in range(num_rows)]\n",
    "        for i in range(num_rows):\n",
    "            for j in range(num_cols):\n",
    "                if i == 0 or j == 0 :\n",
    "                    T[i][j] = 0\n",
    "                if j >= items[i].weight:\n",
    "                    T[i][j] = max(T[i-1][j],items[i].value + T[i-1][j-items[i].weight])\n",
    "                else:\n",
    "                    T[i][j] = T[i-1][j]\n",
    "        result = []\n",
    "        i = num_rows - 1\n",
    "        j = num_cols - 1\n",
    "        while i > 0 and j > 0:\n",
    "            if T[i][j] == T[i-1][j]:\n",
    "                i=i-1\n",
    "            elif T[i][j] == T[i][j-1]:\n",
    "                j = j-1\n",
    "            else:\n",
    "                result.append(items[i])\n",
    "                i = i - 1\n",
    "                j = j - items[i].weight\n",
    "        return result\n",
    "        "
   ]
  },
  {
   "cell_type": "code",
   "execution_count": 15,
   "metadata": {
    "collapsed": true
   },
   "outputs": [],
   "source": [
    "        knapsack = Knapsack()\n",
    "        assert_raises(TypeError, knapsack.fill_knapsack, None, None)\n",
    "        assert_equal(knapsack.fill_knapsack(0, 0), 0)\n",
    "        items = []\n",
    "        items.append(Item(label='a', value=2, weight=2))\n",
    "        items.append(Item(label='b', value=4, weight=2))\n",
    "        items.append(Item(label='c', value=6, weight=4))\n",
    "        items.append(Item(label='d', value=9, weight=5))\n",
    "        total_weight = 8\n",
    "        expected_value = 13\n",
    "        results = knapsack.fill_knapsack(items, total_weight)"
   ]
  },
  {
   "cell_type": "code",
   "execution_count": 16,
   "metadata": {},
   "outputs": [
    {
     "data": {
      "text/plain": [
       "[d v:9 w:5, b v:4 w:2]"
      ]
     },
     "execution_count": 16,
     "metadata": {},
     "output_type": "execute_result"
    }
   ],
   "source": [
    "results"
   ]
  },
  {
   "cell_type": "markdown",
   "metadata": {},
   "source": [
    "## Unit Test"
   ]
  },
  {
   "cell_type": "markdown",
   "metadata": {},
   "source": [
    "**The following unit test is expected to fail until you solve the challenge.**"
   ]
  },
  {
   "cell_type": "code",
   "execution_count": 17,
   "metadata": {},
   "outputs": [
    {
     "name": "stdout",
     "output_type": "stream",
     "text": [
      "Success: test_knapsack_bottom_up\n"
     ]
    },
    {
     "ename": "NameError",
     "evalue": "name 'KnapsackTopDown' is not defined",
     "output_type": "error",
     "traceback": [
      "\u001b[0;31m---------------------------------------------------------------------------\u001b[0m",
      "\u001b[0;31mNameError\u001b[0m                                 Traceback (most recent call last)",
      "\u001b[0;32m<ipython-input-17-2cc34273f4b1>\u001b[0m in \u001b[0;36m<module>\u001b[0;34m()\u001b[0m\n\u001b[1;32m     46\u001b[0m \u001b[0;34m\u001b[0m\u001b[0m\n\u001b[1;32m     47\u001b[0m \u001b[0;32mif\u001b[0m \u001b[0m__name__\u001b[0m \u001b[0;34m==\u001b[0m \u001b[0;34m'__main__'\u001b[0m\u001b[0;34m:\u001b[0m\u001b[0;34m\u001b[0m\u001b[0m\n\u001b[0;32m---> 48\u001b[0;31m     \u001b[0mmain\u001b[0m\u001b[0;34m(\u001b[0m\u001b[0;34m)\u001b[0m\u001b[0;34m\u001b[0m\u001b[0m\n\u001b[0m",
      "\u001b[0;32m<ipython-input-17-2cc34273f4b1>\u001b[0m in \u001b[0;36mmain\u001b[0;34m()\u001b[0m\n\u001b[1;32m     42\u001b[0m     \u001b[0mtest\u001b[0m \u001b[0;34m=\u001b[0m \u001b[0mTestKnapsack\u001b[0m\u001b[0;34m(\u001b[0m\u001b[0;34m)\u001b[0m\u001b[0;34m\u001b[0m\u001b[0m\n\u001b[1;32m     43\u001b[0m     \u001b[0mtest\u001b[0m\u001b[0;34m.\u001b[0m\u001b[0mtest_knapsack_bottom_up\u001b[0m\u001b[0;34m(\u001b[0m\u001b[0;34m)\u001b[0m\u001b[0;34m\u001b[0m\u001b[0m\n\u001b[0;32m---> 44\u001b[0;31m     \u001b[0mtest\u001b[0m\u001b[0;34m.\u001b[0m\u001b[0mtest_knapsack_top_down\u001b[0m\u001b[0;34m(\u001b[0m\u001b[0;34m)\u001b[0m\u001b[0;34m\u001b[0m\u001b[0m\n\u001b[0m\u001b[1;32m     45\u001b[0m \u001b[0;34m\u001b[0m\u001b[0m\n\u001b[1;32m     46\u001b[0m \u001b[0;34m\u001b[0m\u001b[0m\n",
      "\u001b[0;32m<ipython-input-17-2cc34273f4b1>\u001b[0m in \u001b[0;36mtest_knapsack_top_down\u001b[0;34m(self)\u001b[0m\n\u001b[1;32m     26\u001b[0m \u001b[0;34m\u001b[0m\u001b[0m\n\u001b[1;32m     27\u001b[0m     \u001b[0;32mdef\u001b[0m \u001b[0mtest_knapsack_top_down\u001b[0m\u001b[0;34m(\u001b[0m\u001b[0mself\u001b[0m\u001b[0;34m)\u001b[0m\u001b[0;34m:\u001b[0m\u001b[0;34m\u001b[0m\u001b[0m\n\u001b[0;32m---> 28\u001b[0;31m         \u001b[0mknapsack\u001b[0m \u001b[0;34m=\u001b[0m \u001b[0mKnapsackTopDown\u001b[0m\u001b[0;34m(\u001b[0m\u001b[0;34m)\u001b[0m\u001b[0;34m\u001b[0m\u001b[0m\n\u001b[0m\u001b[1;32m     29\u001b[0m         \u001b[0massert_raises\u001b[0m\u001b[0;34m(\u001b[0m\u001b[0mTypeError\u001b[0m\u001b[0;34m,\u001b[0m \u001b[0mknapsack\u001b[0m\u001b[0;34m.\u001b[0m\u001b[0mfill_knapsack\u001b[0m\u001b[0;34m,\u001b[0m \u001b[0;32mNone\u001b[0m\u001b[0;34m,\u001b[0m \u001b[0;32mNone\u001b[0m\u001b[0;34m)\u001b[0m\u001b[0;34m\u001b[0m\u001b[0m\n\u001b[1;32m     30\u001b[0m         \u001b[0massert_equal\u001b[0m\u001b[0;34m(\u001b[0m\u001b[0mknapsack\u001b[0m\u001b[0;34m.\u001b[0m\u001b[0mfill_knapsack\u001b[0m\u001b[0;34m(\u001b[0m\u001b[0;36m0\u001b[0m\u001b[0;34m,\u001b[0m \u001b[0;36m0\u001b[0m\u001b[0;34m)\u001b[0m\u001b[0;34m,\u001b[0m \u001b[0;36m0\u001b[0m\u001b[0;34m)\u001b[0m\u001b[0;34m\u001b[0m\u001b[0m\n",
      "\u001b[0;31mNameError\u001b[0m: name 'KnapsackTopDown' is not defined"
     ]
    }
   ],
   "source": [
    "# %load test_knapsack.py\n",
    "from nose.tools import assert_equal, assert_raises\n",
    "\n",
    "\n",
    "class TestKnapsack(object):\n",
    "\n",
    "    def test_knapsack_bottom_up(self):\n",
    "        knapsack = Knapsack()\n",
    "        assert_raises(TypeError, knapsack.fill_knapsack, None, None)\n",
    "        assert_equal(knapsack.fill_knapsack(0, 0), 0)\n",
    "        items = []\n",
    "        items.append(Item(label='a', value=2, weight=2))\n",
    "        items.append(Item(label='b', value=4, weight=2))\n",
    "        items.append(Item(label='c', value=6, weight=4))\n",
    "        items.append(Item(label='d', value=9, weight=5))\n",
    "        total_weight = 8\n",
    "        expected_value = 13\n",
    "        results = knapsack.fill_knapsack(items, total_weight)\n",
    "        assert_equal(results[0].label, 'd')\n",
    "        assert_equal(results[1].label, 'b')\n",
    "        total_value = 0\n",
    "        for item in results:\n",
    "            total_value += item.value\n",
    "        assert_equal(total_value, expected_value)\n",
    "        print('Success: test_knapsack_bottom_up')\n",
    "\n",
    "    def test_knapsack_top_down(self):\n",
    "        knapsack = KnapsackTopDown()\n",
    "        assert_raises(TypeError, knapsack.fill_knapsack, None, None)\n",
    "        assert_equal(knapsack.fill_knapsack(0, 0), 0)\n",
    "        items = []\n",
    "        items.append(Item(label='a', value=2, weight=2))\n",
    "        items.append(Item(label='b', value=4, weight=2))\n",
    "        items.append(Item(label='c', value=6, weight=4))\n",
    "        items.append(Item(label='d', value=9, weight=5))\n",
    "        total_weight = 8\n",
    "        expected_value = 13\n",
    "        assert_equal(knapsack.fill_knapsack(items, total_weight), expected_value)\n",
    "        print('Success: test_knapsack_top_down')\n",
    "\n",
    "def main():\n",
    "    test = TestKnapsack()\n",
    "    test.test_knapsack_bottom_up()\n",
    "    test.test_knapsack_top_down()\n",
    "\n",
    "\n",
    "if __name__ == '__main__':\n",
    "    main()"
   ]
  },
  {
   "cell_type": "markdown",
   "metadata": {},
   "source": [
    "## Solution Notebook\n",
    "\n",
    "Review the [Solution Notebook]() for a discussion on algorithms and code solutions."
   ]
  },
  {
   "cell_type": "code",
   "execution_count": null,
   "metadata": {
    "collapsed": true
   },
   "outputs": [],
   "source": []
  }
 ],
 "metadata": {
  "anaconda-cloud": {},
  "kernelspec": {
   "display_name": "Python [default]",
   "language": "python",
   "name": "python3"
  },
  "language_info": {
   "codemirror_mode": {
    "name": "ipython",
    "version": 3
   },
   "file_extension": ".py",
   "mimetype": "text/x-python",
   "name": "python",
   "nbconvert_exporter": "python",
   "pygments_lexer": "ipython3",
   "version": "3.5.4"
  }
 },
 "nbformat": 4,
 "nbformat_minor": 1
}
