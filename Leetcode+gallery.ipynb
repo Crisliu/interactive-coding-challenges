{
 "cells": [
  {
   "cell_type": "markdown",
   "metadata": {},
   "source": [
    "[Interval](#Interval)\n",
    "\n",
    "[Array](#Array)\n",
    "\n",
    "[Sequence](#Sequence)\n",
    "\n",
    "[String](#String)\n",
    "\n",
    "[Linked List](#Linked List)\n",
    "\n",
    "[Graph](#Graph)\n",
    "\n",
    "[Matrix](#Matrix)\n",
    "\n",
    "[Recursion](#Recursion)\n",
    "\n",
    "[Dynamic Programming](#DP)\n",
    "\n",
    "[Tree](#Tree)\n",
    "\n",
    "[Trie](#Trie)\n"
   ]
  },
  {
   "cell_type": "markdown",
   "metadata": {},
   "source": [
    "## Interval"
   ]
  },
  {
   "cell_type": "markdown",
   "metadata": {},
   "source": [
    "Corner Cases\n",
    "- Single interval\n",
    "- Non-overlapping intervals\n",
    "- An interval totally consumed within another interval\n",
    "- Duplicate intervals"
   ]
  },
  {
   "cell_type": "markdown",
   "metadata": {},
   "source": [
    "merge intervals"
   ]
  },
  {
   "cell_type": "markdown",
   "metadata": {},
   "source": [
    "insert intervals"
   ]
  },
  {
   "cell_type": "markdown",
   "metadata": {},
   "source": [
    "## Array"
   ]
  },
  {
   "cell_type": "markdown",
   "metadata": {},
   "source": [
    "Is the array sorted or partially sorted? If it is either, some form of binary search should be possible. This usually means that the interviewer is looking for a solution that is faster than O(n).\n",
    "\n",
    "Can you sort the array? Sometimes sorting the array first may significantly simplify the problem. Make sure that the order of array elements do not need to be preserved before attempting to sort it.\n",
    "\n",
    "For questions where summation or multiplication of a subarray is involved, pre-computation using hashing or a prefix, suffix sum, or product might be useful.\n",
    "\n",
    "If you are given a sequence and the interviewer asks for O(1) space, it might be possible to use the array itself as a hash table. For example, if the array has values only from 1 to N, where N is the length of the array, negate the value at that index (minus one) to indicate the presence of that number."
   ]
  },
  {
   "cell_type": "markdown",
   "metadata": {},
   "source": [
    "Subarray related problems"
   ]
  },
  {
   "cell_type": "markdown",
   "metadata": {},
   "source": [
    "Contiguous Array"
   ]
  },
  {
   "cell_type": "markdown",
   "metadata": {},
   "source": [
    "53.Maximum Subarray (easy)"
   ]
  },
  {
   "cell_type": "code",
   "execution_count": 1,
   "metadata": {
    "collapsed": true
   },
   "outputs": [],
   "source": [
    "class Solution:\n",
    "    def maxSubArray(self, A):\n",
    "        if not A:\n",
    "            return 0\n",
    "\n",
    "        #curSum = maxSum = A[0]\n",
    "        max_so_far = 0\n",
    "        max_ending_here = 0\n",
    "      \n",
    "        for i in range(0, size):\n",
    "            max_ending_here = max_ending_here + a[i]\n",
    "            if (max_so_far < max_ending_here):\n",
    "                max_so_far = max_ending_here\n",
    "\n",
    "            if max_ending_here < 0:\n",
    "                max_ending_here = 0  \n",
    "        return max_so_far"
   ]
  },
  {
   "cell_type": "code",
   "execution_count": 2,
   "metadata": {
    "collapsed": true
   },
   "outputs": [],
   "source": [
    "#handle all negative case as well\n",
    "# Python program to find maximum contiguous subarray\n",
    " \n",
    "def maxSubArraySum(a,size):\n",
    "     \n",
    "    max_so_far =a[0]\n",
    "    curr_max = a[0]\n",
    "     \n",
    "    for i in range(1,size):\n",
    "        curr_max = max(a[i], curr_max + a[i])\n",
    "        max_so_far = max(max_so_far,curr_max)\n",
    "         \n",
    "    return max_so_far\n",
    " "
   ]
  },
  {
   "cell_type": "markdown",
   "metadata": {},
   "source": [
    "Smallest sum contiguous subarray (medium)"
   ]
  },
  {
   "cell_type": "code",
   "execution_count": 3,
   "metadata": {
    "collapsed": true
   },
   "outputs": [],
   "source": [
    "def smallestSumSubarr(arr, n):\n",
    "    # to store the minimum value that is ending\n",
    "    # up to the current index\n",
    "    min_ending_here = sys.maxint\n",
    "     \n",
    "    # to store the minimum value encountered so far\n",
    "    min_so_far = sys.maxint\n",
    "     \n",
    "    # traverse the array elements\n",
    "    for i in range(n):\n",
    "        # if min_ending_here > 0, then it could not possibly\n",
    "        # contribute to the minimum sum further\n",
    "        if (min_ending_here > 0):\n",
    "            min_ending_here = arr[i]\n",
    "         \n",
    "        # else add the value arr[i] to min_ending_here \n",
    "        else:\n",
    "            min_ending_here += arr[i]\n",
    "          \n",
    "        # update min_so_far\n",
    "        min_so_far = min(min_so_far, min_ending_here)\n",
    "     \n",
    "    # required smallest sum contiguous subarray value\n",
    "    return min_so_far"
   ]
  },
  {
   "cell_type": "markdown",
   "metadata": {},
   "source": [
    "find the maximum length of a contiguous subarray with equal number of 0 and 1 (easy)"
   ]
  },
  {
   "cell_type": "code",
   "execution_count": 4,
   "metadata": {
    "collapsed": true
   },
   "outputs": [],
   "source": [
    "class Solution(object):\n",
    "    def findMaxLength(self, nums):\n",
    "        count = 0\n",
    "        max_length=0\n",
    "        table = {0: 0}\n",
    "        for index, num in enumerate(nums, 1):\n",
    "            if num == 0:\n",
    "                count -= 1\n",
    "            else:\n",
    "                count += 1\n",
    "            \n",
    "            if count in table:\n",
    "                max_length = max(max_length, index - table[count])\n",
    "            else:\n",
    "                table[count] = index\n",
    "        \n",
    "        return max_length"
   ]
  },
  {
   "cell_type": "markdown",
   "metadata": {},
   "source": [
    "152.Maximum Product Subarray (Easy)"
   ]
  },
  {
   "cell_type": "code",
   "execution_count": 5,
   "metadata": {
    "collapsed": true
   },
   "outputs": [],
   "source": [
    "class Solution:\n",
    "# @param A, a list of integers\n",
    "# @return an integer\n",
    "    def maxProduct(self, A):\n",
    "        MinTemp = A[0]\n",
    "        MaxTemp = A[0]\n",
    "        Max = A[0]\n",
    "        for i in xrange(1, len(A)):\n",
    "            MinTemp, MaxTemp = min(A[i], A[i] * MaxTemp, A[i] * MinTemp), max(A[i], A[i] * MaxTemp, A[i] * MinTemp)\n",
    "            Max = max(Max, MaxTemp)\n",
    "        return Max"
   ]
  },
  {
   "cell_type": "code",
   "execution_count": 6,
   "metadata": {},
   "outputs": [
    {
     "name": "stdout",
     "output_type": "stream",
     "text": [
      "Maximum product subarray is 112\n"
     ]
    }
   ],
   "source": [
    "# Returns the product of max product subarray.\n",
    "# Assumes that the given array always has a subarray\n",
    "# with product more than 1\n",
    "def maxsubarrayproduct(arr):\n",
    " \n",
    "    n = len(arr)\n",
    " \n",
    "    # max positive product ending at the current position\n",
    "    max_ending_here = 1\n",
    " \n",
    "    # min positive product ending at the current position\n",
    "    min_ending_here = 1\n",
    " \n",
    "    # Initialize maximum so far\n",
    "    max_so_far = 1\n",
    " \n",
    "    # Traverse throughout the array. Following values\n",
    "    # are maintained after the ith iteration:\n",
    "    # max_ending_here is always 1 or some positive product\n",
    "    # ending with arr[i]\n",
    "    # min_ending_here is always 1 or some negative product\n",
    "    # ending with arr[i]\n",
    "    for i in range(0,n):\n",
    "\n",
    "        # If this element is positive, update max_ending_here.\n",
    "        # Update min_ending_here only if min_ending_here is\n",
    "        # negative\n",
    "        if arr[i] > 0:\n",
    "            max_ending_here = max_ending_here*arr[i]\n",
    "            min_ending_here = min (min_ending_here * arr[i], 1)\n",
    " \n",
    "        # If this element is 0, then the maximum product cannot\n",
    "        # end here, make both max_ending_here and min_ending_here 0\n",
    "        # Assumption: Output is alway greater than or equal to 1.\n",
    "        elif arr[i] == 0:\n",
    "            max_ending_here = 1\n",
    "            min_ending_here = 1\n",
    "        # If element is negative. This is tricky\n",
    "        # max_ending_here can either be 1 or positive.\n",
    "        # min_ending_here can either be 1 or negative.\n",
    "        # next min_ending_here will always be prev.\n",
    "        # max_ending_here * arr[i]\n",
    "        # next max_ending_here will be 1 if prev\n",
    "        # min_ending_here is 1, otherwise\n",
    "        # next max_ending_here will be prev min_ending_here * arr[i]\n",
    "        else:\n",
    "            temp = max_ending_here\n",
    "            max_ending_here = max (min_ending_here * arr[i], 1)\n",
    "            min_ending_here = temp * arr[i]\n",
    "        if (max_so_far <  max_ending_here):\n",
    "            max_so_far  =  max_ending_here\n",
    "    return max_so_far\n",
    " \n",
    "# Driver function to test above function\n",
    "arr = [1, -2, -3, 0, 7, -8, -2]\n",
    "print(\"Maximum product subarray is\",maxsubarrayproduct(arr))"
   ]
  },
  {
   "cell_type": "markdown",
   "metadata": {},
   "source": [
    "209.Minimum Size Subarray Sum (Medium)"
   ]
  },
  {
   "cell_type": "markdown",
   "metadata": {},
   "source": [
    "Time complexity: O(n). Single iteration of O(n)).\n",
    "Each element can be visited atmost twice, once by the right pointer(ii) and (atmost)once by the \\text{left}left pointer.\n",
    "Space complexity: O(1)extra space. Only constant space required for \\text{left}left, \\text{sum}sum, \\text{ans}ans and ii. (same in facebook)"
   ]
  },
  {
   "cell_type": "code",
   "execution_count": 8,
   "metadata": {
    "collapsed": true
   },
   "outputs": [],
   "source": [
    "class Solution:\n",
    "\n",
    "    def minSubArrayLen(self, s, nums):\n",
    "        total = left = 0\n",
    "        result = len(nums) + 1\n",
    "        for right, n in enumerate(nums):\n",
    "            total += n\n",
    "            while total >= s:\n",
    "                result = min(result, right - left + 1)\n",
    "                total -= nums[left]\n",
    "                left += 1\n",
    "        return result if result <= len(nums) else 0"
   ]
  },
  {
   "cell_type": "markdown",
   "metadata": {},
   "source": [
    "maximum-size-subarray-sum-equals-k(medium) (same in facebook)"
   ]
  },
  {
   "cell_type": "code",
   "execution_count": 9,
   "metadata": {
    "collapsed": true
   },
   "outputs": [],
   "source": [
    "def maxSubArrayLen(self, nums, k):\n",
    "    # Write your code here\n",
    "    #cul_nums = [0]*len(nums)\n",
    "    #cul_nums[0] = nums[0]\n",
    "    cul_nums = 0\n",
    "    max_len = 0\n",
    "    res = {}\n",
    "    res[0] = -1\n",
    "    for i in range(0,len(nums)):\n",
    "        cul_nums += nums[i]\n",
    "        if cul_nums - k in res:\n",
    "            print(i,res[cul_nums - k])\n",
    "            max_len = max(max_len,i - res[cul_nums - k])\n",
    "        if cul_nums not in res: # this is important, otherwise it produces minimum length\n",
    "            res[cul_nums] = i\n",
    "    return max_len"
   ]
  },
  {
   "cell_type": "markdown",
   "metadata": {},
   "source": [
    "15.3Sum(easy)"
   ]
  },
  {
   "cell_type": "code",
   "execution_count": 8,
   "metadata": {
    "collapsed": true
   },
   "outputs": [],
   "source": [
    "def threeSum(self, nums):\n",
    "    res = []\n",
    "    nums.sort()\n",
    "    for i in xrange(len(nums)-2):\n",
    "        if i > 0 and nums[i] == nums[i-1]:\n",
    "            continue\n",
    "        l, r = i+1, len(nums)-1\n",
    "        while l < r:\n",
    "            s = nums[i] + nums[l] + nums[r]\n",
    "            if s < 0:\n",
    "                l +=1 \n",
    "            elif s > 0:\n",
    "                r -= 1\n",
    "            else:\n",
    "                res.append((nums[i], nums[l], nums[r]))\n",
    "                while l < r and nums[l] == nums[l+1]:\n",
    "                    l += 1\n",
    "                while l < r and nums[r] == nums[r-1]:\n",
    "                    r -= 1\n",
    "                l += 1; r -= 1\n",
    "    return res"
   ]
  },
  {
   "cell_type": "markdown",
   "metadata": {},
   "source": [
    "153.Find Minimum in Rotated Sorted Array(medium)"
   ]
  },
  {
   "cell_type": "code",
   "execution_count": 9,
   "metadata": {
    "collapsed": true
   },
   "outputs": [],
   "source": [
    "#Just use binary search\n",
    "class Solution(object):\n",
    "    def findMin(self, nums):\n",
    "        \"\"\"\n",
    "        :type nums: List[int]\n",
    "        :rtype: int\n",
    "        \"\"\"\n",
    "        i = 0\n",
    "        j = len(nums) - 1\n",
    "        while i < j:\n",
    "            m = i + (j - i) / 2\n",
    "            if nums[m] > nums[j]:\n",
    "                i = m + 1\n",
    "            else:\n",
    "                j = m\n",
    "        return nums[i]"
   ]
  },
  {
   "cell_type": "markdown",
   "metadata": {},
   "source": [
    "if there are duplicates "
   ]
  },
  {
   "cell_type": "code",
   "execution_count": null,
   "metadata": {
    "collapsed": true
   },
   "outputs": [],
   "source": [
    "#Just use binary search # \n",
    "class Solution(object):\n",
    "    def findMin(self, nums):\n",
    "        \"\"\"\n",
    "        :type nums: List[int]\n",
    "        :rtype: int\n",
    "        \"\"\"\n",
    "        i = 0\n",
    "        j = len(nums) - 1\n",
    "        while i < j:\n",
    "            m = i + (j - i) / 2\n",
    "            if nums[m] > nums[j]:\n",
    "                i = m + 1\n",
    "            elif nums[m] < num[j]:\n",
    "                j = m\n",
    "            else:\n",
    "                j = j-1\n",
    "        return nums[i]"
   ]
  },
  {
   "cell_type": "markdown",
   "metadata": {},
   "source": [
    "http://bangbingsyb.blogspot.com/2014/11/leecode-find-minimum-in-rotated-sorted.html"
   ]
  },
  {
   "cell_type": "code",
   "execution_count": 10,
   "metadata": {},
   "outputs": [
    {
     "data": {
      "text/plain": [
       "4"
      ]
     },
     "execution_count": 10,
     "metadata": {},
     "output_type": "execute_result"
    }
   ],
   "source": [
    "i,j = 2,7\n",
    "m = i + (j - i) / 2\n",
    "int(m)"
   ]
  },
  {
   "cell_type": "markdown",
   "metadata": {},
   "source": [
    " 167.Two Sum II - Input array is sorted (easy)"
   ]
  },
  {
   "cell_type": "code",
   "execution_count": 11,
   "metadata": {
    "collapsed": true
   },
   "outputs": [],
   "source": [
    "# two-pointer\n",
    "def twoSum1(self, numbers, target):\n",
    "    l, r = 0, len(numbers)-1\n",
    "    while l < r:\n",
    "        s = numbers[l] + numbers[r]\n",
    "        if s == target:\n",
    "            return [l+1, r+1]\n",
    "        elif s < target:\n",
    "            l += 1\n",
    "        else:\n",
    "            r -= 1\n",
    " \n",
    "# dictionary           \n",
    "def twoSum2(self, numbers, target):\n",
    "    dic = {}\n",
    "    for i, num in enumerate(numbers):\n",
    "        if target-num in dic:\n",
    "            return [dic[target-num]+1, i+1]\n",
    "        dic[num] = i\n",
    " \n",
    "# binary search        \n",
    "def twoSum(self, numbers, target):\n",
    "    for i in xrange(len(numbers)):\n",
    "        l, r = i+1, len(numbers)-1\n",
    "        tmp = target - numbers[i]\n",
    "        while l <= r:\n",
    "            mid = l + (r-l)//2\n",
    "            if numbers[mid] == tmp:\n",
    "                return [i+1, mid+1]\n",
    "            elif numbers[mid] < tmp:\n",
    "                l = mid+1\n",
    "            else:\n",
    "                r = mid-1"
   ]
  },
  {
   "cell_type": "markdown",
   "metadata": {},
   "source": [
    "merge sorted array (easy)"
   ]
  },
  {
   "cell_type": "code",
   "execution_count": 12,
   "metadata": {
    "collapsed": true
   },
   "outputs": [],
   "source": [
    "class Solution:\n",
    "    \"\"\"\n",
    "    @param: A: sorted integer array A which has m elements, but size of A is m+n\n",
    "    @param: m: An integer\n",
    "    @param: B: sorted integer array B which has n elements\n",
    "    @param: n: An integer\n",
    "    @return: nothing\n",
    "    \"\"\"\n",
    "    def mergeSortedArray(self, A, m, B, n):\n",
    "            \n",
    "        i = m - 1\n",
    "        j = n - 1\n",
    "        index = m + n - 1\n",
    "        \n",
    "        while i >= 0 and j >= 0:\n",
    "            if A[i] < B[j]:\n",
    "                A[index] = B[j]\n",
    "                j -= 1\n",
    "            else:\n",
    "                A[index] = A[i]\n",
    "                i -= 1\n",
    "            index -= 1\n",
    "            \n",
    "        while j >= 0:\n",
    "            A[index] = B[j]\n",
    "            index -= 1\n",
    "            j -= 1"
   ]
  },
  {
   "cell_type": "markdown",
   "metadata": {},
   "source": [
    "Search in Rotated Sorted Array (easy)"
   ]
  },
  {
   "cell_type": "code",
   "execution_count": 23,
   "metadata": {
    "collapsed": true
   },
   "outputs": [],
   "source": [
    "class Solution:\n",
    "    # @param {integer[]} numss\n",
    "    # @param {integer} target\n",
    "    # @return {integer}\n",
    "    def search(self, nums, target):\n",
    "        if not nums:\n",
    "            return -1\n",
    "\n",
    "        low, high = 0, len(nums) - 1\n",
    "\n",
    "        while low <= high:\n",
    "            mid = (low + high) // 2\n",
    "            if target == nums[mid]:\n",
    "                return mid\n",
    "\n",
    "            if nums[low] <= nums[mid]:\n",
    "                if nums[low] <= target <= nums[mid]:\n",
    "                    high = mid - 1\n",
    "                else:\n",
    "                    low = mid + 1\n",
    "            else:\n",
    "                if nums[mid] <= target <= nums[high]:\n",
    "                    low = mid + 1\n",
    "                else:\n",
    "                    high = mid - 1\n",
    "\n",
    "        return -1"
   ]
  },
  {
   "cell_type": "code",
   "execution_count": 24,
   "metadata": {},
   "outputs": [
    {
     "data": {
      "text/plain": [
       "7"
      ]
     },
     "execution_count": 24,
     "metadata": {},
     "output_type": "execute_result"
    }
   ],
   "source": [
    "s = Solution()\n",
    "s.search([3,4,5,1,1,1,1,2],2)"
   ]
  },
  {
   "cell_type": "markdown",
   "metadata": {},
   "source": [
    "http://bangbingsyb.blogspot.com/2014/11/leetcode-search-in-rotated-sorted-array.html"
   ]
  },
  {
   "cell_type": "markdown",
   "metadata": {},
   "source": [
    "Max Profit (one transaction)(easy)"
   ]
  },
  {
   "cell_type": "code",
   "execution_count": 14,
   "metadata": {
    "collapsed": true
   },
   "outputs": [],
   "source": [
    "import sys\n",
    "class Solution(object):\n",
    "    def find_max_profit(self, prices):\n",
    "        if prices is None:\n",
    "            raise TypeError('prices cannot be None')\n",
    "        if len(prices) < 2:\n",
    "            raise ValueError('prices must have at least two values')\n",
    "        min_price = prices.pop(0)\n",
    "        max_profit = prices[0] - min_price\n",
    "        for price in prices:\n",
    "            profit = price - min_price\n",
    "            min_price = min(price, min_price)\n",
    "            max_profit = max(profit, max_profit)\n",
    "        return max_profit"
   ]
  },
  {
   "cell_type": "markdown",
   "metadata": {},
   "source": []
  },
  {
   "cell_type": "markdown",
   "metadata": {},
   "source": [
    "Max Profit (two transaction)(medium)"
   ]
  },
  {
   "cell_type": "code",
   "execution_count": 15,
   "metadata": {},
   "outputs": [
    {
     "name": "stdout",
     "output_type": "stream",
     "text": [
      "Maximum profit is 100\n"
     ]
    }
   ],
   "source": [
    "# Returns maximum profit with two transactions on a given \n",
    "# list of stock prices price[0..n-1]\n",
    "def maxProfit(price,n):\n",
    "     \n",
    "    # Create profit array and initialize it as 0\n",
    "    profit = [0]*n\n",
    "     \n",
    "    # Get the maximum profit with only one transaction\n",
    "    # allowed. After this loop, profit[i] contains maximum\n",
    "    # profit from price[i..n-1] using at most one trans.\n",
    "    max_price=price[n-1]\n",
    "     \n",
    "    for i in range( n-2, 0 ,-1):\n",
    "         \n",
    "        if price[i]> max_price:\n",
    "            max_price = price[i]\n",
    "             \n",
    "        # we can get profit[i] by taking maximum of:\n",
    "        # a) previous maximum, i.e., profit[i+1]\n",
    "        # b) profit by buying at price[i] and selling at\n",
    "        #    max_price\n",
    "        profit[i] = max(profit[i+1], max_price - price[i])\n",
    "         \n",
    "    # Get the maximum profit with two transactions allowed\n",
    "    # After this loop, profit[n-1] contains the result    \n",
    "    min_price=price[0]\n",
    "     \n",
    "    for i in range(1,n):\n",
    "         \n",
    "        if price[i] < min_price:\n",
    "            min_price = price[i]\n",
    " \n",
    "        # Maximum profit is maximum of:\n",
    "        # a) previous maximum, i.e., profit[i-1]\n",
    "        # b) (Buy, Sell) at (min_price, A[i]) and add\n",
    "        #    profit of other trans. stored in profit[i]    \n",
    "        profit[i] = max(profit[i-1], profit[i]+(price[i]-min_price))\n",
    "         \n",
    "    result = profit[n-1]\n",
    "     \n",
    "    return result\n",
    " \n",
    "# Driver function\n",
    "price = [2, 30, 15, 10, 8, 25, 80]\n",
    "print(\"Maximum profit is\", maxProfit(price, len(price)))"
   ]
  },
  {
   "cell_type": "code",
   "execution_count": null,
   "metadata": {
    "collapsed": true
   },
   "outputs": [],
   "source": [
    "设状态f(i)，表示区间[0,i](0 \\leq i \\leq n-1)的最大利润，状态g(i)，表示区间[i, n-1](0 \\leq i \\leq n-1)[的最大利润，则最终答案为max{f(i)+g(i)} 0≤i≤n−1。\n",
    "允许在一天内买进又卖出，相当于不交易，因为题目的规定是最多两次，而不是一定要两次。"
   ]
  },
  {
   "cell_type": "code",
   "execution_count": 16,
   "metadata": {
    "collapsed": true
   },
   "outputs": [],
   "source": [
    "class Solution:\n",
    "    \"\"\"\n",
    "    @param prices: Given an integer array\n",
    "    @return: Maximum profit\n",
    "    \"\"\"\n",
    "    def maxProfit(self, prices):\n",
    "        # write your code here\n",
    "        n = len(prices)\n",
    "        if n <= 1:\n",
    "            return 0\n",
    "        p1 = [0] * n\n",
    "        p2 = [0] * n\n",
    "        \n",
    "        minV = prices[0]\n",
    "        for i in range(1,n):\n",
    "            minV = min(minV, prices[i]) \n",
    "            p1[i] = max(p1[i - 1], prices[i] - minV)\n",
    "        \n",
    "        maxV = prices[-1]\n",
    "        for i in range(n-2, -1, -1):\n",
    "            maxV = max(maxV, prices[i])\n",
    "            p2[i] = max(p2[i + 1], maxV - prices[i])\n",
    "        \n",
    "        res = 0\n",
    "        for i in range(n):\n",
    "            res = max(res, p1[i] + p2[i])\n",
    "        return res"
   ]
  },
  {
   "cell_type": "markdown",
   "metadata": {},
   "source": [
    "at most k transaction"
   ]
  },
  {
   "cell_type": "markdown",
   "metadata": {},
   "source": [
    "https://www.jiuzhang.com/solution/best-time-to-buy-and-sell-stock-iv/#tag-other-lang-python"
   ]
  },
  {
   "cell_type": "markdown",
   "metadata": {},
   "source": [
    "设两个状态，global[i][j] 表示i天前最多可以进行j次交易的最大利润，local[i][j]表示i天前最多可以进行j次交易，且在第i天进行了第j次交易的最大利润。状态转移方程如下：\n",
    "\n",
    "local[i][j] = max(global[i-1][j-1] + max(diff,0), local[i-1][j]+diff)\n",
    "global[i][j] = max(local[i][j], global[i-1][j])\n",
    "关于global的状态转移方程比较简单，不断地和已经计算出的local进行比较，把大的保存在global中。\n",
    "关于local的状态转移方程，取下面二者中较大的一个：\n",
    "全局前i-1天进行了j-1次交易，然后然后加上今天的交易产生的利润（如果赚钱就交易，不赚钱就不交易，什么也不发生，利润是0）\n",
    "局部前i-1天进行了j次交易，然后加上今天的差价（local[i-1][j]是第i-1天卖出的交易，它加上diff后变成第i天卖出，并不会增加交易次数。无论diff是正还是负都要加上，否则就不满足local[i][j]必须在最后一天卖出的条件了）\n",
    "注意，当k大于数组的大小时，上述算法将变得低效，此时可以改为不限交易次数的方式解决，即等价于 \"Best Time to Buy and Sell Stock II\"。"
   ]
  },
  {
   "cell_type": "code",
   "execution_count": null,
   "metadata": {
    "collapsed": true
   },
   "outputs": [],
   "source": [
    "class Solution:\n",
    "    \"\"\"\n",
    "    @param k: an integer\n",
    "    @param prices: an integer array\n",
    "    @return: an integer which is maximum profit\n",
    "    \"\"\"\n",
    "    def maxProfit(self, k, prices):\n",
    "        # write your code here\n",
    "        size = len(prices)\n",
    "        if k >= size / 2:\n",
    "            return self.quickSolve(size, prices)\n",
    "        dp = [None] * (2 * k + 1)\n",
    "        dp[0] = 0\n",
    "        for i in range(size):\n",
    "            for j in range(min(2 * k, i + 1) , 0 , -1):\n",
    "                dp[j] = max(dp[j], dp[j - 1] + prices[i] * [1, -1][j % 2])\n",
    "        return max(dp)\n",
    "\n",
    "    def quickSolve(self, size, prices):\n",
    "        sum = 0\n",
    "        for x in range(size - 1):\n",
    "            if prices[x + 1] > prices[x]:\n",
    "                sum += prices[x + 1] - prices[x]\n",
    "        return sum"
   ]
  },
  {
   "cell_type": "markdown",
   "metadata": {},
   "source": [
    "multiple transaction with transaction fee (hard)"
   ]
  },
  {
   "cell_type": "code",
   "execution_count": 17,
   "metadata": {
    "collapsed": true
   },
   "outputs": [],
   "source": [
    "def maxProfit(prices, fee):\n",
    "        sell=0;\n",
    "        own=-prices[0];\n",
    "        for i in range(1,len(prices)):\n",
    "            sell = max(sell, own + prices[i] - fee);\n",
    "            own = max(own, sell - prices[i])\n",
    "\n",
    "        return sell      \n"
   ]
  },
  {
   "cell_type": "markdown",
   "metadata": {},
   "source": [
    "https://www.jiuzhang.com/solution/best-time-to-buy-and-sell-stock-with-transaction-fee/"
   ]
  },
  {
   "cell_type": "markdown",
   "metadata": {},
   "source": [
    "multiple transaction with cooldown(hard)"
   ]
  },
  {
   "cell_type": "markdown",
   "metadata": {},
   "source": [
    "https://soulmachine.gitbooks.io/algorithm-essentials/content/cpp/dp/best-time-to-buy-and-sell-stock-with-cooldown.html"
   ]
  },
  {
   "cell_type": "code",
   "execution_count": null,
   "metadata": {
    "collapsed": true
   },
   "outputs": [],
   "source": [
    "sell[i] = max{sell[i - 1], buy[i-1] + prices[i]}\n",
    "buy[i] = max{buy[i-1], sell[i-2] - prices[i]}"
   ]
  },
  {
   "cell_type": "markdown",
   "metadata": {},
   "source": [
    "# Sequence "
   ]
  },
  {
   "cell_type": "markdown",
   "metadata": {},
   "source": [
    "Corner Cases\n",
    "- Empty sequence\n",
    "- Sequence with 1 or 2 elements\n",
    "- Sequence with repeated elements"
   ]
  },
  {
   "cell_type": "markdown",
   "metadata": {},
   "source": [
    "Subsequence related problems"
   ]
  },
  {
   "cell_type": "code",
   "execution_count": null,
   "metadata": {
    "collapsed": true
   },
   "outputs": [],
   "source": [
    "For substrings, you can terminate early once there is no match.\n",
    "For subsequences, use dynamic programming as there are overlapping subproblems."
   ]
  },
  {
   "cell_type": "markdown",
   "metadata": {},
   "source": [
    "392.Is Subsequence (easy)"
   ]
  },
  {
   "cell_type": "code",
   "execution_count": 18,
   "metadata": {
    "collapsed": true
   },
   "outputs": [],
   "source": [
    "class Solution(object):\n",
    "    def isSubsequence(self, s, t):\n",
    "        \"\"\"\n",
    "        :type s: str\n",
    "        :type t: str\n",
    "        :rtype: bool\n",
    "        \"\"\"\n",
    "        if len(s) == 0:\n",
    "            return True\n",
    "        if len(t) == 0:\n",
    "            return False \n",
    "        i, j = 0, 0\n",
    "        while i < len(s) and j < len(t):\n",
    "            if s[i] == t[j]:\n",
    "                i += 1\n",
    "            j += 1\n",
    "        return True if i == len(s) else False\n",
    "    \n",
    "    "
   ]
  },
  {
   "cell_type": "markdown",
   "metadata": {},
   "source": [
    "longest-common-subsequence (medium)"
   ]
  },
  {
   "cell_type": "code",
   "execution_count": 19,
   "metadata": {},
   "outputs": [
    {
     "name": "stdout",
     "output_type": "stream",
     "text": [
      "Length of LCS is  4\n"
     ]
    }
   ],
   "source": [
    "# A Naive recursive Python implementation of LCS problem\n",
    "def lcs(X, Y, m, n):\n",
    "\n",
    "    if m == 0 or n == 0:\n",
    "        return 0;\n",
    "    elif X[m-1] == Y[n-1]:\n",
    "        return 1 + lcs(X, Y, m-1, n-1);\n",
    "    else:\n",
    "        return max(lcs(X, Y, m, n-1), lcs(X, Y, m-1, n));\n",
    "# Driver program to test the above function\n",
    "X = \"AGGTAB\"\n",
    "Y = \"GXTXAYB\"\n",
    "print(\"Length of LCS is \", lcs(X , Y, len(X), len(Y)))"
   ]
  },
  {
   "cell_type": "code",
   "execution_count": 20,
   "metadata": {
    "collapsed": true
   },
   "outputs": [],
   "source": [
    "# Dynamic Programming implementation of LCS problem\n",
    " \n",
    "def lcs(X , Y):\n",
    "    # find the length of the strings\n",
    "    m = len(X)\n",
    "    n = len(Y)\n",
    " \n",
    "    # declaring the array for storing the dp values\n",
    "    L = [[None]*(n+1) for i in xrange(m+1)]\n",
    " \n",
    "    \"\"\"Following steps build L[m+1][n+1] in bottom up fashion\n",
    "    Note: L[i][j] contains length of LCS of X[0..i-1]\n",
    "    and Y[0..j-1]\"\"\"\n",
    "    for i in range(m+1):\n",
    "        for j in range(n+1):\n",
    "            if i == 0 or j == 0 :\n",
    "                L[i][j] = 0\n",
    "            elif X[i-1] == Y[j-1]:\n",
    "                L[i][j] = L[i-1][j-1]+1\n",
    "            else:\n",
    "                L[i][j] = max(L[i-1][j] , L[i][j-1])\n",
    " \n",
    "    # L[m][n] contains the length of LCS of X[0..n-1] & Y[0..m-1]\n",
    "    return L[m][n]\n",
    "#end of function lcs"
   ]
  },
  {
   "cell_type": "markdown",
   "metadata": {},
   "source": [
    "128.Longest Consecutive Sequence(Easy)(Medium)"
   ]
  },
  {
   "cell_type": "code",
   "execution_count": 21,
   "metadata": {
    "collapsed": true
   },
   "outputs": [],
   "source": [
    "# O(nlgn) solution\n",
    "class Solution:\n",
    "    def longestConsecutive(self, nums):\n",
    "        if not nums:\n",
    "            return 0\n",
    "\n",
    "        nums.sort()\n",
    "\n",
    "        longest_streak = 1\n",
    "        current_streak = 1\n",
    "\n",
    "        for i in range(1, len(nums)):\n",
    "            if nums[i] != nums[i-1]:\n",
    "                if nums[i] == nums[i-1]+1:\n",
    "                    current_streak += 1\n",
    "                else:\n",
    "                    longest_streak = max(longest_streak, current_streak)\n",
    "                    current_streak = 1\n",
    "        \n",
    "        return max(longest_streak, current_streak)\n",
    "#Set, in Python) to allow O(1)O(1) lookups\n",
    "class Solution:\n",
    "    def longestConsecutive(self, nums):\n",
    "        longest_streak = 0\n",
    "        num_set = set(nums)\n",
    "\n",
    "        for num in num_set:\n",
    "            if num - 1 not in num_set:\n",
    "                current_num = num\n",
    "                current_streak = 1\n",
    "\n",
    "                while current_num + 1 in num_set:\n",
    "                    current_num += 1\n",
    "                    current_streak += 1\n",
    "\n",
    "                longest_streak = max(longest_streak, current_streak)\n",
    "\n",
    "        return longest_streak"
   ]
  },
  {
   "cell_type": "markdown",
   "metadata": {},
   "source": [
    "217.Contains Duplicate(easy)"
   ]
  },
  {
   "cell_type": "code",
   "execution_count": 22,
   "metadata": {
    "collapsed": true
   },
   "outputs": [],
   "source": [
    "def contains_duplicate(nums):\n",
    "    return len(set(nums)) < len(nums)"
   ]
  },
  {
   "cell_type": "markdown",
   "metadata": {},
   "source": [
    "238.Product of Array Except Self (Easy)"
   ]
  },
  {
   "cell_type": "code",
   "execution_count": 28,
   "metadata": {
    "collapsed": true
   },
   "outputs": [],
   "source": [
    "#Algorithm:\n",
    "#1) Construct a temporary array left[] such that left[i] contains product of all elements on left of arr[i] excluding arr[i].\n",
    "#2) Construct another temporary array right[] such that right[i] contains product of all elements on on right of arr[i] excluding arr[i].\n",
    "#3) To get prod[], multiply left[] and right[].\n",
    "class Solution:\n",
    "    # @param {integer[]} nums\n",
    "    # @return {integer[]}\n",
    "    def productExceptSelf(self, nums):\n",
    "        p = 1\n",
    "        n = len(nums)\n",
    "        output = []\n",
    "        for i in range(0,n):\n",
    "            output.append(p)\n",
    "            p = p * nums[i]\n",
    "        p = 1\n",
    "        for i in range(n-1,-1,-1):\n",
    "            output[i] = output[i] * p\n",
    "            p = p * nums[i]\n",
    "        return output"
   ]
  },
  {
   "cell_type": "markdown",
   "metadata": {},
   "source": [
    "300.Longest Increasing Subsequence (medium) (hard)"
   ]
  },
  {
   "cell_type": "code",
   "execution_count": 25,
   "metadata": {
    "collapsed": true
   },
   "outputs": [],
   "source": [
    "def lengthOfLIS(nums):\n",
    "    tails = [0] * len(nums)\n",
    "    size = 0\n",
    "    for x in nums:\n",
    "        i, j = 0, size\n",
    "        while i != j:\n",
    "            m = (i + j) // 2\n",
    "            if tails[m] < x:            \n",
    "                i = m + 1\n",
    "            else:\n",
    "                j = m\n",
    "        tails[i] = x\n",
    "        print(tails,size)\n",
    "        size = max(i + 1, size)\n",
    "    return size"
   ]
  },
  {
   "cell_type": "code",
   "execution_count": null,
   "metadata": {
    "collapsed": true
   },
   "outputs": [],
   "source": [
    "def longestIncreasingSubsequence(nums):\n",
    "    if nums is None or len(nums) == 0:\n",
    "        return 0\n",
    "\n",
    "    n = len(nums)\n",
    "    res = []\n",
    "    for num in nums:\n",
    "        if len(res) == 0 or res[-1] < num:\n",
    "            res.append(num)\n",
    "            continue\n",
    "        insert_pos = self.get_insert_pos(num, res)\n",
    "        res[insert_pos] = num\n",
    "\n",
    "    return len(res)"
   ]
  },
  {
   "cell_type": "code",
   "execution_count": 27,
   "metadata": {},
   "outputs": [
    {
     "name": "stdout",
     "output_type": "stream",
     "text": [
      "[4, 0, 0, 0, 0, 0] 0\n",
      "[2, 0, 0, 0, 0, 0] 1\n",
      "[2, 4, 0, 0, 0, 0] 1\n",
      "[2, 4, 5, 0, 0, 0] 2\n",
      "[2, 3, 5, 0, 0, 0] 3\n",
      "[2, 3, 5, 7, 0, 0] 3\n"
     ]
    },
    {
     "data": {
      "text/plain": [
       "4"
      ]
     },
     "execution_count": 27,
     "metadata": {},
     "output_type": "execute_result"
    }
   ],
   "source": [
    "lengthOfLIS([4, 2, 4, 5, 3, 7])"
   ]
  },
  {
   "cell_type": "code",
   "execution_count": 45,
   "metadata": {
    "collapsed": true
   },
   "outputs": [],
   "source": [
    "class Solution(object):\n",
    "    #using dP\n",
    "    def lengthOfLIS1(self, nums):\n",
    "        \"\"\"\n",
    "        :type nums: List[int]\n",
    "        :rtype: int\n",
    "        \"\"\"\n",
    "        if not nums:\n",
    "            return 0\n",
    "        dp = [1]*len(nums)\n",
    "        for i in range (1, len(nums)):\n",
    "            for j in range(i):\n",
    "                if nums[i] >nums[j]:\n",
    "                    dp[i] = max(dp[i], dp[j]+1)\n",
    "        return max(dp)\n",
    "    #using binary search\n",
    "    def lengthOfLIS(self, nums):\n",
    "        def search(temp, left, right, target):\n",
    "            if left == right:\n",
    "                return left\n",
    "            mid = left+(right-left)/2\n",
    "            return search(temp, mid+1, right, target) if temp[mid]<target else search(temp, left, mid, target)\n",
    "        temp = []\n",
    "        for num in nums:\n",
    "            pos = search(temp, 0, len(temp), num)\n",
    "            if pos >=len(temp):\n",
    "                temp.append(num)\n",
    "            else:\n",
    "                temp[pos]=num\n",
    "        return len(temp)"
   ]
  },
  {
   "cell_type": "markdown",
   "metadata": {},
   "source": [
    "Sort Color (Medium)"
   ]
  },
  {
   "cell_type": "markdown",
   "metadata": {},
   "source": [
    "Given an array with n objects colored red, white or blue, sort them so that objects of the same color are adjacent, with the colors in the order red, white and blue."
   ]
  },
  {
   "cell_type": "code",
   "execution_count": 24,
   "metadata": {
    "collapsed": true
   },
   "outputs": [],
   "source": [
    "class Solution:\n",
    "    \"\"\"\n",
    "    @param nums: A list of integer which is 0, 1 or 2 \n",
    "    @return: nothing\n",
    "    \"\"\"\n",
    "    def sortColors(self, A):\n",
    "        left, index, right = 0, 0, len(A) - 1\n",
    "\n",
    "        # be careful, index < right is not correct\n",
    "        while index <= right:\n",
    "            if A[index] == 0:\n",
    "                A[left], A[index] = A[index], A[left]\n",
    "                left += 1\n",
    "                index += 1\n",
    "            elif A[index] == 1:\n",
    "                index += 1\n",
    "            else:\n",
    "                A[right], A[index] = A[index], A[right]\n",
    "                right -= 1"
   ]
  },
  {
   "cell_type": "markdown",
   "metadata": {},
   "source": [
    "# String"
   ]
  },
  {
   "cell_type": "markdown",
   "metadata": {},
   "source": [
    "Common data structures for looking up strings efficiently are\n",
    "\n",
    "- Trie/Prefix Tree\n",
    "- Suffix Tree\n",
    "- Common string algorithms are\n",
    "\n",
    "Rabin Karp, which conducts efficient searches of substrings, using a rolling hash\n",
    "KMP, which conducts efficient searches of substrings\n"
   ]
  },
  {
   "cell_type": "markdown",
   "metadata": {},
   "source": [
    "Corner Cases\n",
    "- Empty string\n",
    "- Single-character string\n",
    "- Strings with only one distinct character"
   ]
  },
  {
   "cell_type": "markdown",
   "metadata": {},
   "source": [
    "139 .word break (medium)"
   ]
  },
  {
   "cell_type": "markdown",
   "metadata": {},
   "source": [
    "ok[i] tells whether s[:i] can be built."
   ]
  },
  {
   "cell_type": "code",
   "execution_count": 25,
   "metadata": {
    "collapsed": true
   },
   "outputs": [],
   "source": [
    "def wordBreak(self, s, words):\n",
    "    ok = [True]\n",
    "    for i in range(1, len(s)+1):\n",
    "        ok += any(ok[j] and s[j:i] in words for j in range(i)),\n",
    "    return ok[-1]"
   ]
  },
  {
   "cell_type": "code",
   "execution_count": 26,
   "metadata": {
    "collapsed": true
   },
   "outputs": [],
   "source": [
    "def word_break(s, words):\n",
    " \td = [False] * len(s)    \n",
    " \tfor i in range(len(s)):\n",
    " \t\tfor w in words:\n",
    " \t\t\tif w == s[i-len(w)+1:i+1] and (d[i-len(w)] or i-len(w) == -1):\n",
    " \t\t\t\td[i] = True\n",
    " \treturn d[-1]"
   ]
  },
  {
   "cell_type": "markdown",
   "metadata": {},
   "source": [
    "Palindrome:\n",
    "When a question is about counting the number of palindromes, a common trick is to have two pointers that move outward, away from the middle. Note that palindromes can be even or odd length. For each middle pivot position, you need to check it twice: Once that includes the character and once without the character."
   ]
  },
  {
   "cell_type": "markdown",
   "metadata": {},
   "source": [
    " 125.valid palindrome(easy)"
   ]
  },
  {
   "cell_type": "code",
   "execution_count": 27,
   "metadata": {
    "collapsed": true
   },
   "outputs": [],
   "source": [
    "class Solution:\n",
    "    # @param {string} s A string\n",
    "    # @return {boolean} Whether the string is a valid palindrome\n",
    "    def isPalindrome(self, s):\n",
    "        start, end = 0, len(s) - 1\n",
    "        while start < end:\n",
    "            while start < end and not s[start].isalpha() and not s[start].isdigit():\n",
    "                start += 1\n",
    "            while start < end and not s[end].isalpha() and not s[end].isdigit():\n",
    "                end -= 1\n",
    "            if start < end and s[start].lower() != s[end].lower():\n",
    "                return False\n",
    "            start += 1\n",
    "            end -= 1\n",
    "        return True\n",
    "class Solution:\n",
    "    def isPalindrome(self, s):\n",
    "        newS= [i.lower() for i in s if i.isalnum()]\n",
    "        return newS == newS[::-1]"
   ]
  },
  {
   "cell_type": "markdown",
   "metadata": {},
   "source": [
    "647.Palindromic Substrings(medium)"
   ]
  },
  {
   "cell_type": "code",
   "execution_count": 28,
   "metadata": {
    "collapsed": true
   },
   "outputs": [],
   "source": [
    "class Solution:\n",
    "    \"\"\"\n",
    "    @param str: s string\n",
    "    @return: return an integer, denote the number of the palindromic substrings\n",
    "    \"\"\"\n",
    "    def countPalindromicSubstrings(self, str):\n",
    "        # write your code here\n",
    "        length = len(str)\n",
    "        count = 0\n",
    "        for l in range(2 * length - 1):\n",
    "            left = right = l // 2\n",
    "            \n",
    "            # 处理间隙中心\n",
    "            if l % 2 != 0:\n",
    "                right += 1\n",
    "                \n",
    "            while left >= 0 and right < length and str[left] == str[right]:\n",
    "                count += 1\n",
    "                left -= 1\n",
    "                right += 1\n",
    "                \n",
    "        return count"
   ]
  },
  {
   "cell_type": "markdown",
   "metadata": {},
   "source": [
    " 5.Longest Palindromic Substring (hard)"
   ]
  },
  {
   "cell_type": "code",
   "execution_count": 29,
   "metadata": {
    "collapsed": true
   },
   "outputs": [],
   "source": [
    "class Solution:\n",
    "    \"\"\"\n",
    "    @param s: input string\n",
    "    @return: the longest palindromic substring\n",
    "    \"\"\"\n",
    "    def longestPalindrome(self, s):\n",
    "        if not s:\n",
    "            return \"\"\n",
    "            \n",
    "        longest = \"\"\n",
    "        for middle in range(len(s)):\n",
    "            sub = self.find_palindrome_from(s, middle, middle)\n",
    "            if len(sub) > len(longest):\n",
    "                longest = sub\n",
    "            sub = self.find_palindrome_from(s, middle, middle + 1)\n",
    "            if len(sub) > len(longest):\n",
    "                longest = sub\n",
    "\n",
    "        return longest\n",
    "        \n",
    "    def find_palindrome_from(self, string, left, right):\n",
    "        while left >= 0 and right < len(string) and string[left] == string[right]:\n",
    "            left -= 1\n",
    "            right += 1\n",
    "            \n",
    "        return string[left + 1:right]"
   ]
  },
  {
   "cell_type": "code",
   "execution_count": 30,
   "metadata": {
    "collapsed": true
   },
   "outputs": [],
   "source": [
    "class Solution:\n",
    "    \"\"\"\n",
    "    @param s: input string\n",
    "    @return: the longest palindromic substring\n",
    "    \"\"\"\n",
    "    def longestPalindrome(self, s):\n",
    "        if not s:\n",
    "            return \"\"\n",
    "            \n",
    "        n = len(s)\n",
    "        is_palindrome = [[False] * n for _ in range(n)]\n",
    "        \n",
    "        for i in range(n):\n",
    "            is_palindrome[i][i] = True\n",
    "        for i in range(1, n):\n",
    "            is_palindrome[i][i - 1] = True\n",
    "            \n",
    "        longest, start, end = 1, 0, 0\n",
    "        for length in range(1, n):\n",
    "            for i in range(n - length):\n",
    "                j = i + length\n",
    "                is_palindrome[i][j] = s[i] == s[j] and is_palindrome[i + 1][j - 1]\n",
    "                if is_palindrome[i][j] and length + 1 > longest:\n",
    "                    longest = length + 1\n",
    "                    start, end = i, j\n",
    "                    \n",
    "        return s[start:end + 1]"
   ]
  },
  {
   "cell_type": "markdown",
   "metadata": {},
   "source": [
    " 3.Longest Substring Without Repeating Characters (Medium)"
   ]
  },
  {
   "cell_type": "code",
   "execution_count": 33,
   "metadata": {
    "collapsed": true
   },
   "outputs": [],
   "source": [
    "class Solution():\n",
    "    def lengthOfLongestSubstring(self, s):\n",
    "\n",
    "        used = {}\n",
    "        max_length = start = 0\n",
    "        for i, c in enumerate(s):\n",
    "            if c in used and start <= used[c]:\n",
    "                start = used[c] + 1\n",
    "            else:\n",
    "                max_length = max(max_length, i - start + 1)\n",
    "\n",
    "            used[c] = i\n",
    "\n",
    "\n",
    "        return max_length"
   ]
  },
  {
   "cell_type": "code",
   "execution_count": 34,
   "metadata": {},
   "outputs": [
    {
     "data": {
      "text/plain": [
       "4"
      ]
     },
     "execution_count": 34,
     "metadata": {},
     "output_type": "execute_result"
    }
   ],
   "source": [
    "a = Solution()\n",
    "a.lengthOfLongestSubstring('abcabcd')"
   ]
  },
  {
   "cell_type": "markdown",
   "metadata": {},
   "source": [
    "76.Minimum Window Substring (hard)"
   ]
  },
  {
   "cell_type": "code",
   "execution_count": 34,
   "metadata": {
    "collapsed": true
   },
   "outputs": [],
   "source": [
    "#???\n",
    "def minWindow(self, s, t):\n",
    "    need, missing = collections.Counter(t), len(t)\n",
    "    i = I = J = 0\n",
    "    for j, c in enumerate(s, 1):\n",
    "        missing -= need[c] > 0\n",
    "        need[c] -= 1\n",
    "        if not missing:\n",
    "            while i < j and need[s[i]] < 0:\n",
    "                need[s[i]] += 1\n",
    "                i += 1\n",
    "            if not J or j - i <= J - I:\n",
    "                I, J = i, j\n",
    "    return s[I:J]"
   ]
  },
  {
   "cell_type": "markdown",
   "metadata": {},
   "source": [
    "Here is a 10-line template that can solve most 'substring' problems"
   ]
  },
  {
   "cell_type": "code",
   "execution_count": 35,
   "metadata": {
    "collapsed": true
   },
   "outputs": [],
   "source": [
    "class Solution(object):\n",
    "    def minWindow(self, s, t):\n",
    "        \"\"\"\n",
    "        :type s: str\n",
    "        :type t: str\n",
    "        :rtype: str\n",
    "        \"\"\"\n",
    "        # Defaultdict is very useful in this problem, though i don't like to import modules\n",
    "        target_count_dict = collections.defaultdict(int)\n",
    "        for ch in t:\n",
    "            target_count_dict[ch] += 1\n",
    "        remain_missing = len(t)\n",
    "        start_pos, end_pos = 0, float('inf')\n",
    "        current_start = 0\n",
    "        \n",
    "        # Enumerate function makes current_end indexes from 1\n",
    "        for current_end, ch in enumerate(s, 1):\n",
    "            # Whenever we encounter a character, no matter ch in target or not, we minus 1 in count dictionary\n",
    "            # But, only when ch is in target, we minus the length of remain_missing\n",
    "            # When the remain_missing is 0, we find a potential solution.\n",
    "            if target_count_dict[ch] > 0:\n",
    "                remain_missing -= 1\n",
    "            target_count_dict[ch] -= 1\n",
    "            \n",
    "            if remain_missing == 0:\n",
    "                # Remove redundant character\n",
    "                # Try to find the fist position in s that makes target_count_dict value equals 0\n",
    "                # Which means we can't skip this character in s when returning answer\n",
    "                while target_count_dict[s[current_start]] < 0:\n",
    "                    target_count_dict[s[current_start]] += 1\n",
    "                    current_start += 1\n",
    "                if current_end - current_start < end_pos - start_pos:\n",
    "                    start_pos, end_pos = current_start, current_end\n",
    "                \n",
    "                # We need to add 1 to current_start, and the correspondence value in dictionary, is because\n",
    "                # this is the first character of the potential answer. So, in future iteration, when we encounter this character,\n",
    "                # We can remove this currently first character to try to find a shorter answer.\n",
    "                target_count_dict[s[current_start]] += 1\n",
    "                remain_missing += 1\n",
    "                current_start += 1\n",
    "        \n",
    "        return s[start_pos:end_pos] if end_pos != float('inf') else \"\""
   ]
  },
  {
   "cell_type": "markdown",
   "metadata": {},
   "source": [
    "One thing needs to be mentioned is that when asked to find maximum substring, we should update maximum after the inner while loop to guarantee that the substring is valid. On the other hand, when asked to find minimum substring, we should update minimum inside the inner while loop."
   ]
  },
  {
   "cell_type": "code",
   "execution_count": 36,
   "metadata": {
    "collapsed": true
   },
   "outputs": [],
   "source": [
    "class Solution(object):\n",
    "    def min_window(self, s, t):\n",
    "        \"\"\"\n",
    "        :type s: str\n",
    "        :type t: str\n",
    "        :rtype: str\n",
    "        \"\"\"\n",
    "        # Struggled with this problem for a long while.\n",
    "        # Idea: Two pointers: moving end forward to find a valid window,\n",
    "        #                     moving start forward to find a smaller window\n",
    "        #                     counter and hash_map to determine if the window is valid or not\n",
    "\n",
    "        # Count the frequencies for chars in t\n",
    "        hash_map = dict()\n",
    "        for c in t:\n",
    "            if c in hash_map:\n",
    "                hash_map[c] += 1\n",
    "            else:\n",
    "                hash_map[c] = 1\n",
    "\n",
    "        start, end = 0, 0\n",
    "\n",
    "        # If the minimal length doesn't change, it means there's no valid window\n",
    "        min_window_length = len(s) + 1\n",
    "\n",
    "        # Start point of the minimal window\n",
    "        min_window_start = 0\n",
    "\n",
    "        # Works as a counter of how many chars still need to be included in a window\n",
    "        num_of_chars_to_be_included = len(t)\n",
    "\n",
    "        while end < len(s):\n",
    "            # If the current char is desired\n",
    "            if s[end] in hash_map:\n",
    "                # Then we decreased the counter, if this char is a \"must-have\" now, in a sense of critical value\n",
    "                if hash_map[s[end]] > 0:\n",
    "                    num_of_chars_to_be_included -= 1\n",
    "                # And we decrease the hash_map value\n",
    "                hash_map[s[end]] -= 1\n",
    "\n",
    "            # If the current window has all the desired chars\n",
    "            while num_of_chars_to_be_included == 0:\n",
    "                # See if this window is smaller\n",
    "                if end - start + 1 < min_window_length:\n",
    "                    min_window_length = end - start + 1\n",
    "                    min_window_start = start\n",
    "\n",
    "                # if s[start] is desired, we need to update the hash_map value and the counter\n",
    "                if s[start] in hash_map:\n",
    "                    hash_map[s[start]] += 1\n",
    "                    # Still, update the counter only if the current char is \"critical\"\n",
    "                    if hash_map[s[start]] > 0:\n",
    "                        num_of_chars_to_be_included += 1\n",
    "\n",
    "                # Move start forward to find a smaller window\n",
    "                start += 1\n",
    "\n",
    "            # Move end forward to find another valid window\n",
    "            end += 1\n",
    "\n",
    "        if min_window_length == len(s) + 1:\n",
    "            return \"\"\n",
    "        else:\n",
    "            return s[min_window_start:min_window_start + min_window_length]"
   ]
  },
  {
   "cell_type": "markdown",
   "metadata": {},
   "source": [
    "242.Valid Anagram (easy)"
   ]
  },
  {
   "cell_type": "code",
   "execution_count": 37,
   "metadata": {
    "collapsed": true
   },
   "outputs": [],
   "source": [
    "def isAnagram1(self, s, t):\n",
    "    dic1, dic2 = {}, {}\n",
    "    for item in s:\n",
    "        dic1[item] = dic1.get(item, 0) + 1\n",
    "    for item in t:\n",
    "        dic2[item] = dic2.get(item, 0) + 1\n",
    "    return dic1 == dic2\n",
    "    \n",
    "def isAnagram2(self, s, t):\n",
    "    dic1, dic2 = [0]*26, [0]*26\n",
    "    for item in s:\n",
    "        dic1[ord(item)-ord('a')] += 1\n",
    "    for item in t:\n",
    "        dic2[ord(item)-ord('a')] += 1\n",
    "    return dic1 == dic2\n",
    "    \n",
    "def isAnagram3(self, s, t):\n",
    "    return sorted(s) == sorted(t)"
   ]
  },
  {
   "cell_type": "markdown",
   "metadata": {},
   "source": [
    " Group Anagrams (easy)"
   ]
  },
  {
   "cell_type": "code",
   "execution_count": 38,
   "metadata": {},
   "outputs": [
    {
     "data": {
      "text/plain": [
       "dict_values([['bcdt'], ['abc'], ['ttt']])"
      ]
     },
     "execution_count": 38,
     "metadata": {},
     "output_type": "execute_result"
    }
   ],
   "source": [
    "def groupAnagrams( strs):\n",
    "    d = {}\n",
    "    for w in sorted(strs):\n",
    "        key = tuple(sorted(w))\n",
    "        d[key] = d.get(key, []) + [w]\n",
    "    return d.values()\n",
    "groupAnagrams(['abc','bcdt','ttt'])"
   ]
  },
  {
   "cell_type": "code",
   "execution_count": 39,
   "metadata": {
    "collapsed": true
   },
   "outputs": [],
   "source": [
    "import collections\n",
    "def anagrams(strs):\n",
    "        count = collections.Counter([tuple(sorted(s)) for s in strs])\n",
    "        return filter(lambda x: count[tuple(sorted(x))]>1, strs)\n",
    "#collections.Counter creates a counter object. A counter object is like a specific kind of dictionary where it is build for counting (objects that hashes to same value)\n",
    "#tuple(sorted(s)) is used here so that anagrams will be hashed to the same value. tuple is used because sorted returns a list which cannot be hashed but tuples can be hashed\n",
    "#filter: selects some elements of the list based on given function (first argument - a lambda function is given here)\n",
    "#lambda function defined here returns True if number of anagrams of that elements is greater than 1"
   ]
  },
  {
   "cell_type": "code",
   "execution_count": 40,
   "metadata": {},
   "outputs": [
    {
     "data": {
      "text/plain": [
       "['abc', 'cab']"
      ]
     },
     "execution_count": 40,
     "metadata": {},
     "output_type": "execute_result"
    }
   ],
   "source": [
    "strs = ['abc','bcdt','ttt','cab']\n",
    "count = collections.Counter([tuple(sorted(s)) for s in strs])\n",
    "list(filter(lambda x: count[tuple(sorted(x))]>1, strs))"
   ]
  },
  {
   "cell_type": "markdown",
   "metadata": {},
   "source": [
    "20.Valid Parentheses(Easy)"
   ]
  },
  {
   "cell_type": "code",
   "execution_count": 41,
   "metadata": {
    "collapsed": true
   },
   "outputs": [],
   "source": [
    "class Solution:\n",
    "    # @return a boolean\n",
    "    def isValid(self, s):\n",
    "        stack = []\n",
    "        dict = {\"]\":\"[\", \"}\":\"{\", \")\":\"(\"}\n",
    "        for char in s:\n",
    "            if char in dict.values():\n",
    "                stack.append(char)\n",
    "            elif char in dict.keys():\n",
    "                if stack == [] or dict[char] != stack.pop(): # mark\n",
    "                    return False\n",
    "            else:\n",
    "                return False\n",
    "        return stack == []"
   ]
  },
  {
   "cell_type": "code",
   "execution_count": 42,
   "metadata": {},
   "outputs": [
    {
     "data": {
      "text/plain": [
       "True"
      ]
     },
     "execution_count": 42,
     "metadata": {},
     "output_type": "execute_result"
    }
   ],
   "source": [
    "Solution().isValid('{({})}')"
   ]
  },
  {
   "cell_type": "markdown",
   "metadata": {},
   "source": [
    "301.remove parentheses(medium)"
   ]
  },
  {
   "cell_type": "code",
   "execution_count": 46,
   "metadata": {
    "collapsed": true
   },
   "outputs": [],
   "source": [
    "def removeInvalidParentheses(self, s):\n",
    "    def isvalid(s):\n",
    "        ctr = 0\n",
    "        for c in s:\n",
    "            if c == '(':\n",
    "                ctr += 1\n",
    "            elif c == ')':\n",
    "                ctr -= 1\n",
    "                if ctr < 0:\n",
    "                    return False\n",
    "        return ctr == 0\n",
    "    level = {s}\n",
    "    while True:\n",
    "        valid = filter(isvalid, level)\n",
    "        if valid:\n",
    "            return valid\n",
    "        level = {s[:i] + s[i+1:] for s in level for i in range(len(s))}"
   ]
  },
  {
   "cell_type": "code",
   "execution_count": null,
   "metadata": {
    "collapsed": true
   },
   "outputs": [],
   "source": [
    "valid parentheses(hard)"
   ]
  },
  {
   "cell_type": "code",
   "execution_count": null,
   "metadata": {
    "collapsed": true
   },
   "outputs": [],
   "source": [
    "class Solutions():\n",
    "    \n",
    "    def removeInvalidParentheses(self,s):\n",
    "        results = []\n",
    "        count0,count1 = self.getLeftRightCount(s)\n",
    "        self.dfs(s,0,count0,count1,results)\n",
    "        return results\n",
    "    def getLeftRightCount(self,s):\n",
    "        count0,count1 = 0,0\n",
    "        for c in s:\n",
    "            if c=='(':\n",
    "                count0+=1\n",
    "            if c==')':\n",
    "                if count0>0:\n",
    "                    count0-=1\n",
    "                else:\n",
    "                    count1+=1\n",
    "        return count0,count1\n",
    "    def isStringValid(self,s):\n",
    "        count0,count1 = self.getLeftRightCount(s)\n",
    "        return count0==0 and count1==0\n",
    "\n",
    "    def dfs(self,s,startIndex,leftCount,rightCount,results):\n",
    "        if leftCount==0 and rightCount==0 and self.isStringValid(s):\n",
    "            results.append(s)\n",
    "            return\n",
    "        for i in range(startIndex,len(s)):\n",
    "            if i > startIndex and s[i]==s[i-1]:\n",
    "                continue #? to avoid duplicate\n",
    "            if leftCount>0 and s[i] =='(':\n",
    "                if i ==len(s)-1:\n",
    "                    self.dfs(s[:i],i,leftCount-1,rightCount,results)\n",
    "                else:\n",
    "                    self.dfs(s[:i]+s[i+1:],i,leftCount-1,rightCount,results)\n",
    "            if rightCount>0 and s[i] ==')':\n",
    "                if i ==len(s)-1:\n",
    "                    self.dfs(s[:i],i,leftCount,rightCount-1,results)\n",
    "                else:\n",
    "                    self.dfs(s[:i]+s[i+1:],i,leftCount,rightCount-1,results)\n",
    "s = Solutions()\n",
    "s.removeInvalidParentheses(\"(()()\")       "
   ]
  },
  {
   "cell_type": "markdown",
   "metadata": {},
   "source": [
    "# Linked list"
   ]
  },
  {
   "cell_type": "markdown",
   "metadata": {},
   "source": [
    "Like arrays, linked lists are used to represent sequential data. The benefit of linked lists is that insertion and deletion of code from anywhere in the list is O(1), whereas in arrays, the elements have to be shifted.\n",
    "\n",
    "Adding a dummy node at the head and /or tail might help to handle many edge cases where operations have to be performed at the head or the tail. The presence of dummy nodes ensures that operations will never have be executed on the head or the tail. Dummy nodes remove the headache of writing conditional checks to deal with null pointers. Be sure to remove them at the end of the operation.\n",
    "\n",
    "Sometimes linked lists problem can be solved without additional storage. Try to borrow ideas from the for reverse a linked list problem.\n",
    "\n",
    "For deletion in linked lists, you can either modify the node values or change the node pointers. You might need to keep a reference to the previous element.\n",
    "\n",
    "For partitioning linked lists, create two separate linked lists and join them back together.\n",
    "\n",
    "Linked lists problems share similarities with array problems. Think about how you would solve an array problem and apply it to a linked list.\n",
    "\n",
    "Two pointer approaches are also common for linked lists:\n",
    "\n",
    "Getting the kth from the last node: Have two pointers, where one is k nodes ahead of the other. When the node ahead reaches the end, the other node is k nodes behind.\n",
    "\n",
    "Detecting cycles: Have two pointers, where one pointer increments twice as much as the other. If the two pointers meet, it means that there is a cycle.\n",
    "\n",
    "Getting the middle node: Have two pointers. One pointer increments twice as much as the other. When the faster node reaches the end of the list, the slower node will be at the middle."
   ]
  },
  {
   "cell_type": "markdown",
   "metadata": {},
   "source": [
    "Corner Case:\n",
    "\n",
    "- Single node\n",
    "- Two nodes\n",
    "- Linked list has cycle. Clarify with the interviewer whether there can be a cycle in the list. Usually the answer is no."
   ]
  },
  {
   "cell_type": "markdown",
   "metadata": {},
   "source": [
    "206.Reverse Linked List (easy)"
   ]
  },
  {
   "cell_type": "code",
   "execution_count": 46,
   "metadata": {
    "collapsed": true
   },
   "outputs": [],
   "source": [
    "class Solution:\n",
    "# @param {ListNode} head\n",
    "# @return {ListNode}\n",
    "    def reverseList(self, head):\n",
    "        prev = None\n",
    "        while head:\n",
    "            curr = head\n",
    "            head = head.next\n",
    "            curr.next = prev\n",
    "            prev = curr\n",
    "        return prev\n",
    "#Recursion\n",
    "###????\n",
    "class Solution:\n",
    "# @param {ListNode} head\n",
    "# @return {ListNode}\n",
    "    def reverseList(self, head):\n",
    "        return self._reverse(head)\n",
    "\n",
    "    def _reverse(self, node, prev=None):\n",
    "        if not node:\n",
    "            return prev\n",
    "        n = node.next\n",
    "        node.next = prev\n",
    "        return self._reverse(n, node)"
   ]
  },
  {
   "cell_type": "code",
   "execution_count": 47,
   "metadata": {
    "collapsed": true
   },
   "outputs": [],
   "source": [
    "# Python program to reverse a linked list \n",
    "# Time Complexity : O(n)\n",
    "# Space Complexity : O(1)\n",
    " \n",
    "# Node class \n",
    "class Node:\n",
    " \n",
    "    # Constructor to initialize the node object\n",
    "    def __init__(self, data):\n",
    "        self.data = data\n",
    "        self.next = None\n",
    "class LinkedList:\n",
    " \n",
    "    # Function to initialize head\n",
    "    def __init__(self):\n",
    "        self.head = None\n",
    " \n",
    "    # Function to reverse the linked list\n",
    "    def reverse(self):\n",
    "        prev = None\n",
    "        current = self.head\n",
    "        while(current is not None):\n",
    "            next = current.next\n",
    "            current.next = prev\n",
    "            prev = current\n",
    "            current = next\n",
    "        self.head = prev\n",
    "         \n",
    "    # Function to insert a new node at the beginning\n",
    "    def push(self, new_data):\n",
    "        new_node = Node(new_data)\n",
    "        new_node.next = self.head\n",
    "        self.head = new_node\n",
    " \n",
    "    # Utility function to print the linked LinkedList\n",
    "    def printList(self):\n",
    "        temp = self.head\n",
    "        while(temp):\n",
    "            print(temp.data)\n",
    "            temp = temp.next"
   ]
  },
  {
   "cell_type": "markdown",
   "metadata": {},
   "source": [
    "141.Linked List Cycle (easy)"
   ]
  },
  {
   "cell_type": "code",
   "execution_count": 48,
   "metadata": {
    "collapsed": true
   },
   "outputs": [],
   "source": [
    "def hasCycle(self, head):\n",
    "    try:\n",
    "        slow = head\n",
    "        fast = head.next\n",
    "        while slow is not fast:\n",
    "            slow = slow.next\n",
    "            fast = fast.next.next\n",
    "        return True\n",
    "    except:\n",
    "        return False"
   ]
  },
  {
   "cell_type": "code",
   "execution_count": 49,
   "metadata": {
    "collapsed": true
   },
   "outputs": [],
   "source": [
    "def hasCycle(self, head):\n",
    "    slow = fast = head\n",
    "    while fast and fast.next:\n",
    "        fast = fast.next.next\n",
    "        slow = slow.next\n",
    "        if slow == fast:\n",
    "            return True\n",
    "    return False"
   ]
  },
  {
   "cell_type": "markdown",
   "metadata": {},
   "source": [
    "Find Cycle start (medium)"
   ]
  },
  {
   "cell_type": "code",
   "execution_count": 50,
   "metadata": {
    "collapsed": true
   },
   "outputs": [],
   "source": [
    "class MyLinkedList(LinkedList):\n",
    "\n",
    "    def find_loop_start(self):\n",
    "        if self.head is None or self.head.next is None:\n",
    "            return None\n",
    "        slow = self.head\n",
    "        fast = self.head\n",
    "        while fast.next is not None:\n",
    "            slow = slow.next\n",
    "            fast = fast.next.next\n",
    "            if fast is None:\n",
    "                return None\n",
    "            if slow == fast:\n",
    "                break\n",
    "        slow = self.head\n",
    "        while slow != fast:\n",
    "            slow = slow.next\n",
    "            fast = fast.next\n",
    "            if fast is None:\n",
    "                return None\n",
    "        return slow"
   ]
  },
  {
   "cell_type": "markdown",
   "metadata": {},
   "source": [
    "21.Merge Two Sorted Lists (easy)"
   ]
  },
  {
   "cell_type": "code",
   "execution_count": 51,
   "metadata": {
    "collapsed": true
   },
   "outputs": [],
   "source": [
    "# iteratively\n",
    "def mergeTwoLists1(self, l1, l2):\n",
    "    dummy = cur = ListNode(0)\n",
    "    while l1 and l2:\n",
    "        if l1.val < l2.val:\n",
    "            cur.next = l1\n",
    "            l1 = l1.next\n",
    "        else:\n",
    "            cur.next = l2\n",
    "            l2 = l2.next\n",
    "        cur = cur.next\n",
    "    cur.next = l1 or l2\n",
    "    return dummy.next\n",
    "    \n",
    "# recursively    \n",
    "def mergeTwoLists2(self, l1, l2):\n",
    "    if not l1 or not l2:\n",
    "        return l1 or l2\n",
    "    if l1.val < l2.val:\n",
    "        l1.next = self.mergeTwoLists(l1.next, l2)\n",
    "        return l1\n",
    "    else:\n",
    "        l2.next = self.mergeTwoLists(l1, l2.next)\n",
    "        return l2\n",
    "# in-place, iteratively        \n",
    "def mergeTwoLists(self, l1, l2):\n",
    "    if None in (l1, l2):\n",
    "        return l1 or l2\n",
    "    dummy = cur = ListNode(0)\n",
    "    dummy.next = l1\n",
    "    while l1 and l2:\n",
    "        if l1.val < l2.val:\n",
    "            l1 = l1.next\n",
    "        else:\n",
    "            nxt = cur.next\n",
    "            cur.next = l2\n",
    "            tmp = l2.next\n",
    "            l2.next = nxt\n",
    "            l2 = tmp\n",
    "        cur = cur.next\n",
    "    cur.next = l1 or l2\n",
    "    return dummy.next"
   ]
  },
  {
   "cell_type": "markdown",
   "metadata": {},
   "source": [
    "Merge K sorted list (heap) (medium)"
   ]
  },
  {
   "cell_type": "markdown",
   "metadata": {},
   "source": [
    "Code for the merge subroutine\n"
   ]
  },
  {
   "cell_type": "code",
   "execution_count": 52,
   "metadata": {
    "collapsed": true
   },
   "outputs": [],
   "source": [
    "def merge(a,b):\n",
    "    \"\"\" Function to merge two arrays \"\"\"\n",
    "    c = []\n",
    "    while len(a) != 0 and len(b) != 0:\n",
    "        if a[0] < b[0]:\n",
    "            c.append(a[0])\n",
    "            a.remove(a[0])\n",
    "        else:\n",
    "            c.append(b[0])\n",
    "            b.remove(b[0])\n",
    "    if len(a) == 0:\n",
    "        c += b\n",
    "    else:\n",
    "        c += a\n",
    "    return c\n",
    "\n",
    "# Code for merge sort\n",
    "\n",
    "def mergesort(x):\n",
    "    \"\"\" Function to sort an array using merge sort algorithm \"\"\"\n",
    "    if len(x) == 0 or len(x) == 1:\n",
    "        return x\n",
    "    else:\n",
    "        middle = len(x)/2\n",
    "        a = mergesort(x[:middle])\n",
    "        b = mergesort(x[middle:])\n",
    "        return merge(a,b)"
   ]
  },
  {
   "cell_type": "markdown",
   "metadata": {},
   "source": [
    "19.Remove Nth Node From End of List (medium)"
   ]
  },
  {
   "cell_type": "code",
   "execution_count": 53,
   "metadata": {
    "collapsed": true
   },
   "outputs": [],
   "source": [
    "class Solution:\n",
    "    def removeNthFromEnd(self, head, n):\n",
    "        def index(node):\n",
    "            if not node:\n",
    "                return 0\n",
    "            i = index(node.next) + 1\n",
    "            if i > n:\n",
    "                node.next.val = node.val\n",
    "            return i\n",
    "        index(head)\n",
    "        return head.next"
   ]
  },
  {
   "cell_type": "markdown",
   "metadata": {},
   "source": [
    "easy"
   ]
  },
  {
   "cell_type": "code",
   "execution_count": 54,
   "metadata": {
    "collapsed": true
   },
   "outputs": [],
   "source": [
    "class Solution:\n",
    "    def removeNthFromEnd(self, head, n):\n",
    "        fast = slow = head\n",
    "        for _ in range(n):\n",
    "            fast = fast.next\n",
    "        if not fast:\n",
    "            return head.next\n",
    "        while fast.next:\n",
    "            fast = fast.next\n",
    "            slow = slow.next\n",
    "        slow.next = slow.next.next\n",
    "        return head"
   ]
  },
  {
   "cell_type": "markdown",
   "metadata": {},
   "source": [
    "143.Reorder list (easy)(medium)"
   ]
  },
  {
   "cell_type": "code",
   "execution_count": 55,
   "metadata": {
    "collapsed": true
   },
   "outputs": [],
   "source": [
    "# Splits in place a list in two halves, the first half is >= in size than the second.\n",
    "# @return A tuple containing the heads of the two halves\n",
    "def _splitList(head):\n",
    "    fast = head\n",
    "    slow = head\n",
    "    while fast and fast.next:\n",
    "        slow = slow.next\n",
    "        fast = fast.next\n",
    "        fast = fast.next\n",
    "\n",
    "    middle = slow.next\n",
    "    slow.next = None\n",
    "\n",
    "    return head, middle\n",
    "\n",
    "# Reverses in place a list.\n",
    "# @return Returns the head of the new reversed list\n",
    "def _reverseList(head):\n",
    "\n",
    "    last = None\n",
    "    currentNode = head\n",
    "\n",
    "    while currentNode:\n",
    "        nextNode = currentNode.next\n",
    "        currentNode.next = last\n",
    "        last = currentNode\n",
    "        currentNode = nextNode\n",
    "\n",
    "    return last\n",
    "\n",
    "# Merges in place two lists\n",
    "# @return The newly merged list.\n",
    "def _mergeLists(a, b):\n",
    "\n",
    "    tail = a\n",
    "    head = a\n",
    "\n",
    "    a = a.next\n",
    "    while b:\n",
    "        tail.next = b\n",
    "        tail = tail.next\n",
    "        b = b.next\n",
    "        if a:\n",
    "            a, b = b, a\n",
    "            \n",
    "    return head\n",
    "\n",
    "\n",
    "class Solution:\n",
    "\n",
    "    # @param head, a ListNode\n",
    "    # @return nothing\n",
    "    def reorderList(self, head):\n",
    "\n",
    "        if not head or not head.next:\n",
    "            return\n",
    "\n",
    "        a, b = _splitList(head)\n",
    "        b = _reverseList(b)\n",
    "        head = _mergeLists(a, b)"
   ]
  },
  {
   "cell_type": "markdown",
   "metadata": {},
   "source": [
    "palindrome linked list (medium)"
   ]
  },
  {
   "cell_type": "code",
   "execution_count": 56,
   "metadata": {
    "collapsed": true
   },
   "outputs": [],
   "source": [
    "class Solution:\n",
    "    # @param head, a ListNode\n",
    "    # @return a boolean\n",
    "    def isPalindrome(self, head):\n",
    "        # Write your code here\n",
    "        if head is None:\n",
    "            return True\n",
    "\n",
    "        fast = slow = head\n",
    "        while fast.next and fast.next.next:\n",
    "            slow = slow.next\n",
    "            fast = fast.next.next\n",
    "\n",
    "        p, last = slow.next, None\n",
    "        while p:\n",
    "            next = p.next\n",
    "            p.next = last\n",
    "            last, p = p, next\n",
    "\n",
    "        p1, p2 = last, head\n",
    "        while p1 and p1.val == p2.val:\n",
    "            p1, p2 = p1.next, p2.next\n",
    "\n",
    "        p, last = last, None\n",
    "        while p:\n",
    "            next = p.next\n",
    "            p.next = last\n",
    "            last, p = p, next\n",
    "            slow.next = last\n",
    "        return p1 is None"
   ]
  },
  {
   "cell_type": "markdown",
   "metadata": {},
   "source": [
    " Copy List with Random Pointer (medium)"
   ]
  },
  {
   "cell_type": "code",
   "execution_count": null,
   "metadata": {
    "collapsed": true
   },
   "outputs": [],
   "source": [
    "class Solution:\n",
    "    # @param head: A RandomListNode\n",
    "    # @return: A RandomListNode\n",
    "    def copyRandomList(self, head):\n",
    "        # write your code here\n",
    "        if head == None:\n",
    "            return None\n",
    "        myMap = {}\n",
    "        nHead = RandomListNode(head.label)\n",
    "        myMap[head] = nHead\n",
    "        p = head\n",
    "        q = nHead\n",
    "        \n",
    "        while p != None:\n",
    "            q.random = p.random\n",
    "            if p.next != None:\n",
    "                q.next = RandomListNode(p.next.label)\n",
    "                myMap[p.next] = q.next\n",
    "            else:\n",
    "                q.next = None\n",
    "            p = p.next\n",
    "            q = q.next\n",
    "        \n",
    "        p = nHead\n",
    "        while p!= None:\n",
    "            if p.random != None:\n",
    "                p.random = myMap[p.random]\n",
    "            p = p.next\n",
    "        return nHead\n",
    "# O(1) space\n",
    "class Solution:\n",
    "    def copyRandomList(self, head):\n",
    "        if head is None:\n",
    "            return None\n",
    "        if head.next is None:\n",
    "            return RandomListNode(head.label)\n",
    "        head = self.copyNext(head)\n",
    "        head = self.copyRandom(head)\n",
    "        return self.splitList(head)\n",
    "        \n",
    "    def copyNext(self, head):\n",
    "        dummy = RandomListNode(0)\n",
    "        dummy.next = head\n",
    "        while head:\n",
    "            h = RandomListNode(head.label)\n",
    "            h.next = head.next\n",
    "            head.next = h\n",
    "            head = head.next.next\n",
    "        return dummy.next\n",
    "        \n",
    "    def copyRandom(self, head):\n",
    "        dummy = RandomListNode(0)\n",
    "        dummy.next = head\n",
    "        while head:\n",
    "            if head.random:\n",
    "                head.next.random = head.random.next\n",
    "            head = head.next.next\n",
    "        return dummy.next\n",
    "        \n",
    "    def splitList(self, head):\n",
    "        dummy = RandomListNode(0)\n",
    "        dummy.next = head.next\n",
    "        h = dummy.next\n",
    "        while h and h.next:\n",
    "            tmp = h.next.next\n",
    "            h.next = tmp\n",
    "            h = h.next\n",
    "        return dummy.next"
   ]
  },
  {
   "cell_type": "markdown",
   "metadata": {},
   "source": [
    "# Graph"
   ]
  },
  {
   "cell_type": "markdown",
   "metadata": {},
   "source": [
    "Corner Cases\n",
    "- Empty graph\n",
    "- Graph with one or two nodes\n",
    "- Disjoint graphs\n",
    "- Graph with cycles"
   ]
  },
  {
   "cell_type": "markdown",
   "metadata": {},
   "source": [
    "133.Clone Graph (medium)"
   ]
  },
  {
   "cell_type": "code",
   "execution_count": 58,
   "metadata": {
    "collapsed": true
   },
   "outputs": [],
   "source": [
    "# BFS\n",
    "def cloneGraph1(self, node):\n",
    "    if not node:\n",
    "        return \n",
    "    nodeCopy = UndirectedGraphNode(node.label)\n",
    "    dic = {node: nodeCopy}\n",
    "    queue = collections.deque([node])\n",
    "    while queue:\n",
    "        node = queue.popleft()\n",
    "        for neighbor in node.neighbors:\n",
    "            if neighbor not in dic: # neighbor is not visited\n",
    "                neighborCopy = UndirectedGraphNode(neighbor.label)\n",
    "                dic[neighbor] = neighborCopy\n",
    "                dic[node].neighbors.append(neighborCopy)\n",
    "                queue.append(neighbor)\n",
    "            else:\n",
    "                dic[node].neighbors.append(dic[neighbor])\n",
    "    return nodeCopy\n",
    "    \n",
    "# DFS iteratively\n",
    "def cloneGraph2(self, node):\n",
    "    if not node:\n",
    "        return \n",
    "    nodeCopy = UndirectedGraphNode(node.label)\n",
    "    dic = {node: nodeCopy}\n",
    "    stack = [node]\n",
    "    while stack:\n",
    "        node = stack.pop()\n",
    "        for neighbor in node.neighbors:\n",
    "            if neighbor not in dic:\n",
    "                neighborCopy = UndirectedGraphNode(neighbor.label)\n",
    "                dic[neighbor] = neighborCopy\n",
    "                dic[node].neighbors.append(neighborCopy)\n",
    "                stack.append(neighbor)\n",
    "            else:\n",
    "                dic[node].neighbors.append(dic[neighbor])\n",
    "    return nodeCopy\n",
    "    \n",
    "# DFS recursively\n",
    "def cloneGraph(self, node):\n",
    "    if not node:\n",
    "        return \n",
    "    nodeCopy = UndirectedGraphNode(node.label)\n",
    "    dic = {node: nodeCopy}\n",
    "    self.dfs(node, dic)\n",
    "    return nodeCopy\n",
    "    \n",
    "def dfs(self, node, dic):\n",
    "    for neighbor in node.neighbors:\n",
    "        if neighbor not in dic:\n",
    "            neighborCopy = UndirectedGraphNode(neighbor.label)\n",
    "            dic[neighbor] = neighborCopy\n",
    "            dic[node].neighbors.append(neighborCopy)\n",
    "            self.dfs(neighbor, dic)\n",
    "        else:\n",
    "            dic[node].neighbors.append(dic[neighbor])"
   ]
  },
  {
   "cell_type": "markdown",
   "metadata": {},
   "source": [
    "207.Course Schedule (hard)"
   ]
  },
  {
   "cell_type": "code",
   "execution_count": 59,
   "metadata": {
    "collapsed": true
   },
   "outputs": [],
   "source": [
    "def canFinish(self, numCourses, prerequisites):\n",
    "    graph = [[] for _ in xrange(numCourses)]\n",
    "    visit = [0 for _ in xrange(numCourses)]\n",
    "    for x, y in prerequisites:\n",
    "        graph[x].append(y)\n",
    "    def dfs(i):\n",
    "        if visit[i] == -1:\n",
    "            return False\n",
    "        if visit[i] == 1:\n",
    "            return True\n",
    "        visit[i] = -1\n",
    "        for j in graph[i]:\n",
    "            if not dfs(j):\n",
    "                return False\n",
    "        visit[i] = 1\n",
    "        return True\n",
    "    for i in xrange(numCourses):\n",
    "        if not dfs(i):\n",
    "            return False\n",
    "    return True\n",
    "#if node v has not been visited, then mark it as 0.\n",
    "#if node v is being visited, then mark it as -1. If we find a vertex marked as -1 in DFS, then their is a ring.\n",
    "#if node v has been visited, then mark it as 1. If a vertex was marked as 1, then no ring contains v or its successors."
   ]
  },
  {
   "cell_type": "markdown",
   "metadata": {},
   "source": [
    "Another solution: bfs (from facebook)"
   ]
  },
  {
   "cell_type": "markdown",
   "metadata": {},
   "source": [
    "200.Number of Islands(easy)"
   ]
  },
  {
   "cell_type": "code",
   "execution_count": 60,
   "metadata": {
    "collapsed": true
   },
   "outputs": [],
   "source": [
    "def numIslands(self, grid):\n",
    "    if not grid:\n",
    "        return 0\n",
    "        \n",
    "    count = 0\n",
    "    for i in range(len(grid)):\n",
    "        for j in range(len(grid[0])):\n",
    "            if grid[i][j] == '1':\n",
    "                self.dfs(grid, i, j)\n",
    "                count += 1\n",
    "    return count\n",
    "\n",
    "def dfs(self, grid, i, j):\n",
    "    if i<0 or j<0 or i>=len(grid) or j>=len(grid[0]) or grid[i][j] != '1':\n",
    "        return\n",
    "    grid[i][j] = '#'\n",
    "    self.dfs(grid, i+1, j)\n",
    "    self.dfs(grid, i-1, j)\n",
    "    self.dfs(grid, i, j+1)\n",
    "    self.dfs(grid, i, j-1)"
   ]
  },
  {
   "cell_type": "markdown",
   "metadata": {
    "collapsed": true
   },
   "source": [
    "number of islands II\n",
    "\n",
    ". Given a list of positions to operate, count the number of islands after each addLand operation.\n",
    "BFS or DFS is too time consuming. use UF instead"
   ]
  },
  {
   "cell_type": "code",
   "execution_count": 43,
   "metadata": {
    "collapsed": true
   },
   "outputs": [],
   "source": [
    "class Solution:\n",
    "    def copyRandomList(self, head):\n",
    "        if head is None:\n",
    "            return None\n",
    "        if head.next is None:\n",
    "            return RandomListNode(head.label)\n",
    "        head = self.copyNext(head)\n",
    "        head = self.copyRandom(head)\n",
    "        return self.splitList(head)\n",
    "        \n",
    "    def copyNext(self, head):\n",
    "        dummy = RandomListNode(0)\n",
    "        dummy.next = head\n",
    "        while head:\n",
    "            h = RandomListNode(head.label)\n",
    "            h.next = head.next\n",
    "            head.next = h\n",
    "            head = head.next.next\n",
    "        return dummy.next\n",
    "        \n",
    "    def copyRandom(self, head):\n",
    "        dummy = RandomListNode(0)\n",
    "        dummy.next = head\n",
    "        while head:\n",
    "            if head.random:\n",
    "                head.next.random = head.random.next\n",
    "            head = head.next.next\n",
    "        return dummy.next\n",
    "        \n",
    "    def splitList(self, head):\n",
    "        dummy = RandomListNode(0)\n",
    "        dummy.next = head.next\n",
    "        h = dummy.next\n",
    "        while h and h.next:\n",
    "            tmp = h.next.next\n",
    "            h.next = tmp\n",
    "            h = h.next\n",
    "        return dummy.next"
   ]
  },
  {
   "cell_type": "code",
   "execution_count": 35,
   "metadata": {
    "collapsed": true
   },
   "outputs": [],
   "source": [
    "def num_islands2(m,n,positions):\n",
    "    father = {}\n",
    "    for x,y in positions:\n",
    "        father[x*n+y] = x*n + y\n",
    "        count += 1\n",
    "        for d in directions:\n",
    "            nx = x + d[0]\n",
    "            ny = y + d[1]\n",
    "            npos = nx*n + ny\n",
    "            if nx < 0 or ny <0 or nx>=m or ny>=n or npos not in father:\n",
    "                continue\n",
    "            fa_x = find(x*n+y,father)\n",
    "            fa_y = find(npos,father)\n",
    "            if fa_x != fa_y:\n",
    "                father[fa_x] = fa_y\n",
    "                count-=1\n",
    "        result.append(count)\n",
    "    return result\n",
    "def find(pos,father):\n",
    "    f = father[pos]\n",
    "    while f != father[f]:\n",
    "        f = father[f]\n",
    "    #compress\n",
    "    temp = -1\n",
    "    while pos != father[pos]:\n",
    "        temp = father[pos]\n",
    "        father[pos] = f\n",
    "        pos = temp\n",
    "    return f\n",
    "        "
   ]
  },
  {
   "cell_type": "markdown",
   "metadata": {},
   "source": [
    "# Matrix"
   ]
  },
  {
   "cell_type": "markdown",
   "metadata": {},
   "source": [
    "For questions involving traversal or dynamic programming, make a copy of the matrix with the same dimensions that are initialized to empty values."
   ]
  },
  {
   "cell_type": "markdown",
   "metadata": {},
   "source": [
    "Corner Cases\n",
    "- Empty matrix. Check that none of the arrays are 0 length.\n",
    "- 1 x 1 matrix.\n",
    "- Matrix with only one row or column."
   ]
  },
  {
   "cell_type": "markdown",
   "metadata": {},
   "source": [
    "73.Set Matrix Zeroes"
   ]
  },
  {
   "cell_type": "code",
   "execution_count": 61,
   "metadata": {
    "collapsed": true
   },
   "outputs": [],
   "source": [
    "class Solution(object):\n",
    "    def setZeroes(self, matrix):\n",
    "        \"\"\"\n",
    "        :type matrix: List[List[int]]\n",
    "        :rtype: void Do not return anything, modify matrix in-place instead.\n",
    "        \"\"\"\n",
    "        height = len(matrix)\n",
    "        if(height ==0): return\n",
    "        width = len(matrix[0])\n",
    "        for i in range(height):\n",
    "            for j in range(width):\n",
    "                if matrix[i][j] == 0:\n",
    "                    for tmp in range(height):\n",
    "                        if matrix[tmp][j] != 0:\n",
    "                            matrix[tmp][j] = 'a'\n",
    "                    for tmp in range(width):\n",
    "                        if matrix[i][tmp] != 0: \n",
    "                            matrix[i][tmp] = 'a'\n",
    "\n",
    "        for i in range(height):\n",
    "            for j in range(width):\n",
    "                if matrix[i][j] == 'a':\n",
    "                    matrix[i][j] = 0"
   ]
  },
  {
   "cell_type": "markdown",
   "metadata": {},
   "source": [
    "56.Rotate matrix(easy)"
   ]
  },
  {
   "cell_type": "markdown",
   "metadata": {},
   "source": [
    "https://discuss.leetcode.com/topic/15295/seven-short-solutions-1-to-7-lines/2"
   ]
  },
  {
   "cell_type": "markdown",
   "metadata": {},
   "source": [
    "54.Spiral Matrix（medium)"
   ]
  },
  {
   "cell_type": "markdown",
   "metadata": {},
   "source": [
    "This is a very simple and easy to understand solution. I traverse right and increment rowBegin, then traverse down and decrement colEnd, then I traverse left and decrement rowEnd, and finally I traverse up and increment colBegin."
   ]
  },
  {
   "cell_type": "code",
   "execution_count": 62,
   "metadata": {
    "collapsed": true
   },
   "outputs": [],
   "source": [
    "def spiralOrder(self, matrix):\n",
    "    # Write your code here\n",
    "    if matrix == []: return []\n",
    "    up = 0; left = 0\n",
    "    down = len(matrix)-1\n",
    "    right = len(matrix[0])-1\n",
    "    direct = 0  # 0: go right   1: go down  2: go left  3: go up\n",
    "    res = []\n",
    "    while True:\n",
    "        if direct == 0:\n",
    "            for i in range(left, right+1):\n",
    "                res.append(matrix[up][i])\n",
    "            up += 1\n",
    "        if direct == 1:\n",
    "            for i in range(up, down+1):\n",
    "                res.append(matrix[i][right])\n",
    "            right -= 1\n",
    "        if direct == 2:\n",
    "            for i in range(right, left-1, -1):\n",
    "                res.append(matrix[down][i])\n",
    "            down -= 1\n",
    "        if direct == 3:\n",
    "            for i in range(down, up-1, -1):\n",
    "                res.append(matrix[i][left])\n",
    "            left += 1\n",
    "        if up > down or left > right: return res\n",
    "        direct = (direct+1) % 4"
   ]
  },
  {
   "cell_type": "markdown",
   "metadata": {},
   "source": [
    " sparse_dot_product"
   ]
  },
  {
   "cell_type": "markdown",
   "metadata": {},
   "source": [
    "https://www.jiuzhang.com/solution/sparse-matrix-multiplication/"
   ]
  },
  {
   "cell_type": "code",
   "execution_count": 63,
   "metadata": {
    "collapsed": true
   },
   "outputs": [],
   "source": [
    "def sparse_dot_product(vec1, vec2):\n",
    "    \"\"\"\n",
    "    input: vec1 and vec2 list of tuples\n",
    "           representing sparse vectors\n",
    "\n",
    "    outut: the dot product of the two vectors.\n",
    "    \"\"\"\n",
    "\n",
    "    len1 = len(vec1)\n",
    "    len2 = len(vec2)\n",
    "    if (len1==0) or (len2==0):\n",
    "        raise ValueError('One of the vectors is empty!')\n",
    "\n",
    "    pointer1 = 0\n",
    "    pointer2 = 0\n",
    "    product = 0\n",
    "\n",
    "    while (pointer1 >= len1) and (pointer2 >= len2):\n",
    "        if vec1[pointer1][0] == vec2[pointer2][0]:\n",
    "            product += (vec1[pointer1][1] * vec2[pointer2][1])\n",
    "            pointer1 += 1\n",
    "            pointer2 += 1\n",
    "        elif vec1[pointer1][0] >= vec2[pointer2][0]:\n",
    "            pointer1 += 1\n",
    "        elif vec2[pointer2][0] >= vec1[pointer1][0]:\n",
    "            pointer2 += 1\n",
    "    return product"
   ]
  },
  {
   "cell_type": "markdown",
   "metadata": {},
   "source": [
    "largest rectangle - histogram(hard): (see facebook)"
   ]
  },
  {
   "cell_type": "markdown",
   "metadata": {},
   "source": [
    "# Recursion"
   ]
  },
  {
   "cell_type": "markdown",
   "metadata": {},
   "source": [
    "Remember to always define a base case so that your recursion will end.\n",
    "\n",
    "Recursion implicitly uses a stack. Hence all recursive approaches can be rewritten iteratively using a stack. Beware of cases where the recursion level goes too deep and causes a stack overflow (the default limit in Python is 1000). You may get bonus points for pointing this out to the interviewer. Recursion will never be O(1) space complexity because a stack is involved, unless there is tail call optimization (TCO). Find out if your chosen language supports TCO."
   ]
  },
  {
   "cell_type": "markdown",
   "metadata": {},
   "source": [
    "power(x,n)(easy)"
   ]
  },
  {
   "cell_type": "code",
   "execution_count": 64,
   "metadata": {
    "collapsed": true
   },
   "outputs": [],
   "source": [
    "class Solution:\n",
    "    def myPow(self, x, n):\n",
    "        if not n:\n",
    "            return 1\n",
    "        if n < 0:\n",
    "            return 1 / self.myPow(x, -n)\n",
    "        if n % 2:\n",
    "            return x * self.myPow(x, n-1)\n",
    "        return self.myPow(x*x, n/2)"
   ]
  },
  {
   "cell_type": "code",
   "execution_count": 65,
   "metadata": {
    "collapsed": true
   },
   "outputs": [],
   "source": [
    "class Solution:\n",
    "    def myPow(self, x, n):\n",
    "        if n < 0:\n",
    "            x = 1 / x\n",
    "            n = -n\n",
    "        pow = 1\n",
    "        while n:\n",
    "            if n & 1:\n",
    "                pow *= x\n",
    "            x *= x\n",
    "            n >>= 1\n",
    "        return pow"
   ]
  },
  {
   "cell_type": "markdown",
   "metadata": {},
   "source": [
    "sqrt(x) (easy)"
   ]
  },
  {
   "cell_type": "code",
   "execution_count": 66,
   "metadata": {
    "collapsed": true
   },
   "outputs": [],
   "source": [
    "# Binary search  \n",
    "def mySqrt(self, x):\n",
    "    l, r = 0, x\n",
    "    while l <= r:\n",
    "        mid = l + (r-l)//2\n",
    "        if mid * mid <= x < (mid+1)*(mid+1):\n",
    "            return mid\n",
    "        elif x < mid * mid:\n",
    "            r = mid\n",
    "        else:\n",
    "            l = mid + 1"
   ]
  },
  {
   "cell_type": "code",
   "execution_count": 67,
   "metadata": {
    "collapsed": true
   },
   "outputs": [],
   "source": [
    "def mySqrt(self, x):\n",
    "    r = x\n",
    "    while r*r > x:\n",
    "        r = (r + x/r) / 2\n",
    "    return r"
   ]
  },
  {
   "cell_type": "markdown",
   "metadata": {},
   "source": [
    "78.Subsets (easy)"
   ]
  },
  {
   "cell_type": "code",
   "execution_count": 6,
   "metadata": {
    "collapsed": true
   },
   "outputs": [],
   "source": [
    "#???\n",
    "# DFS recursively \n",
    "def subsets1(self, nums):\n",
    "    res = []\n",
    "    self.dfs(sorted(nums), 0, [], res)\n",
    "    return res\n",
    "    \n",
    "def dfs(self, nums, index, path, res):\n",
    "    res.append(path)\n",
    "    for i in xrange(index, len(nums)):\n",
    "        self.dfs(nums, i+1, path+[nums[i]], res)\n",
    "        \n",
    "# Bit Manipulation    \n",
    "def subsets2( nums):\n",
    "    res = []\n",
    "    nums.sort()\n",
    "    for i in range(1<<len(nums)):\n",
    "        tmp = []\n",
    "        for j in range(len(nums)):\n",
    "            if i & 1 << j:  # if i >> j & 1:\n",
    "                print(i,j)\n",
    "                tmp.append(nums[j])\n",
    "        res.append(tmp)\n",
    "    return res\n",
    "    \n",
    "# Iteratively\n",
    "def subsets(self, nums):\n",
    "    res = [[]]\n",
    "    for num in sorted(nums):\n",
    "        res += [item+[num] for item in res]\n",
    "    return res"
   ]
  },
  {
   "cell_type": "code",
   "execution_count": 69,
   "metadata": {},
   "outputs": [
    {
     "name": "stdout",
     "output_type": "stream",
     "text": [
      "[[], [1]]\n",
      "[[], [1], [2], [1, 2]]\n",
      "[[], [1], [2], [1, 2], [3], [1, 3], [2, 3], [1, 2, 3]]\n",
      "[[], [1], [2], [1, 2], [3], [1, 3], [2, 3], [1, 2, 3], [4], [1, 4], [2, 4], [1, 2, 4], [3, 4], [1, 3, 4], [2, 3, 4], [1, 2, 3, 4]]\n",
      "[[], [1], [2], [1, 2], [3], [1, 3], [2, 3], [1, 2, 3], [4], [1, 4], [2, 4], [1, 2, 4], [3, 4], [1, 3, 4], [2, 3, 4], [1, 2, 3, 4], [5], [1, 5], [2, 5], [1, 2, 5], [3, 5], [1, 3, 5], [2, 3, 5], [1, 2, 3, 5], [4, 5], [1, 4, 5], [2, 4, 5], [1, 2, 4, 5], [3, 4, 5], [1, 3, 4, 5], [2, 3, 4, 5], [1, 2, 3, 4, 5]]\n"
     ]
    }
   ],
   "source": [
    "nums = [1,2,3,4,5]\n",
    "res = [[]]\n",
    "for num in sorted(nums):\n",
    "    res += [item+[num] for item in res]\n",
    "    print(res)"
   ]
  },
  {
   "cell_type": "markdown",
   "metadata": {},
   "source": [
    "377.Combination Sum IV (medium)"
   ]
  },
  {
   "cell_type": "code",
   "execution_count": 70,
   "metadata": {
    "collapsed": true
   },
   "outputs": [],
   "source": [
    "class Solution(object):\n",
    "    def combinationSum4WithLength(self, nums, target, length, memo=collections.defaultdict(int)):\n",
    "        if length <= 0: return 0\n",
    "        if length == 1: return 1 * (target in nums)\n",
    "        if (target, length) not in memo: \n",
    "            for num in nums:\n",
    "                memo[target, length] += self.combinationSum4(nums, target - num, length - 1)\n",
    "        return memo[target, length]"
   ]
  },
  {
   "cell_type": "markdown",
   "metadata": {},
   "source": [
    "39.Combination Sum (medium)"
   ]
  },
  {
   "cell_type": "code",
   "execution_count": 71,
   "metadata": {
    "collapsed": true
   },
   "outputs": [],
   "source": [
    "def combinationSum(self, candidates, target):\n",
    "    res = []\n",
    "    candidates.sort()\n",
    "    self.dfs(candidates, target, 0, [], res)\n",
    "    return res\n",
    "    \n",
    "def dfs(self, nums, target, index, path, res):\n",
    "    if target < 0:\n",
    "        return  # backtracking\n",
    "    if target == 0:\n",
    "        res.append(path)\n",
    "        return \n",
    "    for i in xrange(index, len(nums)):\n",
    "        self.dfs(nums, target-nums[i], i, path+[nums[i]], res)"
   ]
  },
  {
   "cell_type": "markdown",
   "metadata": {},
   "source": [
    "# DP"
   ]
  },
  {
   "cell_type": "markdown",
   "metadata": {},
   "source": [
    "To optimize space, sometimes you do not have to store the entire DP table in memory. The last two values or the last two rows of the matrix will suffice."
   ]
  },
  {
   "cell_type": "markdown",
   "metadata": {},
   "source": [
    "# Tree"
   ]
  },
  {
   "cell_type": "markdown",
   "metadata": {},
   "source": [
    "Recursion is a common approach for trees. When you notice that the subtree problem can be used to solve the entire problem, try using recursion.\n",
    "\n",
    "When using recursion, always remember to check for the base case, usually where the node is null.\n",
    "\n",
    "When you are asked to traverse a tree by level, use depth first search."
   ]
  },
  {
   "cell_type": "markdown",
   "metadata": {},
   "source": [
    "You should be very familiar with writing pre-order, in-order, and post-order traversal recursively. As an extension, challenge yourself by writing them iteratively. Sometimes interviewers ask candidates for the iterative approach, especially if the candidate finishes writing the recursive approach too quickly."
   ]
  },
  {
   "cell_type": "markdown",
   "metadata": {},
   "source": [
    "Binary tree\n",
    "In-order traversal of a binary tree is insufficient to uniquely serialize a tree. Pre-order or post-order traversal is also required."
   ]
  },
  {
   "cell_type": "markdown",
   "metadata": {},
   "source": [
    "Corner Cases\n",
    "- Empty tree\n",
    "- Single node\n",
    "- Two nodes\n",
    "- Very skewed tree (like a linked list)"
   ]
  },
  {
   "cell_type": "markdown",
   "metadata": {},
   "source": [
    " Maximum Depth of Binary Tree (easy)"
   ]
  },
  {
   "cell_type": "code",
   "execution_count": 72,
   "metadata": {
    "collapsed": true
   },
   "outputs": [],
   "source": [
    "class Solution:\n",
    "    # @param {TreeNode} root\n",
    "    # @return {integer}\n",
    "    def maxDepth(self, root):\n",
    "        if not root:\n",
    "            return 0\n",
    "\n",
    "        return 1 + max(self.maxDepth(root.left), self.maxDepth(root.right))"
   ]
  },
  {
   "cell_type": "markdown",
   "metadata": {},
   "source": [
    " Validate Binary Search Tree (medium)"
   ]
  },
  {
   "cell_type": "code",
   "execution_count": 73,
   "metadata": {
    "collapsed": true
   },
   "outputs": [],
   "source": [
    "def isValidBST(self, root, floor=float('-inf'), ceiling=float('inf')):\n",
    "    if not root: \n",
    "        return True\n",
    "    if root.val <= floor or root.val >= ceiling:\n",
    "        return False\n",
    "    # in the left branch, root is the new ceiling; contrarily root is the new floor in right branch\n",
    "    return self.isValidBST(root.left, floor, root.val) and self.isValidBST(root.right, root.val, ceiling)"
   ]
  },
  {
   "cell_type": "code",
   "execution_count": 74,
   "metadata": {
    "collapsed": true
   },
   "outputs": [],
   "source": [
    "class Solution:\n",
    "    # @param root, a tree node\n",
    "    # @return a boolean\n",
    "    # 7:38\n",
    "    def isValidBST(self, root):\n",
    "        output = []\n",
    "        self.inOrder(root, output)\n",
    "        for i in range(1, len(output)):\n",
    "            if output[i-1] >= output[i]:\n",
    "                return False\n",
    "\n",
    "        return True\n",
    "\n",
    "    def inOrder(self, root, output):\n",
    "        if root is None:\n",
    "            return\n",
    "        \n",
    "        self.inOrder(root.left, output)\n",
    "        output.append(root.val)\n",
    "        self.inOrder(root.right, output)"
   ]
  },
  {
   "cell_type": "markdown",
   "metadata": {},
   "source": [
    "find Kth smallest number(easy)"
   ]
  },
  {
   "cell_type": "code",
   "execution_count": 75,
   "metadata": {
    "collapsed": true
   },
   "outputs": [],
   "source": [
    "class Solution(object):\n",
    "    def kthSmallest(self, root, k):\n",
    "        \"\"\"\n",
    "        :type root: TreeNode\n",
    "        :type k: int\n",
    "        :rtype: int\n",
    "        \"\"\"\n",
    "        count = []\n",
    "        self.helper(root, count)\n",
    "        return count[k-1]\n",
    "        \n",
    "    def helper(self, node, count):\n",
    "        if not node:\n",
    "            return\n",
    "        \n",
    "        self.helper(node.left, count)\n",
    "        count.append(node.val)\n",
    "        self.helper(node.right, count)"
   ]
  },
  {
   "cell_type": "markdown",
   "metadata": {},
   "source": [
    "Same tree(easy)"
   ]
  },
  {
   "cell_type": "code",
   "execution_count": 76,
   "metadata": {
    "collapsed": true
   },
   "outputs": [],
   "source": [
    "def isSameTree(self, p, q):\n",
    "    if p and q:\n",
    "        return p.val == q.val and self.isSameTree(p.left, q.left) and self.isSameTree(p.right, q.right)\n",
    "    return p is q"
   ]
  },
  {
   "cell_type": "markdown",
   "metadata": {},
   "source": [
    "Invert Binary Tree (medium)"
   ]
  },
  {
   "cell_type": "code",
   "execution_count": 77,
   "metadata": {
    "collapsed": true
   },
   "outputs": [],
   "source": [
    "def invertTree(self, root):\n",
    "    if root:\n",
    "        invert = self.invertTree\n",
    "        root.left, root.right = invert(root.right), invert(root.left)\n",
    "        return root"
   ]
  },
  {
   "cell_type": "code",
   "execution_count": 78,
   "metadata": {
    "collapsed": true
   },
   "outputs": [],
   "source": [
    "def invertTree(self, root):\n",
    "    stack = [root]\n",
    "    while stack:\n",
    "        node = stack.pop()\n",
    "        if node:\n",
    "            node.left, node.right = node.right, node.left\n",
    "            stack += node.left, node.right\n",
    "    return root"
   ]
  },
  {
   "cell_type": "markdown",
   "metadata": {},
   "source": [
    "124.Binary Tree Maximum Path Sum (Hard)"
   ]
  },
  {
   "cell_type": "code",
   "execution_count": 79,
   "metadata": {
    "collapsed": true
   },
   "outputs": [],
   "source": [
    "\n",
    "class Solution(object):\n",
    "    def maxPathSum(self, root):\n",
    "        def dfs(node):  # returns: max one side path sum, max path sum\n",
    "            l = r = 0\n",
    "            ls = rs = None\n",
    "            if node.left:\n",
    "                l, ls = dfs(node.left)\n",
    "                l = max(l, 0)\n",
    "            if node.right:\n",
    "                r, rs = dfs(node.right)\n",
    "                r = max(r, 0)\n",
    "            return node.val + max(l, r), max(node.val + l + r, ls, rs)\n",
    "        if root:\n",
    "            return dfs(root)[1]\n",
    "        return 0"
   ]
  },
  {
   "cell_type": "code",
   "execution_count": 80,
   "metadata": {
    "collapsed": true
   },
   "outputs": [],
   "source": [
    "class Solution:\n",
    "    \"\"\"\n",
    "    @param root: The root of binary tree.\n",
    "    @return: An integer\n",
    "    \"\"\"\n",
    "    def maxPathSum(self, root):\n",
    "        maxSum, _ = self.maxPathHelper(root)\n",
    "        return maxSum\n",
    "        \n",
    "    def maxPathHelper(self, root):\n",
    "        if root is None:\n",
    "            return -sys.maxint, 0\n",
    "        \n",
    "        left = self.maxPathHelper(root.left)\n",
    "        right = self.maxPathHelper(root.right)\n",
    "        maxpath = max(left[0], right[0], root.val + left[1] + right[1])\n",
    "        single = max(left[1] + root.val, right[1] + root.val, 0)\n",
    "        \n",
    "        return maxpath, singlem"
   ]
  },
  {
   "cell_type": "markdown",
   "metadata": {},
   "source": [
    "A path from start to end, goes up on the tree for 0 or more steps, then goes down for 0 or more steps. Once it goes down, it can't go up. Each path has a highest node, which is also the lowest common ancestor of all other nodes on the path.\n",
    "A recursive method maxPathDown(TreeNode node) (1) computes the maximum path sum with highest node is the input node, update maximum if necessary (2) returns the maximum sum of the path that can be extended to input node's parent."
   ]
  },
  {
   "cell_type": "markdown",
   "metadata": {},
   "source": [
    "Binary Tree Level Order Traversal (Medium)"
   ]
  },
  {
   "cell_type": "code",
   "execution_count": 81,
   "metadata": {
    "collapsed": true
   },
   "outputs": [],
   "source": [
    "def levelOrder(self, root):\n",
    "    ans, level = [], [root]\n",
    "    while root and level:\n",
    "        ans.append([node.val for node in level])            \n",
    "        level = [kid for n in level for kid in (n.left, n.right) if kid]\n",
    "    return ans"
   ]
  },
  {
   "cell_type": "code",
   "execution_count": 1,
   "metadata": {
    "collapsed": true
   },
   "outputs": [],
   "source": [
    "class Solution:\n",
    "    \"\"\"\n",
    "    @param: root: A Tree\n",
    "    @return: Level order a list of lists of integer\n",
    "    \"\"\"\n",
    "    def levelOrder(self, root):\n",
    "        # write your code here\n",
    "        result = []\n",
    "        \n",
    "        if root is None:\n",
    "            return result\n",
    "        \n",
    "        thisLevel = 0\n",
    "        self.DFS(root, result, thisLevel)\n",
    "        return result\n",
    "    \n",
    "    def DFS(self, root, result, thisLevel):\n",
    "        if root is None:\n",
    "            return\n",
    "        if thisLevel > len(result) - 1:\n",
    "            result.append([])\n",
    "        result[thisLevel].append(root.val)\n",
    "        thisLevel += 1\n",
    "        self.DFS(root.left, result, thisLevel)\n",
    "        self.DFS(root.right, result, thisLevel)\n",
    "        return"
   ]
  },
  {
   "cell_type": "markdown",
   "metadata": {},
   "source": [
    "235.Lowest Common Ancestor of a Binary Search Tree (easy)"
   ]
  },
  {
   "cell_type": "code",
   "execution_count": 82,
   "metadata": {
    "collapsed": true
   },
   "outputs": [],
   "source": [
    "class Solution:\n",
    "\n",
    "    def lowestCommonAncestor(self, root, p, q):\n",
    "        while root:\n",
    "            if root.val > p.val and root.val > q.val:\n",
    "                root = root.left\n",
    "            elif root.val < p.val and root.val < q.val:\n",
    "                root = root.right\n",
    "            else:\n",
    "                return root"
   ]
  },
  {
   "cell_type": "markdown",
   "metadata": {},
   "source": [
    "Lowest Common Ancestor of a Binary Tree (medium)"
   ]
  },
  {
   "cell_type": "code",
   "execution_count": 83,
   "metadata": {
    "collapsed": true
   },
   "outputs": [],
   "source": [
    "class Solution:\n",
    "    \"\"\"\n",
    "    @param root: The root of the binary search tree.\n",
    "    @param A and B: two nodes in a Binary.\n",
    "    @return: Return the least common ancestor(LCA) of the two nodes.\n",
    "    \"\"\" \n",
    "    def lowestCommonAncestor(self, root, A, B):\n",
    "        if root is None:\n",
    "            return None\n",
    "            \n",
    "        if root is A or root is B:\n",
    "            return root\n",
    "            \n",
    "        left = self.lowestCommonAncestor(root.left, A, B)\n",
    "        right = self.lowestCommonAncestor(root.right, A, B)\n",
    "        \n",
    "        if left is not None and right is not None:\n",
    "            return root\n",
    "        if left is not None:\n",
    "            return left\n",
    "        if right is not None:\n",
    "            return right\n",
    "        return None"
   ]
  },
  {
   "cell_type": "markdown",
   "metadata": {},
   "source": [
    "pathtoNode(medium)"
   ]
  },
  {
   "cell_type": "code",
   "execution_count": 28,
   "metadata": {
    "collapsed": true
   },
   "outputs": [],
   "source": [
    "def pathtoNode(root,path,k):\n",
    "    if root is None:\n",
    "        return False\n",
    "    path.append(root.data)\n",
    "    if root.data ==k:\n",
    "        return True\n",
    "    if root.left!=None and pathToNode(root.left,path,k):\n",
    "        return True\n",
    "    if root.right!=None and pathToNode(root.right,path,k):\n",
    "        return True\n",
    "    path.pop()\n",
    "    return False"
   ]
  },
  {
   "cell_type": "markdown",
   "metadata": {},
   "source": [
    "105.Construct Binary Tree from Preorder and Inorder Traversal(hard)"
   ]
  },
  {
   "cell_type": "code",
   "execution_count": 84,
   "metadata": {
    "collapsed": true
   },
   "outputs": [],
   "source": [
    "def buildTree(self, preorder, inorder):\n",
    "    if inorder:\n",
    "        ind = inorder.index(preorder.pop(0))\n",
    "        root = TreeNode(inorder[ind])\n",
    "        root.left = self.buildTree(preorder, inorder[0:ind])\n",
    "        root.right = self.buildTree(preorder, inorder[ind+1:])\n",
    "        return root"
   ]
  },
  {
   "cell_type": "markdown",
   "metadata": {},
   "source": [
    "297.Serialize and Deserialize Binary Tree (medium)"
   ]
  },
  {
   "cell_type": "code",
   "execution_count": 85,
   "metadata": {
    "collapsed": true
   },
   "outputs": [],
   "source": [
    "class Codec:\n",
    "\n",
    "    def serialize(self, root):\n",
    "        def doit(node):\n",
    "            if node:\n",
    "                vals.append(str(node.val))\n",
    "                doit(node.left)\n",
    "                doit(node.right)\n",
    "            else:\n",
    "                vals.append('#')\n",
    "        vals = []\n",
    "        doit(root)\n",
    "        return ' '.join(vals)\n",
    "\n",
    "    def deserialize(self, data):\n",
    "        def doit():\n",
    "            val = next(vals)\n",
    "            if val == '#':\n",
    "                return None\n",
    "            node = TreeNode(int(val))\n",
    "            node.left = doit()\n",
    "            node.right = doit()\n",
    "            return node\n",
    "        vals = iter(data.split())\n",
    "        return doit()"
   ]
  },
  {
   "cell_type": "code",
   "execution_count": 86,
   "metadata": {
    "collapsed": true
   },
   "outputs": [],
   "source": [
    "#DFS solution\n",
    "class Solution:\n",
    "\n",
    "    def serialize(self, root):\n",
    "        # write your code here\n",
    "        if not root:\n",
    "            return ['#']\n",
    "        ans = []\n",
    "        ans.append(str(root.val))\n",
    "        ans += self.serialize(root.left)\n",
    "        ans += self.serialize(root.right)\n",
    "        return ans\n",
    "            \n",
    "    def deserialize(self, data):\n",
    "        # write your code here\n",
    "        ch = data.pop(0)\n",
    "        if ch == '#':\n",
    "            return None\n",
    "        else:\n",
    "            root = TreeNode(int(ch))\n",
    "        root.left = self.deserialize(data)\n",
    "        root.right = self.deserialize(data)\n",
    "        return root\n",
    "\n",
    "# BFS solution\n",
    "class Solution:\n",
    "\n",
    "    def serialize(self, root):\n",
    "        # write your code here\n",
    "        if not root:\n",
    "            return ['#']\n",
    "        q = [root]\n",
    "        ans = []\n",
    "        while q:\n",
    "            temp = q.pop(0)\n",
    "            if not temp:\n",
    "                ans.append('#')\n",
    "            else:\n",
    "                ans.append(str(temp.val))\n",
    "                q.append(temp.left)\n",
    "                q.append(temp.right)\n",
    "        return ans\n",
    "                \n",
    "\n",
    "    def deserialize(self, data):\n",
    "        # write your code here\n",
    "        if data[0] == '#':\n",
    "            return None\n",
    "        root = TreeNode(int(data.pop(0)))\n",
    "        q = [root]\n",
    "        isLeft = True\n",
    "        while data:\n",
    "            ch = data.pop(0)\n",
    "            if ch != '#':\n",
    "                node = TreeNode(int(ch))\n",
    "                q.append(node)\n",
    "                if isLeft:\n",
    "                    q[0].left = node\n",
    "                else:\n",
    "                    q[0].right = node\n",
    "            if not isLeft:\n",
    "                q.pop(0)\n",
    "            isLeft = not isLeft\n",
    "        return root"
   ]
  },
  {
   "cell_type": "markdown",
   "metadata": {},
   "source": [
    "572.Subtree of Another Tree (easy)(medium)"
   ]
  },
  {
   "cell_type": "code",
   "execution_count": 87,
   "metadata": {
    "collapsed": true
   },
   "outputs": [],
   "source": [
    "#Naive approach, O(|s| * |t|)\n",
    "def isMatch(self, s, t):\n",
    "    if not(s and t):\n",
    "        return s is t\n",
    "    return (s.val == t.val and \n",
    "            self.isMatch(s.left, t.left) and \n",
    "            self.isMatch(s.right, t.right))\n",
    "\n",
    "def isSubtree(self, s, t):\n",
    "    if self.isMatch(s, t): return True\n",
    "    if not s: return False\n",
    "    return self.isSubtree(s.left, t) or self.isSubtree(s.right, t)"
   ]
  },
  {
   "cell_type": "code",
   "execution_count": 88,
   "metadata": {
    "collapsed": true
   },
   "outputs": [],
   "source": [
    "#Advanced approach, O(|s| + |t|) (Merkle hashing):\n",
    "def isSubtree(self, s, t):\n",
    "    from hashlib import sha256\n",
    "    def hash_(x):\n",
    "        S = sha256()\n",
    "        S.update(x)\n",
    "        return S.hexdigest()\n",
    "        \n",
    "    def merkle(node):\n",
    "        if not node:\n",
    "            return '#'\n",
    "        m_left = merkle(node.left)\n",
    "        m_right = merkle(node.right)\n",
    "        node.merkle = hash_(m_left + str(node.val) + m_right)\n",
    "        return node.merkle\n",
    "        \n",
    "    merkle(s)\n",
    "    merkle(t)\n",
    "    def dfs(node):\n",
    "        if not node:\n",
    "            return False\n",
    "        return (node.merkle == t.merkle or \n",
    "                dfs(node.left) or dfs(node.right))\n",
    "                    \n",
    "    return dfs(s)"
   ]
  },
  {
   "cell_type": "markdown",
   "metadata": {},
   "source": [
    "Print a Binary Tree in Vertical Order(medium)"
   ]
  },
  {
   "cell_type": "code",
   "execution_count": 89,
   "metadata": {
    "collapsed": true
   },
   "outputs": [],
   "source": [
    "# A binary tree node \n",
    "class Node: \n",
    "    # Constructor to create a new node \n",
    "    def __init__(self, key): \n",
    "        self.key = key \n",
    "        self.left = None\n",
    "        self.right = None\n",
    "  \n",
    "# Utility function to store vertical order in map 'm'  \n",
    "# 'hd' is horizontal distance of current node from root \n",
    "# 'hd' is initially passed as 0 \n",
    "def getVerticalOrder(root, hd, m): \n",
    "  \n",
    "    # Base Case \n",
    "    if root is None: \n",
    "        return\n",
    "      \n",
    "    # Store current node in map 'm' \n",
    "    try: \n",
    "        m[hd].append(root.key) \n",
    "    except: \n",
    "        m[hd] = [root.key] \n",
    "      \n",
    "    # Store nodes in left subtree \n",
    "    getVerticalOrder(root.left, hd-1, m) \n",
    "      \n",
    "    # Store nodes in right subtree \n",
    "    getVerticalOrder(root.right, hd+1, m) \n",
    "  \n",
    "# The main function to print vertical order of a binary \n",
    "#tree ith given root \n",
    "def printVerticalOrder(root): \n",
    "      \n",
    "    # Create a map and store vertical order in map using \n",
    "    # function getVerticalORder() \n",
    "    m = dict() \n",
    "    hd = 0 \n",
    "    getVerticalOrder(root, hd, m) \n",
    "      \n",
    "    # Traverse the map and print nodes at every horizontal \n",
    "    # distance (hd) \n",
    "    for index, value in enumerate(sorted(m)): \n",
    "        for i in m[value]: \n",
    "            print(i)\n",
    "        print \n",
    "  "
   ]
  },
  {
   "cell_type": "markdown",
   "metadata": {},
   "source": [
    "In-order traversal without recursion(medium) Morris? https://www.geeksforgeeks.org/inorder-tree-traversal-without-recursion-and-without-stack/\n"
   ]
  },
  {
   "cell_type": "code",
   "execution_count": 49,
   "metadata": {
    "collapsed": true
   },
   "outputs": [],
   "source": [
    "\n",
    "# Python program to do inorder traversal without recursion \n",
    "  \n",
    "# A binary tree node \n",
    "class Node: \n",
    "      \n",
    "    # Constructor to create a new node \n",
    "    def __init__(self, data): \n",
    "        self.data = data  \n",
    "        self.left = None\n",
    "        self.right = None\n",
    "  \n",
    "# Iterative function for inorder tree traversal \n",
    "def inOrder(root): \n",
    "      \n",
    "    # Set current to root of binary tree \n",
    "    current = root  \n",
    "    s = [] # initialze stack \n",
    "    done = 0 \n",
    "      \n",
    "    while(not done): \n",
    "          \n",
    "        # Reach the left most Node of the current Node \n",
    "        if current is not None: \n",
    "              \n",
    "            # Place pointer to a tree node on the stack  \n",
    "            # before traversing the node's left subtree \n",
    "            s.append(current) \n",
    "          \n",
    "            current = current.left  \n",
    "  \n",
    "          \n",
    "        # BackTrack from the empty subtree and visit the Node \n",
    "        # at the top of the stack; however, if the stack is  \n",
    "        # empty you are done \n",
    "        else: \n",
    "            if(len(s) >0 ): \n",
    "                current = s.pop() \n",
    "                print(current.data)\n",
    "          \n",
    "                # We have visited the node and its left  \n",
    "                # subtree. Now, it's right subtree's turn \n",
    "                current = current.right  \n",
    "  \n",
    "            else: \n",
    "                done = 1"
   ]
  },
  {
   "cell_type": "markdown",
   "metadata": {},
   "source": [
    "BSTiteartor"
   ]
  },
  {
   "cell_type": "code",
   "execution_count": null,
   "metadata": {
    "collapsed": true
   },
   "outputs": [],
   "source": [
    "class BSTIterator:\n",
    "    \"\"\"\n",
    "    @param: root: The root of binary tree.\n",
    "    \"\"\"\n",
    "    def __init__(self, root):\n",
    "        self.stack = []\n",
    "        while root != None:\n",
    "            self.stack.append(root)\n",
    "            root = root.left\n",
    "    def hasNext(self):\n",
    "        return len(self.stack) > 0\n",
    "    def next(self):\n",
    "        node = self.stack[-1]\n",
    "        if node.right is not None:\n",
    "            n = node.right\n",
    "            while n:\n",
    "                self.stack.append(n)\n",
    "                n = n.left\n",
    "        else:\n",
    "            n = self.stack.pop()\n",
    "            while self.stack and self.stack[-1].right == n:\n",
    "                n = self.stack.pop()"
   ]
  },
  {
   "cell_type": "markdown",
   "metadata": {},
   "source": [
    "Construct Binary Tree from Preorder and Inorder Traversal"
   ]
  },
  {
   "cell_type": "code",
   "execution_count": null,
   "metadata": {
    "collapsed": true
   },
   "outputs": [],
   "source": [
    "class Solution:\n",
    "    \"\"\"\n",
    "    @param preorder : A list of integers that preorder traversal of a tree\n",
    "    @param inorder : A list of integers that inorder traversal of a tree\n",
    "    @return : Root of a tree\n",
    "    \"\"\"\n",
    "    def buildTree(self, preorder, inorder):\n",
    "        # write your code here\n",
    "        if not inorder: return None # inorder is empty\n",
    "        root = TreeNode(preorder[0])\n",
    "        rootPos = inorder.index(preorder[0])\n",
    "        root.left = self.buildTree(preorder[1 : 1 + rootPos], inorder[ : rootPos])\n",
    "        root.right = self.buildTree(preorder[rootPos + 1 : ], inorder[rootPos + 1 : ])\n",
    "        return root"
   ]
  },
  {
   "cell_type": "code",
   "execution_count": null,
   "metadata": {
    "collapsed": true
   },
   "outputs": [],
   "source": [
    "class Solution:\n",
    "    \"\"\"\n",
    "    @param inorder : A list of integers that inorder traversal of a tree\n",
    "    @param postorder : A list of integers that postorder traversal of a tree\n",
    "    @return : Root of a tree\n",
    "    \"\"\"\n",
    "    def buildTree(self, inorder, postorder):\n",
    "        if not inorder: return None # inorder is empty\n",
    "        root = TreeNode(postorder[-1])\n",
    "        rootPos = inorder.index(postorder[-1])\n",
    "        root.left = self.buildTree(inorder[ : rootPos], postorder[ : rootPos])\n",
    "        root.right = self.buildTree(inorder[rootPos + 1 : ], postorder[rootPos : -1])\n",
    "        return root"
   ]
  },
  {
   "cell_type": "code",
   "execution_count": null,
   "metadata": {
    "collapsed": true
   },
   "outputs": [],
   "source": [
    "Unique Binary Search Trees II"
   ]
  },
  {
   "cell_type": "code",
   "execution_count": null,
   "metadata": {
    "collapsed": true
   },
   "outputs": [],
   "source": [
    "class Solution:\n",
    "    # @paramn n: An integer\n",
    "    # @return: A list of root\n",
    "    def generateTrees(self, n):\n",
    "        # write your code here\n",
    "        return self.dfs(1, n)\n",
    "        \n",
    "    def dfs(self, start, end):\n",
    "        if start > end: return [None]\n",
    "        res = []\n",
    "        for rootval in range(start, end+1):\n",
    "            LeftTree = self.dfs(start, rootval-1)\n",
    "            RightTree = self.dfs(rootval+1, end)\n",
    "            for i in LeftTree:\n",
    "                for j in RightTree:\n",
    "                    root = TreeNode(rootval)\n",
    "                    root.left = i\n",
    "                    root.right = j\n",
    "                    res.append(root)\n",
    "        return res"
   ]
  },
  {
   "cell_type": "markdown",
   "metadata": {},
   "source": [
    "# Trie"
   ]
  },
  {
   "cell_type": "markdown",
   "metadata": {},
   "source": [
    "Tries are special trees (prefix trees) that make searching and storing strings more efficient. Tries have many practical applications, such as conducting searches and providing autocomplete."
   ]
  },
  {
   "cell_type": "markdown",
   "metadata": {},
   "source": [
    "In this case using trie has only O(m) time complexity, where m is the key length. Searching for a key in a balanced tree costs O(m \\log n)O(mlogn) time complexity."
   ]
  },
  {
   "cell_type": "markdown",
   "metadata": {},
   "source": [
    "Sometimes preprocessing a dictionary of words (given in a list) into a trie, will improve the efficiency of searching for a word of length k, among n words. Searching becomes O(k) instead of O(n)."
   ]
  },
  {
   "cell_type": "markdown",
   "metadata": {},
   "source": [
    "Hash table is not good at :Finding all keys with a common prefix.\n",
    "Enumerating a dataset of strings in lexicographical order."
   ]
  },
  {
   "cell_type": "code",
   "execution_count": 90,
   "metadata": {
    "collapsed": true
   },
   "outputs": [],
   "source": [
    "class TrieNode:\n",
    "    \n",
    "    def __init__(self):\n",
    "        self.next = {}\n",
    "        self.isWord = False\n",
    "        \n",
    "        \n",
    "class Trie:\n",
    "    \n",
    "    def __init__(self):\n",
    "        # do intialization if necessary\n",
    "        self.root = TrieNode()\n",
    "\n",
    "    def insert(self, word):\n",
    "        # write your code here\n",
    "        node = self.root\n",
    "        for letter in word:\n",
    "            if letter not in node.next:\n",
    "                node.next[letter] = TrieNode()\n",
    "            node = node.next[letter]\n",
    "        node.isWord = True\n",
    "\n",
    "    def find(self,prefix):\n",
    "        node = self.root\n",
    "        if not node:\n",
    "            return None\n",
    "        for letter in prefix:\n",
    "            if letter not in node.next:\n",
    "                return None\n",
    "            node = node.next[letter]\n",
    "        return node\n",
    "        \n",
    "    def search(self, word):\n",
    "        # write your code here\n",
    "        node = self.find(word)\n",
    "        return node!=None and node.isWord\n",
    "\n",
    "    def startsWith(self, prefix):\n",
    "        # write your code here\n",
    "        node = self.find(prefix)\n",
    "        return node!=None"
   ]
  },
  {
   "cell_type": "code",
   "execution_count": 91,
   "metadata": {},
   "outputs": [
    {
     "name": "stdout",
     "output_type": "stream",
     "text": [
      "'goodbye' in trie:  True\n",
      "['gold', 'gerald', 'goodbye']\n",
      "['to', 'too', 'tom']\n"
     ]
    }
   ],
   "source": [
    "\n",
    "class Node:\n",
    "    def __init__(self, label=None, data=None):\n",
    "        self.label = label\n",
    "        self.data = data\n",
    "        self.children = dict()\n",
    "    \n",
    "    def addChild(self, key, data=None):\n",
    "        if not isinstance(key, Node):\n",
    "            self.children[key] = Node(key, data)\n",
    "        else:\n",
    "            self.children[key.label] = key\n",
    "    \n",
    "    def __getitem__(self, key):\n",
    "        return self.children[key]\n",
    "\n",
    "class Trie:\n",
    "    def __init__(self):\n",
    "        self.head = Node()\n",
    "    \n",
    "    def __getitem__(self, key):\n",
    "        return self.head.children[key]\n",
    "    \n",
    "    def add(self, word):\n",
    "        current_node = self.head\n",
    "        word_finished = True\n",
    "        \n",
    "        for i in range(len(word)):\n",
    "            if word[i] in current_node.children:\n",
    "                current_node = current_node.children[word[i]]\n",
    "            else:\n",
    "                word_finished = False\n",
    "                break\n",
    "        \n",
    "        # For ever new letter, create a new child node\n",
    "        if not word_finished:\n",
    "            while i < len(word):\n",
    "                current_node.addChild(word[i])\n",
    "                current_node = current_node.children[word[i]]\n",
    "                i += 1\n",
    "        \n",
    "        # Let's store the full word at the end node so we don't need to\n",
    "        # travel back up the tree to reconstruct the word\n",
    "        current_node.data = word\n",
    "    \n",
    "    def has_word(self, word):\n",
    "        if word == '':\n",
    "            return False\n",
    "        if word == None:\n",
    "            raise ValueError('Trie.has_word requires a not-Null string')\n",
    "        \n",
    "        # Start at the top\n",
    "        current_node = self.head\n",
    "        exists = True\n",
    "        for letter in word:\n",
    "            if letter in current_node.children:\n",
    "                current_node = current_node.children[letter]\n",
    "            else:\n",
    "                exists = False\n",
    "                break\n",
    "        \n",
    "        # Still need to check if we just reached a word like 't'\n",
    "        # that isn't actually a full word in our dictionary\n",
    "        if exists:\n",
    "            if current_node.data == None:\n",
    "                exists = False\n",
    "        \n",
    "        return exists\n",
    "    \n",
    "    def start_with_prefix(self, prefix):\n",
    "        \"\"\" Returns a list of all words in tree that start with prefix \"\"\"\n",
    "        words = list()\n",
    "        if prefix == None:\n",
    "            raise ValueError('Requires not-Null prefix')\n",
    "        \n",
    "        # Determine end-of-prefix node\n",
    "        top_node = self.head\n",
    "        for letter in prefix:\n",
    "            if letter in top_node.children:\n",
    "                top_node = top_node.children[letter]\n",
    "            else:\n",
    "                # Prefix not in tree, go no further\n",
    "                return words\n",
    "        \n",
    "        # Get words under prefix\n",
    "        if top_node == self.head:\n",
    "            queue = [node for key, node in top_node.children.items()]\n",
    "        else:\n",
    "            queue = [top_node]\n",
    "        \n",
    "        # Perform a breadth first search under the prefix\n",
    "        # A cool effect of using BFS as opposed to DFS is that BFS will return\n",
    "        # a list of words ordered by increasing length\n",
    "        while queue:\n",
    "            current_node = queue.pop()\n",
    "            if current_node.data != None:\n",
    "                # Isn't it nice to not have to go back up the tree?\n",
    "                words.append(current_node.data)\n",
    "            \n",
    "            queue = [node for key,node in current_node.children.items()] + queue\n",
    "        \n",
    "        return words\n",
    "    \n",
    "    def getData(self, word):\n",
    "        \"\"\" This returns the 'data' of the node identified by the given word \"\"\"\n",
    "        if not self.has_word(word):\n",
    "            raise ValueError('{} not found in trie'.format(word))\n",
    "        \n",
    "        # Race to the bottom, get data\n",
    "        current_node = self.head\n",
    "        for letter in word:\n",
    "            current_node = current_node[letter]\n",
    "        \n",
    "        return current_node.data\n",
    "\n",
    "if __name__ == '__main__':\n",
    "    \"\"\" Example use \"\"\"\n",
    "    trie = Trie()\n",
    "    words = 'hello goodbye help gerald gold tea ted team to too tom stan standard money'\n",
    "    for word in words.split():\n",
    "        trie.add(word)\n",
    "    print(\"'goodbye' in trie: \", trie.has_word('goodbye'))\n",
    "    print(trie.start_with_prefix('g'))\n",
    "    print(trie.start_with_prefix('to'))"
   ]
  },
  {
   "cell_type": "markdown",
   "metadata": {},
   "source": [
    "add or search word"
   ]
  },
  {
   "cell_type": "code",
   "execution_count": 92,
   "metadata": {
    "collapsed": true
   },
   "outputs": [],
   "source": [
    "import collections\n",
    "class WordDictionary(object):\n",
    "    def __init__(self):\n",
    "        self.word_dict = collections.defaultdict(list)\n",
    "        \n",
    "\n",
    "    def addWord(self, word):\n",
    "        if word:\n",
    "            self.word_dict[len(word)].append(word)\n",
    "\n",
    "    def search(self, word):\n",
    "        if not word:\n",
    "            return False\n",
    "        if '.' not in word:\n",
    "            return word in self.word_dict[len(word)]\n",
    "        for v in self.word_dict[len(word)]:\n",
    "            # match xx.xx.x with yyyyyyy\n",
    "            for i, ch in enumerate(word):\n",
    "                if ch != v[i] and ch != '.':\n",
    "                    break\n",
    "            else:\n",
    "                return True\n",
    "        return False"
   ]
  },
  {
   "cell_type": "code",
   "execution_count": 93,
   "metadata": {
    "collapsed": true
   },
   "outputs": [],
   "source": [
    "class TrieNode():\n",
    "    def __init__(self):\n",
    "        self.children = collections.defaultdict(TrieNode)\n",
    "        self.isWord = False\n",
    "    \n",
    "class WordDictionary(object):\n",
    "    def __init__(self):\n",
    "        self.root = TrieNode()\n",
    "\n",
    "    def addWord(self, word):\n",
    "        node = self.root\n",
    "        for w in word:\n",
    "            node = node.children[w]\n",
    "        node.isWord = True\n",
    "\n",
    "    def search(self, word):\n",
    "        node = self.root\n",
    "        self.res = False\n",
    "        self.dfs(node, word)\n",
    "        return self.res\n",
    "    \n",
    "    def dfs(self, node, word):\n",
    "        if not word:\n",
    "            if node.isWord:\n",
    "                self.res = True\n",
    "            return \n",
    "        if word[0] == \".\":\n",
    "            for n in node.children.values():\n",
    "                self.dfs(n, word[1:])\n",
    "        else:\n",
    "            node = node.children.get(word[0])\n",
    "            if not node:\n",
    "                return \n",
    "            self.dfs(node, word[1:])"
   ]
  },
  {
   "cell_type": "markdown",
   "metadata": {},
   "source": [
    "Word Search I"
   ]
  },
  {
   "cell_type": "code",
   "execution_count": 9,
   "metadata": {
    "collapsed": true
   },
   "outputs": [],
   "source": [
    "class Solution:\n",
    "    def exist(self, board, word):\n",
    "        # write your code here\n",
    "        if word == []:\n",
    "            return True\n",
    "        m = len(board)\n",
    "        n = len(board[0])\n",
    "        if m == 0 or n == 0:\n",
    "            return False\n",
    "        visited = [[0] * n for _ in range(m)]\n",
    "        for i in range(m):\n",
    "            for j in range(n):\n",
    "                if self.dfs(board, word, visited, i, j):\n",
    "                    return True\n",
    "        return False\n",
    "\n",
    "    def dfs(self,board,word,visited,i,j):\n",
    "        if word == '':\n",
    "            return True\n",
    "        m = len(board)\n",
    "        n = len(board[0])\n",
    "        if  i < 0 or i >= m or j < 0 or j >=n:\n",
    "            return False\n",
    "        directions = [(1,0),(-1,0),(0,1),(0,-1)]\n",
    "        if (not visited[i][j]) and board[i][j] == word[0]:\n",
    "            visited[i][j]= 1\n",
    "            for dir in directions:\n",
    "                if self.dfs(board,word[1:],visited,i + dir[0],j + dir[1]):\n",
    "                    return True\n",
    "            visited[i][j] = 0\n",
    "            return False\n",
    "        return False"
   ]
  },
  {
   "cell_type": "markdown",
   "metadata": {},
   "source": [
    "212.Word Search II (Hard)"
   ]
  },
  {
   "cell_type": "code",
   "execution_count": 94,
   "metadata": {
    "collapsed": true
   },
   "outputs": [],
   "source": [
    "class TrieNode():\n",
    "    def __init__(self):\n",
    "        self.children = collections.defaultdict(TrieNode)\n",
    "        self.isWord = False\n",
    "    \n",
    "class Trie():\n",
    "    def __init__(self):\n",
    "        self.root = TrieNode()\n",
    "    \n",
    "    def insert(self, word):\n",
    "        node = self.root\n",
    "        for w in word:\n",
    "            node = node.children[w]\n",
    "        node.isWord = True\n",
    "    \n",
    "    def search(self, word):\n",
    "        node = self.root\n",
    "        for w in word:\n",
    "            node = node.children.get(w)\n",
    "            if not node:\n",
    "                return False\n",
    "        return node.isWord\n",
    "    \n",
    "class Solution(object):\n",
    "    def findWords(self, board, words):\n",
    "        res = []\n",
    "        trie = Trie()\n",
    "        node = trie.root\n",
    "        for w in words:\n",
    "            trie.insert(w)\n",
    "        for i in xrange(len(board)):\n",
    "            for j in xrange(len(board[0])):\n",
    "                self.dfs(board, node, i, j, \"\", res)\n",
    "        return res\n",
    "    \n",
    "    def dfs(self, board, node, i, j, path, res):\n",
    "        if node.isWord:\n",
    "            res.append(path)\n",
    "            node.isWord = False\n",
    "        if i < 0 or i >= len(board) or j < 0 or j >= len(board[0]):\n",
    "            return \n",
    "        tmp = board[i][j]\n",
    "        node = node.children.get(tmp)\n",
    "        if not node:\n",
    "            return \n",
    "        board[i][j] = \"#\"\n",
    "        self.dfs(board, node, i+1, j, path+tmp, res)\n",
    "        self.dfs(board, node, i-1, j, path+tmp, res)\n",
    "        self.dfs(board, node, i, j-1, path+tmp, res)\n",
    "        self.dfs(board, node, i, j+1, path+tmp, res)\n",
    "        board[i][j] = tmp"
   ]
  },
  {
   "cell_type": "code",
   "execution_count": 95,
   "metadata": {
    "collapsed": true
   },
   "outputs": [],
   "source": [
    "\n",
    "class Solution:\n",
    "    # @param board, a list of lists of 1 length string\n",
    "    # @param word, a string\n",
    "    # @return a boolean\n",
    "    def exist(self, board, word):\n",
    "        # write your code here\n",
    "        # Boundary Condition\n",
    "        if word == []:\n",
    "            return True\n",
    "        m = len(board)\n",
    "        if m == 0:\n",
    "            return False\n",
    "        n = len(board[0])\n",
    "        if n == 0:\n",
    "            return False\n",
    "        # Visited Matrix\n",
    "        visited = [[False for j in range(n)] for i in range(m)]\n",
    "        # DFS\n",
    "        for i in range(m):\n",
    "            for j in range(n):\n",
    "                if self.exist2(board, word, visited, i, j):\n",
    "                    return True\n",
    "        return False\n",
    "\n",
    "    def exist2(self, board, word, visited, row, col):\n",
    "        if word == '':\n",
    "            return True\n",
    "        m, n = len(board), len(board[0])\n",
    "        if row < 0 or row >= m or col < 0 or col >= n:\n",
    "            return False\n",
    "        if board[row][col] == word[0] and not visited[row][col]:\n",
    "            visited[row][col] = True\n",
    "            # row - 1, col\n",
    "            if self.exist2(board, word[1:], visited, row - 1, col) or self.exist2(board, word[1:], visited, row, col - 1)\\\n",
    "            or self.exist2(board, word[1:], visited, row + 1, col) or self.exist2(board, word[1:], visited, row, col + 1):\n",
    "                return True\n",
    "            else:\n",
    "                visited[row][col] = False\n",
    "        return False"
   ]
  },
  {
   "cell_type": "markdown",
   "metadata": {},
   "source": [
    "# Heap"
   ]
  },
  {
   "cell_type": "markdown",
   "metadata": {},
   "source": [
    "If you require the top k elements, use a Min Heap of size k. Iterate through each element, pushing it into the heap. Whenever the heap size exceeds k, remove the minimum element. That will guarantee that you have the k largest elements."
   ]
  },
  {
   "cell_type": "markdown",
   "metadata": {},
   "source": [
    "Merge K sorted list(hard)"
   ]
  },
  {
   "cell_type": "code",
   "execution_count": 96,
   "metadata": {
    "collapsed": true
   },
   "outputs": [],
   "source": [
    "#version 2\n",
    "from heapq import heappop, heappush\n",
    "\n",
    "class Solution:\n",
    "    \"\"\"\n",
    "    @param lists: a list of ListNode\n",
    "    @return: The head of one sorted list.\n",
    "    \"\"\"\n",
    "    def mergeKLists(self, lists):\n",
    "        if not lists:\n",
    "            return None\n",
    "        \n",
    "        trav = dummy = ListNode(-1)\n",
    "        heap = []\n",
    "        for ll in lists:\n",
    "            if ll:\n",
    "                self.heappushNode(heap, ll)\n",
    "                \n",
    "        while heap:\n",
    "            node = heappop(heap)[1]\n",
    "            trav.next = node\n",
    "            trav = trav.next\n",
    "            #print(trav.val)\n",
    "            if trav.next:\n",
    "                self.heappushNode(heap, trav.next)\n",
    "                \n",
    "                    \n",
    "        return dummy.next\n",
    "            \n",
    "    def heappushNode(self, heap, node):\n",
    "        heappush(heap, (node.val, node))"
   ]
  },
  {
   "cell_type": "markdown",
   "metadata": {},
   "source": [
    " Top K Frequent Elements (easy)"
   ]
  },
  {
   "cell_type": "code",
   "execution_count": 97,
   "metadata": {
    "collapsed": true
   },
   "outputs": [],
   "source": [
    "import collections\n",
    "\n",
    "class Solution(object):\n",
    "    def topKFrequent(self, nums, k):\n",
    "        \"\"\"\n",
    "        :type nums: List[int]\n",
    "        :type k: int\n",
    "        :rtype: List[int]\n",
    "        \"\"\"\n",
    "        # Use Counter to extract the top k frequent elements\n",
    "        # most_common(k) return a list of tuples, where the first item of the tuple is the element,\n",
    "        # and the second item of the tuple is the count\n",
    "        # Thus, the built-in zip function could be used to extract the first item from the tuples\n",
    "        return zip(*collections.Counter(nums).most_common(k))[0]"
   ]
  },
  {
   "cell_type": "markdown",
   "metadata": {},
   "source": [
    "Find Median from Data Stream (medium)\n"
   ]
  },
  {
   "cell_type": "code",
   "execution_count": 98,
   "metadata": {
    "collapsed": true
   },
   "outputs": [],
   "source": [
    "from heapq import *\n",
    "\n",
    "class MedianFinder:\n",
    "\n",
    "    def __init__(self):\n",
    "        self.heaps = [], []\n",
    "\n",
    "    def addNum(self, num):\n",
    "        small, large = self.heaps\n",
    "        heappush(small, -heappushpop(large, num))\n",
    "        if len(large) < len(small):\n",
    "            heappush(large, -heappop(small))\n",
    "        print(small)\n",
    "        print(large)\n",
    "        print('-----')\n",
    "\n",
    "\n",
    "    def findMedian(self):\n",
    "        small, large = self.heaps\n",
    "        if len(large) > len(small):\n",
    "            return float(large[0])\n",
    "        return (large[0] - small[0]) / 2.0"
   ]
  },
  {
   "cell_type": "code",
   "execution_count": 99,
   "metadata": {},
   "outputs": [
    {
     "name": "stdout",
     "output_type": "stream",
     "text": [
      "[]\n",
      "[1]\n",
      "-----\n",
      "[-1]\n",
      "[2]\n",
      "-----\n",
      "[-1]\n",
      "[2, 4]\n",
      "-----\n",
      "[-2, -1]\n",
      "[3, 4]\n",
      "-----\n",
      "[-2, -1]\n",
      "[3, 6, 4]\n",
      "-----\n",
      "[-3, -1, -2]\n",
      "[4, 6, 5]\n",
      "-----\n"
     ]
    },
    {
     "data": {
      "text/plain": [
       "3.5"
      ]
     },
     "execution_count": 99,
     "metadata": {},
     "output_type": "execute_result"
    }
   ],
   "source": [
    "b = MedianFinder()\n",
    "b.addNum(1)\n",
    "b.addNum(2)\n",
    "b.addNum(4)\n",
    "b.addNum(3)\n",
    "b.addNum(6)\n",
    "b.addNum(5)\n",
    "b.findMedian()"
   ]
  },
  {
   "cell_type": "code",
   "execution_count": 36,
   "metadata": {
    "collapsed": true
   },
   "outputs": [],
   "source": [
    "#task scheduler(hard)\n",
    "def leastInterval(self, tasks, n):\n",
    "        \"\"\"\n",
    "        :type tasks: List[str]\n",
    "        :type n: int\n",
    "        :rtype: int\n",
    "        \"\"\"\n",
    " \n",
    "        \n",
    "        task_map = {}\n",
    "        for task in tasks:\n",
    "            task_map[task] = task_map.get(task, 0) + 1\n",
    "        tasks = sorted(task_map.itervalues(), reverse=True)\n",
    "        sum_tasks = sum(tasks)\n",
    "        max_val = tasks[0] - 1\n",
    "        idle_slots = max_val * n\n",
    "        for i in xrange(1, len(tasks)):\n",
    "            idle_slots -= min(tasks[i], max_val)\n",
    "            if idle_slots <= 0:\n",
    "                break\n",
    " \n",
    "        return idle_slots + sum_tasks if idle_slots >= 0 else sum_tasks\n",
    "#Knapsack 0-1 (Easy)\n",
    "# A Dynamic Programming based Python Program for 0-1 Knapsack problem\n",
    "# Returns the maximum value that can be put in a knapsack of capacity W\n",
    "def knapSack(W, wt, val, n):\n",
    "    K = [[0 for x in range(W+1)] for x in range(n+1)]\n",
    " \n",
    "    # Build table K[][] in bottom up manner\n",
    "    for i in range(n+1):\n",
    "        for w in range(W+1):\n",
    "            if i==0 or w==0:\n",
    "                K[i][w] = 0\n",
    "            elif wt[i-1] <= w:\n",
    "                K[i][w] = max(val[i-1] + K[i-1][w-wt[i-1]],  K[i-1][w])\n",
    "            else:\n",
    "                K[i][w] = K[i-1][w]\n",
    " \n",
    "    return K[n][W]"
   ]
  },
  {
   "cell_type": "markdown",
   "metadata": {},
   "source": [
    "# other data structure implementation"
   ]
  },
  {
   "cell_type": "markdown",
   "metadata": {},
   "source": [
    "- priority queue\n",
    "https://github.com/Crisliu/interactive-coding-challenges/blob/master/arrays_strings/%5BDone%5Dpriority_queue/priority_queue_solution.ipynb\n",
    "- hash map\n",
    "https://github.com/Crisliu/interactive-coding-challenges/blob/master/arrays_strings/%5BDone%5Dhash_map/hash_map_solution.ipynb\n",
    "- Stack\n",
    "https://github.com/Crisliu/interactive-coding-challenges/blob/master/stacks_queues/%5BDone%5Dstack/stack_solution.ipynb\n",
    "- Queue\n",
    "https://github.com/Crisliu/interactive-coding-challenges/blob/master/stacks_queues/%5BDone%5Dqueue_list/queue_list_solution.ipynb\n",
    "- Graph\n",
    "https://github.com/Crisliu/interactive-coding-challenges/blob/master/stacks_queues/%5BDone%5Dqueue_list/queue_list_solution.ipynb\n",
    "- BST\n",
    "https://github.com/Crisliu/interactive-coding-challenges/blob/master/graphs_trees/bst/bst_solution.ipynb\n",
    "- Trie\n",
    "https://github.com/Crisliu/interactive-coding-challenges/blob/master/graphs_trees/%5BDone%5Dtrie/trie_solution.ipynb\n",
    "- Heap\n",
    "https://github.com/Crisliu/interactive-coding-challenges/blob/master/graphs_trees/%5BDone%5Dmin_heap/min_heap_solution.ipynb\n",
    "- Linked List\n",
    "https://github.com/Crisliu/interactive-coding-challenges/blob/master/linked_lists/linked_list/linked_list_solution.ipynb\n",
    "\n",
    "Sorting:\n",
    "- Merge Sort\n",
    "https://github.com/Crisliu/interactive-coding-challenges/blob/master/sorting_searching/%5BDone%5Dmerge_sort/merge_sort_solution.ipynb\n",
    "- Quick Sort\n",
    "https://github.com/Crisliu/interactive-coding-challenges/blob/master/sorting_searching/%5BDone%5Dquick_sort/quick_sort_solution.ipynb\n",
    "- Selection Sort\n",
    "https://github.com/Crisliu/interactive-coding-challenges/blob/master/sorting_searching/%5BDone%5Dselection_sort/selection_sort_solution.ipynb\n",
    "- Insertion Sort\n",
    "https://github.com/Crisliu/interactive-coding-challenges/blob/master/sorting_searching/%5BDone%5Dinsertion_sort/insertion_sort_solution.ipynb\n"
   ]
  }
 ],
 "metadata": {
  "anaconda-cloud": {},
  "kernelspec": {
   "display_name": "Python [default]",
   "language": "python",
   "name": "python3"
  },
  "language_info": {
   "codemirror_mode": {
    "name": "ipython",
    "version": 3
   },
   "file_extension": ".py",
   "mimetype": "text/x-python",
   "name": "python",
   "nbconvert_exporter": "python",
   "pygments_lexer": "ipython3",
   "version": "3.5.4"
  }
 },
 "nbformat": 4,
 "nbformat_minor": 2
}
