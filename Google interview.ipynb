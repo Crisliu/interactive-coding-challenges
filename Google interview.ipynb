{
 "cells": [
  {
   "cell_type": "markdown",
   "metadata": {},
   "source": [
    "# Array"
   ]
  },
  {
   "cell_type": "markdown",
   "metadata": {},
   "source": [
    "Plus one (easy)"
   ]
  },
  {
   "cell_type": "markdown",
   "metadata": {},
   "source": [
    "next permutation(medium)"
   ]
  },
  {
   "cell_type": "markdown",
   "metadata": {},
   "source": [
    "Start from its last element, traverse backward to find the first one with index i that satisfy num[i-1] < num[i]. So, elements from num[i] to num[n-1] is reversely sorted.\n",
    "To find the next permutation, we have to swap some numbers at different positions, to minimize the increased amount, we have to make the highest changed position as high as possible. Notice that index larger than or equal to i is not possible as num[i,n-1] is reversely sorted. So, we want to increase the number at index i-1, clearly, swap it with the smallest number between num[i,n-1] that is larger than num[i-1]. For example, original number is 121543321, we want to swap the '1' at position 2 with '2' at position 7.\n",
    "The last step is to make the remaining higher position part as small as possible, we just have to reversely sort the num[i,n-1]"
   ]
  },
  {
   "cell_type": "code",
   "execution_count": null,
   "metadata": {
    "collapsed": true
   },
   "outputs": [],
   "source": [
    "Sort Transformed Array(medium)"
   ]
  },
  {
   "cell_type": "markdown",
   "metadata": {},
   "source": [
    "Wiggle Sort(Easy)"
   ]
  },
  {
   "cell_type": "markdown",
   "metadata": {},
   "source": [
    "所以我们只要遍历一遍数组，把不符合的情况交换一下就行了。具体来说，如果nums[i] > nums[i - 1]， 则交换以后肯定有nums[i] <= nums[i - 1]。"
   ]
  },
  {
   "cell_type": "code",
   "execution_count": null,
   "metadata": {
    "collapsed": true
   },
   "outputs": [],
   "source": [
    "Wiggle Sort II (hard)"
   ]
  },
  {
   "cell_type": "markdown",
   "metadata": {},
   "source": [
    "Range Addition（medium）"
   ]
  },
  {
   "cell_type": "markdown",
   "metadata": {},
   "source": [
    "For each update, increment the start index by inc, decrement the end index + 1 by inc. Then do a moving sum at last.\n",
    "Just store every start index for each value and at end index plus one minus it"
   ]
  },
  {
   "cell_type": "markdown",
   "metadata": {},
   "source": [
    "Summary range(easy)"
   ]
  },
  {
   "cell_type": "markdown",
   "metadata": {},
   "source": [
    "3 sum smaller(easy)"
   ]
  },
  {
   "cell_type": "markdown",
   "metadata": {},
   "source": [
    "O(n^2). 2 points. 先固定一个数i, 然后设left和right搜，如果满足条件则说明left 和 [left + 1, right]之间的任意数都满足，left++再看； 如果不满足则right--再看。"
   ]
  },
  {
   "cell_type": "markdown",
   "metadata": {},
   "source": [
    "Missing Ranges(medium)"
   ]
  },
  {
   "cell_type": "markdown",
   "metadata": {},
   "source": [
    "将lower-1和upper+1直接插入数组的头和尾，然后遍历数组，相邻两数大于2，就是->, 等于2就是单个数"
   ]
  },
  {
   "cell_type": "code",
   "execution_count": 1,
   "metadata": {
    "collapsed": true
   },
   "outputs": [],
   "source": [
    "class Solution:\n",
    "    \"\"\"\n",
    "    @param: nums: a sorted integer array\n",
    "    @param: lower: An integer\n",
    "    @param: upper: An integer\n",
    "    @return: a list of its missing ranges\n",
    "    \"\"\"\n",
    "    def findMissingRanges(self, nums, lower, upper):\n",
    "        result = []\n",
    "        nums = [lower-1] + nums + [upper+1]\n",
    "        for i in xrange(1, len(nums)):\n",
    "            l = nums[i-1]\n",
    "            h = nums[i]\n",
    "            if h - l >= 2:\n",
    "                if h - l == 2:\n",
    "                    result.append(str(l+1))\n",
    "                else:\n",
    "                    result.append(str(l+1)+\"->\"+str(h-1))\n",
    "        return result"
   ]
  },
  {
   "cell_type": "markdown",
   "metadata": {},
   "source": [
    "trapping water II(hard)\n"
   ]
  },
  {
   "cell_type": "markdown",
   "metadata": {},
   "source": [
    "Median of Two Sorted Arrays(hard) - binary search"
   ]
  },
  {
   "cell_type": "markdown",
   "metadata": {},
   "source": [
    "Target sum（medium)"
   ]
  },
  {
   "cell_type": "markdown",
   "metadata": {},
   "source": [
    "So the original problem has been converted to a subset sum problem as follows: Find a subset P of nums such that sum(P) = (target + sum(nums)) / 2\n",
    "Note that the above formula has proved that target + sum(nums) must be even"
   ]
  },
  {
   "cell_type": "markdown",
   "metadata": {},
   "source": [
    "or dp (medium)"
   ]
  },
  {
   "cell_type": "markdown",
   "metadata": {},
   "source": [
    "Max Consecutive Ones II (medium)"
   ]
  },
  {
   "cell_type": "markdown",
   "metadata": {},
   "source": [
    "遍历数组\n",
    "\n",
    "如果此时遇到0， 先判断是第几个0，如果是第二个0，那就把此时的新起点设置在上一个0位置+1, 同时0的数目归1\n",
    "遇到第一个0的话就把0数目增加即可。\n",
    "两种情况都要刷新此时的上一个0的位置\n",
    "\n",
    "如果不是0，就正常进行\n",
    "每次循环结束前更新此时遍历的位置为end，并统计长度，不断对比\n",
    "\n",
    "最后得到最长的长度"
   ]
  },
  {
   "cell_type": "markdown",
   "metadata": {},
   "source": [
    "heater(hard)"
   ]
  },
  {
   "cell_type": "markdown",
   "metadata": {},
   "source": [
    "Diagonal Traverse (easy)"
   ]
  },
  {
   "cell_type": "markdown",
   "metadata": {},
   "source": [
    "Queue Reconstruction by Height (medium)"
   ]
  },
  {
   "cell_type": "markdown",
   "metadata": {},
   "source": [
    "Pick out tallest group of people and sort them in a subarray (S). Since there's no other groups of people taller than them, therefore each guy's index will be just as same as his k value.\n",
    "For 2nd tallest group (and the rest), insert each one of them into (S) by k value. So on and so forth."
   ]
  },
  {
   "cell_type": "markdown",
   "metadata": {},
   "source": [
    "Perfect Rectangle(easy)"
   ]
  },
  {
   "cell_type": "markdown",
   "metadata": {},
   "source": [
    "两条规则： 1.大的长方形面积必须等于所有小长方形面积之和2. 2.正方形四个角必须只出现过一次"
   ]
  },
  {
   "cell_type": "markdown",
   "metadata": {},
   "source": [
    "Optimal Account Balancing (medium) -dfs"
   ]
  },
  {
   "cell_type": "markdown",
   "metadata": {},
   "source": [
    "Number of Boomerangs(easy)"
   ]
  },
  {
   "cell_type": "markdown",
   "metadata": {},
   "source": [
    "# String"
   ]
  },
  {
   "cell_type": "markdown",
   "metadata": {},
   "source": [
    "decode string(medium)(practice)"
   ]
  },
  {
   "cell_type": "markdown",
   "metadata": {},
   "source": [
    "把所有字符一个个放到 stack 里， 如果碰到了 ]，就从 stack 找到对应的字符串和重复次数，decode 之后再放回 stack 里"
   ]
  },
  {
   "cell_type": "markdown",
   "metadata": {},
   "source": [
    "https://www.jiuzhang.com/solution/decode-string/"
   ]
  },
  {
   "cell_type": "markdown",
   "metadata": {},
   "source": [
    "Generalized Abbreviation(practice)"
   ]
  },
  {
   "cell_type": "code",
   "execution_count": null,
   "metadata": {
    "collapsed": true
   },
   "outputs": [],
   "source": [
    "class Solution:\n",
    "    \"\"\"\n",
    "    @param word: the given word\n",
    "    @return: the generalized abbreviations of a word\n",
    "    \"\"\"\n",
    "    def generateAbbreviations(self, word):\n",
    "        # Write your code here\n",
    "        result = []\n",
    "        abbr = False\n",
    "        self.dfs(word, '', abbr, result)\n",
    "        return result[::-1]  # The reverse is only for passing tests\n",
    "        \n",
    "    def dfs(self, remaining, temp, abbr, result):\n",
    "        if not remaining:\n",
    "            result.append(temp)\n",
    "            return\n",
    "        self.dfs(remaining[1:], temp + remaining[:1], False, result) \n",
    "        if not abbr:\n",
    "            for i in range(1,len(remaining)+1):\n",
    "                self.dfs(remaining[i:], temp + str(len(remaining[:i])), True, result)"
   ]
  },
  {
   "cell_type": "markdown",
   "metadata": {},
   "source": [
    "Longest Absolute File Path(medium)"
   ]
  },
  {
   "cell_type": "code",
   "execution_count": 11,
   "metadata": {
    "collapsed": true
   },
   "outputs": [],
   "source": [
    "class Solution:\n",
    "\n",
    "  def lengthLongestPath(self, input):\n",
    "    \n",
    "    if not input:\n",
    "      return 0\n",
    "      \n",
    "    ans = 0\n",
    "    sum = [0 for z in range(len(input.split('\\n')) + 1)]\n",
    "    \n",
    "    for str in input.split(\"\\n\"):\n",
    "      \n",
    "      level = str.count('\\t') + 1\n",
    "      leng = 0\n",
    "      \n",
    "      if \".\" in str:  ## isFile: True\n",
    "        leng = len(str.strip(\"\\t\"))\n",
    "        ans = max(ans, sum[level - 1] + leng)\n",
    "        \n",
    "      else:\n",
    "        leng = len(str.strip(\"\\t\")) + 1  ## For Dir, add 1 to its length for \"/\"\n",
    "        sum[level] = sum[level - 1] + leng\n",
    "        \n",
    "    return ans"
   ]
  },
  {
   "cell_type": "code",
   "execution_count": 12,
   "metadata": {},
   "outputs": [
    {
     "data": {
      "text/plain": [
       "32"
      ]
     },
     "execution_count": 12,
     "metadata": {},
     "output_type": "execute_result"
    }
   ],
   "source": [
    "s = Solution()\n",
    "s.lengthLongestPath(\"dir\\n\\tsubdir1\\n\\t\\tfile1.ext\\n\\t\\tsubsubdir1\\n\\tsubdir2\\n\\t\\tsubsubdir2\\n\\t\\t\\tfile2.ext\")"
   ]
  },
  {
   "cell_type": "markdown",
   "metadata": {},
   "source": [
    "Strobogrammatic Number II (medium)"
   ]
  },
  {
   "cell_type": "code",
   "execution_count": 14,
   "metadata": {
    "collapsed": true
   },
   "outputs": [],
   "source": [
    "class Solution:\n",
    "    def findStrobogrammatic(self, n):\n",
    "        \"\"\"\n",
    "        :type n: int\n",
    "        :rtype: List[str]\n",
    "        \"\"\"\n",
    "        ROTATE = {}\n",
    "        ROTATE[\"0\"] = \"0\"\n",
    "        ROTATE[\"1\"] = \"1\"\n",
    "        ROTATE[\"6\"] = \"9\"\n",
    "        ROTATE[\"8\"] = \"8\"\n",
    "        ROTATE[\"9\"] = \"6\"\n",
    "\n",
    "        queue = collections.deque()\n",
    "        if n % 2 == 0:\n",
    "            queue.append(\"\")\n",
    "        else:\n",
    "            queue.append(\"0\")\n",
    "            queue.append(\"1\")\n",
    "            queue.append(\"8\")\n",
    "\n",
    "        result = []\n",
    "        while queue:\n",
    "            num = queue.popleft()\n",
    "            if len(num) == n:\n",
    "                result += [num] if num[0] != \"0\" or n == 1 else []\n",
    "            else:\n",
    "                for key, val in ROTATE.items():\n",
    "                    queue.append( key + num + val)\n",
    "\n",
    "        return result"
   ]
  },
  {
   "cell_type": "markdown",
   "metadata": {},
   "source": [
    "generate parenthesis(medium)"
   ]
  },
  {
   "cell_type": "markdown",
   "metadata": {},
   "source": [
    "典型的递归。一步步构造字符串。当左括号出现次数<n时，就可以放置新的左括号。当右括号出现次数小于左括号出现次数时，就可以放置新的右括号。\n",
    "给定的n为括号对，所以就是有n个左括号和n个右括号的组合。\n",
    "按顺序尝试知道左右括号都尝试完了就可以算作一个解。\n",
    "注意，左括号的数不能大于右括号，要不然那就意味着先尝试了右括号而没有左括号，类似“)(” 这种解是不合法的。\n"
   ]
  },
  {
   "cell_type": "code",
   "execution_count": 21,
   "metadata": {},
   "outputs": [
    {
     "data": {
      "text/plain": [
       "['((()))', '(()())', '(())()', '()(())', '()()()']"
      ]
     },
     "execution_count": 21,
     "metadata": {},
     "output_type": "execute_result"
    }
   ],
   "source": [
    "class Solution():\n",
    "    def genparen(self,n):\n",
    "        if n <= 0:\n",
    "            return ['']\n",
    "        result = []\n",
    "        self.helper(result,'',n,n)\n",
    "        return result\n",
    "    \n",
    "    def helper(self,result,build,left,right):\n",
    "        if left == 0 and right == 0:\n",
    "            result.append(build)\n",
    "            return\n",
    "        if left > 0:\n",
    "            self.helper(result,build + '(' , left - 1 ,right)\n",
    "        if right > 0 and left < right:\n",
    "            self.helper(result,build + ')', left,right-1)\n",
    "s = Solution()\n",
    "s.genparen(3)\n",
    "        "
   ]
  },
  {
   "cell_type": "markdown",
   "metadata": {},
   "source": [
    "Remove Duplicate Letters(hard)"
   ]
  },
  {
   "cell_type": "code",
   "execution_count": null,
   "metadata": {
    "collapsed": true
   },
   "outputs": [],
   "source": [
    "class Solution:\n",
    "    \"\"\"\n",
    "    @param s: a string\n",
    "    @return: return a string\n",
    "    \"\"\"\n",
    "    def removeDuplicateLetters(self, s):\n",
    "        # write your code here\n",
    "        dict = {}\n",
    "        for c in s:\n",
    "            if c not in dict:\n",
    "                dict[c] = 1\n",
    "            else:\n",
    "                dict[c] += 1\n",
    "                \n",
    "        visited = {}\n",
    "        for k in dict:\n",
    "            visited[k] = False\n",
    "        stack = []\n",
    "        for c in s:\n",
    "            dict[c] -= 1\n",
    "            if visited[c]:\n",
    "                continue\n",
    "            while len(stack)>0 and stack[-1] > c and dict[stack[-1]] > 0:\n",
    "                visited[stack[-1]] = False\n",
    "                stack.pop()\n",
    "            stack.append(c)\n",
    "            visited[c] = True\n",
    "        return ''.join(stack)"
   ]
  },
  {
   "cell_type": "markdown",
   "metadata": {},
   "source": [
    "Group Shifted Strings(easy)"
   ]
  },
  {
   "cell_type": "code",
   "execution_count": null,
   "metadata": {
    "collapsed": true
   },
   "outputs": [],
   "source": [
    "Rearrange String k Distance Apart(hard)"
   ]
  },
  {
   "cell_type": "markdown",
   "metadata": {},
   "source": [
    "Minimum Unique Word Abbreviation(hard)"
   ]
  },
  {
   "cell_type": "markdown",
   "metadata": {},
   "source": [
    "这道题实际上是之前那两道Valid Word Abbreviation和Generalized Abbreviation的合体，我们的思路其实很简单，首先找出target的所有的单词缩写的形式，然后按照长度来排序，小的排前面，我们用优先队列来自动排序，里面存一个pair，保存单词缩写及其长度，然后我们从最短的单词缩写开始，跟dictionary中所有的单词一一进行验证，利用Valid Word Abbreviation中的方法，看其是否是合法的单词的缩写，如果是，说明有冲突，直接break，进行下一个单词缩写的验证。"
   ]
  },
  {
   "cell_type": "markdown",
   "metadata": {},
   "source": [
    "Longest Substring with At Most K Distinct Characters(medium)"
   ]
  },
  {
   "cell_type": "markdown",
   "metadata": {},
   "source": [
    "Palindrome Pairs(medium)"
   ]
  },
  {
   "cell_type": "markdown",
   "metadata": {},
   "source": [
    "class Solution:\n",
    "    \"\"\"\n",
    "    @param words: a list of unique words\n",
    "    @return: all pairs of distinct indices\n",
    "    \"\"\"\n",
    "    def palindromePairs(self, words):\n",
    "        # Write your code here\n",
    "        if not words:\n",
    "            return []\n",
    "        \n",
    "        table = dict()\n",
    "        for idx, word in enumerate(words):\n",
    "            table[word] = idx\n",
    "        \n",
    "        ans = []\n",
    "        for idx, word in enumerate(words):\n",
    "            size = len(word)\n",
    "            \n",
    "            for i in range(size + 1):\n",
    "                leftSub = word[:i]\n",
    "                rightSub = word[i:]\n",
    "                \n",
    "                if self.isPalindrome(leftSub):\n",
    "                    reversedRight = rightSub[::-1]\n",
    "                    if reversedRight in table and table[reversedRight] != idx:\n",
    "                        ans.append([table[reversedRight], idx])\n",
    "                \n",
    "                if len(rightSub) > 0 and self.isPalindrome(rightSub):\n",
    "                    reversedLeft = leftSub[::-1]\n",
    "                    if reversedLeft in table and table[reversedLeft] != idx:\n",
    "                        ans.append([idx, table[reversedLeft]])\n",
    "        return ans\n",
    "    \n",
    "    def isPalindrome(self, word):\n",
    "        if not word:\n",
    "            return True\n",
    "        \n",
    "        left = 0\n",
    "        right = len(word) - 1\n",
    "        \n",
    "        while left <= right:\n",
    "            if word[left] != word[right]:\n",
    "                return False\n",
    "            left += 1\n",
    "            right -= 1\n",
    "        \n",
    "        return True"
   ]
  },
  {
   "cell_type": "markdown",
   "metadata": {},
   "source": [
    "sentence screen fitting(medium)"
   ]
  },
  {
   "cell_type": "markdown",
   "metadata": {},
   "source": [
    "https://evelynn.gitbooks.io/google-interview/content/sentence-screen-fitting.html"
   ]
  },
  {
   "cell_type": "markdown",
   "metadata": {},
   "source": [
    "# Graph"
   ]
  },
  {
   "cell_type": "markdown",
   "metadata": {},
   "source": [
    "Verify Preorder Serialization of a Binary Tree (medium) -no answer"
   ]
  },
  {
   "cell_type": "markdown",
   "metadata": {},
   "source": [
    "Binary Tree Longest Consecutive Sequence(medium)"
   ]
  },
  {
   "cell_type": "markdown",
   "metadata": {},
   "source": [
    "Evaluate Division(medium)"
   ]
  },
  {
   "cell_type": "markdown",
   "metadata": {},
   "source": [
    "Android unlock pattern(medium)"
   ]
  },
  {
   "cell_type": "markdown",
   "metadata": {},
   "source": [
    "Word Square(hard)"
   ]
  },
  {
   "cell_type": "markdown",
   "metadata": {},
   "source": [
    "Fraction to Recurring Decimal(medium) -practice"
   ]
  },
  {
   "cell_type": "code",
   "execution_count": 13,
   "metadata": {
    "collapsed": true
   },
   "outputs": [],
   "source": [
    "class TrieNode:\n",
    "    def __init__(self):\n",
    "        self.children = {}\n",
    "        self.is_word = False\n",
    "        self.word_list = []\n",
    "\n",
    "\n",
    "class Trie:\n",
    "    def __init__(self):\n",
    "        self.root = TrieNode()\n",
    "        \n",
    "    def add(self, word):\n",
    "        node = self.root\n",
    "        for c in word:\n",
    "            if c not in node.children:\n",
    "                node.children[c] = TrieNode()\n",
    "            node = node.children[c]\n",
    "            node.word_list.append(word)\n",
    "        node.is_word = True\n",
    "\n",
    "    def find(self, word):\n",
    "        node = self.root\n",
    "        for c in word:\n",
    "            node = node.children.get(c)\n",
    "            if node is None:\n",
    "                return None\n",
    "        return node\n",
    "        \n",
    "    def get_words_with_prefix(self, prefix):\n",
    "        node = self.find(prefix)\n",
    "        return [] if node is None else node.word_list\n",
    "        \n",
    "    def contains(self, word):\n",
    "        node = self.find(word)\n",
    "        return node is not None and node.is_word\n",
    "        \n",
    "        \n",
    "class Solution:\n",
    "    \"\"\"\n",
    "    @param: words: a set of words without duplicates\n",
    "    @return: all word squares\n",
    "    \"\"\"\n",
    "    def wordSquares(self, words):\n",
    "        trie = Trie()\n",
    "        for word in words:\n",
    "            trie.add(word)\n",
    "            \n",
    "        squares = []\n",
    "        for word in words:\n",
    "            self.search(trie, [word], squares)\n",
    "        \n",
    "        return squares\n",
    "        \n",
    "    def search(self, trie, square, squares):\n",
    "        n = len(square[0])\n",
    "        curt_index = len(square)\n",
    "        if curt_index == n:\n",
    "            squares.append(list(square))\n",
    "            return\n",
    "        \n",
    "        # Pruning, it's ok to remove it, but will be slower\n",
    "        for row_index in range(curt_index, n):\n",
    "            prefix = ''.join([square[i][row_index] for i in range(curt_index)])\n",
    "            if trie.find(prefix) is None:\n",
    "                return\n",
    "        \n",
    "        prefix = ''.join([square[i][curt_index] for i in range(curt_index)])\n",
    "        for word in trie.get_words_with_prefix(prefix):\n",
    "            square.append(word)\n",
    "            self.search(trie, square, squares)\n",
    "            square.pop() # remove the last word"
   ]
  },
  {
   "cell_type": "markdown",
   "metadata": {},
   "source": [
    "Minimum Absolute Difference in BST"
   ]
  },
  {
   "cell_type": "markdown",
   "metadata": {},
   "source": [
    "https://evelynn.gitbooks.io/google-interview/content/minimum-absolute-difference-in-bst.html"
   ]
  },
  {
   "cell_type": "markdown",
   "metadata": {},
   "source": [
    "Island Perimeter(medium)"
   ]
  },
  {
   "cell_type": "markdown",
   "metadata": {},
   "source": [
    "loop over the matrix and count the number of islands;\n",
    "\n",
    "if the current dot is an island, count if it has any right neighbour or down neighbour;\n",
    "\n",
    "the result is islands 4 - neighbours 2\n",
    "\n"
   ]
  },
  {
   "cell_type": "markdown",
   "metadata": {},
   "source": [
    "Game of life(hard)"
   ]
  },
  {
   "cell_type": "markdown",
   "metadata": {},
   "source": [
    "https://evelynn.gitbooks.io/google-interview/content/game-of-life.html"
   ]
  },
  {
   "cell_type": "code",
   "execution_count": 43,
   "metadata": {},
   "outputs": [
    {
     "data": {
      "text/plain": [
       "['aaaa bbb', 'cccc ddd', 'ee ff', 'ggggg']"
      ]
     },
     "execution_count": 43,
     "metadata": {},
     "output_type": "execute_result"
    }
   ],
   "source": [
    "class Solution:\n",
    "    \"\"\"\n",
    "    @param s: the string\n",
    "    @param k: the k\n",
    "    @return: the answer\n",
    "    \"\"\"\n",
    "    def wordSegmentation(self, s, k):\n",
    "        # Write your code here \n",
    "        result = []\n",
    "        next = 0\n",
    "        i = 0 \n",
    "        while i < len(s):\n",
    "            start_index = i+1 if s[i]==' ' else i\n",
    "            while next <=start_index + k and next < len(s):\n",
    "                i = next\n",
    "                next = self.find_next_space(i+1,s)\n",
    "                #print(next)\n",
    "            result.append(s[start_index:i])\n",
    "            #print(result,i,next)\n",
    "            if next >=len(s):\n",
    "                break\n",
    "        start_index = i+1 if s[i]==' ' else i\n",
    "        result.append(s[start_index:])\n",
    "        return result\n",
    "        \n",
    "        \n",
    "    def find_next_space(self,i,s):\n",
    "        while i < len(s) and s[i]!=' ':\n",
    "            i+=1\n",
    "        return i \n",
    "s = Solution()\n",
    "s.wordSegmentation(\"aaaa bbb cccc ddd ee ff ggggg\",8)"
   ]
  },
  {
   "cell_type": "code",
   "execution_count": 29,
   "metadata": {},
   "outputs": [
    {
     "data": {
      "text/plain": [
       "4"
      ]
     },
     "execution_count": 29,
     "metadata": {},
     "output_type": "execute_result"
    }
   ],
   "source": [
    "def find_next_space(i,s):\n",
    "    while i < len(s) and s[i]!=' ':\n",
    "        i+=1\n",
    "    return i \n",
    "\n",
    "find_next_space(0,'aaaa b')"
   ]
  },
  {
   "cell_type": "code",
   "execution_count": null,
   "metadata": {
    "collapsed": true
   },
   "outputs": [],
   "source": []
  }
 ],
 "metadata": {
  "anaconda-cloud": {},
  "kernelspec": {
   "display_name": "Python [default]",
   "language": "python",
   "name": "python3"
  },
  "language_info": {
   "codemirror_mode": {
    "name": "ipython",
    "version": 3
   },
   "file_extension": ".py",
   "mimetype": "text/x-python",
   "name": "python",
   "nbconvert_exporter": "python",
   "pygments_lexer": "ipython3",
   "version": "3.5.4"
  }
 },
 "nbformat": 4,
 "nbformat_minor": 1
}
