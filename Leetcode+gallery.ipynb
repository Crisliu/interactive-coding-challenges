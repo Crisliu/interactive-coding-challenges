{
 "cells": [
  {
   "cell_type": "markdown",
   "metadata": {},
   "source": [
    "# Array"
   ]
  },
  {
   "cell_type": "markdown",
   "metadata": {},
   "source": [
    "Subarray related problems"
   ]
  },
  {
   "cell_type": "markdown",
   "metadata": {},
   "source": [
    "53.Maximum Subarray"
   ]
  },
  {
   "cell_type": "code",
   "execution_count": 6,
   "metadata": {
    "collapsed": true
   },
   "outputs": [],
   "source": [
    "class Solution:\n",
    "    def maxSubArray(self, A):\n",
    "        if not A:\n",
    "            return 0\n",
    "\n",
    "        #curSum = maxSum = A[0]\n",
    "        max_so_far = 0\n",
    "        max_ending_here = 0\n",
    "      \n",
    "        for i in range(0, size):\n",
    "            max_ending_here = max_ending_here + a[i]\n",
    "            if (max_so_far < max_ending_here):\n",
    "                max_so_far = max_ending_here\n",
    "\n",
    "            if max_ending_here < 0:\n",
    "                max_ending_here = 0  \n",
    "        return max_so_far"
   ]
  },
  {
   "cell_type": "markdown",
   "metadata": {
    "collapsed": true
   },
   "source": [
    "Smallest sum contiguous subarray"
   ]
  },
  {
   "cell_type": "code",
   "execution_count": null,
   "metadata": {
    "collapsed": true
   },
   "outputs": [],
   "source": [
    "#handle all negative case as well\n",
    "# Python program to find maximum contiguous subarray\n",
    " \n",
    "def maxSubArraySum(a,size):\n",
    "     \n",
    "    max_so_far =a[0]\n",
    "    curr_max = a[0]\n",
    "     \n",
    "    for i in range(1,size):\n",
    "        curr_max = max(a[i], curr_max + a[i])\n",
    "        max_so_far = max(max_so_far,curr_max)\n",
    "         \n",
    "    return max_so_far\n",
    " "
   ]
  },
  {
   "cell_type": "code",
   "execution_count": null,
   "metadata": {
    "collapsed": true
   },
   "outputs": [],
   "source": [
    "def smallestSumSubarr(arr, n):\n",
    "    # to store the minimum value that is ending\n",
    "    # up to the current index\n",
    "    min_ending_here = sys.maxint\n",
    "     \n",
    "    # to store the minimum value encountered so far\n",
    "    min_so_far = sys.maxint\n",
    "     \n",
    "    # traverse the array elements\n",
    "    for i in range(n):\n",
    "        # if min_ending_here > 0, then it could not possibly\n",
    "        # contribute to the minimum sum further\n",
    "        if (min_ending_here > 0):\n",
    "            min_ending_here = arr[i]\n",
    "         \n",
    "        # else add the value arr[i] to min_ending_here \n",
    "        else:\n",
    "            min_ending_here += arr[i]\n",
    "          \n",
    "        # update min_so_far\n",
    "        min_so_far = min(min_so_far, min_ending_here)\n",
    "     \n",
    "    # required smallest sum contiguous subarray value\n",
    "    return min_so_far"
   ]
  },
  {
   "cell_type": "markdown",
   "metadata": {},
   "source": [
    "Contiguous Array"
   ]
  },
  {
   "cell_type": "markdown",
   "metadata": {},
   "source": [
    "find the maximum length of a contiguous subarray with equal number of 0 and 1"
   ]
  },
  {
   "cell_type": "code",
   "execution_count": 20,
   "metadata": {
    "collapsed": true
   },
   "outputs": [],
   "source": [
    "class Solution(object):\n",
    "    def findMaxLength(self, nums):\n",
    "        count = 0\n",
    "        max_length=0\n",
    "        table = {0: 0}\n",
    "        for index, num in enumerate(nums, 1):\n",
    "            if num == 0:\n",
    "                count -= 1\n",
    "            else:\n",
    "                count += 1\n",
    "            \n",
    "            if count in table:\n",
    "                max_length = max(max_length, index - table[count])\n",
    "            else:\n",
    "                table[count] = index\n",
    "        \n",
    "        return max_length"
   ]
  },
  {
   "cell_type": "markdown",
   "metadata": {},
   "source": [
    "152.Maximum Product Subarray"
   ]
  },
  {
   "cell_type": "code",
   "execution_count": 4,
   "metadata": {
    "collapsed": true
   },
   "outputs": [],
   "source": [
    "class Solution:\n",
    "# @param A, a list of integers\n",
    "# @return an integer\n",
    "    def maxProduct(self, A):\n",
    "        MinTemp = A[0]\n",
    "        MaxTemp = A[0]\n",
    "        Max = A[0]\n",
    "        for i in xrange(1, len(A)):\n",
    "            MinTemp, MaxTemp = min(A[i], A[i] * MaxTemp, A[i] * MinTemp), max(A[i], A[i] * MaxTemp, A[i] * MinTemp)\n",
    "            Max = max(Max, MaxTemp)\n",
    "        return Max"
   ]
  },
  {
   "cell_type": "code",
   "execution_count": 11,
   "metadata": {},
   "outputs": [
    {
     "name": "stdout",
     "output_type": "stream",
     "text": [
      "Maximum product subarray is 112\n"
     ]
    }
   ],
   "source": [
    "# Returns the product of max product subarray.\n",
    "# Assumes that the given array always has a subarray\n",
    "# with product more than 1\n",
    "def maxsubarrayproduct(arr):\n",
    " \n",
    "    n = len(arr)\n",
    " \n",
    "    # max positive product ending at the current position\n",
    "    max_ending_here = 1\n",
    " \n",
    "    # min positive product ending at the current position\n",
    "    min_ending_here = 1\n",
    " \n",
    "    # Initialize maximum so far\n",
    "    max_so_far = 1\n",
    " \n",
    "    # Traverse throughout the array. Following values\n",
    "    # are maintained after the ith iteration:\n",
    "    # max_ending_here is always 1 or some positive product\n",
    "    # ending with arr[i]\n",
    "    # min_ending_here is always 1 or some negative product\n",
    "    # ending with arr[i]\n",
    "    for i in range(0,n):\n",
    " \n",
    "        # If this element is positive, update max_ending_here.\n",
    "        # Update min_ending_here only if min_ending_here is\n",
    "        # negative\n",
    "        if arr[i] > 0:\n",
    "            max_ending_here = max_ending_here*arr[i]\n",
    "            min_ending_here = min (min_ending_here * arr[i], 1)\n",
    " \n",
    "        # If this element is 0, then the maximum product cannot\n",
    "        # end here, make both max_ending_here and min_ending_here 0\n",
    "        # Assumption: Output is alway greater than or equal to 1.\n",
    "        elif arr[i] == 0:\n",
    "            max_ending_here = 1\n",
    "            min_ending_here = 1\n",
    " \n",
    "        # If element is negative. This is tricky\n",
    "        # max_ending_here can either be 1 or positive.\n",
    "        # min_ending_here can either be 1 or negative.\n",
    "        # next min_ending_here will always be prev.\n",
    "        # max_ending_here * arr[i]\n",
    "        # next max_ending_here will be 1 if prev\n",
    "        # min_ending_here is 1, otherwise\n",
    "        # next max_ending_here will be prev min_ending_here * arr[i]\n",
    "        else:\n",
    "            temp = max_ending_here\n",
    "            max_ending_here = max (min_ending_here * arr[i], 1)\n",
    "            min_ending_here = temp * arr[i]\n",
    "        if (max_so_far <  max_ending_here):\n",
    "            max_so_far  =  max_ending_here\n",
    "    return max_so_far\n",
    " \n",
    "# Driver function to test above function\n",
    "arr = [1, -2, -3, 0, 7, -8, -2]\n",
    "print \"Maximum product subarray is\",maxsubarrayproduct(arr)"
   ]
  },
  {
   "cell_type": "markdown",
   "metadata": {},
   "source": [
    "209.Minimum Size Subarray Sum"
   ]
  },
  {
   "cell_type": "code",
   "execution_count": 8,
   "metadata": {
    "collapsed": true
   },
   "outputs": [],
   "source": [
    "class Solution:\n",
    "\n",
    "    def minSubArrayLen(self, s, nums):\n",
    "        total = left = 0\n",
    "        result = len(nums) + 1\n",
    "        for right, n in enumerate(nums):\n",
    "            total += n\n",
    "            while total >= s:\n",
    "                result = min(result, right - left + 1)\n",
    "                total -= nums[left]\n",
    "                left += 1\n",
    "        return result if result <= len(nums) else 0"
   ]
  },
  {
   "cell_type": "markdown",
   "metadata": {},
   "source": [
    "15.3Sum"
   ]
  },
  {
   "cell_type": "code",
   "execution_count": 9,
   "metadata": {
    "collapsed": true
   },
   "outputs": [],
   "source": [
    "def threeSum(self, nums):\n",
    "    res = []\n",
    "    nums.sort()\n",
    "    for i in xrange(len(nums)-2):\n",
    "        if i > 0 and nums[i] == nums[i-1]:\n",
    "            continue\n",
    "        l, r = i+1, len(nums)-1\n",
    "        while l < r:\n",
    "            s = nums[i] + nums[l] + nums[r]\n",
    "            if s < 0:\n",
    "                l +=1 \n",
    "            elif s > 0:\n",
    "                r -= 1\n",
    "            else:\n",
    "                res.append((nums[i], nums[l], nums[r]))\n",
    "                while l < r and nums[l] == nums[l+1]:\n",
    "                    l += 1\n",
    "                while l < r and nums[r] == nums[r-1]:\n",
    "                    r -= 1\n",
    "                l += 1; r -= 1\n",
    "    return res"
   ]
  },
  {
   "cell_type": "markdown",
   "metadata": {},
   "source": [
    "153.Find Minimum in Rotated Sorted Array"
   ]
  },
  {
   "cell_type": "code",
   "execution_count": null,
   "metadata": {
    "collapsed": true
   },
   "outputs": [],
   "source": [
    "#Just use binary search\n",
    "class Solution(object):\n",
    "    def findMin(self, nums):\n",
    "        \"\"\"\n",
    "        :type nums: List[int]\n",
    "        :rtype: int\n",
    "        \"\"\"\n",
    "        i = 0\n",
    "        j = len(nums) - 1\n",
    "        while i < j:\n",
    "            m = i + (j - i) / 2\n",
    "            if nums[m] > nums[j]:\n",
    "                i = m + 1\n",
    "            else:\n",
    "                j = m\n",
    "        return nums[i]"
   ]
  },
  {
   "cell_type": "markdown",
   "metadata": {},
   "source": [
    "http://bangbingsyb.blogspot.com/2014/11/leecode-find-minimum-in-rotated-sorted.html"
   ]
  },
  {
   "cell_type": "code",
   "execution_count": 14,
   "metadata": {},
   "outputs": [
    {
     "data": {
      "text/plain": [
       "4"
      ]
     },
     "execution_count": 14,
     "metadata": {},
     "output_type": "execute_result"
    }
   ],
   "source": [
    "i,j = 2,7\n",
    "m = i + (j - i) / 2\n",
    "int(m)"
   ]
  },
  {
   "cell_type": "markdown",
   "metadata": {},
   "source": [
    " 167.Two Sum II - Input array is sorted"
   ]
  },
  {
   "cell_type": "code",
   "execution_count": 6,
   "metadata": {
    "collapsed": true
   },
   "outputs": [],
   "source": [
    "# two-pointer\n",
    "def twoSum1(self, numbers, target):\n",
    "    l, r = 0, len(numbers)-1\n",
    "    while l < r:\n",
    "        s = numbers[l] + numbers[r]\n",
    "        if s == target:\n",
    "            return [l+1, r+1]\n",
    "        elif s < target:\n",
    "            l += 1\n",
    "        else:\n",
    "            r -= 1\n",
    " \n",
    "# dictionary           \n",
    "def twoSum2(self, numbers, target):\n",
    "    dic = {}\n",
    "    for i, num in enumerate(numbers):\n",
    "        if target-num in dic:\n",
    "            return [dic[target-num]+1, i+1]\n",
    "        dic[num] = i\n",
    " \n",
    "# binary search        \n",
    "def twoSum(self, numbers, target):\n",
    "    for i in xrange(len(numbers)):\n",
    "        l, r = i+1, len(numbers)-1\n",
    "        tmp = target - numbers[i]\n",
    "        while l <= r:\n",
    "            mid = l + (r-l)//2\n",
    "            if numbers[mid] == tmp:\n",
    "                return [i+1, mid+1]\n",
    "            elif numbers[mid] < tmp:\n",
    "                l = mid+1\n",
    "            else:\n",
    "                r = mid-1"
   ]
  },
  {
   "cell_type": "markdown",
   "metadata": {},
   "source": [
    "Search in Rotated Sorted Array"
   ]
  },
  {
   "cell_type": "code",
   "execution_count": 15,
   "metadata": {
    "collapsed": true
   },
   "outputs": [],
   "source": [
    "class Solution:\n",
    "    # @param {integer[]} numss\n",
    "    # @param {integer} target\n",
    "    # @return {integer}\n",
    "    def search(self, nums, target):\n",
    "        if not nums:\n",
    "            return -1\n",
    "\n",
    "        low, high = 0, len(nums) - 1\n",
    "\n",
    "        while low <= high:\n",
    "            mid = (low + high) / 2\n",
    "            if target == nums[mid]:\n",
    "                return mid\n",
    "\n",
    "            if nums[low] <= nums[mid]:\n",
    "                if nums[low] <= target <= nums[mid]:\n",
    "                    high = mid - 1\n",
    "                else:\n",
    "                    low = mid + 1\n",
    "            else:\n",
    "                if nums[mid] <= target <= nums[high]:\n",
    "                    low = mid + 1\n",
    "                else:\n",
    "                    high = mid - 1\n",
    "\n",
    "        return -1"
   ]
  },
  {
   "cell_type": "markdown",
   "metadata": {},
   "source": [
    "http://bangbingsyb.blogspot.com/2014/11/leetcode-search-in-rotated-sorted-array.html"
   ]
  },
  {
   "cell_type": "code",
   "execution_count": null,
   "metadata": {
    "collapsed": true
   },
   "outputs": [],
   "source": [
    "# Returns maximum profit with two transactions on a given \n",
    "# list of stock prices price[0..n-1]\n",
    "def maxProfit(price,n):\n",
    "     \n",
    "    # Create profit array and initialize it as 0\n",
    "    profit = [0]*n\n",
    "     \n",
    "    # Get the maximum profit with only one transaction\n",
    "    # allowed. After this loop, profit[i] contains maximum\n",
    "    # profit from price[i..n-1] using at most one trans.\n",
    "    max_price=price[n-1]\n",
    "     \n",
    "    for i in range( n-2, 0 ,-1):\n",
    "         \n",
    "        if price[i]> max_price:\n",
    "            max_price = price[i]\n",
    "             \n",
    "        # we can get profit[i] by taking maximum of:\n",
    "        # a) previous maximum, i.e., profit[i+1]\n",
    "        # b) profit by buying at price[i] and selling at\n",
    "        #    max_price\n",
    "        profit[i] = max(profit[i+1], max_price - price[i])\n",
    "         \n",
    "    # Get the maximum profit with two transactions allowed\n",
    "    # After this loop, profit[n-1] contains the result    \n",
    "    min_price=price[0]\n",
    "     \n",
    "    for i in range(1,n):\n",
    "         \n",
    "        if price[i] < min_price:\n",
    "            min_price = price[i]\n",
    " \n",
    "        # Maximum profit is maximum of:\n",
    "        # a) previous maximum, i.e., profit[i-1]\n",
    "        # b) (Buy, Sell) at (min_price, A[i]) and add\n",
    "        #    profit of other trans. stored in profit[i]    \n",
    "        profit[i] = max(profit[i-1], profit[i]+(price[i]-min_price))\n",
    "         \n",
    "    result = profit[n-1]\n",
    "     \n",
    "    return result\n",
    " \n",
    "# Driver function\n",
    "price = [2, 30, 15, 10, 8, 25, 80]\n",
    "print \"Maximum profit is\", maxProfit(price, len(price))"
   ]
  },
  {
   "cell_type": "markdown",
   "metadata": {},
   "source": [
    "multiple transaction with transaction fee"
   ]
  },
  {
   "cell_type": "code",
   "execution_count": 24,
   "metadata": {
    "collapsed": true
   },
   "outputs": [],
   "source": [
    "def maxProfit(prices, fee):\n",
    "        sell=0;\n",
    "        own=-prices[0];\n",
    "        for i in range(1,len(prices)):\n",
    "            sell = max(sell, own + prices[i] - fee);\n",
    "            own = max(own, sell - prices[i])\n",
    "\n",
    "        return sell      \n"
   ]
  },
  {
   "cell_type": "markdown",
   "metadata": {},
   "source": [
    "128.Longest Consecutive Sequence"
   ]
  },
  {
   "cell_type": "code",
   "execution_count": null,
   "metadata": {
    "collapsed": true
   },
   "outputs": [],
   "source": [
    "# O(nlgn) solution\n",
    "class Solution:\n",
    "    def longestConsecutive(self, nums):\n",
    "        if not nums:\n",
    "            return 0\n",
    "\n",
    "        nums.sort()\n",
    "\n",
    "        longest_streak = 1\n",
    "        current_streak = 1\n",
    "\n",
    "        for i in range(1, len(nums)):\n",
    "            if nums[i] != nums[i-1]:\n",
    "                if nums[i] == nums[i-1]+1:\n",
    "                    current_streak += 1\n",
    "                else:\n",
    "                    longest_streak = max(longest_streak, current_streak)\n",
    "                    current_streak = 1\n",
    "        \n",
    "        return max(longest_streak, current_streak)\n",
    "#Set, in Python) to allow O(1)O(1) lookups\n",
    "class Solution:\n",
    "    def longestConsecutive(self, nums):\n",
    "        longest_streak = 0\n",
    "        num_set = set(nums)\n",
    "\n",
    "        for num in num_set:\n",
    "            if num - 1 not in num_set:\n",
    "                current_num = num\n",
    "                current_streak = 1\n",
    "\n",
    "                while current_num + 1 in num_set:\n",
    "                    current_num += 1\n",
    "                    current_streak += 1\n",
    "\n",
    "                longest_streak = max(longest_streak, current_streak)\n",
    "\n",
    "        return longest_streak"
   ]
  },
  {
   "cell_type": "markdown",
   "metadata": {},
   "source": [
    "217.Contains Duplicate"
   ]
  },
  {
   "cell_type": "code",
   "execution_count": null,
   "metadata": {
    "collapsed": true
   },
   "outputs": [],
   "source": [
    "return len(set(nums)) < len(nums)"
   ]
  },
  {
   "cell_type": "markdown",
   "metadata": {},
   "source": [
    "238.Product of Array Except Self"
   ]
  },
  {
   "cell_type": "code",
   "execution_count": 9,
   "metadata": {
    "collapsed": true
   },
   "outputs": [],
   "source": [
    "#Algorithm:\n",
    "#1) Construct a temporary array left[] such that left[i] contains product of all elements on left of arr[i] excluding arr[i].\n",
    "#2) Construct another temporary array right[] such that right[i] contains product of all elements on on right of arr[i] excluding arr[i].\n",
    "#3) To get prod[], multiply left[] and right[].\n",
    "class Solution:\n",
    "    # @param {integer[]} nums\n",
    "    # @return {integer[]}\n",
    "    def productExceptSelf(self, nums):\n",
    "        p = 1\n",
    "        n = len(nums)\n",
    "        output = []\n",
    "        for i in range(0,n):\n",
    "            output.append(p)\n",
    "            p = p * nums[i]\n",
    "        p = 1\n",
    "        for i in range(n-1,-1,-1):\n",
    "            output[i] = output[i] * p\n",
    "            p = p * nums[i]\n",
    "        return output"
   ]
  },
  {
   "cell_type": "markdown",
   "metadata": {},
   "source": [
    "Given an array with n objects colored red, white or blue, sort them so that objects of the same color are adjacent, with the colors in the order red, white and blue."
   ]
  },
  {
   "cell_type": "code",
   "execution_count": 1,
   "metadata": {
    "collapsed": true
   },
   "outputs": [],
   "source": [
    "class Solution:\n",
    "    \"\"\"\n",
    "    @param nums: A list of integer which is 0, 1 or 2 \n",
    "    @return: nothing\n",
    "    \"\"\"\n",
    "    def sortColors(self, A):\n",
    "        left, index, right = 0, 0, len(A) - 1\n",
    "\n",
    "        # be careful, index < right is not correct\n",
    "        while index <= right:\n",
    "            if A[index] == 0:\n",
    "                A[left], A[index] = A[index], A[left]\n",
    "                left += 1\n",
    "                index += 1\n",
    "            elif A[index] == 1:\n",
    "                index += 1\n",
    "            else:\n",
    "                A[right], A[index] = A[index], A[right]\n",
    "                right -= 1"
   ]
  },
  {
   "cell_type": "markdown",
   "metadata": {},
   "source": [
    "# String"
   ]
  },
  {
   "cell_type": "markdown",
   "metadata": {},
   "source": [
    "139 .word break"
   ]
  },
  {
   "cell_type": "markdown",
   "metadata": {},
   "source": [
    "ok[i] tells whether s[:i] can be built."
   ]
  },
  {
   "cell_type": "code",
   "execution_count": 8,
   "metadata": {
    "collapsed": true
   },
   "outputs": [],
   "source": [
    "def wordBreak(self, s, words):\n",
    "    ok = [True]\n",
    "    for i in range(1, len(s)+1):\n",
    "        ok += any(ok[j] and s[j:i] in words for j in range(i)),\n",
    "    return ok[-1]"
   ]
  },
  {
   "cell_type": "code",
   "execution_count": 9,
   "metadata": {
    "collapsed": true
   },
   "outputs": [],
   "source": [
    "def word_break(s, words):\n",
    " \td = [False] * len(s)    \n",
    " \tfor i in range(len(s)):\n",
    " \t\tfor w in words:\n",
    " \t\t\tif w == s[i-len(w)+1:i+1] and (d[i-len(w)] or i-len(w) == -1):\n",
    " \t\t\t\td[i] = True\n",
    " \treturn d[-1]"
   ]
  },
  {
   "cell_type": "markdown",
   "metadata": {},
   "source": [
    " 5.Longest Palindromic Substring"
   ]
  },
  {
   "cell_type": "code",
   "execution_count": null,
   "metadata": {
    "collapsed": true
   },
   "outputs": [],
   "source": [
    "class Solution:\n",
    "    # @return a string\n",
    "    def longestPalindrome(self, s):\n",
    "        if len(s)==0:\n",
    "        \treturn 0\n",
    "        maxLen=1\n",
    "        start=0\n",
    "        for i in xrange(len(s)):\n",
    "        \tif i-maxLen >=1 and s[i-maxLen-1:i+1]==s[i-maxLen-1:i+1][::-1]:\n",
    "        \t\tstart=i-maxLen-1\n",
    "        \t\tmaxLen+=2\n",
    "        \t\tcontinue\n",
    "\n",
    "        \tif i-maxLen >=0 and s[i-maxLen:i+1]==s[i-maxLen:i+1][::-1]:\n",
    "        \t\tstart=i-maxLen\n",
    "        \t\tmaxLen+=1\n",
    "        return s[start:start+maxLen]"
   ]
  },
  {
   "cell_type": "markdown",
   "metadata": {},
   "source": [
    "public String longestPalindrome(String s) {\n",
    "    int start = 0, end = 0;\n",
    "    for (int i = 0; i < s.length(); i++) {\n",
    "        int len1 = expandAroundCenter(s, i, i);\n",
    "        int len2 = expandAroundCenter(s, i, i + 1);\n",
    "        int len = Math.max(len1, len2);\n",
    "        if (len > end - start) {\n",
    "            start = i - (len - 1) / 2;\n",
    "            end = i + len / 2;\n",
    "        }\n",
    "    }\n",
    "    return s.substring(start, end + 1);\n",
    "}\n",
    "\n",
    "private int expandAroundCenter(String s, int left, int right) {\n",
    "    int L = left, R = right;\n",
    "    while (L >= 0 && R < s.length() && s.charAt(L) == s.charAt(R)) {\n",
    "        L--;\n",
    "        R++;\n",
    "    }\n",
    "    return R - L - 1;\n",
    "}"
   ]
  },
  {
   "cell_type": "markdown",
   "metadata": {},
   "source": [
    " 3.Longest Substring Without Repeating Characters"
   ]
  },
  {
   "cell_type": "code",
   "execution_count": 1,
   "metadata": {
    "collapsed": true
   },
   "outputs": [],
   "source": [
    "class Solution:\n",
    "    # @return an integer\n",
    "    def lengthOfLongestSubstring(self, s):\n",
    "        start = maxLength = 0\n",
    "        usedChar = {}\n",
    "        \n",
    "        for i in range(len(s)):\n",
    "            if s[i] in usedChar and start <= usedChar[s[i]]:\n",
    "                start = usedChar[s[i]] + 1\n",
    "            else:\n",
    "                maxLength = max(maxLength, i - start + 1)\n",
    "\n",
    "            usedChar[s[i]] = i\n",
    "\n",
    "        return maxLength\n",
    "    \n",
    "# another solution\n",
    "def lengthOfLongestSubstring(self, s):\n",
    "\n",
    "    used = {}\n",
    "    max_length = start = 0\n",
    "    for i, c in enumerate(s):\n",
    "        if c in used and start <= used[c]:\n",
    "            start = used[c] + 1\n",
    "        else:\n",
    "            max_length = max(max_length, i - start + 1)\n",
    "            \n",
    "        used[c] = i\n",
    "\n",
    "    \n",
    "    return max_length"
   ]
  },
  {
   "cell_type": "code",
   "execution_count": 2,
   "metadata": {},
   "outputs": [
    {
     "data": {
      "text/plain": [
       "4"
      ]
     },
     "execution_count": 2,
     "metadata": {},
     "output_type": "execute_result"
    }
   ],
   "source": [
    "a = Solution()\n",
    "a.lengthOfLongestSubstring('abcabcd')"
   ]
  },
  {
   "cell_type": "markdown",
   "metadata": {},
   "source": [
    "76.Minimum Window Substring"
   ]
  },
  {
   "cell_type": "code",
   "execution_count": 6,
   "metadata": {
    "collapsed": true
   },
   "outputs": [],
   "source": [
    "def minWindow(self, s, t):\n",
    "    need, missing = collections.Counter(t), len(t)\n",
    "    i = I = J = 0\n",
    "    for j, c in enumerate(s, 1):\n",
    "        missing -= need[c] > 0\n",
    "        need[c] -= 1\n",
    "        if not missing:\n",
    "            while i < j and need[s[i]] < 0:\n",
    "                need[s[i]] += 1\n",
    "                i += 1\n",
    "            if not J or j - i <= J - I:\n",
    "                I, J = i, j\n",
    "    return s[I:J]"
   ]
  },
  {
   "cell_type": "code",
   "execution_count": 7,
   "metadata": {
    "collapsed": true
   },
   "outputs": [],
   "source": [
    "class Solution(object):\n",
    "    def minWindow(self, s, t):\n",
    "        \"\"\"\n",
    "        :type s: str\n",
    "        :type t: str\n",
    "        :rtype: str\n",
    "        \"\"\"\n",
    "        # Defaultdict is very useful in this problem, though i don't like to import modules\n",
    "        target_count_dict = collections.defaultdict(int)\n",
    "        for ch in t:\n",
    "            target_count_dict[ch] += 1\n",
    "        remain_missing = len(t)\n",
    "        start_pos, end_pos = 0, float('inf')\n",
    "        current_start = 0\n",
    "        \n",
    "        # Enumerate function makes current_end indexes from 1\n",
    "        for current_end, ch in enumerate(s, 1):\n",
    "            # Whenever we encounter a character, no matter ch in target or not, we minus 1 in count dictionary\n",
    "            # But, only when ch is in target, we minus the length of remain_missing\n",
    "            # When the remain_missing is 0, we find a potential solution.\n",
    "            if target_count_dict[ch] > 0:\n",
    "                remain_missing -= 1\n",
    "            target_count_dict[ch] -= 1\n",
    "            \n",
    "            if remain_missing == 0:\n",
    "                # Remove redundant character\n",
    "                # Try to find the fist position in s that makes target_count_dict value equals 0\n",
    "                # Which means we can't skip this character in s when returning answer\n",
    "                while target_count_dict[s[current_start]] < 0:\n",
    "                    target_count_dict[s[current_start]] += 1\n",
    "                    current_start += 1\n",
    "                if current_end - current_start < end_pos - start_pos:\n",
    "                    start_pos, end_pos = current_start, current_end\n",
    "                \n",
    "                # We need to add 1 to current_start, and the correspondence value in dictionary, is because\n",
    "                # this is the first character of the potential answer. So, in future iteration, when we encounter this character,\n",
    "                # We can remove this currently first character to try to find a shorter answer.\n",
    "                target_count_dict[s[current_start]] += 1\n",
    "                remain_missing += 1\n",
    "                current_start += 1\n",
    "        \n",
    "        return s[start_pos:end_pos] if end_pos != float('inf') else \"\""
   ]
  },
  {
   "cell_type": "markdown",
   "metadata": {},
   "source": [
    "Here is a 10-line template that can solve most 'substring' problems"
   ]
  },
  {
   "cell_type": "markdown",
   "metadata": {},
   "source": [
    "One thing needs to be mentioned is that when asked to find maximum substring, we should update maximum after the inner while loop to guarantee that the substring is valid. On the other hand, when asked to find minimum substring, we should update minimum inside the inner while loop."
   ]
  },
  {
   "cell_type": "code",
   "execution_count": 17,
   "metadata": {
    "collapsed": true
   },
   "outputs": [],
   "source": [
    "class Solution(object):\n",
    "    def min_window(self, s, t):\n",
    "        \"\"\"\n",
    "        :type s: str\n",
    "        :type t: str\n",
    "        :rtype: str\n",
    "        \"\"\"\n",
    "        # Struggled with this problem for a long while.\n",
    "        # Idea: Two pointers: moving end forward to find a valid window,\n",
    "        #                     moving start forward to find a smaller window\n",
    "        #                     counter and hash_map to determine if the window is valid or not\n",
    "\n",
    "        # Count the frequencies for chars in t\n",
    "        hash_map = dict()\n",
    "        for c in t:\n",
    "            if c in hash_map:\n",
    "                hash_map[c] += 1\n",
    "            else:\n",
    "                hash_map[c] = 1\n",
    "\n",
    "        start, end = 0, 0\n",
    "\n",
    "        # If the minimal length doesn't change, it means there's no valid window\n",
    "        min_window_length = len(s) + 1\n",
    "\n",
    "        # Start point of the minimal window\n",
    "        min_window_start = 0\n",
    "\n",
    "        # Works as a counter of how many chars still need to be included in a window\n",
    "        num_of_chars_to_be_included = len(t)\n",
    "\n",
    "        while end < len(s):\n",
    "            # If the current char is desired\n",
    "            if s[end] in hash_map:\n",
    "                # Then we decreased the counter, if this char is a \"must-have\" now, in a sense of critical value\n",
    "                if hash_map[s[end]] > 0:\n",
    "                    num_of_chars_to_be_included -= 1\n",
    "                # And we decrease the hash_map value\n",
    "                hash_map[s[end]] -= 1\n",
    "\n",
    "            # If the current window has all the desired chars\n",
    "            while num_of_chars_to_be_included == 0:\n",
    "                # See if this window is smaller\n",
    "                if end - start + 1 < min_window_length:\n",
    "                    min_window_length = end - start + 1\n",
    "                    min_window_start = start\n",
    "\n",
    "                # if s[start] is desired, we need to update the hash_map value and the counter\n",
    "                if s[start] in hash_map:\n",
    "                    hash_map[s[start]] += 1\n",
    "                    # Still, update the counter only if the current char is \"critical\"\n",
    "                    if hash_map[s[start]] > 0:\n",
    "                        num_of_chars_to_be_included += 1\n",
    "\n",
    "                # Move start forward to find a smaller window\n",
    "                start += 1\n",
    "\n",
    "            # Move end forward to find another valid window\n",
    "            end += 1\n",
    "\n",
    "        if min_window_length == len(s) + 1:\n",
    "            return \"\"\n",
    "        else:\n",
    "            return s[min_window_start:min_window_start + min_window_length]"
   ]
  },
  {
   "cell_type": "markdown",
   "metadata": {},
   "source": [
    "242.Valid Anagram"
   ]
  },
  {
   "cell_type": "code",
   "execution_count": 48,
   "metadata": {
    "collapsed": true
   },
   "outputs": [],
   "source": [
    "def isAnagram1(self, s, t):\n",
    "    dic1, dic2 = {}, {}\n",
    "    for item in s:\n",
    "        dic1[item] = dic1.get(item, 0) + 1\n",
    "    for item in t:\n",
    "        dic2[item] = dic2.get(item, 0) + 1\n",
    "    return dic1 == dic2\n",
    "    \n",
    "def isAnagram2(self, s, t):\n",
    "    dic1, dic2 = [0]*26, [0]*26\n",
    "    for item in s:\n",
    "        dic1[ord(item)-ord('a')] += 1\n",
    "    for item in t:\n",
    "        dic2[ord(item)-ord('a')] += 1\n",
    "    return dic1 == dic2\n",
    "    \n",
    "def isAnagram3(self, s, t):\n",
    "    return sorted(s) == sorted(t)"
   ]
  },
  {
   "cell_type": "markdown",
   "metadata": {},
   "source": [
    " Group Anagrams  "
   ]
  },
  {
   "cell_type": "code",
   "execution_count": 8,
   "metadata": {},
   "outputs": [
    {
     "data": {
      "text/plain": [
       "dict_values([['ttt'], ['abc'], ['bcdt']])"
      ]
     },
     "execution_count": 8,
     "metadata": {},
     "output_type": "execute_result"
    }
   ],
   "source": [
    "def groupAnagrams( strs):\n",
    "    d = {}\n",
    "    for w in sorted(strs):\n",
    "        key = tuple(sorted(w))\n",
    "        d[key] = d.get(key, []) + [w]\n",
    "    return d.values()\n",
    "groupAnagrams(['abc','bcdt','ttt'])"
   ]
  },
  {
   "cell_type": "code",
   "execution_count": 14,
   "metadata": {
    "collapsed": true
   },
   "outputs": [],
   "source": [
    "import collections\n",
    "def anagrams(strs):\n",
    "        count = collections.Counter([tuple(sorted(s)) for s in strs])\n",
    "        return filter(lambda x: count[tuple(sorted(x))]>1, strs)\n",
    "#collections.Counter creates a counter object. A counter object is like a specific kind of dictionary where it is build for counting (objects that hashes to same value)\n",
    "#tuple(sorted(s)) is used here so that anagrams will be hashed to the same value. tuple is used because sorted returns a list which cannot be hashed but tuples can be hashed\n",
    "#filter: selects some elements of the list based on given function (first argument - a lambda function is given here)\n",
    "#lambda function defined here returns True if number of anagrams of that elements is greater than 1"
   ]
  },
  {
   "cell_type": "code",
   "execution_count": 23,
   "metadata": {
    "collapsed": true
   },
   "outputs": [],
   "source": [
    "strs = ['abc','bcdt','ttt','cab']\n",
    "count = collections.Counter([tuple(sorted(s)) for s in strs])"
   ]
  },
  {
   "cell_type": "code",
   "execution_count": 24,
   "metadata": {},
   "outputs": [
    {
     "data": {
      "text/plain": [
       "['abc', 'cab']"
      ]
     },
     "execution_count": 24,
     "metadata": {},
     "output_type": "execute_result"
    }
   ],
   "source": [
    "list(filter(lambda x: count[tuple(sorted(x))]>1, strs))"
   ]
  },
  {
   "cell_type": "markdown",
   "metadata": {},
   "source": [
    "20.Valid Parentheses"
   ]
  },
  {
   "cell_type": "code",
   "execution_count": 1,
   "metadata": {
    "collapsed": true
   },
   "outputs": [],
   "source": [
    "class Solution:\n",
    "    # @return a boolean\n",
    "    def isValid(self, s):\n",
    "        stack = []\n",
    "        dict = {\"]\":\"[\", \"}\":\"{\", \")\":\"(\"}\n",
    "        for char in s:\n",
    "            if char in dict.values():\n",
    "                stack.append(char)\n",
    "            elif char in dict.keys():\n",
    "                if stack == [] or dict[char] != stack.pop():\n",
    "                    return False\n",
    "            else:\n",
    "                return False\n",
    "        return stack == []"
   ]
  },
  {
   "cell_type": "code",
   "execution_count": 5,
   "metadata": {},
   "outputs": [
    {
     "data": {
      "text/plain": [
       "True"
      ]
     },
     "execution_count": 5,
     "metadata": {},
     "output_type": "execute_result"
    }
   ],
   "source": [
    "Solution().isValid('{({})}')"
   ]
  },
  {
   "cell_type": "markdown",
   "metadata": {},
   "source": [
    "125.Valid Palindrome"
   ]
  },
  {
   "cell_type": "code",
   "execution_count": 50,
   "metadata": {
    "collapsed": true
   },
   "outputs": [],
   "source": [
    "class Solution:\n",
    "    def isPalindrome(self, s):\n",
    "        newS= [i.lower() for i in s if i.isalnum()]\n",
    "        return newS == newS[::-1]\n",
    "\n",
    "def isPalindrome(self, s):\n",
    "    l, r = 0, len(s)-1\n",
    "    while l < r:\n",
    "        while l < r and not s[l].isalnum():\n",
    "            l += 1\n",
    "        while l <r and not s[r].isalnum():\n",
    "            r -= 1\n",
    "        if s[l].lower() != s[r].lower():\n",
    "            return False\n",
    "        l +=1; r -= 1\n",
    "    return True"
   ]
  },
  {
   "cell_type": "markdown",
   "metadata": {},
   "source": [
    "647.Palindromic Substrings"
   ]
  },
  {
   "cell_type": "code",
   "execution_count": null,
   "metadata": {
    "collapsed": true
   },
   "outputs": [],
   "source": []
  },
  {
   "cell_type": "markdown",
   "metadata": {},
   "source": [
    "Subsequence related problems"
   ]
  },
  {
   "cell_type": "markdown",
   "metadata": {},
   "source": [
    "392.Is Subsequence"
   ]
  },
  {
   "cell_type": "code",
   "execution_count": 17,
   "metadata": {
    "collapsed": true
   },
   "outputs": [],
   "source": [
    "class Solution(object):\n",
    "    def isSubsequence(self, s, t):\n",
    "        \"\"\"\n",
    "        :type s: str\n",
    "        :type t: str\n",
    "        :rtype: bool\n",
    "        \"\"\"\n",
    "        if len(s) == 0:\n",
    "            return True\n",
    "        if len(t) == 0:\n",
    "            return False \n",
    "        i, j = 0, 0\n",
    "        while i < len(s) and j < len(t):\n",
    "            if s[i] == t[j]:\n",
    "                i += 1\n",
    "            j += 1\n",
    "        return True if i == len(s) else False\n",
    "    \n",
    "    "
   ]
  },
  {
   "cell_type": "markdown",
   "metadata": {},
   "source": [
    "longest-common-subsequence"
   ]
  },
  {
   "cell_type": "code",
   "execution_count": 26,
   "metadata": {},
   "outputs": [
    {
     "name": "stdout",
     "output_type": "stream",
     "text": [
      "Length of LCS is  4\n"
     ]
    }
   ],
   "source": [
    "# A Naive recursive Python implementation of LCS problem\n",
    "def lcs(X, Y, m, n):\n",
    " \n",
    "    if m == 0 or n == 0:\n",
    "       return 0;\n",
    "    elif X[m-1] == Y[n-1]:\n",
    "       return 1 + lcs(X, Y, m-1, n-1);\n",
    "    else:\n",
    "       return max(lcs(X, Y, m, n-1), lcs(X, Y, m-1, n));\n",
    "# Driver program to test the above function\n",
    "X = \"AGGTAB\"\n",
    "Y = \"GXTXAYB\"\n",
    "print(\"Length of LCS is \", lcs(X , Y, len(X), len(Y)))"
   ]
  },
  {
   "cell_type": "code",
   "execution_count": 22,
   "metadata": {
    "collapsed": true
   },
   "outputs": [],
   "source": [
    "# Dynamic Programming implementation of LCS problem\n",
    " \n",
    "def lcs(X , Y):\n",
    "    # find the length of the strings\n",
    "    m = len(X)\n",
    "    n = len(Y)\n",
    " \n",
    "    # declaring the array for storing the dp values\n",
    "    L = [[None]*(n+1) for i in xrange(m+1)]\n",
    " \n",
    "    \"\"\"Following steps build L[m+1][n+1] in bottom up fashion\n",
    "    Note: L[i][j] contains length of LCS of X[0..i-1]\n",
    "    and Y[0..j-1]\"\"\"\n",
    "    for i in range(m+1):\n",
    "        for j in range(n+1):\n",
    "            if i == 0 or j == 0 :\n",
    "                L[i][j] = 0\n",
    "            elif X[i-1] == Y[j-1]:\n",
    "                L[i][j] = L[i-1][j-1]+1\n",
    "            else:\n",
    "                L[i][j] = max(L[i-1][j] , L[i][j-1])\n",
    " \n",
    "    # L[m][n] contains the length of LCS of X[0..n-1] & Y[0..m-1]\n",
    "    return L[m][n]\n",
    "#end of function lcs"
   ]
  },
  {
   "cell_type": "code",
   "execution_count": 23,
   "metadata": {
    "collapsed": true
   },
   "outputs": [],
   "source": [
    "# A Dynamic Programming based Python Program for 0-1 Knapsack problem\n",
    "# Returns the maximum value that can be put in a knapsack of capacity W\n",
    "def knapSack(W, wt, val, n):\n",
    "    K = [[0 for x in range(W+1)] for x in range(n+1)]\n",
    " \n",
    "    # Build table K[][] in bottom up manner\n",
    "    for i in range(n+1):\n",
    "        for w in range(W+1):\n",
    "            if i==0 or w==0:\n",
    "                K[i][w] = 0\n",
    "            elif wt[i-1] <= w:\n",
    "                K[i][w] = max(val[i-1] + K[i-1][w-wt[i-1]],  K[i-1][w])\n",
    "            else:\n",
    "                K[i][w] = K[i-1][w]\n",
    " \n",
    "    return K[n][W]"
   ]
  },
  {
   "cell_type": "markdown",
   "metadata": {},
   "source": [
    "300.Longest Increasing Subsequence"
   ]
  },
  {
   "cell_type": "code",
   "execution_count": 24,
   "metadata": {
    "collapsed": true
   },
   "outputs": [],
   "source": [
    "def lengthOfLIS(self, nums):\n",
    "    tails = [0] * len(nums)\n",
    "    size = 0\n",
    "    for x in nums:\n",
    "        i, j = 0, size\n",
    "        while i != j:\n",
    "            m = (i + j) / 2\n",
    "            if tails[m] < x:\n",
    "                i = m + 1\n",
    "            else:\n",
    "                j = m\n",
    "        tails[i] = x\n",
    "        size = max(i + 1, size)\n",
    "    return size"
   ]
  },
  {
   "cell_type": "code",
   "execution_count": 25,
   "metadata": {
    "collapsed": true
   },
   "outputs": [],
   "source": [
    "#？？？？？？\n",
    "class Solution(object):\n",
    "    #using dP\n",
    "    def lengthOfLIS1(self, nums):\n",
    "        \"\"\"\n",
    "        :type nums: List[int]\n",
    "        :rtype: int\n",
    "        \"\"\"\n",
    "        if not nums:\n",
    "            return 0\n",
    "        dp = [1]*len(nums)\n",
    "        for i in range (1, len(nums)):\n",
    "            for j in range(i):\n",
    "                if nums[i] >nums[j]:\n",
    "                    dp[i] = max(dp[i], dp[j]+1)\n",
    "        return max(dp)\n",
    "    #using binary search\n",
    "    def lengthOfLIS(self, nums):\n",
    "        def search(temp, left, right, target):\n",
    "            if left == right:\n",
    "                return left\n",
    "            mid = left+(right-left)/2\n",
    "            return search(temp, mid+1, right, target) if temp[mid]<target else search(temp, left, mid, target)\n",
    "        temp = []\n",
    "        for num in nums:\n",
    "            pos = search(temp, 0, len(temp), num)\n",
    "            if pos >=len(temp):\n",
    "                temp.append(num)\n",
    "            else:\n",
    "                temp[pos]=num\n",
    "        return len(temp)"
   ]
  },
  {
   "cell_type": "markdown",
   "metadata": {},
   "source": [
    "# Linked list"
   ]
  },
  {
   "cell_type": "markdown",
   "metadata": {},
   "source": [
    "206.Reverse Linked List"
   ]
  },
  {
   "cell_type": "code",
   "execution_count": 27,
   "metadata": {
    "collapsed": true
   },
   "outputs": [],
   "source": [
    "class Solution:\n",
    "# @param {ListNode} head\n",
    "# @return {ListNode}\n",
    "    def reverseList(self, head):\n",
    "        prev = None\n",
    "        while head:\n",
    "            curr = head\n",
    "            head = head.next\n",
    "            curr.next = prev\n",
    "            prev = curr\n",
    "        return prev\n",
    "#Recursion\n",
    "###????\n",
    "class Solution:\n",
    "# @param {ListNode} head\n",
    "# @return {ListNode}\n",
    "    def reverseList(self, head):\n",
    "        return self._reverse(head)\n",
    "\n",
    "    def _reverse(self, node, prev=None):\n",
    "        if not node:\n",
    "            return prev\n",
    "        n = node.next\n",
    "        node.next = prev\n",
    "        return self._reverse(n, node)"
   ]
  },
  {
   "cell_type": "code",
   "execution_count": null,
   "metadata": {
    "collapsed": true
   },
   "outputs": [],
   "source": [
    "# Python program to reverse a linked list \n",
    "# Time Complexity : O(n)\n",
    "# Space Complexity : O(1)\n",
    " \n",
    "# Node class \n",
    "class Node:\n",
    " \n",
    "    # Constructor to initialize the node object\n",
    "    def __init__(self, data):\n",
    "        self.data = data\n",
    "        self.next = None\n",
    " \n",
    "class LinkedList:\n",
    " \n",
    "    # Function to initialize head\n",
    "    def __init__(self):\n",
    "        self.head = None\n",
    " \n",
    "    # Function to reverse the linked list\n",
    "    def reverse(self):\n",
    "        prev = None\n",
    "        current = self.head\n",
    "        while(current is not None):\n",
    "            next = current.next\n",
    "            current.next = prev\n",
    "            prev = current\n",
    "            current = next\n",
    "        self.head = prev\n",
    "         \n",
    "    # Function to insert a new node at the beginning\n",
    "    def push(self, new_data):\n",
    "        new_node = Node(new_data)\n",
    "        new_node.next = self.head\n",
    "        self.head = new_node\n",
    " \n",
    "    # Utility function to print the linked LinkedList\n",
    "    def printList(self):\n",
    "        temp = self.head\n",
    "        while(temp):\n",
    "            print temp.data,\n",
    "            temp = temp.next"
   ]
  },
  {
   "cell_type": "markdown",
   "metadata": {},
   "source": [
    "141.Linked List Cycle"
   ]
  },
  {
   "cell_type": "code",
   "execution_count": null,
   "metadata": {
    "collapsed": true
   },
   "outputs": [],
   "source": [
    "def hasCycle(self, head):\n",
    "    try:\n",
    "        slow = head\n",
    "        fast = head.next\n",
    "        while slow is not fast:\n",
    "            slow = slow.next\n",
    "            fast = fast.next.next\n",
    "        return True\n",
    "    except:\n",
    "        return False"
   ]
  },
  {
   "cell_type": "code",
   "execution_count": null,
   "metadata": {
    "collapsed": true
   },
   "outputs": [],
   "source": [
    "def hasCycle(self, head):\n",
    "    slow = fast = head\n",
    "    while fast and fast.next:\n",
    "        fast = fast.next.next\n",
    "        slow = slow.next\n",
    "        if slow == fast:\n",
    "            return True\n",
    "    return False"
   ]
  },
  {
   "cell_type": "markdown",
   "metadata": {},
   "source": [
    "21.Merge Two Sorted Lists"
   ]
  },
  {
   "cell_type": "code",
   "execution_count": 28,
   "metadata": {
    "collapsed": true
   },
   "outputs": [],
   "source": [
    "# iteratively\n",
    "def mergeTwoLists1(self, l1, l2):\n",
    "    dummy = cur = ListNode(0)\n",
    "    while l1 and l2:\n",
    "        if l1.val < l2.val:\n",
    "            cur.next = l1\n",
    "            l1 = l1.next\n",
    "        else:\n",
    "            cur.next = l2\n",
    "            l2 = l2.next\n",
    "        cur = cur.next\n",
    "    cur.next = l1 or l2\n",
    "    return dummy.next\n",
    "    \n",
    "# recursively    \n",
    "def mergeTwoLists2(self, l1, l2):\n",
    "    if not l1 or not l2:\n",
    "        return l1 or l2\n",
    "    if l1.val < l2.val:\n",
    "        l1.next = self.mergeTwoLists(l1.next, l2)\n",
    "        return l1\n",
    "    else:\n",
    "        l2.next = self.mergeTwoLists(l1, l2.next)\n",
    "        return l2\n",
    "###?????\n",
    "# in-place, iteratively        \n",
    "def mergeTwoLists(self, l1, l2):\n",
    "    if None in (l1, l2):\n",
    "        return l1 or l2\n",
    "    dummy = cur = ListNode(0)\n",
    "    dummy.next = l1\n",
    "    while l1 and l2:\n",
    "        if l1.val < l2.val:\n",
    "            l1 = l1.next\n",
    "        else:\n",
    "            nxt = cur.next\n",
    "            cur.next = l2\n",
    "            tmp = l2.next\n",
    "            l2.next = nxt\n",
    "            l2 = tmp\n",
    "        cur = cur.next\n",
    "    cur.next = l1 or l2\n",
    "    return dummy.next"
   ]
  },
  {
   "cell_type": "code",
   "execution_count": null,
   "metadata": {
    "collapsed": true
   },
   "outputs": [],
   "source": [
    "# Code for the merge subroutine\n",
    "\n",
    "def merge(a,b):\n",
    "    \"\"\" Function to merge two arrays \"\"\"\n",
    "    c = []\n",
    "    while len(a) != 0 and len(b) != 0:\n",
    "        if a[0] < b[0]:\n",
    "            c.append(a[0])\n",
    "            a.remove(a[0])\n",
    "        else:\n",
    "            c.append(b[0])\n",
    "            b.remove(b[0])\n",
    "    if len(a) == 0:\n",
    "        c += b\n",
    "    else:\n",
    "        c += a\n",
    "    return c\n",
    "\n",
    "# Code for merge sort\n",
    "\n",
    "def mergesort(x):\n",
    "    \"\"\" Function to sort an array using merge sort algorithm \"\"\"\n",
    "    if len(x) == 0 or len(x) == 1:\n",
    "        return x\n",
    "    else:\n",
    "        middle = len(x)/2\n",
    "        a = mergesort(x[:middle])\n",
    "        b = mergesort(x[middle:])\n",
    "        return merge(a,b)"
   ]
  },
  {
   "cell_type": "markdown",
   "metadata": {},
   "source": [
    "19.Remove Nth Node From End of List"
   ]
  },
  {
   "cell_type": "code",
   "execution_count": 30,
   "metadata": {
    "collapsed": true
   },
   "outputs": [],
   "source": [
    "class Solution:\n",
    "    def removeNthFromEnd(self, head, n):\n",
    "        def index(node):\n",
    "            if not node:\n",
    "                return 0\n",
    "            i = index(node.next) + 1\n",
    "            if i > n:\n",
    "                node.next.val = node.val\n",
    "            return i\n",
    "        index(head)\n",
    "        return head.next"
   ]
  },
  {
   "cell_type": "code",
   "execution_count": 29,
   "metadata": {
    "collapsed": true
   },
   "outputs": [],
   "source": [
    "class Solution:\n",
    "    def removeNthFromEnd(self, head, n):\n",
    "        fast = slow = head\n",
    "        for _ in range(n):\n",
    "            fast = fast.next\n",
    "        if not fast:\n",
    "            return head.next\n",
    "        while fast.next:\n",
    "            fast = fast.next\n",
    "            slow = slow.next\n",
    "        slow.next = slow.next.next\n",
    "        return head"
   ]
  },
  {
   "cell_type": "markdown",
   "metadata": {},
   "source": [
    "143.Reorder list"
   ]
  },
  {
   "cell_type": "code",
   "execution_count": null,
   "metadata": {
    "collapsed": true
   },
   "outputs": [],
   "source": [
    "# Splits in place a list in two halves, the first half is >= in size than the second.\n",
    "# @return A tuple containing the heads of the two halves\n",
    "def _splitList(head):\n",
    "    fast = head\n",
    "    slow = head\n",
    "    while fast and fast.next:\n",
    "        slow = slow.next\n",
    "        fast = fast.next\n",
    "        fast = fast.next\n",
    "\n",
    "    middle = slow.next\n",
    "    slow.next = None\n",
    "\n",
    "    return head, middle\n",
    "\n",
    "# Reverses in place a list.\n",
    "# @return Returns the head of the new reversed list\n",
    "def _reverseList(head):\n",
    "\n",
    "  last = None\n",
    "  currentNode = head\n",
    "\n",
    "  while currentNode:\n",
    "    nextNode = currentNode.next\n",
    "    currentNode.next = last\n",
    "    last = currentNode\n",
    "    currentNode = nextNode\n",
    "\n",
    "  return last\n",
    "\n",
    "# Merges in place two lists\n",
    "# @return The newly merged list.\n",
    "def _mergeLists(a, b):\n",
    "\n",
    "    tail = a\n",
    "    head = a\n",
    "\n",
    "    a = a.next\n",
    "    while b:\n",
    "        tail.next = b\n",
    "        tail = tail.next\n",
    "        b = b.next\n",
    "        if a:\n",
    "            a, b = b, a\n",
    "            \n",
    "    return head\n",
    "\n",
    "\n",
    "class Solution:\n",
    "\n",
    "    # @param head, a ListNode\n",
    "    # @return nothing\n",
    "    def reorderList(self, head):\n",
    "\n",
    "        if not head or not head.next:\n",
    "            return\n",
    "\n",
    "        a, b = _splitList(head)\n",
    "        b = _reverseList(b)\n",
    "        head = _mergeLists(a, b)"
   ]
  },
  {
   "cell_type": "markdown",
   "metadata": {},
   "source": [
    "# Graph"
   ]
  },
  {
   "cell_type": "markdown",
   "metadata": {},
   "source": [
    "133.Clone Graph"
   ]
  },
  {
   "cell_type": "code",
   "execution_count": null,
   "metadata": {
    "collapsed": true
   },
   "outputs": [],
   "source": [
    "def cloneGraph(self, node):\n",
    "    if not node:\n",
    "        return node\n",
    "    root = UndirectedGraphNode(node.label)\n",
    "    stack = [node]\n",
    "    visit = {}\n",
    "    visit[node.label] = root\n",
    "    while stack:\n",
    "        top = stack.pop()\n",
    "    \n",
    "        for n in top.neighbors:\n",
    "            if n.label not in visit:\n",
    "                stack.append(n)\n",
    "                visit[n.label] = UndirectedGraphNode(n.label)\n",
    "            visit[top.label].neighbors.append(visit[n.label])\n",
    "    \n",
    "    return root"
   ]
  },
  {
   "cell_type": "code",
   "execution_count": null,
   "metadata": {
    "collapsed": true
   },
   "outputs": [],
   "source": [
    "# BFS\n",
    "def cloneGraph1(self, node):\n",
    "    if not node:\n",
    "        return \n",
    "    nodeCopy = UndirectedGraphNode(node.label)\n",
    "    dic = {node: nodeCopy}\n",
    "    queue = collections.deque([node])\n",
    "    while queue:\n",
    "        node = queue.popleft()\n",
    "        for neighbor in node.neighbors:\n",
    "            if neighbor not in dic: # neighbor is not visited\n",
    "                neighborCopy = UndirectedGraphNode(neighbor.label)\n",
    "                dic[neighbor] = neighborCopy\n",
    "                dic[node].neighbors.append(neighborCopy)\n",
    "                queue.append(neighbor)\n",
    "            else:\n",
    "                dic[node].neighbors.append(dic[neighbor])\n",
    "    return nodeCopy\n",
    "    \n",
    "# DFS iteratively\n",
    "def cloneGraph2(self, node):\n",
    "    if not node:\n",
    "        return \n",
    "    nodeCopy = UndirectedGraphNode(node.label)\n",
    "    dic = {node: nodeCopy}\n",
    "    stack = [node]\n",
    "    while stack:\n",
    "        node = stack.pop()\n",
    "        for neighbor in node.neighbors:\n",
    "            if neighbor not in dic:\n",
    "                neighborCopy = UndirectedGraphNode(neighbor.label)\n",
    "                dic[neighbor] = neighborCopy\n",
    "                dic[node].neighbors.append(neighborCopy)\n",
    "                stack.append(neighbor)\n",
    "            else:\n",
    "                dic[node].neighbors.append(dic[neighbor])\n",
    "    return nodeCopy\n",
    "    \n",
    "# DFS recursively\n",
    "def cloneGraph(self, node):\n",
    "    if not node:\n",
    "        return \n",
    "    nodeCopy = UndirectedGraphNode(node.label)\n",
    "    dic = {node: nodeCopy}\n",
    "    self.dfs(node, dic)\n",
    "    return nodeCopy\n",
    "    \n",
    "def dfs(self, node, dic):\n",
    "    for neighbor in node.neighbors:\n",
    "        if neighbor not in dic:\n",
    "            neighborCopy = UndirectedGraphNode(neighbor.label)\n",
    "            dic[neighbor] = neighborCopy\n",
    "            dic[node].neighbors.append(neighborCopy)\n",
    "            self.dfs(neighbor, dic)\n",
    "        else:\n",
    "            dic[node].neighbors.append(dic[neighbor])"
   ]
  },
  {
   "cell_type": "markdown",
   "metadata": {},
   "source": [
    "207.Course Schedule"
   ]
  },
  {
   "cell_type": "code",
   "execution_count": 31,
   "metadata": {
    "collapsed": true
   },
   "outputs": [],
   "source": [
    "###???\n",
    "def canFinish(self, numCourses, prerequisites):\n",
    "    graph = [[] for _ in xrange(numCourses)]\n",
    "    visit = [0 for _ in xrange(numCourses)]\n",
    "    for x, y in prerequisites:\n",
    "        graph[x].append(y)\n",
    "    def dfs(i):\n",
    "        if visit[i] == -1:\n",
    "            return False\n",
    "        if visit[i] == 1:\n",
    "            return True\n",
    "        visit[i] = -1\n",
    "        for j in graph[i]:\n",
    "            if not dfs(j):\n",
    "                return False\n",
    "        visit[i] = 1\n",
    "        return True\n",
    "    for i in xrange(numCourses):\n",
    "        if not dfs(i):\n",
    "            return False\n",
    "    return True\n",
    "#if node v has not been visited, then mark it as 0.\n",
    "#if node v is being visited, then mark it as -1. If we find a vertex marked as -1 in DFS, then their is a ring.\n",
    "#if node v has been visited, then mark it as 1. If a vertex was marked as 1, then no ring contains v or its successors."
   ]
  },
  {
   "cell_type": "markdown",
   "metadata": {},
   "source": [
    "200.Number of Islands"
   ]
  },
  {
   "cell_type": "code",
   "execution_count": null,
   "metadata": {
    "collapsed": true
   },
   "outputs": [],
   "source": [
    "def numIslands(self, grid):\n",
    "    if not grid:\n",
    "        return 0\n",
    "        \n",
    "    count = 0\n",
    "    for i in range(len(grid)):\n",
    "        for j in range(len(grid[0])):\n",
    "            if grid[i][j] == '1':\n",
    "                self.dfs(grid, i, j)\n",
    "                count += 1\n",
    "    return count\n",
    "\n",
    "def dfs(self, grid, i, j):\n",
    "    if i<0 or j<0 or i>=len(grid) or j>=len(grid[0]) or grid[i][j] != '1':\n",
    "        return\n",
    "    grid[i][j] = '#'\n",
    "    self.dfs(grid, i+1, j)\n",
    "    self.dfs(grid, i-1, j)\n",
    "    self.dfs(grid, i, j+1)\n",
    "    self.dfs(grid, i, j-1)"
   ]
  },
  {
   "cell_type": "markdown",
   "metadata": {},
   "source": [
    "# Matrix"
   ]
  },
  {
   "cell_type": "markdown",
   "metadata": {},
   "source": [
    "73.Set Matrix Zeroes"
   ]
  },
  {
   "cell_type": "code",
   "execution_count": 18,
   "metadata": {
    "collapsed": true
   },
   "outputs": [],
   "source": [
    "class Solution(object):\n",
    "    def setZeroes(self, matrix):\n",
    "        \"\"\"\n",
    "        :type matrix: List[List[int]]\n",
    "        :rtype: void Do not return anything, modify matrix in-place instead.\n",
    "        \"\"\"\n",
    "        height = len(matrix)\n",
    "        if(height ==0): return\n",
    "        width = len(matrix[0])\n",
    "        for i in range(height):\n",
    "            for j in range(width):\n",
    "                if matrix[i][j] == 0:\n",
    "                    for tmp in range(height):\n",
    "                        if matrix[tmp][j] != 0:\n",
    "                            matrix[tmp][j] = 'a'\n",
    "                    for tmp in range(width):\n",
    "                        if matrix[i][tmp] != 0: \n",
    "                            matrix[i][tmp] = 'a'\n",
    "\n",
    "        for i in range(height):\n",
    "            for j in range(width):\n",
    "                if matrix[i][j] == 'a':\n",
    "                    matrix[i][j] = 0"
   ]
  },
  {
   "cell_type": "markdown",
   "metadata": {},
   "source": [
    "56.Rotate matrix"
   ]
  },
  {
   "cell_type": "markdown",
   "metadata": {},
   "source": [
    "https://discuss.leetcode.com/topic/15295/seven-short-solutions-1-to-7-lines/2"
   ]
  },
  {
   "cell_type": "markdown",
   "metadata": {},
   "source": [
    "54.Spiral Matrix"
   ]
  },
  {
   "cell_type": "markdown",
   "metadata": {
    "collapsed": true
   },
   "source": [
    "This is a very simple and easy to understand solution. I traverse right and increment rowBegin, then traverse down and decrement colEnd, then I traverse left and decrement rowEnd, and finally I traverse up and increment colBegin."
   ]
  },
  {
   "cell_type": "markdown",
   "metadata": {},
   "source": [
    " sparse_dot_product"
   ]
  },
  {
   "cell_type": "code",
   "execution_count": 5,
   "metadata": {},
   "outputs": [],
   "source": [
    "def sparse_dot_product(vec1, vec2):\n",
    "    \"\"\"\n",
    "    input: vec1 and vec2 list of tuples\n",
    "           representing sparse vectors\n",
    "\n",
    "    outut: the dot product of the two vectors.\n",
    "    \"\"\"\n",
    "\n",
    "    len1 = len(vec1)\n",
    "    len2 = len(vec2)\n",
    "    if (len1==0) or (len2==0):\n",
    "        raise ValueError('One of the vectors is empty!')\n",
    "\n",
    "    pointer1 = 0\n",
    "    pointer2 = 0\n",
    "    product = 0\n",
    "\n",
    "    while (pointer1 >= len1) and (pointer2 >= len2):\n",
    "        if vec1[pointer1][0] == vec2[pointer2][0]:\n",
    "            product += (vec1[pointer1][1] * vec2[pointer2][1])\n",
    "            pointer1 += 1\n",
    "            pointer2 += 1\n",
    "        elif vec1[pointer1][0] >= vec2[pointer2][0]:\n",
    "            pointer1 += 1\n",
    "        elif vec2[pointer2][0] >= vec1[pointer1][0]:\n",
    "            pointer2 += 1\n",
    "    return product"
   ]
  },
  {
   "cell_type": "markdown",
   "metadata": {},
   "source": [
    "# Recursion"
   ]
  },
  {
   "cell_type": "markdown",
   "metadata": {},
   "source": [
    "power(x,n)"
   ]
  },
  {
   "cell_type": "code",
   "execution_count": 40,
   "metadata": {
    "collapsed": true
   },
   "outputs": [
    {
     "ename": "SyntaxError",
     "evalue": "invalid syntax (<ipython-input-40-42df03d14527>, line 1)",
     "output_type": "error",
     "traceback": [
      "\u001b[0;36m  File \u001b[0;32m\"<ipython-input-40-42df03d14527>\"\u001b[0;36m, line \u001b[0;32m1\u001b[0m\n\u001b[0;31m    double myPow(double x, int n) {\u001b[0m\n\u001b[0m               ^\u001b[0m\n\u001b[0;31mSyntaxError\u001b[0m\u001b[0;31m:\u001b[0m invalid syntax\n"
     ]
    }
   ],
   "source": [
    "class Solution:\n",
    "    def myPow(self, x, n):\n",
    "        if not n:\n",
    "            return 1\n",
    "        if n < 0:\n",
    "            return 1 / self.myPow(x, -n)\n",
    "        if n % 2:\n",
    "            return x * self.myPow(x, n-1)\n",
    "        return self.myPow(x*x, n/2)"
   ]
  },
  {
   "cell_type": "code",
   "execution_count": null,
   "metadata": {
    "collapsed": true
   },
   "outputs": [],
   "source": [
    "class Solution:\n",
    "    def myPow(self, x, n):\n",
    "        if n < 0:\n",
    "            x = 1 / x\n",
    "            n = -n\n",
    "        pow = 1\n",
    "        while n:\n",
    "            if n & 1:\n",
    "                pow *= x\n",
    "            x *= x\n",
    "            n >>= 1\n",
    "        return pow"
   ]
  },
  {
   "cell_type": "markdown",
   "metadata": {},
   "source": [
    "sqrt(x)"
   ]
  },
  {
   "cell_type": "code",
   "execution_count": 41,
   "metadata": {
    "collapsed": true
   },
   "outputs": [],
   "source": [
    "# Binary search  \n",
    "def mySqrt(self, x):\n",
    "    l, r = 0, x\n",
    "    while l <= r:\n",
    "        mid = l + (r-l)//2\n",
    "        if mid * mid <= x < (mid+1)*(mid+1):\n",
    "            return mid\n",
    "        elif x < mid * mid:\n",
    "            r = mid\n",
    "        else:\n",
    "            l = mid + 1"
   ]
  },
  {
   "cell_type": "code",
   "execution_count": 42,
   "metadata": {
    "collapsed": true
   },
   "outputs": [],
   "source": [
    "def mySqrt(self, x):\n",
    "    r = x\n",
    "    while r*r > x:\n",
    "        r = (r + x/r) / 2\n",
    "    return r"
   ]
  },
  {
   "cell_type": "markdown",
   "metadata": {},
   "source": [
    "78.Subsets"
   ]
  },
  {
   "cell_type": "code",
   "execution_count": 33,
   "metadata": {
    "collapsed": true
   },
   "outputs": [],
   "source": [
    "#???\n",
    "# DFS recursively \n",
    "def subsets1(self, nums):\n",
    "    res = []\n",
    "    self.dfs(sorted(nums), 0, [], res)\n",
    "    return res\n",
    "    \n",
    "def dfs(self, nums, index, path, res):\n",
    "    res.append(path)\n",
    "    for i in xrange(index, len(nums)):\n",
    "        self.dfs(nums, i+1, path+[nums[i]], res)\n",
    "        \n",
    "# Bit Manipulation    \n",
    "def subsets2(self, nums):\n",
    "    res = []\n",
    "    nums.sort()\n",
    "    for i in xrange(1<<len(nums)):\n",
    "        tmp = []\n",
    "        for j in xrange(len(nums)):\n",
    "            if i & 1 << j:  # if i >> j & 1:\n",
    "                tmp.append(nums[j])\n",
    "        res.append(tmp)\n",
    "    return res\n",
    "    \n",
    "# Iteratively\n",
    "def subsets(self, nums):\n",
    "    res = [[]]\n",
    "    for num in sorted(nums):\n",
    "        res += [item+[num] for item in res]\n",
    "    return res"
   ]
  },
  {
   "cell_type": "code",
   "execution_count": 35,
   "metadata": {},
   "outputs": [
    {
     "name": "stdout",
     "output_type": "stream",
     "text": [
      "[[], [1]]\n",
      "[[], [1], [2], [1, 2]]\n",
      "[[], [1], [2], [1, 2], [3], [1, 3], [2, 3], [1, 2, 3]]\n",
      "[[], [1], [2], [1, 2], [3], [1, 3], [2, 3], [1, 2, 3], [4], [1, 4], [2, 4], [1, 2, 4], [3, 4], [1, 3, 4], [2, 3, 4], [1, 2, 3, 4]]\n",
      "[[], [1], [2], [1, 2], [3], [1, 3], [2, 3], [1, 2, 3], [4], [1, 4], [2, 4], [1, 2, 4], [3, 4], [1, 3, 4], [2, 3, 4], [1, 2, 3, 4], [5], [1, 5], [2, 5], [1, 2, 5], [3, 5], [1, 3, 5], [2, 3, 5], [1, 2, 3, 5], [4, 5], [1, 4, 5], [2, 4, 5], [1, 2, 4, 5], [3, 4, 5], [1, 3, 4, 5], [2, 3, 4, 5], [1, 2, 3, 4, 5]]\n"
     ]
    }
   ],
   "source": [
    "nums = [1,2,3,4,5]\n",
    "res = [[]]\n",
    "for num in sorted(nums):\n",
    "    res += [item+[num] for item in res]\n",
    "    print(res)"
   ]
  },
  {
   "cell_type": "markdown",
   "metadata": {},
   "source": [
    "377.Combination Sum IV"
   ]
  },
  {
   "cell_type": "code",
   "execution_count": null,
   "metadata": {
    "collapsed": true
   },
   "outputs": [],
   "source": [
    "class Solution(object):\n",
    "    def combinationSum4WithLength(self, nums, target, length, memo=collections.defaultdict(int)):\n",
    "        if length <= 0: return 0\n",
    "        if length == 1: return 1 * (target in nums)\n",
    "        if (target, length) not in memo: \n",
    "            for num in nums:\n",
    "                memo[target, length] += self.combinationSum4(nums, target - num, length - 1)\n",
    "        return memo[target, length]"
   ]
  },
  {
   "cell_type": "markdown",
   "metadata": {},
   "source": [
    "39.Combination Sum"
   ]
  },
  {
   "cell_type": "code",
   "execution_count": 38,
   "metadata": {
    "collapsed": true
   },
   "outputs": [],
   "source": [
    "def combinationSum(self, candidates, target):\n",
    "    res = []\n",
    "    candidates.sort()\n",
    "    self.dfs(candidates, target, 0, [], res)\n",
    "    return res\n",
    "    \n",
    "def dfs(self, nums, target, index, path, res):\n",
    "    if target < 0:\n",
    "        return  # backtracking\n",
    "    if target == 0:\n",
    "        res.append(path)\n",
    "        return \n",
    "    for i in xrange(index, len(nums)):\n",
    "        self.dfs(nums, target-nums[i], i, path+[nums[i]], res)"
   ]
  },
  {
   "cell_type": "markdown",
   "metadata": {},
   "source": [
    "# Tree"
   ]
  },
  {
   "cell_type": "markdown",
   "metadata": {},
   "source": [
    " Maximum Depth of Binary Tree"
   ]
  },
  {
   "cell_type": "code",
   "execution_count": null,
   "metadata": {
    "collapsed": true
   },
   "outputs": [],
   "source": [
    "class Solution:\n",
    "    # @param {TreeNode} root\n",
    "    # @return {integer}\n",
    "    def maxDepth(self, root):\n",
    "        if not root:\n",
    "            return 0\n",
    "\n",
    "        return 1 + max(self.maxDepth(root.left), self.maxDepth(root.right))"
   ]
  },
  {
   "cell_type": "markdown",
   "metadata": {},
   "source": [
    " Validate Binary Search Tree  "
   ]
  },
  {
   "cell_type": "code",
   "execution_count": 22,
   "metadata": {
    "collapsed": true
   },
   "outputs": [],
   "source": [
    "def isValidBST(self, root, floor=float('-inf'), ceiling=float('inf')):\n",
    "    if not root: \n",
    "        return True\n",
    "    if root.val <= floor or root.val >= ceiling:\n",
    "        return False\n",
    "    # in the left branch, root is the new ceiling; contrarily root is the new floor in right branch\n",
    "    return self.isValidBST(root.left, floor, root.val) and self.isValidBST(root.right, root.val, ceiling)"
   ]
  },
  {
   "cell_type": "code",
   "execution_count": null,
   "metadata": {
    "collapsed": true
   },
   "outputs": [],
   "source": [
    "class Solution:\n",
    "    # @param root, a tree node\n",
    "    # @return a boolean\n",
    "    # 7:38\n",
    "    def isValidBST(self, root):\n",
    "        output = []\n",
    "        self.inOrder(root, output)\n",
    "        \n",
    "        for i in range(1, len(output)):\n",
    "            if output[i-1] >= output[i]:\n",
    "                return False\n",
    "\n",
    "        return True\n",
    "\n",
    "    def inOrder(self, root, output):\n",
    "        if root is None:\n",
    "            return\n",
    "        \n",
    "        self.inOrder(root.left, output)\n",
    "        output.append(root.val)\n",
    "        self.inOrder(root.right, output)"
   ]
  },
  {
   "cell_type": "markdown",
   "metadata": {},
   "source": [
    "find Kth smallest number"
   ]
  },
  {
   "cell_type": "code",
   "execution_count": 39,
   "metadata": {
    "collapsed": true
   },
   "outputs": [],
   "source": [
    "class Solution(object):\n",
    "    def kthSmallest(self, root, k):\n",
    "        \"\"\"\n",
    "        :type root: TreeNode\n",
    "        :type k: int\n",
    "        :rtype: int\n",
    "        \"\"\"\n",
    "        count = []\n",
    "        self.helper(root, count)\n",
    "        return count[k-1]\n",
    "        \n",
    "    def helper(self, node, count):\n",
    "        if not node:\n",
    "            return\n",
    "        \n",
    "        self.helper(node.left, count)\n",
    "        count.append(node.val)\n",
    "        self.helper(node.right, count)"
   ]
  },
  {
   "cell_type": "markdown",
   "metadata": {},
   "source": [
    "Same tree"
   ]
  },
  {
   "cell_type": "code",
   "execution_count": null,
   "metadata": {
    "collapsed": true
   },
   "outputs": [],
   "source": [
    "def isSameTree(self, p, q):\n",
    "    if p and q:\n",
    "        return p.val == q.val and self.isSameTree(p.left, q.left) and self.isSameTree(p.right, q.right)\n",
    "    return p is q"
   ]
  },
  {
   "cell_type": "markdown",
   "metadata": {},
   "source": [
    "Invert Binary Tree"
   ]
  },
  {
   "cell_type": "code",
   "execution_count": 4,
   "metadata": {
    "collapsed": true
   },
   "outputs": [],
   "source": [
    "def invertTree(self, root):\n",
    "    if root:\n",
    "        invert = self.invertTree\n",
    "        root.left, root.right = invert(root.right), invert(root.left)\n",
    "        return root"
   ]
  },
  {
   "cell_type": "code",
   "execution_count": null,
   "metadata": {
    "collapsed": true
   },
   "outputs": [],
   "source": [
    "def invertTree(self, root):\n",
    "    stack = [root]\n",
    "    while stack:\n",
    "        node = stack.pop()\n",
    "        if node:\n",
    "            node.left, node.right = node.right, node.left\n",
    "            stack += node.left, node.right\n",
    "    return root"
   ]
  },
  {
   "cell_type": "markdown",
   "metadata": {},
   "source": [
    "124.Binary Tree Maximum Path Sum"
   ]
  },
  {
   "cell_type": "code",
   "execution_count": 36,
   "metadata": {
    "collapsed": true
   },
   "outputs": [],
   "source": [
    "###????\n",
    "class Solution(object):\n",
    "    def maxPathSum(self, root):\n",
    "        def dfs(node):  # returns: max one side path sum, max path sum\n",
    "            l = r = 0\n",
    "            ls = rs = None\n",
    "            if node.left:\n",
    "                l, ls = dfs(node.left)\n",
    "                l = max(l, 0)\n",
    "            if node.right:\n",
    "                r, rs = dfs(node.right)\n",
    "                r = max(r, 0)\n",
    "            return node.val + max(l, r), max(node.val + l + r, ls, rs)\n",
    "        if root:\n",
    "            return dfs(root)[1]\n",
    "        return 0"
   ]
  },
  {
   "cell_type": "markdown",
   "metadata": {
    "collapsed": true
   },
   "source": [
    "A path from start to end, goes up on the tree for 0 or more steps, then goes down for 0 or more steps. Once it goes down, it can't go up. Each path has a highest node, which is also the lowest common ancestor of all other nodes on the path.\n",
    "A recursive method maxPathDown(TreeNode node) (1) computes the maximum path sum with highest node is the input node, update maximum if necessary (2) returns the maximum sum of the path that can be extended to input node's parent."
   ]
  },
  {
   "cell_type": "markdown",
   "metadata": {
    "collapsed": true
   },
   "source": [
    "public class Solution {\n",
    "    int maxValue;\n",
    "    \n",
    "    public int maxPathSum(TreeNode root) {\n",
    "        maxValue = Integer.MIN_VALUE;\n",
    "        maxPathDown(root);\n",
    "        return maxValue;\n",
    "    }\n",
    "    \n",
    "    private int maxPathDown(TreeNode node) {\n",
    "        if (node == null) return 0;\n",
    "        int left = Math.max(0, maxPathDown(node.left));\n",
    "        int right = Math.max(0, maxPathDown(node.right));\n",
    "        maxValue = Math.max(maxValue, left + right + node.val);\n",
    "        return Math.max(left, right) + node.val;\n",
    "    }\n",
    "}"
   ]
  },
  {
   "cell_type": "markdown",
   "metadata": {},
   "source": [
    "Binary Tree Level Order Traversal"
   ]
  },
  {
   "cell_type": "code",
   "execution_count": 5,
   "metadata": {
    "collapsed": true
   },
   "outputs": [],
   "source": [
    "def levelOrder(self, root):\n",
    "    ans, level = [], [root]\n",
    "    while root and level:\n",
    "        ans.append([node.val for node in level])            \n",
    "        level = [kid for n in level for kid in (n.left, n.right) if kid]\n",
    "    return ans"
   ]
  },
  {
   "cell_type": "markdown",
   "metadata": {},
   "source": [
    "235.Lowest Common Ancestor of a Binary Search Tree"
   ]
  },
  {
   "cell_type": "code",
   "execution_count": null,
   "metadata": {
    "collapsed": true
   },
   "outputs": [],
   "source": [
    "class Solution:\n",
    "\n",
    "def lowestCommonAncestor(self, root, p, q):\n",
    "    while root:\n",
    "        if root.val > p.val and root.val > q.val:\n",
    "            root = root.left\n",
    "        elif root.val < p.val and root.val < q.val:\n",
    "            root = root.right\n",
    "        else:\n",
    "            return root"
   ]
  },
  {
   "cell_type": "markdown",
   "metadata": {},
   "source": [
    "Lowest Common Ancestor of a Binary Tree"
   ]
  },
  {
   "cell_type": "code",
   "execution_count": 23,
   "metadata": {
    "collapsed": true
   },
   "outputs": [],
   "source": [
    "def lowestCommonAncestor(self, root, A, B):\n",
    "\n",
    "    if root is None or root == A or root == B:\n",
    "        return root\n",
    "\n",
    "    left_result = self.lowestCommonAncestor(root.left, A, B)\n",
    "    right_result = self.lowestCommonAncestor(root.right, A, B)\n",
    "\n",
    "    if left_result and right_result: \n",
    "        return root\n",
    "\n",
    "    if left_result:\n",
    "        return left_result\n",
    "\n",
    "    if right_result:\n",
    "        return right_result\n",
    "\n",
    "    return None"
   ]
  },
  {
   "cell_type": "markdown",
   "metadata": {},
   "source": [
    "105.Construct Binary Tree from Preorder and Inorder Traversal"
   ]
  },
  {
   "cell_type": "code",
   "execution_count": null,
   "metadata": {
    "collapsed": true
   },
   "outputs": [],
   "source": [
    "\n",
    "def buildTree(self, preorder, inorder):\n",
    "    if inorder:\n",
    "        ind = inorder.index(preorder.pop(0))\n",
    "        root = TreeNode(inorder[ind])\n",
    "        root.left = self.buildTree(preorder, inorder[0:ind])\n",
    "        root.right = self.buildTree(preorder, inorder[ind+1:])\n",
    "        return root"
   ]
  },
  {
   "cell_type": "markdown",
   "metadata": {},
   "source": [
    "297.Serialize and Deserialize Binary Tree"
   ]
  },
  {
   "cell_type": "code",
   "execution_count": 43,
   "metadata": {
    "collapsed": true
   },
   "outputs": [],
   "source": [
    "class Codec:\n",
    "\n",
    "    def serialize(self, root):\n",
    "        def doit(node):\n",
    "            if node:\n",
    "                vals.append(str(node.val))\n",
    "                doit(node.left)\n",
    "                doit(node.right)\n",
    "            else:\n",
    "                vals.append('#')\n",
    "        vals = []\n",
    "        doit(root)\n",
    "        return ' '.join(vals)\n",
    "\n",
    "    def deserialize(self, data):\n",
    "        def doit():\n",
    "            val = next(vals)\n",
    "            if val == '#':\n",
    "                return None\n",
    "            node = TreeNode(int(val))\n",
    "            node.left = doit()\n",
    "            node.right = doit()\n",
    "            return node\n",
    "        vals = iter(data.split())\n",
    "        return doit()"
   ]
  },
  {
   "cell_type": "code",
   "execution_count": 18,
   "metadata": {
    "collapsed": true
   },
   "outputs": [],
   "source": [
    "#DFS solution\n",
    "class Solution:\n",
    "\n",
    "    def serialize(self, root):\n",
    "        # write your code here\n",
    "        if not root:\n",
    "            return ['#']\n",
    "        ans = []\n",
    "        ans.append(str(root.val))\n",
    "        ans += self.serialize(root.left)\n",
    "        ans += self.serialize(root.right)\n",
    "        return ans\n",
    "            \n",
    "    def deserialize(self, data):\n",
    "        # write your code here\n",
    "        ch = data.pop(0)\n",
    "        if ch == '#':\n",
    "            return None\n",
    "        else:\n",
    "            root = TreeNode(int(ch))\n",
    "        root.left = self.deserialize(data)\n",
    "        root.right = self.deserialize(data)\n",
    "        return root\n"
   ]
  },
  {
   "cell_type": "markdown",
   "metadata": {},
   "source": [
    "572.Subtree of Another Tree"
   ]
  },
  {
   "cell_type": "code",
   "execution_count": null,
   "metadata": {
    "collapsed": true
   },
   "outputs": [],
   "source": [
    "#Naive approach, O(|s| * |t|)\n",
    "def isMatch(self, s, t):\n",
    "    if not(s and t):\n",
    "        return s is t\n",
    "    return (s.val == t.val and \n",
    "            self.isMatch(s.left, t.left) and \n",
    "            self.isMatch(s.right, t.right))\n",
    "\n",
    "def isSubtree(self, s, t):\n",
    "    if self.isMatch(s, t): return True\n",
    "    if not s: return False\n",
    "    return self.isSubtree(s.left, t) or self.isSubtree(s.right, t)"
   ]
  },
  {
   "cell_type": "code",
   "execution_count": null,
   "metadata": {
    "collapsed": true
   },
   "outputs": [],
   "source": [
    "#Advanced approach, O(|s| + |t|) (Merkle hashing):\n",
    "def isSubtree(self, s, t):\n",
    "    from hashlib import sha256\n",
    "    def hash_(x):\n",
    "        S = sha256()\n",
    "        S.update(x)\n",
    "        return S.hexdigest()\n",
    "        \n",
    "    def merkle(node):\n",
    "        if not node:\n",
    "            return '#'\n",
    "        m_left = merkle(node.left)\n",
    "        m_right = merkle(node.right)\n",
    "        node.merkle = hash_(m_left + str(node.val) + m_right)\n",
    "        return node.merkle\n",
    "        \n",
    "    merkle(s)\n",
    "    merkle(t)\n",
    "    def dfs(node):\n",
    "        if not node:\n",
    "            return False\n",
    "        return (node.merkle == t.merkle or \n",
    "                dfs(node.left) or dfs(node.right))\n",
    "                    \n",
    "    return dfs(s)"
   ]
  },
  {
   "cell_type": "markdown",
   "metadata": {},
   "source": [
    "Print a Binary Tree in Vertical Order"
   ]
  },
  {
   "cell_type": "code",
   "execution_count": 12,
   "metadata": {},
   "outputs": [],
   "source": [
    "# A binary tree node \n",
    "class Node: \n",
    "    # Constructor to create a new node \n",
    "    def __init__(self, key): \n",
    "        self.key = key \n",
    "        self.left = None\n",
    "        self.right = None\n",
    "  \n",
    "# Utility function to store vertical order in map 'm'  \n",
    "# 'hd' is horizontal distance of current node from root \n",
    "# 'hd' is initially passed as 0 \n",
    "def getVerticalOrder(root, hd, m): \n",
    "  \n",
    "    # Base Case \n",
    "    if root is None: \n",
    "        return\n",
    "      \n",
    "    # Store current node in map 'm' \n",
    "    try: \n",
    "        m[hd].append(root.key) \n",
    "    except: \n",
    "        m[hd] = [root.key] \n",
    "      \n",
    "    # Store nodes in left subtree \n",
    "    getVerticalOrder(root.left, hd-1, m) \n",
    "      \n",
    "    # Store nodes in right subtree \n",
    "    getVerticalOrder(root.right, hd+1, m) \n",
    "  \n",
    "# The main function to print vertical order of a binary \n",
    "#tree ith given root \n",
    "def printVerticalOrder(root): \n",
    "      \n",
    "    # Create a map and store vertical order in map using \n",
    "    # function getVerticalORder() \n",
    "    m = dict() \n",
    "    hd = 0 \n",
    "    getVerticalOrder(root, hd, m) \n",
    "      \n",
    "    # Traverse the map and print nodes at every horizontal \n",
    "    # distance (hd) \n",
    "    for index, value in enumerate(sorted(m)): \n",
    "        for i in m[value]: \n",
    "            print(i)\n",
    "        print \n",
    "  "
   ]
  },
  {
   "cell_type": "markdown",
   "metadata": {},
   "source": [
    "# Trie"
   ]
  },
  {
   "cell_type": "markdown",
   "metadata": {},
   "source": [
    "In this case using trie has only O(m) time complexity, where m is the key length. Searching for a key in a balanced tree costs O(m \\log n)O(mlogn) time complexity."
   ]
  },
  {
   "cell_type": "markdown",
   "metadata": {},
   "source": [
    "Hash table is not good at :Finding all keys with a common prefix.\n",
    "Enumerating a dataset of strings in lexicographical order."
   ]
  },
  {
   "cell_type": "code",
   "execution_count": null,
   "metadata": {
    "collapsed": true
   },
   "outputs": [],
   "source": [
    "\n",
    "class Node:\n",
    "    def __init__(self, label=None, data=None):\n",
    "        self.label = label\n",
    "        self.data = data\n",
    "        self.children = dict()\n",
    "    \n",
    "    def addChild(self, key, data=None):\n",
    "        if not isinstance(key, Node):\n",
    "            self.children[key] = Node(key, data)\n",
    "        else:\n",
    "            self.children[key.label] = key\n",
    "    \n",
    "    def __getitem__(self, key):\n",
    "        return self.children[key]\n",
    "\n",
    "class Trie:\n",
    "    def __init__(self):\n",
    "        self.head = Node()\n",
    "    \n",
    "    def __getitem__(self, key):\n",
    "        return self.head.children[key]\n",
    "    \n",
    "    def add(self, word):\n",
    "        current_node = self.head\n",
    "        word_finished = True\n",
    "        \n",
    "        for i in range(len(word)):\n",
    "            if word[i] in current_node.children:\n",
    "                current_node = current_node.children[word[i]]\n",
    "            else:\n",
    "                word_finished = False\n",
    "                break\n",
    "        \n",
    "        # For ever new letter, create a new child node\n",
    "        if not word_finished:\n",
    "            while i < len(word):\n",
    "                current_node.addChild(word[i])\n",
    "                current_node = current_node.children[word[i]]\n",
    "                i += 1\n",
    "        \n",
    "        # Let's store the full word at the end node so we don't need to\n",
    "        # travel back up the tree to reconstruct the word\n",
    "        current_node.data = word\n",
    "    \n",
    "    def has_word(self, word):\n",
    "        if word == '':\n",
    "            return False\n",
    "        if word == None:\n",
    "            raise ValueError('Trie.has_word requires a not-Null string')\n",
    "        \n",
    "        # Start at the top\n",
    "        current_node = self.head\n",
    "        exists = True\n",
    "        for letter in word:\n",
    "            if letter in current_node.children:\n",
    "                current_node = current_node.children[letter]\n",
    "            else:\n",
    "                exists = False\n",
    "                break\n",
    "        \n",
    "        # Still need to check if we just reached a word like 't'\n",
    "        # that isn't actually a full word in our dictionary\n",
    "        if exists:\n",
    "            if current_node.data == None:\n",
    "                exists = False\n",
    "        \n",
    "        return exists\n",
    "    \n",
    "    def start_with_prefix(self, prefix):\n",
    "        \"\"\" Returns a list of all words in tree that start with prefix \"\"\"\n",
    "        words = list()\n",
    "        if prefix == None:\n",
    "            raise ValueError('Requires not-Null prefix')\n",
    "        \n",
    "        # Determine end-of-prefix node\n",
    "        top_node = self.head\n",
    "        for letter in prefix:\n",
    "            if letter in top_node.children:\n",
    "                top_node = top_node.children[letter]\n",
    "            else:\n",
    "                # Prefix not in tree, go no further\n",
    "                return words\n",
    "        \n",
    "        # Get words under prefix\n",
    "        if top_node == self.head:\n",
    "            queue = [node for key, node in top_node.children.iteritems()]\n",
    "        else:\n",
    "            queue = [top_node]\n",
    "        \n",
    "        # Perform a breadth first search under the prefix\n",
    "        # A cool effect of using BFS as opposed to DFS is that BFS will return\n",
    "        # a list of words ordered by increasing length\n",
    "        while queue:\n",
    "            current_node = queue.pop()\n",
    "            if current_node.data != None:\n",
    "                # Isn't it nice to not have to go back up the tree?\n",
    "                words.append(current_node.data)\n",
    "            \n",
    "            queue = [node for key,node in current_node.children.iteritems()] + queue\n",
    "        \n",
    "        return words\n",
    "    \n",
    "    def getData(self, word):\n",
    "        \"\"\" This returns the 'data' of the node identified by the given word \"\"\"\n",
    "        if not self.has_word(word):\n",
    "            raise ValueError('{} not found in trie'.format(word))\n",
    "        \n",
    "        # Race to the bottom, get data\n",
    "        current_node = self.head\n",
    "        for letter in word:\n",
    "            current_node = current_node[letter]\n",
    "        \n",
    "        return current_node.data\n",
    "\n",
    "if __name__ == '__main__':\n",
    "    \"\"\" Example use \"\"\"\n",
    "    trie = Trie()\n",
    "    words = 'hello goodbye help gerald gold tea ted team to too tom stan standard money'\n",
    "    for word in words.split():\n",
    "        trie.add(word)\n",
    "    print \"'goodbye' in trie: \", trie.has_word('goodbye')\n",
    "    print trie.start_with_prefix('g')\n",
    "    print trie.start_with_prefix('to')"
   ]
  },
  {
   "cell_type": "markdown",
   "metadata": {},
   "source": [
    "add or search word"
   ]
  },
  {
   "cell_type": "code",
   "execution_count": 25,
   "metadata": {
    "collapsed": true
   },
   "outputs": [],
   "source": [
    "import collections\n",
    "class WordDictionary(object):\n",
    "    def __init__(self):\n",
    "        self.word_dict = collections.defaultdict(list)\n",
    "        \n",
    "\n",
    "    def addWord(self, word):\n",
    "        if word:\n",
    "            self.word_dict[len(word)].append(word)\n",
    "\n",
    "    def search(self, word):\n",
    "        if not word:\n",
    "            return False\n",
    "        if '.' not in word:\n",
    "            return word in self.word_dict[len(word)]\n",
    "        for v in self.word_dict[len(word)]:\n",
    "            # match xx.xx.x with yyyyyyy\n",
    "            for i, ch in enumerate(word):\n",
    "                if ch != v[i] and ch != '.':\n",
    "                    break\n",
    "            else:\n",
    "                return True\n",
    "        return False"
   ]
  },
  {
   "cell_type": "code",
   "execution_count": 35,
   "metadata": {
    "collapsed": true
   },
   "outputs": [],
   "source": [
    "class TrieNode():\n",
    "    def __init__(self):\n",
    "        self.children = collections.defaultdict(TrieNode)\n",
    "        self.isWord = False\n",
    "    \n",
    "class WordDictionary(object):\n",
    "    def __init__(self):\n",
    "        self.root = TrieNode()\n",
    "\n",
    "    def addWord(self, word):\n",
    "        node = self.root\n",
    "        for w in word:\n",
    "            node = node.children[w]\n",
    "        node.isWord = True\n",
    "\n",
    "    def search(self, word):\n",
    "        node = self.root\n",
    "        self.res = False\n",
    "        self.dfs(node, word)\n",
    "        return self.res\n",
    "    \n",
    "    def dfs(self, node, word):\n",
    "        if not word:\n",
    "            if node.isWord:\n",
    "                self.res = True\n",
    "            return \n",
    "        if word[0] == \".\":\n",
    "            for n in node.children.values():\n",
    "                self.dfs(n, word[1:])\n",
    "        else:\n",
    "            node = node.children.get(word[0])\n",
    "            if not node:\n",
    "                return \n",
    "            self.dfs(node, word[1:])"
   ]
  },
  {
   "cell_type": "markdown",
   "metadata": {},
   "source": [
    "212.Word Search II"
   ]
  },
  {
   "cell_type": "code",
   "execution_count": null,
   "metadata": {
    "collapsed": true
   },
   "outputs": [],
   "source": [
    "class TrieNode():\n",
    "    def __init__(self):\n",
    "        self.children = collections.defaultdict(TrieNode)\n",
    "        self.isWord = False\n",
    "    \n",
    "class Trie():\n",
    "    def __init__(self):\n",
    "        self.root = TrieNode()\n",
    "    \n",
    "    def insert(self, word):\n",
    "        node = self.root\n",
    "        for w in word:\n",
    "            node = node.children[w]\n",
    "        node.isWord = True\n",
    "    \n",
    "    def search(self, word):\n",
    "        node = self.root\n",
    "        for w in word:\n",
    "            node = node.children.get(w)\n",
    "            if not node:\n",
    "                return False\n",
    "        return node.isWord\n",
    "    \n",
    "class Solution(object):\n",
    "    def findWords(self, board, words):\n",
    "        res = []\n",
    "        trie = Trie()\n",
    "        node = trie.root\n",
    "        for w in words:\n",
    "            trie.insert(w)\n",
    "        for i in xrange(len(board)):\n",
    "            for j in xrange(len(board[0])):\n",
    "                self.dfs(board, node, i, j, \"\", res)\n",
    "        return res\n",
    "    \n",
    "    def dfs(self, board, node, i, j, path, res):\n",
    "        if node.isWord:\n",
    "            res.append(path)\n",
    "            node.isWord = False\n",
    "        if i < 0 or i >= len(board) or j < 0 or j >= len(board[0]):\n",
    "            return \n",
    "        tmp = board[i][j]\n",
    "        node = node.children.get(tmp)\n",
    "        if not node:\n",
    "            return \n",
    "        board[i][j] = \"#\"\n",
    "        self.dfs(board, node, i+1, j, path+tmp, res)\n",
    "        self.dfs(board, node, i-1, j, path+tmp, res)\n",
    "        self.dfs(board, node, i, j-1, path+tmp, res)\n",
    "        self.dfs(board, node, i, j+1, path+tmp, res)\n",
    "        board[i][j] = tmp"
   ]
  },
  {
   "cell_type": "markdown",
   "metadata": {},
   "source": [
    " Top K Frequent Elements  "
   ]
  },
  {
   "cell_type": "code",
   "execution_count": null,
   "metadata": {
    "collapsed": true
   },
   "outputs": [],
   "source": [
    "import collections\n",
    "\n",
    "class Solution(object):\n",
    "    def topKFrequent(self, nums, k):\n",
    "        \"\"\"\n",
    "        :type nums: List[int]\n",
    "        :type k: int\n",
    "        :rtype: List[int]\n",
    "        \"\"\"\n",
    "        # Use Counter to extract the top k frequent elements\n",
    "        # most_common(k) return a list of tuples, where the first item of the tuple is the element,\n",
    "        # and the second item of the tuple is the count\n",
    "        # Thus, the built-in zip function could be used to extract the first item from the tuples\n",
    "        return zip(*collections.Counter(nums).most_common(k))[0]"
   ]
  },
  {
   "cell_type": "markdown",
   "metadata": {},
   "source": [
    "Find Median from Data Stream  \n"
   ]
  },
  {
   "cell_type": "code",
   "execution_count": 9,
   "metadata": {
    "collapsed": true
   },
   "outputs": [],
   "source": [
    "from heapq import *\n",
    "\n",
    "class MedianFinder:\n",
    "\n",
    "    def __init__(self):\n",
    "        self.heaps = [], []\n",
    "\n",
    "    def addNum(self, num):\n",
    "        small, large = self.heaps\n",
    "        heappush(small, -heappushpop(large, num))\n",
    "        if len(large) < len(small):\n",
    "            heappush(large, -heappop(small))\n",
    "        print(small)\n",
    "        print(large)\n",
    "        print('-----')\n",
    "\n",
    "\n",
    "    def findMedian(self):\n",
    "        small, large = self.heaps\n",
    "        if len(large) > len(small):\n",
    "            return float(large[0])\n",
    "        return (large[0] - small[0]) / 2.0"
   ]
  },
  {
   "cell_type": "code",
   "execution_count": 17,
   "metadata": {
    "collapsed": true
   },
   "outputs": [
    {
     "name": "stdout",
     "output_type": "stream",
     "text": [
      "[]\n",
      "[1]\n",
      "-----\n",
      "[-1]\n",
      "[2]\n",
      "-----\n",
      "[-1]\n",
      "[2, 4]\n",
      "-----\n",
      "[-2, -1]\n",
      "[3, 4]\n",
      "-----\n",
      "[-2, -1]\n",
      "[3, 6, 4]\n",
      "-----\n",
      "[-3, -1, -2]\n",
      "[4, 6, 5]\n",
      "-----\n"
     ]
    },
    {
     "data": {
      "text/plain": [
       "3.5"
      ]
     },
     "execution_count": 17,
     "metadata": {},
     "output_type": "execute_result"
    }
   ],
   "source": [
    "b = MedianFinder()\n",
    "b.addNum(1)\n",
    "b.addNum(2)\n",
    "b.addNum(4)\n",
    "b.addNum(3)\n",
    "b.addNum(6)\n",
    "b.addNum(5)\n",
    "b.findMedian()"
   ]
  },
  {
   "cell_type": "markdown",
   "metadata": {},
   "source": [
    "LRUCache"
   ]
  },
  {
   "cell_type": "markdown",
   "metadata": {},
   "source": [
    "Design and implement a data structure for Least Recently Used (LRU) cache. It should support the following operations: get and set.\n",
    "\n",
    "get(key) - Get the value (will always be positive) of the key if the key exists in the cache, otherwise return -1.\n",
    "set(key, value) - Set or insert the value if the key is not already present. When the cache reached its capacity, it should invalidate the least recently used item before inserting a new item."
   ]
  },
  {
   "cell_type": "code",
   "execution_count": null,
   "metadata": {
    "collapsed": true
   },
   "outputs": [],
   "source": [
    "class LinkedNode:\n",
    "    \n",
    "    def __init__(self, key=None, value=None, next=None):\n",
    "        self.key = key\n",
    "        self.value = value\n",
    "        self.next = next\n",
    "    \n",
    "    # @param capacity, an integer\n",
    "    def __init__(self, capacity):\n",
    "        self.hash = {}\n",
    "        self.head = LinkedNode()\n",
    "        self.tail = self.head\n",
    "        self.capacity = capacity\n",
    "        \n",
    "    def push_back(self, node):\n",
    "        self.hash[node.key] = self.tail\n",
    "        self.tail.next = node\n",
    "        self.tail = node\n",
    "    def pop_front(self):\n",
    "        del self.hash[self.head.next.key]\n",
    "        self.head.next = self.head.next.next\n",
    "        self.hash[self.head.next.key] = self.head\n",
    "    def kick(self, prev):\n",
    "        node = prev.next\n",
    "        if node == self.tail:\n",
    "            return\n",
    "        prev.next = node.next\n",
    "        if node.next is not None:\n",
    "            self.hash[node.next.key] = prev\n",
    "            node.next = None\n",
    "        self.push_back(node)\n",
    "        # @return an integer\n",
    "    def get(self, key):\n",
    "        if key not in self.hash:\n",
    "            return -1\n",
    "        self.kick(self.hash[key])\n",
    "        return self.hash[key].next.value\n",
    "        # @return nothing\n",
    "    def set(self, key, value):\n",
    "        if key in self.hash:\n",
    "            self.kick(self.hash[key])\n",
    "            self.hash[key].next.value = value\n",
    "        else:\n",
    "            self.push_back(LinkedNode(key, value))\n",
    "            if len(self.hash) > self.capacity:\n",
    "                self.pop_front()"
   ]
  }
 ],
 "metadata": {
  "anaconda-cloud": {},
  "kernelspec": {
   "display_name": "Python [default]",
   "language": "python",
   "name": "python3"
  },
  "language_info": {
   "codemirror_mode": {
    "name": "ipython",
    "version": 3
   },
   "file_extension": ".py",
   "mimetype": "text/x-python",
   "name": "python",
   "nbconvert_exporter": "python",
   "pygments_lexer": "ipython3",
   "version": "3.5.4"
  }
 },
 "nbformat": 4,
 "nbformat_minor": 1
}
