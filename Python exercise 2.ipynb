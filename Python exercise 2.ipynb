{
 "cells": [
  {
   "cell_type": "code",
   "execution_count": 1,
   "metadata": {
    "collapsed": true
   },
   "outputs": [],
   "source": [
    "import unittest\n",
    "\n",
    "class TestStringMethods(unittest.TestCase):\n",
    "    def test_upper(self):\n",
    "        self.assertEqual('foo'.upper(), 'FOO')\n",
    "\n",
    "    def test_isupper(self):\n",
    "        self.assertTrue('FOO'.isupper())\n",
    "        self.assertFalse('Foo'.isupper())\n",
    "\n",
    "    def test_split(self):\n",
    "        s = 'hello world'\n",
    "        self.assertEqual(s.split(), ['hello', 'world'])\n",
    "        # s.split should throw when the separator is not a string\n",
    "        with self.assertRaises(TypeError):\n",
    "            s.split(2)\n",
    "\n",
    "unittest.main(exit=False)"
   ]
  },
  {
   "cell_type": "code",
   "execution_count": null,
   "metadata": {
    "collapsed": true
   },
   "outputs": [],
   "source": [
    "import pytest\n",
    "\n",
    "def test_upper():\n",
    "    assert 'foo'.upper() == 'FOO'\n",
    "\n",
    "def test_isupper():\n",
    "    assert 'FOO'.isupper()\n",
    "    assert not 'Foo'.isupper()\n",
    "\n",
    "def test_split():\n",
    "    s = 'hello world'\n",
    "    assert s.split() == ['hello', 'world']\n",
    "    # s.split should throw when the separator is not a string\n",
    "    with pytest.raises(TypeError):\n",
    "        s.split(2)\n",
    "\n",
    "pytest.main()"
   ]
  },
  {
   "cell_type": "code",
   "execution_count": 3,
   "metadata": {},
   "outputs": [
    {
     "data": {
      "text/plain": [
       "100"
      ]
     },
     "execution_count": 3,
     "metadata": {},
     "output_type": "execute_result"
    }
   ],
   "source": [
    "class BankAccount:\n",
    "    def __init__(self):\n",
    "        self.balance = 0\n",
    "    def deposit(self,amount):\n",
    "        self.balance += amount\n",
    "        return self.balance\n",
    "    def withdraw(self,amount):\n",
    "        self.balance -= amount\n",
    "        return self.balance\n",
    "a = BankAccount()\n",
    "a.deposit(100)"
   ]
  },
  {
   "cell_type": "code",
   "execution_count": 5,
   "metadata": {
    "collapsed": true
   },
   "outputs": [],
   "source": [
    "class MinimumBalanceAccount(BankAccount):\n",
    "    def __init__(self,minimum_balance):\n",
    "        BankAccount.__init__(self)\n",
    "        self.minimum_balance = minimum_balance\n",
    "    def withdraw(self,amount):\n",
    "        if self.balance - amount < self.minimum_balance:\n",
    "            print('Sorry, minimum balance must be maintained.')\n",
    "        else:\n",
    "            BankAccount.withdraw(self, amount) "
   ]
  },
  {
   "cell_type": "code",
   "execution_count": 14,
   "metadata": {
    "collapsed": true
   },
   "outputs": [],
   "source": [
    "a = MinimumBalanceAccount(25)\n",
    "a.deposit(35)\n",
    "a.withdraw(10)"
   ]
  },
  {
   "cell_type": "code",
   "execution_count": 15,
   "metadata": {},
   "outputs": [
    {
     "name": "stdout",
     "output_type": "stream",
     "text": [
      "Sorry, minimum balance must be maintained.\n"
     ]
    }
   ],
   "source": [
    "a.withdraw(5)"
   ]
  },
  {
   "cell_type": "markdown",
   "metadata": {},
   "source": [
    "The try statement can have an optional else clause, which is executed only if no exception is raised in the try-block.\n",
    "There can be an optional finally clause with a try statement, which is executed irrespective of whether or not exception has occured."
   ]
  },
  {
   "cell_type": "code",
   "execution_count": 1,
   "metadata": {},
   "outputs": [
    {
     "name": "stdout",
     "output_type": "stream",
     "text": [
      "a\n",
      "c\n",
      "d\n"
     ]
    }
   ],
   "source": [
    "def f():\n",
    "    try:\n",
    "        print (\"a\")\n",
    "        #return \n",
    "    except:\n",
    "        print (\"b\")\n",
    "    else:\n",
    "        print (\"c\")\n",
    "    finally:\n",
    "        print (\"d\")\n",
    "f()"
   ]
  },
  {
   "cell_type": "code",
   "execution_count": 23,
   "metadata": {
    "collapsed": true
   },
   "outputs": [],
   "source": [
    "sys.maxsize"
   ]
  },
  {
   "cell_type": "markdown",
   "metadata": {},
   "source": [
    "- How big is the size of the input?\n",
    "- How big is the range of values?\n",
    "- What kind of values are there? Are there negative numbers? Floating points? Will there be empty inputs?\n",
    "- Are there duplicates within the input?\n",
    "- What are some extreme cases of the input?\n",
    "- How is the input stored? If you are given a dictionary of words, is it a list of strings or a trie?"
   ]
  },
  {
   "cell_type": "markdown",
   "metadata": {},
   "source": [
    "https://wiki.python.org/moin/TimeComplexity"
   ]
  },
  {
   "cell_type": "code",
   "execution_count": 61,
   "metadata": {},
   "outputs": [
    {
     "data": {
      "text/plain": [
       "{'A', 'B', 'C', 'D', 'E', 'F'}"
      ]
     },
     "execution_count": 61,
     "metadata": {},
     "output_type": "execute_result"
    }
   ],
   "source": [
    "def dfs(graph, start):\n",
    "    visited, stack = set(), [start]\n",
    "    while stack:\n",
    "        vertex = stack.pop()\n",
    "        if vertex not in visited:\n",
    "            visited.add(vertex)\n",
    "            stack.extend(graph[vertex] - visited)\n",
    "    return visited\n",
    "\n",
    "\n",
    "dfs(graph, 'A') # {'E', 'D', 'F', 'A', 'C', 'B'}"
   ]
  },
  {
   "cell_type": "code",
   "execution_count": 63,
   "metadata": {},
   "outputs": [
    {
     "data": {
      "text/plain": [
       "{'A', 'B', 'C', 'D', 'E', 'F'}"
      ]
     },
     "execution_count": 63,
     "metadata": {},
     "output_type": "execute_result"
    }
   ],
   "source": [
    "def dfs(graph, start, visited=None):\n",
    "    if visited is None:\n",
    "        visited = set()\n",
    "    visited.add(start)\n",
    "    for next in graph[start] - visited:\n",
    "        dfs(graph, next, visited)\n",
    "    return visited\n",
    "\n",
    "dfs(graph, 'D') # {'E', 'D', 'F', 'A', 'C', 'B'}"
   ]
  },
  {
   "cell_type": "code",
   "execution_count": 64,
   "metadata": {},
   "outputs": [
    {
     "data": {
      "text/plain": [
       "[['A', 'B', 'E', 'F'], ['A', 'C', 'F']]"
      ]
     },
     "execution_count": 64,
     "metadata": {},
     "output_type": "execute_result"
    }
   ],
   "source": [
    "def dfs_paths(graph, start, goal):\n",
    "    stack = [(start, [start])]\n",
    "    while stack:\n",
    "        (vertex, path) = stack.pop()\n",
    "        for next in graph[vertex] - set(path):\n",
    "            if next == goal:\n",
    "                yield path + [next]\n",
    "            else:\n",
    "                stack.append((next, path + [next]))\n",
    "\n",
    "list(dfs_paths(graph, 'A', 'F')) # [['A', 'C', 'F'], ['A', 'B', 'E',"
   ]
  },
  {
   "cell_type": "markdown",
   "metadata": {},
   "source": [
    "add current node\n",
    "\n",
    "use a for loop to traverse all neighbor nodes\n",
    "\n",
    "add this node to result\n",
    "\n",
    "call recursive function on this node\n",
    "\n",
    "remove this node"
   ]
  },
  {
   "cell_type": "markdown",
   "metadata": {},
   "source": [
    "#BFS:\n",
    "This behavior guarantees that the first path located is one of the shortest-paths present, based on number of edges being the cost factor."
   ]
  },
  {
   "cell_type": "code",
   "execution_count": 65,
   "metadata": {},
   "outputs": [
    {
     "data": {
      "text/plain": [
       "{'A', 'B', 'C', 'D', 'E', 'F'}"
      ]
     },
     "execution_count": 65,
     "metadata": {},
     "output_type": "execute_result"
    }
   ],
   "source": [
    "def bfs(graph, start):\n",
    "    visited, queue = set(), [start]\n",
    "    while queue:\n",
    "        vertex = queue.pop(0)\n",
    "        if vertex not in visited:\n",
    "            visited.add(vertex)\n",
    "            queue.extend(graph[vertex] - visited)\n",
    "    return visited\n",
    "\n",
    "bfs(graph, 'A') # {'B', 'C', 'A', 'F', 'D', 'E'}"
   ]
  },
  {
   "cell_type": "code",
   "execution_count": 66,
   "metadata": {},
   "outputs": [
    {
     "data": {
      "text/plain": [
       "[['A', 'C', 'F'], ['A', 'B', 'E', 'F']]"
      ]
     },
     "execution_count": 66,
     "metadata": {},
     "output_type": "execute_result"
    }
   ],
   "source": [
    "def bfs_paths(graph, start, goal):\n",
    "    queue = [(start, [start])]\n",
    "    while queue:\n",
    "        (vertex, path) = queue.pop(0)\n",
    "        for next in graph[vertex] - set(path):\n",
    "            if next == goal:\n",
    "                yield path + [next]\n",
    "            else:\n",
    "                queue.append((next, path + [next]))\n",
    "\n",
    "list(bfs_paths(graph, 'A', 'F'))"
   ]
  },
  {
   "cell_type": "code",
   "execution_count": 67,
   "metadata": {},
   "outputs": [
    {
     "data": {
      "text/plain": [
       "['A', 'C', 'F']"
      ]
     },
     "execution_count": 67,
     "metadata": {},
     "output_type": "execute_result"
    }
   ],
   "source": [
    "def shortest_path(graph, start, goal):\n",
    "    try:\n",
    "        return next(bfs_paths(graph, start, goal))\n",
    "    except StopIteration:\n",
    "        return None\n",
    "\n",
    "shortest_path(graph, 'A', 'F') # ['A', 'C', 'F']"
   ]
  },
  {
   "cell_type": "code",
   "execution_count": 68,
   "metadata": {
    "collapsed": true
   },
   "outputs": [],
   "source": [
    "#Fibanacci\n",
    "def fib(n):\n",
    "   fibValues = [0,1]\n",
    "   for i in range(2,n+1):\n",
    "      fibValues.append(fibValues[i-1] + fibValues[i-2])\n",
    "   return fibValues[n]"
   ]
  },
  {
   "cell_type": "code",
   "execution_count": 69,
   "metadata": {
    "collapsed": true
   },
   "outputs": [],
   "source": [
    "fibTable = {1:1, 2:1}\n",
    "def fib(n):\n",
    "   if n <= 2:\n",
    "      return 1\n",
    "   if n in fibTable:\n",
    "      return fibTable[n]\n",
    "   else:\n",
    "      fibTable[n] = fib(n-1) + fib(n-2)\n",
    "      return fibTable[n]"
   ]
  },
  {
   "cell_type": "code",
   "execution_count": null,
   "metadata": {
    "collapsed": true
   },
   "outputs": [],
   "source": []
  },
  {
   "cell_type": "code",
   "execution_count": null,
   "metadata": {
    "collapsed": true
   },
   "outputs": [],
   "source": [
    "def coinChange(centsNeeded, coinValues):\n",
    "   minCoins = [[0 for j in range(centsNeeded + 1)]\n",
    "               for i in range(len(coinValues))]\n",
    "   minCoins[0] = range(centsNeeded + 1)\n",
    "\n",
    "   for i in range(1,len(coinValues)):\n",
    "      for j in range(0, centsNeeded + 1):\n",
    "         if j < coinValues[i]:\n",
    "            minCoins[i][j] = minCoins[i-1][j]\n",
    "         else:\n",
    "            minCoins[i][j] = min(minCoins[i-1][j],\n",
    "             1 + minCoins[i][j-coinValues[i]])\n",
    "\n",
    "   return minCoins[-1][-1]"
   ]
  },
  {
   "cell_type": "markdown",
   "metadata": {},
   "source": [
    "Longest common substring"
   ]
  },
  {
   "cell_type": "code",
   "execution_count": 5,
   "metadata": {},
   "outputs": [
    {
     "data": {
      "text/plain": [
       "'bc'"
      ]
     },
     "execution_count": 5,
     "metadata": {},
     "output_type": "execute_result"
    }
   ],
   "source": [
    "def longest_common_substring(s1, s2):\n",
    "   m = [[0] * (1 + len(s2)) for i in range(1 + len(s1))]\n",
    "   longest, x_longest = 0, 0\n",
    "   for x in range(1, 1 + len(s1)):\n",
    "       for y in range(1, 1 + len(s2)):\n",
    "           if s1[x - 1] == s2[y - 1]:\n",
    "               m[x][y] = m[x - 1][y - 1] + 1\n",
    "               if m[x][y] > longest:\n",
    "                   longest = m[x][y]\n",
    "                   x_longest = x\n",
    "           else:\n",
    "               m[x][y] = 0\n",
    "   return s1[x_longest - longest: x_longest]\n",
    "longest_common_substring('abc','bcd')"
   ]
  },
  {
   "cell_type": "code",
   "execution_count": 9,
   "metadata": {},
   "outputs": [
    {
     "data": {
      "text/plain": [
       "'bc'"
      ]
     },
     "execution_count": 9,
     "metadata": {},
     "output_type": "execute_result"
    }
   ],
   "source": [
    "def longest_common_substring(s1,s2):\n",
    "    m = [[0]* (len(s2) +1) for i in range(1+len(s1))]\n",
    "    \n",
    "    longest,x_longest = 0,0\n",
    "    for x in range(1,1+len(s1)):\n",
    "        for y in range(1,1+len(s2)):\n",
    "            if s1[x-1] == s2[y-1]:\n",
    "                m[x][y] = m[x-1][y-1]+1\n",
    "                if m[x][y] > longest:\n",
    "                    longest = m[x][y]\n",
    "                    x_longest = x\n",
    "            else:\n",
    "                m[x][y] = 0\n",
    "    return s1[x_longest - longest:x_longest]\n",
    "longest_common_substring('abc','bcd')"
   ]
  },
  {
   "cell_type": "code",
   "execution_count": 34,
   "metadata": {
    "collapsed": true
   },
   "outputs": [],
   "source": [
    "s = 35\n",
    "k = 5\n",
    "#s &= ~(1 << k)\n"
   ]
  },
  {
   "cell_type": "code",
   "execution_count": null,
   "metadata": {
    "collapsed": true
   },
   "outputs": [],
   "source": [
    "def traverse(matrix):\n",
    "    rows,cols = len(matrix),len(matrix[0])\n",
    "    visited = set()\n",
    "    directsion = [(0,1),(0,-1),(1,0),(-1,0)]\n",
    "    \n",
    "    for i in range(rows):\n",
    "        for j in range(cols):\n",
    "            dfs(i,j)\n",
    "            \n",
    "    def dfs(i,j):\n",
    "        if (i,j) in visited:\n",
    "            return\n",
    "        visited.add((i,j))\n",
    "        for direction in directions:\n",
    "            next_i,next_j = i + ..\n",
    "            dfs(next_i,next_j)"
   ]
  },
  {
   "cell_type": "code",
   "execution_count": null,
   "metadata": {
    "collapsed": true
   },
   "outputs": [],
   "source": [
    "def traverse(matrix):\n",
    "  rows, cols = len(matrix), len(matrix[0])\n",
    "  visited = set()\n",
    "  directions = ((0, 1), (0, -1), (1, 0), (-1, 0))\n",
    "\n",
    "  def dfs(i, j):\n",
    "        if (i, j) in visited:\n",
    "          return\n",
    "        visited.add((i, j))\n",
    "        # Traverse neighbors\n",
    "        for direction in directions:\n",
    "          next_i, next_j = i + direction[0], j + direction[1]\n",
    "          if 0 <= next_i < rows and 0 <= next_j < cols: # Check boundary\n",
    "            # Add any other checking here ^\n",
    "            dfs(next_i, next_j)\n",
    "  for i in range(rows):\n",
    "    for j in range(cols):\n",
    "      dfs(i, j)"
   ]
  },
  {
   "cell_type": "code",
   "execution_count": null,
   "metadata": {
    "collapsed": true
   },
   "outputs": [],
   "source": [
    "def is_overlap(a, b):\n",
    "  return a[0] < b[1] and b[0] < a[1]\n",
    "def merge_overlapping_intervals(a, b):\n",
    "  return [min(a[0], b[0]), max(a[1], b[1])]"
   ]
  },
  {
   "cell_type": "code",
   "execution_count": null,
   "metadata": {
    "collapsed": true
   },
   "outputs": [],
   "source": [
    "rows, cols = len(matrix), len(matrix[0])\n",
    "copy = [[0 for _ in range(cols)] for _ in range(rows)"
   ]
  },
  {
   "cell_type": "code",
   "execution_count": null,
   "metadata": {
    "collapsed": true
   },
   "outputs": [],
   "source": [
    "transposed_matrix = zip(*matrix)"
   ]
  },
  {
   "cell_type": "markdown",
   "metadata": {},
   "source": [
    "For substrings, you can terminate early once there is no match.\n",
    "For subsequences, use dynamic programming as there are overlapping subproblems. Check out this question."
   ]
  },
  {
   "cell_type": "code",
   "execution_count": null,
   "metadata": {
    "collapsed": true
   },
   "outputs": [],
   "source": [
    "arr, target = [1,2,3,4,5], 4\n",
    "start, end = 0, len(n)-1\n",
    "while start <= end:\n",
    "  mid = (start+end)/2\n",
    "  if arr[mid] == target:\n",
    "    return mid # The value is found\n",
    "  else:\n",
    "    if arr[mid] < target:\n",
    "      start = mid+1\n",
    "    else:\n",
    "      end = mid-1\n",
    "return -1 # The value is not found"
   ]
  },
  {
   "cell_type": "code",
   "execution_count": null,
   "metadata": {
    "collapsed": true
   },
   "outputs": [],
   "source": []
  },
  {
   "cell_type": "code",
   "execution_count": 53,
   "metadata": {
    "collapsed": true
   },
   "outputs": [],
   "source": [
    "class TreeNode(object):\n",
    "  def __init__(self,x):\n",
    "    self.val = x\n",
    "    self.left = None\n",
    "    self.right = None\n",
    "\n",
    "class ListNode(object):\n",
    "  def __init__(self,x):\n",
    "    self.val = x\n",
    "    self.next = None"
   ]
  },
  {
   "cell_type": "code",
   "execution_count": 15,
   "metadata": {
    "collapsed": true
   },
   "outputs": [],
   "source": [
    "from collections import Counter\n",
    "\n",
    "Counter('gallahad') \n",
    "c = Counter(['eggs', 'ham'])\n",
    "c['bacon'] \n",
    "c['sausage'] = 0  "
   ]
  },
  {
   "cell_type": "code",
   "execution_count": 35,
   "metadata": {},
   "outputs": [
    {
     "data": {
      "text/plain": [
       "False"
      ]
     },
     "execution_count": 35,
     "metadata": {},
     "output_type": "execute_result"
    }
   ],
   "source": [
    "Counter('gallahad')==Counter({'a': 3, 'd': 1, 'g': 1, 'h': 1, 'l': 2,'t':0})"
   ]
  },
  {
   "cell_type": "code",
   "execution_count": 11,
   "metadata": {},
   "outputs": [
    {
     "data": {
      "text/plain": [
       "dict_items([('blue', [2, 4]), ('yellow', [1, 3]), ('red', [1])])"
      ]
     },
     "execution_count": 11,
     "metadata": {},
     "output_type": "execute_result"
    }
   ],
   "source": [
    "from collections import defaultdict\n",
    "s = [('yellow', 1), ('blue', 2), ('yellow', 3), ('blue', 4), ('red', 1)]\n",
    "d = defaultdict(list)\n",
    "for k, v in s:\n",
    "     d[k].append(v)\n",
    "d.items()"
   ]
  },
  {
   "cell_type": "code",
   "execution_count": 26,
   "metadata": {
    "collapsed": true
   },
   "outputs": [],
   "source": [
    "from collections import OrderedDict\n",
    "# regular unsorted dictionary\n",
    "d = {'banana': 3, 'apple': 4, 'pear': 1, 'orange': 2}\n",
    "\n",
    "# dictionary sorted by key\n",
    "e = OrderedDict(sorted(d.items(), key=lambda t: t[0]))"
   ]
  },
  {
   "cell_type": "code",
   "execution_count": 72,
   "metadata": {},
   "outputs": [
    {
     "data": {
      "text/plain": [
       "28"
      ]
     },
     "execution_count": 72,
     "metadata": {},
     "output_type": "execute_result"
    }
   ],
   "source": [
    "30&29"
   ]
  },
  {
   "cell_type": "code",
   "execution_count": null,
   "metadata": {
    "collapsed": true
   },
   "outputs": [],
   "source": [
    "#BFS\n",
    "# Program to print BFS traversal from a given source\n",
    "# vertex. BFS(int s) traverses vertices reachable\n",
    "# from s.\n",
    "from collections import defaultdict\n",
    " \n",
    "# This class represents a directed graph using adjacency\n",
    "# list representation\n",
    "class Graph:\n",
    " \n",
    "    # Constructor\n",
    "    def __init__(self):\n",
    " \n",
    "        # default dictionary to store graph\n",
    "        self.graph = defaultdict(list)\n",
    " \n",
    "    # function to add an edge to graph\n",
    "    def addEdge(self,u,v):\n",
    "        self.graph[u].append(v)\n",
    "        # Function to print a BFS of graph\n",
    "    def BFS(self, s):\n",
    " \n",
    "        # Mark all the vertices as not visited\n",
    "        visited = [False]*(len(self.graph))\n",
    " \n",
    "        # Create a queue for BFS\n",
    "        queue = []\n",
    " \n",
    "        # Mark the source node as visited and enqueue it\n",
    "        queue.append(s)\n",
    "        visited[s] = True\n",
    " \n",
    "        while queue:\n",
    " \n",
    "            # Dequeue a vertex from queue and print it\n",
    "            s = queue.pop(0)\n",
    "            print s,\n",
    " \n",
    "            # Get all adjacent vertices of the dequeued\n",
    "            # vertex s. If a adjacent has not been visited,\n",
    "            # then mark it visited and enqueue it\n",
    "            for i in self.graph[s]:\n",
    "                if visited[i] == False:\n",
    "                    queue.append(i)\n",
    "                    visited[i] = True\n",
    " "
   ]
  },
  {
   "cell_type": "code",
   "execution_count": null,
   "metadata": {
    "collapsed": true
   },
   "outputs": [],
   "source": [
    "#DFS\n",
    "# Python program to print DFS traversal from a\n",
    "# given given graph\n",
    "from collections import defaultdict\n",
    " \n",
    "# This class represents a directed graph using\n",
    "# adjacency list representation\n",
    "class Graph:\n",
    " \n",
    "    # Constructor\n",
    "    def __init__(self):\n",
    " \n",
    "        # default dictionary to store graph\n",
    "        self.graph = defaultdict(list)\n",
    " \n",
    "    # function to add an edge to graph\n",
    "    def addEdge(self,u,v):\n",
    "        self.graph[u].append(v)\n",
    " \n",
    "    # A function used by DFS\n",
    "    def DFSUtil(self,v,visited):\n",
    " \n",
    "        # Mark the current node as visited and print it\n",
    "        visited[v]= True\n",
    "        print v,\n",
    " \n",
    "        # Recur for all the vertices adjacent to this vertex\n",
    "        for i in self.graph[v]:\n",
    "            if visited[i] == False:\n",
    "                self.DFSUtil(i, visited)\n",
    " \n",
    " \n",
    "    # The function to do DFS traversal. It uses\n",
    "    # recursive DFSUtil()\n",
    "    def DFS(self,v):\n",
    " \n",
    "        # Mark all the vertices as not visited\n",
    "        visited = [False]*(len(self.graph))\n",
    " \n",
    "        # Call the recursive helper function to print\n",
    "        # DFS traversal\n",
    "        \n",
    "        # Call the recursive helper function to print\n",
    "        # DFS traversal starting from all vertices one\n",
    "        # by one\n",
    "        \n",
    "        V = len(self.graph)\n",
    "        for i in range(V):\n",
    "            if visited[i] == False:\n",
    "                self.DFSUtil(i, visited)"
   ]
  },
  {
   "cell_type": "markdown",
   "metadata": {},
   "source": [
    "Multiply two numbers"
   ]
  },
  {
   "cell_type": "code",
   "execution_count": null,
   "metadata": {
    "collapsed": true
   },
   "outputs": [],
   "source": [
    "\n",
    "\"\"\"\n",
    "1. Given two input strings representing arbitrary large (positive) integers, how to compute the result of their multiplication?\n",
    "\n",
    "Example: \"12345678987654321\" X \"123456789123456789\" = \"1524157887364730998475842112635269\"\n",
    "\n",
    "12\n",
    "34\n",
    "\n",
    "(10 + 2) * 4 + 30 * 4\n",
    "\n",
    "  13 --s2\n",
    "* 45 --s1\n",
    "------\n",
    "  65\n",
    " 52\n",
    " 408\n",
    "\n",
    "\"\"\""
   ]
  },
  {
   "cell_type": "code",
   "execution_count": 68,
   "metadata": {
    "collapsed": true
   },
   "outputs": [],
   "source": [
    "def multi(s1,s2):\n",
    "    result = [0] * (len(s1) + len(s2))\n",
    "    i1, i2 = 0,0\n",
    "    \n",
    "    for i in range(len(s1)-1,-1,-1):\n",
    "        n1 = int(s1[i]) #5 # 4\n",
    "        carry = 0\n",
    "        i2 = 0\n",
    "        for j in range(len(s2)-1,-1,-1): \n",
    "            n2 = int(s2[j]) #3 # 1 #3\n",
    "            sum_ = n1*n2 + carry + result[i1+i2] # 15 # 6\n",
    "            result[i1+i2] = sum_ % 10 #5 # 6\n",
    "            #print(result)\n",
    "            carry = sum_ // 10 # 1 #0\n",
    "            i2 +=1\n",
    "        if carry > 0:\n",
    "            result[i1+i2] += carry\n",
    "        i1 +=1\n",
    "   #print(i1+i2)\n",
    "    result = ''.join([str(s) for s in result])[::-1]\n",
    "    return result\n",
    "            \n",
    "            "
   ]
  },
  {
   "cell_type": "markdown",
   "metadata": {},
   "source": [
    "Given an interval represented by start and end timestamps, please write a program which takes arbitrary number of intervals, and find the maximal number of overlapping intervals."
   ]
  },
  {
   "cell_type": "code",
   "execution_count": 86,
   "metadata": {
    "collapsed": true
   },
   "outputs": [],
   "source": [
    "def maxoverlap(intervals):\n",
    "    start = sorted([interval[0] for interval in intervals])\n",
    "    end = sorted([interval[1] for interval in intervals])\n",
    "    i,j = 1,0\n",
    "    count = 0\n",
    "    max_count = 0\n",
    "    while i < len(start) and j < len(end):\n",
    "        if start[i] <= end[j]:\n",
    "            count+=1\n",
    "            max_count = max(max_count,count)\n",
    "            i = i + 1\n",
    "        else:\n",
    "            start[i] <=end[j]\n",
    "            count-=1\n",
    "            j = j + 1\n",
    "    return max_count\n",
    "    \n",
    "    "
   ]
  },
  {
   "cell_type": "markdown",
   "metadata": {},
   "source": [
    "Sorting algorithms"
   ]
  },
  {
   "cell_type": "markdown",
   "metadata": {},
   "source": [
    "Basic: Insertion, bubble, selection "
   ]
  },
  {
   "cell_type": "code",
   "execution_count": 117,
   "metadata": {
    "collapsed": true
   },
   "outputs": [],
   "source": [
    "#Bubble\n",
    "def bubble_sort(seq):\n",
    "    n = len(seq)\n",
    "    for i in range(n-1):\n",
    "                \n",
    "        for j in range(n-i-1):\n",
    "            if seq[j] > seq[j+1]:\n",
    "                seq[j], seq[j+1] = seq[j+1], seq[j]\n",
    "        print(seq)\n",
    "\n",
    "    return seq\n",
    "    "
   ]
  },
  {
   "cell_type": "code",
   "execution_count": 134,
   "metadata": {
    "collapsed": true
   },
   "outputs": [],
   "source": [
    "#selection\n",
    "def selection_sort(seq):\n",
    "    n = len(seq)\n",
    "    for i in range(n):\n",
    "        max_index = n-i-1\n",
    "        for j in range(n-i-1):\n",
    "            if seq[j] > seq[max_index]:\n",
    "                max_index = j\n",
    "        seq[max_index], seq[n-i-1] = seq[n-i-1], seq[max_index]\n",
    "    return seq"
   ]
  },
  {
   "cell_type": "code",
   "execution_count": 138,
   "metadata": {
    "collapsed": true
   },
   "outputs": [],
   "source": [
    "#insertion_sort(seq):\n",
    "def insertion_sort(seq):\n",
    "    n = len(seq)\n",
    "    for i in range(1,n):\n",
    "        value = seq[i]\n",
    "        pos = i\n",
    "        while pos > 0 and value < seq[pos-1]:\n",
    "            seq[pos] = seq[pos-1]\n",
    "            pos -= 1\n",
    "        seq[pos] = value  \n",
    "    return seq"
   ]
  },
  {
   "cell_type": "code",
   "execution_count": 185,
   "metadata": {
    "collapsed": true
   },
   "outputs": [],
   "source": [
    "#merge_sort\n",
    "def merge_sort(seq):\n",
    "    if len(seq)<=1:\n",
    "        return seq\n",
    "    mid = int(len(seq)/2)\n",
    "    left = merge_sort(seq[:mid])\n",
    "    right = merge_sort(seq[mid:])\n",
    "    return merge(left,right)\n",
    "def merge(left,right):\n",
    "    a,b = 0,0\n",
    "    new_sorted_seq = list()\n",
    "    while a < len(left) and b < len(right):\n",
    "        if left[a] < right[b]:\n",
    "            new_sorted_seq.append(left[a])\n",
    "            a += 1\n",
    "        else:\n",
    "            new_sorted_seq.append(right[b])\n",
    "            b += 1\n",
    "    if a < len(left):\n",
    "        new_sorted_seq.extend(left[a:])\n",
    "    if b < len(right):\n",
    "        new_sorted_seq.extend(right[b:])\n",
    "        \n",
    "    return new_sorted_seq"
   ]
  },
  {
   "cell_type": "code",
   "execution_count": 186,
   "metadata": {
    "collapsed": true
   },
   "outputs": [],
   "source": [
    "#quick_sort\n",
    "def quick_sort(seq):\n",
    "    if len(seq) <=1:\n",
    "        return seq\n",
    "    pivot = seq[0]\n",
    "    left = [i for i in seq[1:] if i < pivot]\n",
    "    right = [i for i in seq[1:] if i >= pivot]\n",
    "    left = quick_sort(left)\n",
    "    right = quick_sort(right)\n",
    "    return left + [pivot] + right"
   ]
  },
  {
   "cell_type": "code",
   "execution_count": 187,
   "metadata": {
    "collapsed": true
   },
   "outputs": [],
   "source": [
    "#quick_sort_inplace\n",
    "def quick_sort_inplace(array):\n",
    "    return quick_sort_inplace_(array, 0, len(array))\n",
    "    \n",
    "def quick_sort_inplace_(array, start, end):\n",
    "    if start < end:    # beg == end 的时候递归出口\n",
    "        pivot = partition(array, start, end)\n",
    "        quick_sort_inplace_(array, start, pivot)\n",
    "        quick_sort_inplace_(array, pivot+1, end)\n",
    "    return array\n",
    "def partition(array, start, end):\n",
    "    pivot_index = start\n",
    "    pivot = array[pivot_index]\n",
    "    left = pivot_index + 1\n",
    "    right = end - 1 \n",
    "    while True:\n",
    "        while left <= right and array[left] < pivot:\n",
    "            left += 1\n",
    "\n",
    "        while right >= left and array[right] >= pivot:\n",
    "            right -= 1\n",
    "\n",
    "        if left > right:\n",
    "            break\n",
    "        else:\n",
    "            array[left], array[right] = array[right], array[left]\n",
    "    array[pivot_index], array[right] = array[right], array[pivot_index]\n",
    "    return right "
   ]
  },
  {
   "cell_type": "code",
   "execution_count": null,
   "metadata": {
    "collapsed": true
   },
   "outputs": [],
   "source": [
    "Heap"
   ]
  },
  {
   "cell_type": "code",
   "execution_count": 188,
   "metadata": {
    "collapsed": true
   },
   "outputs": [],
   "source": [
    "import random\n",
    "def test_sort(func):\n",
    "    seq = list(range(10))\n",
    "    random.shuffle(seq)\n",
    "    sorted_seq = sorted(seq)\n",
    "    seq = func(seq)\n",
    "    print(seq)\n",
    "    return seq == sorted_seq\n",
    "    "
   ]
  },
  {
   "cell_type": "code",
   "execution_count": 189,
   "metadata": {},
   "outputs": [
    {
     "name": "stdout",
     "output_type": "stream",
     "text": [
      "[0, 1, 2, 3, 4, 5, 6, 7, 8, 9]\n"
     ]
    },
    {
     "data": {
      "text/plain": [
       "True"
      ]
     },
     "execution_count": 189,
     "metadata": {},
     "output_type": "execute_result"
    }
   ],
   "source": [
    "test_sort(quick_sort_inplace)"
   ]
  },
  {
   "cell_type": "code",
   "execution_count": null,
   "metadata": {
    "collapsed": true
   },
   "outputs": [],
   "source": [
    "class Solution:\n",
    "    # @param A : list of strings\n",
    "    # @return a list of strings\n",
    "    def prefix(self, A):\n",
    "        tree = [0, {}]\n",
    "        for s in A:\n",
    "            node = tree\n",
    "            node[0] += 1\n",
    "            for c in s:\n",
    "                node = node[1].setdefault(c, [0, {}])\n",
    "                node[0] += 1\n",
    "        l = []\n",
    "        for s in A:\n",
    "            prefix = ''\n",
    "            node = tree\n",
    "            for c in s:\n",
    "                if node[0] <= 1:\n",
    "                    l.append(prefix)\n",
    "                    break\n",
    "                prefix += c\n",
    "                node = node[1][c]\n",
    "            else:\n",
    "                l.append(s)\n",
    "        return l"
   ]
  },
  {
   "cell_type": "markdown",
   "metadata": {},
   "source": [
    "gcd"
   ]
  },
  {
   "cell_type": "code",
   "execution_count": 204,
   "metadata": {
    "collapsed": true
   },
   "outputs": [],
   "source": [
    "class Solutions():\n",
    "    def gcd(self, a, b):\n",
    "        if (b == 0):\n",
    "            return a\n",
    "        else:\n",
    "            return self.gcd(b, a%b)"
   ]
  },
  {
   "cell_type": "code",
   "execution_count": 205,
   "metadata": {},
   "outputs": [
    {
     "data": {
      "text/plain": [
       "10"
      ]
     },
     "execution_count": 205,
     "metadata": {},
     "output_type": "execute_result"
    }
   ],
   "source": [
    "s = Solutions()\n",
    "s.gcd(80,90)"
   ]
  },
  {
   "cell_type": "code",
   "execution_count": 238,
   "metadata": {
    "collapsed": true
   },
   "outputs": [],
   "source": [
    "queries = [[1, 2, 100], [2, 5, 100], [3, 4, 100]]"
   ]
  },
  {
   "cell_type": "code",
   "execution_count": 253,
   "metadata": {
    "collapsed": true
   },
   "outputs": [],
   "source": [
    "def arrayManipulation(n, queries):\n",
    "    \n",
    "    i,j = 0,0\n",
    "    count_ = 0\n",
    "    max_count = 0\n",
    "    start_ = sorted([(interval[0],interval[2]) for interval in queries])\n",
    "    end_ = sorted([(interval[1],interval[2]) for interval in queries])\n",
    "    #count_ = [interval[2] for interval in queries]\n",
    "    #return(start_)\n",
    "    \n",
    "    while i < len(start_) and j < len(end_):\n",
    "        if start_[i][0] < end_[j][0]:\n",
    "            count_+= start_[i][1]\n",
    "            print (count_)\n",
    "            max_count = max(max_count,count_)\n",
    "            i = i + 1\n",
    "        else:\n",
    "            count_-=end_[j][1]\n",
    "            j = j + 1\n",
    "    \n",
    "    return max_count"
   ]
  },
  {
   "cell_type": "markdown",
   "metadata": {},
   "source": [
    "bisect"
   ]
  },
  {
   "cell_type": "markdown",
   "metadata": {},
   "source": [
    "bisect.bisect_left(a, x, lo=0, hi=len(a)) If x is already present in a, the insertion point will be before (to the left of) any existing entries.\n",
    "\n",
    "The returned insertion point i partitions the array a into two halves so that all(val < x for val in a[lo:i]) for the left side and all(val >= x for val in a[i:hi]) for the right side.\n",
    "\n",
    "bisect_right : partitions the array a into two halves so that all(val <= x for val in a[lo:i]) for the left side and all(val > x for val in a[i:hi]) for the right side."
   ]
  },
  {
   "cell_type": "code",
   "execution_count": 256,
   "metadata": {
    "collapsed": true
   },
   "outputs": [],
   "source": [
    "def index(a, x):\n",
    "    'Locate the leftmost value exactly equal to x'\n",
    "    i = bisect_left(a, x)\n",
    "    if i != len(a) and a[i] == x:\n",
    "        return i\n",
    "    raise ValueError\n",
    "\n",
    "def find_lt(a, x):\n",
    "    'Find rightmost value less than x'\n",
    "    i = bisect_left(a, x)\n",
    "    if i:\n",
    "        return a[i-1]\n",
    "    raise ValueError\n",
    "def grade(score, breakpoints=[60, 70, 80, 90], grades='FDCBA'):\n",
    "        i = bisect(breakpoints, score)\n",
    "        return grades[i]\n",
    "    \n",
    "def bisect_left(a, x, lo=0, hi=None):\n",
    "    if lo < 0:\n",
    "        raise ValueError('lo must be non-negative')\n",
    "    if hi is None:\n",
    "        hi = len(a)\n",
    "    while lo < hi:\n",
    "        mid = (lo+hi)//2\n",
    "        if a[mid] < x: lo = mid+1\n",
    "        else: hi = mid\n",
    "    return lo\n",
    "\n",
    "\n",
    "def bisect_right(a, x, lo=0, hi=None):\n",
    "    if lo < 0:\n",
    "        raise ValueError('lo must be non-negative')\n",
    "    if hi is None:\n",
    "        hi = len(a)\n",
    "    while lo < hi:\n",
    "        mid = (lo+hi)//2\n",
    "        if x < a[mid]: hi = mid ### \n",
    "        else: lo = mid+1\n",
    "    return lo"
   ]
  },
  {
   "cell_type": "markdown",
   "metadata": {},
   "source": [
    "DFS matrix"
   ]
  },
  {
   "cell_type": "code",
   "execution_count": null,
   "metadata": {
    "collapsed": true
   },
   "outputs": [],
   "source": [
    "def dfs(self, i, j, matrix, visited, m, n):\n",
    "    if visited: \n",
    "    # return or return a value\n",
    "    for dir in self.directions:\n",
    "        x, y = i + direction[0], j + direction[1]\n",
    "        if x < 0 or x >= m or y < 0 or y >= n or matrix[x][y] <= matrix[i][j] (or a condition you want to skip this round):\n",
    "            continue\n",
    "        # do something like\n",
    "        visited[i][j] = True\n",
    "        # explore the next level like\n",
    "        self.dfs(x, y, matrix, visited, m, n)"
   ]
  },
  {
   "cell_type": "markdown",
   "metadata": {},
   "source": [
    "Longest Increasing Path in a Matrix"
   ]
  },
  {
   "cell_type": "code",
   "execution_count": 269,
   "metadata": {
    "collapsed": true
   },
   "outputs": [],
   "source": [
    "class Solution(object):\n",
    "    def longestIncreasingPath(self, matrix):\n",
    "        \"\"\"\n",
    "        :type matrix: List[List[int]]\n",
    "        :rtype: int\n",
    "        \"\"\"\n",
    "        if not matrix: return 0\n",
    "        self.directions = [(1,0),(-1,0),(0,1),(0,-1)]\n",
    "        m = len(matrix)\n",
    "        n = len(matrix[0])\n",
    "        cache = [[-1 for _ in range(n)] for _ in range(m)]\n",
    "        res = 0\n",
    "        for i in range(m):\n",
    "            for j in range(n):\n",
    "                cur_len = self.dfs(i, j, matrix, cache, m, n)\n",
    "                res = max(res, cur_len)\n",
    "        return res\n",
    "        \n",
    "    def dfs(self, i, j, matrix, cache, m, n):\n",
    "        if cache[i][j] != -1:\n",
    "            return cache[i][j]\n",
    "        res = 1\n",
    "        for direction in self.directions:\n",
    "            x, y = i + direction[0], j + direction[1]\n",
    "            if x < 0 or x >= m or y < 0 or y >= n or matrix[x][y] >= matrix[i][j]: # or <=. same thing\n",
    "                continue\n",
    "            length = 1 + self.dfs(x, y, matrix, cache, m, n)\n",
    "            res = max(length, res)\n",
    "        cache[i][j] = res\n",
    "        return res"
   ]
  },
  {
   "cell_type": "code",
   "execution_count": 270,
   "metadata": {},
   "outputs": [
    {
     "data": {
      "text/plain": [
       "4"
      ]
     },
     "execution_count": 270,
     "metadata": {},
     "output_type": "execute_result"
    }
   ],
   "source": [
    "s = Solution()\n",
    "s.longestIncreasingPath([\n",
    "  [3,4,5],\n",
    "  [3,2,6],\n",
    "  [2,2,1]\n",
    "])"
   ]
  },
  {
   "cell_type": "markdown",
   "metadata": {},
   "source": [
    "heap"
   ]
  },
  {
   "cell_type": "code",
   "execution_count": 271,
   "metadata": {
    "collapsed": true
   },
   "outputs": [],
   "source": [
    "def heapsort(iterable):\n",
    "    h = []\n",
    "    for value in iterable:\n",
    "        heappush(h, value)\n",
    "    return [heappop(h) for i in range(len(h))]"
   ]
  },
  {
   "cell_type": "markdown",
   "metadata": {},
   "source": [
    "topological sorting I\n",
    "\n",
    "We can modify DFS to find Topological Sorting of a graph. In DFS, we start from a vertex, we first print it and then recursively call DFS for its adjacent vertices. In topological sorting, we use a temporary stack. We don’t print the vertex immediately, we first recursively call topological sorting for all its adjacent vertices, then push it to a stack. Finally, print contents of stack. Note that a vertex is pushed to stack only when all of its adjacent vertices (and their adjacent vertices and so on) are already in stack."
   ]
  },
  {
   "cell_type": "code",
   "execution_count": 276,
   "metadata": {},
   "outputs": [
    {
     "name": "stdout",
     "output_type": "stream",
     "text": [
      "[5, 4, 2, 3, 1, 0]\n"
     ]
    }
   ],
   "source": [
    "#Python program to print topological sorting of a DAG \n",
    "from collections import defaultdict \n",
    "  \n",
    "#Class to represent a graph \n",
    "class Graph: \n",
    "    def __init__(self,vertices): \n",
    "        self.graph = defaultdict(list) #dictionary containing adjacency List \n",
    "        self.V = vertices #No. of vertices \n",
    "  \n",
    "    # function to add an edge to graph \n",
    "    def addEdge(self,u,v): \n",
    "        self.graph[u].append(v) \n",
    "  \n",
    "    # A recursive function used by topologicalSort \n",
    "    def topologicalSortUtil(self,v,visited,stack): \n",
    "  \n",
    "        # Mark the current node as visited. \n",
    "        visited[v] = True\n",
    "  \n",
    "        # Recur for all the vertices adjacent to this vertex \n",
    "        for i in self.graph[v]: \n",
    "            if visited[i] == False: \n",
    "                self.topologicalSortUtil(i,visited,stack) \n",
    "  \n",
    "        # Push current vertex to stack which stores result \n",
    "        stack.append(v) \n",
    "    # The function to do Topological Sort. It uses recursive  \n",
    "    # topologicalSortUtil() \n",
    "    def topologicalSort(self): \n",
    "        # Mark all the vertices as not visited \n",
    "        visited = [False]*self.V \n",
    "        stack =[] \n",
    "  \n",
    "        # Call the recursive helper function to store Topological \n",
    "        # Sort starting from all vertices one by one \n",
    "        for i in range(self.V): \n",
    "            if visited[i] == False: \n",
    "                self.topologicalSortUtil(i,visited,stack) \n",
    "  \n",
    "        # Print contents of the stack \n",
    "        print(stack[::-1])\n",
    "g= Graph(6) \n",
    "g.addEdge(5, 2); \n",
    "g.addEdge(5, 0); \n",
    "g.addEdge(4, 0); \n",
    "g.addEdge(4, 1); \n",
    "g.addEdge(2, 3); \n",
    "g.addEdge(3, 1); \n",
    "g.topologicalSort() "
   ]
  },
  {
   "cell_type": "markdown",
   "metadata": {},
   "source": [
    "topological sorting II"
   ]
  },
  {
   "cell_type": "code",
   "execution_count": 278,
   "metadata": {},
   "outputs": [],
   "source": [
    "from collections import defaultdict \n",
    "  \n",
    "#Class to represent a graph \n",
    "class Graph: \n",
    "    def __init__(self,vertices): \n",
    "        self.graph = defaultdict(list) #dictionary containing adjacency List \n",
    "        self.V = vertices #No. of vertices \n",
    "  \n",
    "    # function to add an edge to graph \n",
    "    def addEdge(self,u,v): \n",
    "        self.graph[u].append(v) \n",
    "  \n",
    "  \n",
    "    # The function to do Topological Sort.  \n",
    "    def topologicalSort(self): \n",
    "          \n",
    "        # Create a vector to store indegrees of all \n",
    "        # vertices. Initialize all indegrees as 0. \n",
    "        in_degree = [0]*(self.V) \n",
    "          \n",
    "        # Traverse adjacency lists to fill indegrees of \n",
    "           # vertices.  This step takes O(V+E) time \n",
    "        for i in self.graph: \n",
    "            for j in self.graph[i]: \n",
    "                in_degree[j] += 1\n",
    "  \n",
    "        # Create an queue and enqueue all vertices with \n",
    "        # indegree 0 \n",
    "        queue = [] \n",
    "        for i in range(self.V): \n",
    "            if in_degree[i] == 0: \n",
    "                queue.append(i) \n",
    "  \n",
    "        #Initialize count of visited vertices \n",
    "        cnt = 0\n",
    "  \n",
    "        # Create a vector to store result (A topological \n",
    "        # ordering of the vertices) \n",
    "        top_order = [] \n",
    "  \n",
    "        # One by one dequeue vertices from queue and enqueue \n",
    "        # adjacents if indegree of adjacent becomes 0 \n",
    "        while queue: \n",
    "  \n",
    "            # Extract front of queue (or perform dequeue) \n",
    "            # and add it to topological order \n",
    "            u = queue.pop(0) \n",
    "            top_order.append(u) \n",
    "  \n",
    "            # Iterate through all neighbouring nodes \n",
    "            # of dequeued node u and decrease their in-degree \n",
    "            # by 1 \n",
    "            for i in self.graph[u]: \n",
    "                in_degree[i] -= 1\n",
    "                # If in-degree becomes zero, add it to queue \n",
    "                if in_degree[i] == 0: \n",
    "                    queue.append(i) \n",
    "  \n",
    "            cnt += 1\n",
    "  \n",
    "        # Check if there was a cycle \n",
    "        if cnt != self.V: \n",
    "            print (\"There exists a cycle in the graph\")\n",
    "        else : \n",
    "            #Print topological order \n",
    "            print(top_order) "
   ]
  },
  {
   "cell_type": "markdown",
   "metadata": {},
   "source": [
    "Trie"
   ]
  },
  {
   "cell_type": "code",
   "execution_count": 279,
   "metadata": {
    "collapsed": true
   },
   "outputs": [],
   "source": [
    "class TrieNode():\n",
    "    def __init__(self):\n",
    "        self.children = {}\n",
    "        self.is_word = False\n",
    "class Trie:\n",
    "    def __init__(self):\n",
    "        self.root = TrieNode()\n",
    "    def insert(self,word):\n",
    "        node = self.root\n",
    "        for ch in word:\n",
    "            if ch not in root.children:\n",
    "                node.children[ch] = TrieNode()\n",
    "            node = node.children[ch]\n",
    "        node.is_word = True\n",
    "            \n",
    "    def find(self,word):\n",
    "        node = self.root\n",
    "        for ch in word:\n",
    "            if ch not in node.children:\n",
    "                return None\n",
    "            node = node.children[ch]\n",
    "        return node\n",
    "    def search(self,word):\n",
    "        node = self.find(word)\n",
    "        return node is not None and node.is_word\n",
    "            \n",
    "    def startwith(self,prefix):\n",
    "        return self.find(prefix) is not None\n",
    "        "
   ]
  },
  {
   "cell_type": "markdown",
   "metadata": {},
   "source": []
  },
  {
   "cell_type": "markdown",
   "metadata": {},
   "source": []
  },
  {
   "cell_type": "code",
   "execution_count": null,
   "metadata": {
    "collapsed": true
   },
   "outputs": [],
   "source": []
  },
  {
   "cell_type": "markdown",
   "metadata": {},
   "source": [
    "segment tree"
   ]
  },
  {
   "cell_type": "code",
   "execution_count": 272,
   "metadata": {
    "collapsed": true
   },
   "outputs": [],
   "source": [
    "#Segment tree node\n",
    "class Node(object):\n",
    "    def __init__(self, start, end):\n",
    "        self.start = start\n",
    "        self.end = end\n",
    "        self.total = 0\n",
    "        self.left = None\n",
    "        self.right = None\n",
    "class NumArray(object):\n",
    "    def __init__(self, nums):\n",
    "        \"\"\"\n",
    "        initialize your data structure here.\n",
    "        :type nums: List[int]\n",
    "        \"\"\"\n",
    "        #helper function to create the tree from input array\n",
    "        def createTree(nums, l, r):\n",
    "            \n",
    "            #base case\n",
    "            if l > r:\n",
    "                return None\n",
    "                \n",
    "            #leaf node\n",
    "            if l == r:\n",
    "                n = Node(l, r)\n",
    "                n.total = nums[l]\n",
    "                return n\n",
    "            \n",
    "            mid = (l + r) // 2\n",
    "            \n",
    "            root = Node(l, r)\n",
    "            \n",
    "            #recursively build the Segment tree\n",
    "            root.left = createTree(nums, l, mid)\n",
    "            root.right = createTree(nums, mid+1, r)\n",
    "            \n",
    "            #Total stores the sum of all leaves under root\n",
    "            #i.e. those elements lying between (start, end)\n",
    "            root.total = root.left.total + root.right.total\n",
    "                \n",
    "            return root\n",
    "        self.root = createTree(nums, 0, len(nums)-1)\n",
    "    def update(self, i, val):\n",
    "        \"\"\"\n",
    "        :type i: int\n",
    "        :type val: int\n",
    "        :rtype: int\n",
    "        \"\"\"\n",
    "        #Helper function to update a value\n",
    "        def updateVal(root, i, val):\n",
    "            \n",
    "            #Base case. The actual value will be updated in a leaf.\n",
    "            #The total is then propogated upwards\n",
    "            if root.start == root.end:\n",
    "                root.total = val\n",
    "                return val\n",
    "        \n",
    "            mid = (root.start + root.end) // 2\n",
    "            \n",
    "            #If the index is less than the mid, that leaf must be in the left subtree\n",
    "            if i <= mid:\n",
    "                updateVal(root.left, i, val)\n",
    "                \n",
    "            #Otherwise, the right subtree\n",
    "            else:\n",
    "                updateVal(root.right, i, val)\n",
    "            \n",
    "            #Propogate the changes after recursive call returns\n",
    "            root.total = root.left.total + root.right.total\n",
    "            \n",
    "            return root.total\n",
    "        \n",
    "        return updateVal(self.root, i, val)\n",
    "    def sumRange(self, i, j):\n",
    "        \"\"\"\n",
    "        sum of elements nums[i..j], inclusive.\n",
    "        :type i: int\n",
    "        :type j: int\n",
    "        :rtype: int\n",
    "        \"\"\"\n",
    "        #Helper function to calculate range sum\n",
    "        def rangeSum(root, i, j):\n",
    "            \n",
    "            #If the range exactly matches the root, we already have the sum\n",
    "            if root.start == i and root.end == j:\n",
    "                return root.total\n",
    "            \n",
    "            mid = (root.start + root.end) // 2\n",
    "            \n",
    "            #If end of the range is less than the mid, the entire interval lies\n",
    "            #in the left subtree\n",
    "            if j <= mid:\n",
    "                return rangeSum(root.left, i, j)\n",
    "            \n",
    "            #If start of the interval is greater than mid, the entire inteval lies\n",
    "            #in the right subtree\n",
    "            elif i >= mid + 1:\n",
    "                return rangeSum(root.right, i, j)\n",
    "            \n",
    "            #Otherwise, the interval is split. So we calculate the sum recursively,\n",
    "            #by splitting the interval\n",
    "            else:\n",
    "                return rangeSum(root.left, i, mid) + rangeSum(root.right, mid+1, j)\n",
    "        \n",
    "        return rangeSum(self.root, i, j)"
   ]
  },
  {
   "cell_type": "markdown",
   "metadata": {},
   "source": [
    "LRUCache (Hard)\n",
    "\n",
    "Design and implement a data structure for Least Recently Used (LRU) cache. It should support the following operations: get and set.\n",
    "\n",
    "get(key) - Get the value (will always be positive) of the key if the key exists in the cache, otherwise return -1.\n",
    "set(key, value) - Set or insert the value if the key is not already present. When the cache reached its capacity, it should invalidate the least recently used item before inserting a new item.\n",
    "\n",
    " a HashMap can be used together with a doubly-linked list to achieve O(1) time complexity for both the get and put operation in an LRU cache."
   ]
  },
  {
   "cell_type": "code",
   "execution_count": null,
   "metadata": {
    "collapsed": true
   },
   "outputs": [],
   "source": [
    "\n",
    "\n",
    "class Node:\n",
    "    def __init__(self, key= None, value = None):\n",
    "        self.key = key\n",
    "        self.value = value\n",
    "        self.prev = None\n",
    "        self.next = None\n",
    "\n",
    "        \n",
    "class LRUCache:\n",
    "\n",
    "    def __init__(self, capacity):\n",
    "        self.capacity = capacity\n",
    "        self.hash = dict()\n",
    "        self.head = Node(0,0) # dummy node\n",
    "        self.tail = Node(0,0) # dummy node\n",
    "        self.tail.prev = self.head\n",
    "        self.head.next = self.tail\n",
    "\n",
    "\n",
    "    def get(self, key):\n",
    "        if key not in self.hash:\n",
    "            return - 1\n",
    "\n",
    "        node = self.hash[key]\n",
    "        self._remove_node(node)\n",
    "        self._move_to_tail(node)\n",
    "\n",
    "        return node.value\n",
    "\n",
    "\n",
    "    def set(self, key, value):\n",
    "        if key in self.hash:\n",
    "            self.hash[key].value = value # uddate value if value is changed\n",
    "            node = self.hash[key]\n",
    "            self._remove_node(node)\n",
    "        else:\n",
    "            if len(self.hash) == self.capacity:\n",
    "                del self.hash[self.head.next.key]\n",
    "                self.head.next = self.head.next.next\n",
    "                self.head.next.prev = self.head\n",
    "\n",
    "            node = Node(key, value)\n",
    "            self.hash[key] = node\n",
    "\n",
    "        self._move_to_tail(node)\n",
    "\n",
    "\n",
    "    def _move_to_tail(self, node):\n",
    "        node.prev = self.tail.prev\n",
    "        self.tail.prev = node\n",
    "        node.prev.next = node\n",
    "        node.next = self.tail\n",
    "        \n",
    "        \n",
    "    def _remove_node(self, node):\n",
    "        node.prev.next = node.next\n",
    "        node.next.prev = node.prev\n"
   ]
  },
  {
   "cell_type": "code",
   "execution_count": null,
   "metadata": {
    "collapsed": true
   },
   "outputs": [],
   "source": [
    "\n",
    "from collections import OrderedDict\n",
    "\n",
    "class LRUCache:\n",
    "    \"\"\"\n",
    "    @param: capacity: An integer\n",
    "    \"\"\"\n",
    "    def __init__(self, capacity):\n",
    "        # do intialization if necessary\n",
    "        self.capacity = capacity\n",
    "        self.cache = OrderedDict()\n",
    "    \"\"\"\n",
    "    @param: key: An integer\n",
    "    @return: An integer\n",
    "    \"\"\"\n",
    "    def get(self, key):\n",
    "        # write your code here\n",
    "        if key not in self.cache:\n",
    "            return -1\n",
    "        ## pop value and insert to the bottom of queue\n",
    "        value = self.cache.pop(key)\n",
    "        self.cache[key] = value\n",
    "        return value\n",
    "        \n",
    "    \"\"\"\n",
    "    @param: key: An integer\n",
    "    @param: value: An integer\n",
    "    @return: nothing\n",
    "    \"\"\"\n",
    "    def set(self, key, value):\n",
    "        # write your code here\n",
    "        if key in self.cache:\n",
    "            self.cache.pop(key)\n",
    "        elif len(self.cache) == self.capacity:\n",
    "            ## last = True时pop规则为FILO, last = False时pop规则为FIFO\n",
    "            self.cache.popitem(last = False)\n",
    "        self.cache[key] = value"
   ]
  },
  {
   "cell_type": "markdown",
   "metadata": {},
   "source": [
    "math evaluation"
   ]
  },
  {
   "cell_type": "code",
   "execution_count": null,
   "metadata": {
    "collapsed": true
   },
   "outputs": [],
   "source": [
    "class Solutions(): \n",
    "    def evaluateExpression(self, expression):\n",
    "        if expression is None or len(expression) == 0:\n",
    "            return 0\n",
    "        \n",
    "        integers = []\n",
    "        symbols = []\n",
    "        for c in expression:\n",
    "            if c.isdigit():\n",
    "                integers.append(int(c))\n",
    "            elif c == \"(\":\n",
    "                symbols.append(c)\n",
    "            elif c == \")\":\n",
    "                while symbols[-1] != \"(\":\n",
    "                    self.calculate(integers, symbols)\n",
    "                symbols.pop()\n",
    "            else:\n",
    "                if symbols and symbols[-1] != \"(\" and self.get_level(c) >= self.get_level(symbols[-1]):\n",
    "                    self.calculate(integers, symbols)\n",
    "                symbols.append(c)\n",
    "            \n",
    "        \n",
    "        while symbols:\n",
    "            print(integers, symbols)\n",
    "            self.calculate(integers, symbols)\n",
    "        \n",
    "        if len(integers) == 0:\n",
    "            return 0\n",
    "        \n",
    "        return integers[0]\n",
    "\n",
    "    def get_level(self, c):\n",
    "        if c == \"+\" or c == \"-\":\n",
    "            return 2\n",
    "        if c == \"*\" or c == \"/\":\n",
    "            return 1\n",
    "        return sys.maxsize\n",
    "    \n",
    "    def calculate(self, integers, symbols):\n",
    "        if integers is None or len(integers) < 2:\n",
    "            return False\n",
    "        after = integers.pop()\n",
    "        before = integers.pop()\n",
    "        symbol = symbols.pop()\n",
    "        # print(after, before, symbol)\n",
    "        if symbol == \"-\":\n",
    "            integers.append(before - after)\n",
    "        elif symbol == \"+\":\n",
    "            integers.append(before + after)\n",
    "        elif symbol == \"*\":\n",
    "            integers.append(before * after)\n",
    "        elif symbol == \"/\":\n",
    "            integers.append(before // after)\n",
    "        \n",
    "        return True"
   ]
  },
  {
   "cell_type": "code",
   "execution_count": null,
   "metadata": {
    "collapsed": true
   },
   "outputs": [],
   "source": [
    "class Solution:\n",
    "    def calculate(self, s):\n",
    "        res = 0\n",
    "        num = 0\n",
    "        num_ch = 0\n",
    "        sign = '+'\n",
    "        stack = []\n",
    "\n",
    "        for ch in s:\n",
    "            num_ch += 1\n",
    "            if ch.isdigit():\n",
    "                num = 10 * num + int(ch)\n",
    "\n",
    "            if ch != ' ' and not ch.isdigit() or num_ch == len(s):\n",
    "                if sign == '+':\n",
    "                    stack.append(num)\n",
    "                if sign == '-':\n",
    "                    stack.append(-num)\n",
    "                if sign == '*':\n",
    "                    last_num = stack.pop()\n",
    "                    stack.append(last_num * num)\n",
    "                if sign == '/':\n",
    "                    last_num = stack.pop()\n",
    "                    stack.append(int(last_num / num))\n",
    "                sign = ch\n",
    "                num = 0\n",
    "\n",
    "        for num in stack:\n",
    "            res += num\n",
    "\n",
    "        return res"
   ]
  },
  {
   "cell_type": "code",
   "execution_count": null,
   "metadata": {
    "collapsed": true
   },
   "outputs": [],
   "source": [
    "sol = Solutions()\n",
    "sol.evaluateExpression(\"2+13*4\")\n",
    "eval(''.join(['3','+','4']))"
   ]
  }
 ],
 "metadata": {
  "anaconda-cloud": {},
  "kernelspec": {
   "display_name": "Python [default]",
   "language": "python",
   "name": "python3"
  },
  "language_info": {
   "codemirror_mode": {
    "name": "ipython",
    "version": 3
   },
   "file_extension": ".py",
   "mimetype": "text/x-python",
   "name": "python",
   "nbconvert_exporter": "python",
   "pygments_lexer": "ipython3",
   "version": "3.5.4"
  }
 },
 "nbformat": 4,
 "nbformat_minor": 1
}
