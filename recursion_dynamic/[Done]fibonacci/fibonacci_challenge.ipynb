{
 "cells": [
  {
   "cell_type": "markdown",
   "metadata": {},
   "source": [
    "This notebook was prepared by [Donne Martin](http://donnemartin.com). Source and license info is on [GitHub](https://github.com/donnemartin/interactive-coding-challenges)."
   ]
  },
  {
   "cell_type": "markdown",
   "metadata": {},
   "source": [
    "# Challenge Notebook"
   ]
  },
  {
   "cell_type": "markdown",
   "metadata": {},
   "source": [
    "## Problem: Implement fibonacci recursively, dynamically, and iteratively.\n",
    "\n",
    "* [Constraints](#Constraints)\n",
    "* [Test Cases](#Test-Cases)\n",
    "* [Algorithm](#Algorithm)\n",
    "* [Code](#Code)\n",
    "* [Unit Test](#Unit-Test)\n",
    "* [Solution Notebook](#Solution-Notebook)"
   ]
  },
  {
   "cell_type": "markdown",
   "metadata": {},
   "source": [
    "## Constraints\n",
    "\n",
    "* Does the sequence start at 0 or 1?\n",
    "    * 0\n",
    "* Can we assume the inputs are valid non-negative ints?\n",
    "    * Yes\n",
    "* Are you looking for a recursive or iterative solution?\n",
    "    * Implement both\n",
    "* Can we assume this fits memory?\n",
    "    * Yes"
   ]
  },
  {
   "cell_type": "markdown",
   "metadata": {},
   "source": [
    "## Test Cases\n",
    "\n",
    "* n = 0 -> 0\n",
    "* n = 1 -> 1\n",
    "* n = 6 -> 8\n",
    "* Fib sequence: 0, 1, 1, 2, 3, 5, 8, 13, 21, 34..."
   ]
  },
  {
   "cell_type": "markdown",
   "metadata": {},
   "source": [
    "## Algorithm\n",
    "\n",
    "Refer to the [Solution Notebook](http://nbviewer.ipython.org/github/donnemartin/interactive-coding-challenges/blob/master/recursion_dynamic/fibonacci/fibonacci_solution.ipynb).  If you are stuck and need a hint, the solution notebook's algorithm discussion might be a good place to start."
   ]
  },
  {
   "cell_type": "markdown",
   "metadata": {},
   "source": [
    "## Code"
   ]
  },
  {
   "cell_type": "code",
   "execution_count": 3,
   "metadata": {},
   "outputs": [],
   "source": [
    "class Math(object):\n",
    "\n",
    "    def fib_iterative(self, n):\n",
    "        # TODO: Implement me\n",
    "        a = 0\n",
    "        b = 1\n",
    "        for _ in range(n):\n",
    "            temp = a + b\n",
    "            a = b\n",
    "            b = temp\n",
    "        return a\n",
    "        \n",
    "        \n",
    "\n",
    "    def fib_recursive(self, n):\n",
    "        # TODO: Implement me\n",
    "        if n == 0:\n",
    "            return 0\n",
    "        if n == 1:\n",
    "            return 1\n",
    "        return self.fib_recursive(n-1) + self.fib_recursive(n-2)\n",
    "\n",
    "    def fib_dynamic(self, n):\n",
    "        # TODO: Implement me\n",
    "        cache = {}\n",
    "        return self._fib_dynamic(n, cache)\n",
    "        \n",
    "    def _fib_dynamic(self,n,cache):\n",
    "        if n == 0:\n",
    "            return 0\n",
    "        if n == 1:\n",
    "            return 1\n",
    "        if n in cache:\n",
    "            return cache[n]\n",
    "        cache[n] = self._fib_dynamic(n-1,cache) + self._fib_dynamic(n-2,cache)\n",
    "        return cache[n]"
   ]
  },
  {
   "cell_type": "markdown",
   "metadata": {},
   "source": [
    "## Unit Test\n",
    "\n",
    "\n",
    "\n",
    "**The following unit test is expected to fail until you solve the challenge.**"
   ]
  },
  {
   "cell_type": "code",
   "execution_count": 4,
   "metadata": {},
   "outputs": [
    {
     "name": "stdout",
     "output_type": "stream",
     "text": [
      "Success: test_fib\n",
      "Success: test_fib\n",
      "Success: test_fib\n"
     ]
    }
   ],
   "source": [
    "# %load test_fibonacci.py\n",
    "from nose.tools import assert_equal\n",
    "\n",
    "\n",
    "class TestFib(object):\n",
    "\n",
    "    def test_fib(self, func):\n",
    "        result = []\n",
    "        expected = [0, 1, 1, 2, 3, 5, 8, 13, 21, 34]\n",
    "        for i in range(len(expected)):\n",
    "            result.append(func(i))\n",
    "        assert_equal(result, expected)\n",
    "        print('Success: test_fib')\n",
    "\n",
    "\n",
    "def main():\n",
    "    test = TestFib()\n",
    "    math = Math()\n",
    "    test.test_fib(math.fib_recursive)\n",
    "    test.test_fib(math.fib_dynamic)\n",
    "    test.test_fib(math.fib_iterative)\n",
    "\n",
    "\n",
    "if __name__ == '__main__':\n",
    "    main()"
   ]
  },
  {
   "cell_type": "markdown",
   "metadata": {},
   "source": [
    "## Solution Notebook\n",
    "\n",
    "Review the [Solution Notebook](http://nbviewer.ipython.org/github/donnemartin/interactive-coding-challenges/blob/master/recursion_dynamic/fibonacci/fibonacci_solution.ipynb) for a discussion on algorithms and code solutions."
   ]
  }
 ],
 "metadata": {
  "anaconda-cloud": {},
  "kernelspec": {
   "display_name": "Python [default]",
   "language": "python",
   "name": "python3"
  },
  "language_info": {
   "codemirror_mode": {
    "name": "ipython",
    "version": 3
   },
   "file_extension": ".py",
   "mimetype": "text/x-python",
   "name": "python",
   "nbconvert_exporter": "python",
   "pygments_lexer": "ipython3",
   "version": "3.5.4"
  }
 },
 "nbformat": 4,
 "nbformat_minor": 1
}
